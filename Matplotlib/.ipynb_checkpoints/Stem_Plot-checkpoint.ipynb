{
 "cells": [
  {
   "cell_type": "markdown",
   "id": "4d4921f4",
   "metadata": {},
   "source": [
    "# matplotlib.pyplot.stem\n",
    "The `matplotlib.pyplot.stem` function is used to create stem plots in Matplotlib. A stem plot is a type of discrete plot that displays data as vertical lines (stems) extending from a baseline along the x-axis to a series of markers (usually circles) at the data points. Stem plots are particularly useful for visualizing discrete data points and are often used in signal processing and other areas where data is sampled at regular intervals."
   ]
  },
  {
   "cell_type": "markdown",
   "id": "c2dad3b8",
   "metadata": {},
   "source": [
    "## 1. Understanding Stem Plots\n",
    "A stem plot consists of the following components:\n",
    "- **Stems**: Vertical lines extending from the baseline (usually the x-axis) to the data points.\n",
    "- **Markers**: Symbols (often circles) that are placed at the end of each stem to represent the data points.\n",
    "- **Baseline**: A horizontal line (usually along the x-axis) from which the stems originate.\n",
    "Stem plots are useful when you want to emphasize the individual data points rather than the connections between them, as in a line plot."
   ]
  },
  {
   "cell_type": "markdown",
   "id": "2989e571",
   "metadata": {},
   "source": [
    "## 2. Basic Usage of `stem` Function\n",
    "The `stem` function requires at least two inputs: the x-values and the y-values. The x-values represent the positions of the stems along the x-axis, while the y-values represent the heights of the stems."
   ]
  },
  {
   "cell_type": "markdown",
   "id": "f12893ab",
   "metadata": {},
   "source": [
    "### a. Creating a Simple Stem Plot"
   ]
  },
  {
   "cell_type": "code",
   "execution_count": null,
   "id": "ecc04609",
   "metadata": {},
   "outputs": [],
   "source": [
    "import matplotlib.pyplot as plt\n",
    "import numpy as np\n",
    "\n",
    "# Generate some data\n",
    "x = np.linspace(0, 2 * np.pi, 10)\n",
    "y = np.sin(x)\n",
    "\n",
    "# Create a simple stem plot\n",
    "plt.stem(x, y)\n",
    "\n",
    "# Adding labels and title\n",
    "plt.xlabel('X-axis')\n",
    "plt.ylabel('Y-axis')\n",
    "plt.title('Simple Stem Plot')\n",
    "\n",
    "# Display the plot\n",
    "plt.show()"
   ]
  },
  {
   "cell_type": "markdown",
   "id": "efcd59b4",
   "metadata": {},
   "source": [
    "In this example:\n",
    "- `x` represents the positions of the data points along the x-axis.\n",
    "- `y` represents the values at each position, corresponding to the height of the stems.\n",
    "- `stem` creates the stem plot, with vertical lines extending from the x-axis to the data points."
   ]
  },
  {
   "cell_type": "markdown",
   "id": "9c2bd5d4",
   "metadata": {},
   "source": [
    "## 3. Customizing Stem Plots\n",
    "Matplotlib allows you to customize various aspects of stem plots, including the appearance of the stems, markers, and baseline."
   ]
  },
  {
   "cell_type": "markdown",
   "id": "f78b223d",
   "metadata": {},
   "source": [
    "### a. Changing Marker Style and Color"
   ]
  },
  {
   "cell_type": "code",
   "execution_count": null,
   "id": "ae24ad5a",
   "metadata": {},
   "outputs": [],
   "source": [
    "plt.stem(x, y, markerfmt='ro')  # Red circle markers\n",
    "\n",
    "plt.xlabel('X-axis')\n",
    "plt.ylabel('Y-axis')\n",
    "plt.title('Stem Plot with Custom Markers')\n",
    "plt.show()"
   ]
  },
  {
   "cell_type": "markdown",
   "id": "339e5325",
   "metadata": {},
   "source": [
    "In this example:\n",
    "- `markerfmt='ro'` sets the markers to red circles ('r' for red, 'o' for circles).\n",
    "You can use other marker styles (e.g., 's' for squares, '^' for triangles) and colors (e.g., 'g' for green, 'b' for blue)."
   ]
  },
  {
   "cell_type": "markdown",
   "id": "3554c228",
   "metadata": {},
   "source": [
    "### b. Changing Stem Line Style and Color"
   ]
  },
  {
   "cell_type": "code",
   "execution_count": null,
   "id": "db7f0b73",
   "metadata": {},
   "outputs": [],
   "source": [
    "plt.stem(x, y, linefmt='g--')  # Green dashed stems\n",
    "\n",
    "plt.xlabel('X-axis')\n",
    "plt.ylabel('Y-axis')\n",
    "plt.title('Stem Plot with Custom Stem Lines')\n",
    "plt.show()"
   ]
  },
  {
   "cell_type": "markdown",
   "id": "30c21ad4",
   "metadata": {},
   "source": [
    "In this example:\n",
    "- `linefmt='g--'` sets the stems to green dashed lines ('g' for green, '--' for dashed lines)."
   ]
  },
  {
   "cell_type": "markdown",
   "id": "00ee062b",
   "metadata": {},
   "source": [
    "### c. Changing the Baseline"
   ]
  },
  {
   "cell_type": "code",
   "execution_count": null,
   "id": "468ebfbc",
   "metadata": {},
   "outputs": [],
   "source": [
    "plt.stem(x, y, basefmt='r-')  # Red solid baseline\n",
    "\n",
    "plt.xlabel('X-axis')\n",
    "plt.ylabel('Y-axis')\n",
    "plt.title('Stem Plot with Custom Baseline')\n",
    "plt.show()"
   ]
  },
  {
   "cell_type": "markdown",
   "id": "b6f65321",
   "metadata": {},
   "source": [
    "In this example:\n",
    "- `basefmt='r-'` sets the baseline to a red solid line ('r' for red, '-' for solid lines)."
   ]
  },
  {
   "cell_type": "markdown",
   "id": "e32d5050",
   "metadata": {},
   "source": [
    "## 4. Horizontal Stem Plots\n",
    "While stem plots are typically vertical, you can create horizontal stem plots by swapping the x and y data."
   ]
  },
  {
   "cell_type": "code",
   "execution_count": null,
   "id": "7e5ddff9",
   "metadata": {},
   "outputs": [],
   "source": [
    "plt.stem(y, x)  # Swap x and y\n",
    "\n",
    "plt.ylabel('X-axis')\n",
    "plt.xlabel('Y-axis')\n",
    "plt.title('Horizontal Stem Plot')\n",
    "plt.show()"
   ]
  },
  {
   "cell_type": "markdown",
   "id": "f22324a9",
   "metadata": {},
   "source": [
    "## 5. Plotting Multiple Data Series\n",
    "You can plot multiple data series on the same stem plot by calling `plt.stem()` multiple times."
   ]
  },
  {
   "cell_type": "code",
   "execution_count": null,
   "id": "838e35c6",
   "metadata": {},
   "outputs": [],
   "source": [
    "# Generate another dataset\n",
    "y2 = np.cos(x)\n",
    "\n",
    "plt.stem(x, y, linefmt='b-', markerfmt='bo', basefmt='r-', label='sin(x)')\n",
    "plt.stem(x, y2, linefmt='g--', markerfmt='go', basefmt='r-', label='cos(x)')\n",
    "\n",
    "# Adding labels, title, and legend\n",
    "plt.xlabel('X-axis')\n",
    "plt.ylabel('Y-axis')\n",
    "plt.title('Stem Plot with Multiple Data Series')\n",
    "plt.legend()\n",
    "\n",
    "plt.show()"
   ]
  },
  {
   "cell_type": "markdown",
   "id": "355d2083",
   "metadata": {},
   "source": [
    "In this example:\n",
    "- `y2` is another dataset (cosine values) plotted alongside the sine values.\n",
    "- `label` is used to add a legend to distinguish between the data series."
   ]
  },
  {
   "cell_type": "markdown",
   "id": "8452a78b",
   "metadata": {},
   "source": [
    "## 6. Customizing the Markers and Stems Separately\n",
    "You can further customize the appearance of the markers and stems by accessing the individual components of the stem plot."
   ]
  },
  {
   "cell_type": "code",
   "execution_count": null,
   "id": "5a692cf1",
   "metadata": {},
   "outputs": [],
   "source": [
    "markerline, stemlines, baseline = plt.stem(x, y)\n",
    "\n",
    "# Customize markers\n",
    "markerline.set_markerfacecolor('red')\n",
    "markerline.set_markerfacecolor('red')\n",
    "markerline.set_markeredgecolor('black')\n",
    "markerline.set_markersize(10)\n",
    "\n",
    "# Customize stems\n",
    "plt.setp(stemlines, linestyle='-.', color='purple')\n",
    "\n",
    "# Customize baseline\n",
    "baseline.set_linewidth(2)\n",
    "baseline.set_color('orange')\n",
    "\n",
    "plt.xlabel('X-axis')\n",
    "plt.ylabel('Y-axis')\n",
    "plt.title('Stem Plot with Custom Markers and Stems')\n",
    "plt.show()"
   ]
  },
  {
   "cell_type": "markdown",
   "id": "a078d65b",
   "metadata": {},
   "source": [
    "In this example:\n",
    "- `set_markerfacecolor` changes the color inside the markers.\n",
    "- `set_markeredgecolor` changes the color of the marker edges.\n",
    "- `set_markersize` controls the size of the markers.\n",
    "- `plt.setp(stemlines, ...)` customizes the stems.\n",
    "- `set_linewidth` and `set_color` customize the baseline."
   ]
  },
  {
   "cell_type": "markdown",
   "id": "3174d9df",
   "metadata": {},
   "source": [
    "## 7. Logarithmic Scale\n",
    "You can use a logarithmic scale for the y-axis to better visualize data that spans several orders of magnitude."
   ]
  },
  {
   "cell_type": "code",
   "execution_count": null,
   "id": "13479b17",
   "metadata": {},
   "outputs": [],
   "source": [
    "y_log = np.exp(x)  # Exponential data\n",
    "\n",
    "plt.stem(x, y_log)\n",
    "plt.yscale('log')\n",
    "\n",
    "plt.xlabel('X-axis')\n",
    "plt.ylabel('Log(Y-axis)')\n",
    "plt.title('Stem Plot with Logarithmic Scale')\n",
    "plt.show()"
   ]
  },
  {
   "cell_type": "markdown",
   "id": "bf452fe7",
   "metadata": {},
   "source": [
    "In this example:\n",
    "- `yscale('log')` sets the y-axis to a logarithmic scale."
   ]
  },
  {
   "cell_type": "markdown",
   "id": "54f68a44",
   "metadata": {},
   "source": [
    "## 8. Overlaying Stem Plots with Other Plots\n",
    "You can overlay a stem plot with other plot types, such as line plots or scatter plots, to provide additional context."
   ]
  },
  {
   "cell_type": "code",
   "execution_count": null,
   "id": "63ab6230",
   "metadata": {},
   "outputs": [],
   "source": [
    "# Overlay stem plot with a line plot\n",
    "plt.plot(x, y, 'b-', label='Line Plot')  # Line plot\n",
    "plt.stem(x, y, linefmt='r--', markerfmt='ro', basefmt='g-', label='Stem Plot')\n",
    "\n",
    "# Adding labels, title, and legend\n",
    "plt.xlabel('X-axis')\n",
    "plt.ylabel('Y-axis')\n",
    "plt.title('Overlayed Line and Stem Plot')\n",
    "plt.legend()\n",
    "\n",
    "plt.show()"
   ]
  },
  {
   "cell_type": "markdown",
   "id": "61f35dd9",
   "metadata": {},
   "source": [
    "## 9. Saving the Stem Plot\n",
    "You can save the stem plot to a file using `plt.savefig()`."
   ]
  },
  {
   "cell_type": "code",
   "execution_count": null,
   "id": "cdee8b0c",
   "metadata": {},
   "outputs": [],
   "source": [
    "plt.stem(x, y, linefmt='b-', markerfmt='bo', basefmt='r-')\n",
    "plt.title('Stem Plot to Save')\n",
    "plt.savefig('stem_plot.png', dpi=300, bbox_inches='tight')\n",
    "plt.show()"
   ]
  },
  {
   "cell_type": "markdown",
   "id": "76b991e6",
   "metadata": {},
   "source": [
    "## 10. Stem Plot Subplots\n",
    "You can create multiple stem plots in the same figure using `plt.subplot()`."
   ]
  },
  {
   "cell_type": "code",
   "execution_count": null,
   "id": "bb37b3b1",
   "metadata": {},
   "outputs": [],
   "source": [
    "plt.figure(figsize=(10, 5))\n",
    "\n",
    "# First subplot\n",
    "plt.subplot(1, 2, 1)\n",
    "plt.stem(x, y, linefmt='b-', markerfmt='bo', basefmt='r-')\n",
    "plt.title('Stem Plot 1')\n",
    "\n",
    "# Second subplot\n",
    "plt.subplot(1, 2, 2)\n",
    "plt.stem(x, y2, linefmt='g--', markerfmt='go', basefmt='r-')\n",
    "plt.title('Stem Plot 2')\n",
    "\n",
    "plt.tight_layout()\n",
    "plt.show()"
   ]
  },
  {
   "cell_type": "markdown",
   "id": "3102557e",
   "metadata": {},
   "source": [
    "## Summary:\n",
    "The `matplotlib.pyplot.stem` function is a versatile tool for creating stem plots in Matplotlib. It offers:\n",
    "- **Basic Plotting**: Simple stem plots to visualize discrete data points.\n",
    "- **Customization**: Extensive control over the appearance of stems, markers, and the baseline.\n",
    "- **Advanced Features**: Ability to plot multiple data series, use logarithmic scales, and customize components individually.\n",
    "- **Overlaying with Other Plots**: Combine stem plots with line plots, scatter plots, or other plot types for additional context.\n",
    "- **Subplots and Saving**: Create multiple stem plots in one figure and save them for later use.\n",
    "Stem plots are particularly useful when you want to emphasize individual data points and their values, making them a valuable tool in various data analysis tasks. Matplotlib’s `stem` function provides the flexibility needed to create informative and visually appealing stem plots."
   ]
  }
 ],
 "metadata": {},
 "nbformat": 4,
 "nbformat_minor": 5
}
