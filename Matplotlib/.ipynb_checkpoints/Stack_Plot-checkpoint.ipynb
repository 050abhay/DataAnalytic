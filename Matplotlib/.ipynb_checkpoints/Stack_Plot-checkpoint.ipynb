{
 "cells": [
  {
   "cell_type": "markdown",
   "id": "5f6fe28d",
   "metadata": {},
   "source": [
    "# `matplotlib.pyplot.stackplot`\n",
    "The `matplotlib.pyplot.stackplot` function is used to create stack plots (stacked area plots) in Matplotlib. Stack plots are a type of area chart that shows the contribution of different components to a total over time or other continuous variables. Each component is represented as a filled area stacked on top of each other, making it easy to visualize the cumulative total as well as the individual contributions."
   ]
  },
  {
   "cell_type": "markdown",
   "id": "6a59aacf",
   "metadata": {},
   "source": [
    "## 1. Understanding Stack Plots\n",
    "Stack plots are useful for visualizing data where you want to see both the individual contributions of components and the overall trend or total. They are commonly used in scenarios like:\n",
    "- Visualizing the evolution of different categories over time.\n",
    "- Comparing the parts of a whole across multiple categories.\n",
    "- Showing the cumulative impact of multiple series."
   ]
  },
  {
   "cell_type": "markdown",
   "id": "f4742709",
   "metadata": {},
   "source": [
    "## 2. Basic Usage of `stackplot` Function\n",
    "The `stackplot` function requires at least two inputs:\n",
    "- **x-values**: The independent variable (e.g., time or another continuous variable).\n",
    "- **y-values**: The dependent variables, which represent the contributions of different components."
   ]
  },
  {
   "cell_type": "markdown",
   "id": "3dc7b965",
   "metadata": {},
   "source": [
    "### a. Creating a Simple Stack Plot"
   ]
  },
  {
   "cell_type": "code",
   "execution_count": null,
   "id": "12ee3ea5",
   "metadata": {},
   "outputs": [],
   "source": [
    "import matplotlib.pyplot as plt\n",
    "import numpy as np\n",
    "\n",
    "# Data\n",
    "x = np.arange(1, 6)\n",
    "y1 = [1, 2, 3, 4, 5]\n",
    "y2 = [2, 2, 2, 2, 2]\n",
    "y3 = [3, 2, 1, 2, 3]\n",
    "\n",
    "# Create a simple stack plot\n",
    "plt.stackplot(x, y1, y2, y3, labels=['Component 1', 'Component 2', 'Component 3'])\n",
    "\n",
    "# Adding labels and title\n",
    "plt.xlabel('X-axis')\n",
    "plt.ylabel('Y-axis')\n",
    "plt.title('Simple Stack Plot')\n",
    "plt.legend(loc='upper left')\n",
    "\n",
    "# Display the plot\n",
    "plt.show()"
   ]
  },
  {
   "cell_type": "markdown",
   "id": "3230befc",
   "metadata": {},
   "source": [
    "In this example:\n",
    "- `x` represents the x-values, such as time points.\n",
    "- `y1`, `y2`, `y3` represent the y-values for each component.\n",
    "- `stackplot` creates the stack plot, stacking the areas on top of each other."
   ]
  },
  {
   "cell_type": "markdown",
   "id": "a33f484d",
   "metadata": {},
   "source": [
    "## 3. Customizing Colors and Transparency\n",
    "You can customize the colors of the stacked areas by passing a list of colors to the `colors` parameter. You can also adjust the transparency of the areas using the `alpha` parameter."
   ]
  },
  {
   "cell_type": "code",
   "execution_count": null,
   "id": "2c25515a",
   "metadata": {},
   "outputs": [],
   "source": [
    "# Custom colors\n",
    "colors = ['skyblue', 'lightgreen', 'lightcoral']\n",
    "\n",
    "plt.stackplot(x, y1, y2, y3, colors=colors, labels=['Component 1', 'Component 2', 'Component 3'], alpha=0.8)\n",
    "\n",
    "# Adding labels and title\n",
    "plt.xlabel('X-axis')\n",
    "plt.ylabel('Y-axis')\n",
    "plt.title('Stack Plot with Custom Colors and Transparency')\n",
    "plt.legend(loc='upper left')\n",
    "\n",
    "# Display the plot\n",
    "plt.show()"
   ]
  },
  {
   "cell_type": "markdown",
   "id": "f2e3bab7",
   "metadata": {},
   "source": [
    "In this example:\n",
    "- `colors` specifies the colors for each stacked area.\n",
    "- `alpha=0.8` sets the transparency to 80%."
   ]
  },
  {
   "cell_type": "markdown",
   "id": "6fa34977",
   "metadata": {},
   "source": [
    "## 4. Adding Baseline\n",
    "The `baseline` parameter controls the baseline from which the stacking is calculated. It can take several options:\n",
    "- `'zero'` (default): Stack starts from zero.\n",
    "- `'sym'`: Symmetric stacking around a central baseline.\n",
    "- `'wiggle'`: Minimizes the movement of individual series.\n",
    "- `'weighted_wiggle'`: Similar to wiggle but with weights."
   ]
  },
  {
   "cell_type": "code",
   "execution_count": null,
   "id": "53ace163",
   "metadata": {},
   "outputs": [],
   "source": [
    "# Baseline set to 'sym'\n",
    "plt.stackplot(x, y1, y2, y3, colors=colors, labels=['Component 1', 'Component 2', 'Component 3'], baseline='sym')\n",
    "\n",
    "plt.xlabel('X-axis')\n",
    "plt.ylabel('Y-axis')\n",
    "plt.title('Stack Plot with Symmetric Baseline')\n",
    "plt.legend(loc='upper left')\n",
    "plt.show()"
   ]
  },
  {
   "cell_type": "markdown",
   "id": "4415f78e",
   "metadata": {},
   "source": [
    "In this example:\n",
    "- `baseline='sym'` stacks the areas symmetrically around the central baseline."
   ]
  },
  {
   "cell_type": "markdown",
   "id": "6bf045ee",
   "metadata": {},
   "source": [
    "## 5. Stack Plot with Multiple Series\n",
    "You can plot multiple stack plots by calling `plt.stackplot()` multiple times."
   ]
  },
  {
   "cell_type": "code",
   "execution_count": null,
   "id": "6f92f0aa",
   "metadata": {},
   "outputs": [],
   "source": [
    "# Data for another series\n",
    "y4 = [1, 1, 2, 1, 1]\n",
    "y5 = [2, 3, 1, 2, 1]\n",
    "\n",
    "# First stack plot\n",
    "plt.stackplot(x, y1, y2, y3, labels=['Component 1', 'Component 2', 'Component 3'], alpha=0.5)\n",
    "\n",
    "# Second stack plot\n",
    "plt.stackplot(x, y4, y5, labels=['Component 4', 'Component 5'], alpha=0.5)\n",
    "\n",
    "plt.xlabel('X-axis')\n",
    "plt.ylabel('Y-axis')\n",
    "plt.title('Stack Plot with Multiple Series')\n",
    "plt.legend(loc='upper left')\n",
    "plt.show()"
   ]
  },
  {
   "cell_type": "markdown",
   "id": "6d883cd3",
   "metadata": {},
   "source": [
    "## 6. Stack Plot with Line Plots\n",
    "You can overlay a stack plot with line plots to provide additional context, such as trends or highlights."
   ]
  },
  {
   "cell_type": "code",
   "execution_count": null,
   "id": "409ed23a",
   "metadata": {},
   "outputs": [],
   "source": [
    "# Data\n",
    "total = np.array(y1) + np.array(y2) + np.array(y3)\n",
    "\n",
    "# Stack plot\n",
    "plt.stackplot(x, y1, y2, y3, colors=colors, labels=['Component 1', 'Component 2', 'Component 3'], alpha=0.5)\n",
    "\n",
    "# Overlay with a line plot\n",
    "plt.plot(x, total, color='black', linestyle='--', linewidth=2, label='Total')\n",
    "\n",
    "plt.xlabel('X-axis')\n",
    "plt.ylabel('Y-axis')\n",
    "plt.title('Stack Plot with Overlayed Line Plot')\n",
    "plt.legend(loc='upper left')\n",
    "plt.show()"
   ]
  },
  {
   "cell_type": "markdown",
   "id": "a8e0f9b3",
   "metadata": {},
   "source": [
    "In this example:\n",
    "- `plt.plot()` adds a line plot representing the total sum of the components."
   ]
  },
  {
   "cell_type": "markdown",
   "id": "3de25285",
   "metadata": {},
   "source": [
    "## 7. Handling Missing Data\n",
    "When data is missing (e.g., `None` or `NaN`), stack plots can handle it by either ignoring or interpolating the missing values."
   ]
  },
  {
   "cell_type": "code",
   "execution_count": null,
   "id": "4fb0229e",
   "metadata": {},
   "outputs": [],
   "source": [
    "# Data with missing values\n",
    "y1 = [1, 2, np.nan, 4, 5]\n",
    "y2 = [2, 2, 2, np.nan, 2]\n",
    "y3 = [3, np.nan, 1, 2, 3]\n",
    "\n",
    "plt.stackplot(x, y1, y2, y3, labels=['Component 1', 'Component 2', 'Component 3'])\n",
    "\n",
    "plt.xlabel('X-axis')\n",
    "plt.ylabel('Y-axis')\n",
    "plt.title('Stack Plot with Missing Data')\n",
    "plt.legend(loc='upper left')\n",
    "plt.show()"
   ]
  },
  {
   "cell_type": "markdown",
   "id": "773e702f",
   "metadata": {},
   "source": [
    "In this example:\n",
    "- Missing data is represented as `np.nan`, and Matplotlib will handle it by not plotting the corresponding sections."
   ]
  },
  {
   "cell_type": "markdown",
   "id": "f44fea5b",
   "metadata": {},
   "source": [
    "## 8. Saving the Stack Plot\n",
    "You can save the stack plot to a file using `plt.savefig()`."
   ]
  },
  {
   "cell_type": "code",
   "execution_count": null,
   "id": "d49f3b5f",
   "metadata": {},
   "outputs": [],
   "source": [
    "plt.stackplot(x, y1, y2, y3, colors=colors, labels=['Component 1', 'Component 2', 'Component 3'])\n",
    "plt.title('Stack Plot to Save')\n",
    "plt.savefig('stack_plot.png', dpi=300, bbox_inches='tight')\n",
    "plt.show()"
   ]
  },
  {
   "cell_type": "markdown",
   "id": "7d6f7d10",
   "metadata": {},
   "source": [
    "## 9. Stack Plot Subplots\n",
    "You can create multiple stack plots in the same figure using `plt.subplot()`."
   ]
  },
  {
   "cell_type": "code",
   "execution_count": null,
   "id": "9107af52",
   "metadata": {},
   "outputs": [],
   "source": [
    "\n",
    "plt.figure(figsize=(10, 5))\n",
    "\n",
    "# First subplot\n",
    "plt.subplot(1, 2, 1)\n",
    "plt.stackplot(x, y1, y2, y3, colors=colors)\n",
    "plt.title('Stack Plot 1')\n",
    "\n",
    "# Second subplot\n",
    "plt.subplot(1, 2, 2)\n",
    "plt.stackplot(x, y4, y5, colors=['lightblue', 'lightgreen'])\n",
    "plt.title('Stack Plot 2')\n",
    "\n",
    "plt.tight_layout()\n",
    "plt.show()\n",
    "\n",
    "    "
   ]
  },
  {
   "cell_type": "markdown",
   "id": "ae45704a",
   "metadata": {},
   "source": [
    "## 10. Interactive Stack Plots\n",
    "In interactive environments like Jupyter Notebooks, you can make stack plots interactive by using `%matplotlib notebook`."
   ]
  },
  {
   "cell_type": "code",
   "execution_count": null,
   "id": "2c727594",
   "metadata": {},
   "outputs": [],
   "source": [
    "\n",
    "%matplotlib notebook\n",
    "plt.stackplot(x, y1, y2, y3, colors=colors, labels=['Component 1', 'Component 2', 'Component 3'])\n",
    "plt.xlabel('X-axis')\n",
    "plt.ylabel('Y-axis')\n",
    "plt.title('Interactive Stack Plot')\n",
    "plt.legend(loc='upper left')\n",
    "plt.show()\n",
    "    "
   ]
  },
  {
   "cell_type": "markdown",
   "id": "1ae22014",
   "metadata": {},
   "source": [
    "## 11. Visualizing Percentages\n",
    "You can normalize the data to visualize the percentage contributions of each component."
   ]
  },
  {
   "cell_type": "code",
   "execution_count": null,
   "id": "fe982d84",
   "metadata": {},
   "outputs": [],
   "source": [
    "\n",
    "# Normalize the data to percentages\n",
    "y1_percent = y1 / np.sum([y1, y2, y3], axis=0)\n",
    "y2_percent = y2 / np.sum([y1, y2, y3], axis=0)\n",
    "y3_percent = y3 / np.sum([y1, y2, y3], axis=0)\n",
    "\n",
    "plt.stackplot(x, y1_percent, y2_percent, y3_percent, colors=colors, labels=['Component 1', 'Component 2', 'Component 3'])\n",
    "\n",
    "plt.xlabel('X-axis')\n",
    "plt.ylabel('Percentage')\n",
    "plt.title('Stack Plot as Percentages')\n",
    "plt.legend(loc='upper left')\n",
    "plt.show()\n",
    "\n",
    "    "
   ]
  },
  {
   "cell_type": "markdown",
   "id": "88328d4c",
   "metadata": {},
   "source": [
    "## In this example:\n",
    "- The data is normalized so that the stacked areas represent percentages, making it easier to compare relative contributions."
   ]
  },
  {
   "cell_type": "markdown",
   "id": "a132810f",
   "metadata": {},
   "source": [
    "\n",
    "## Summary:\n",
    "\n",
    "The `matplotlib.pyplot.stackplot` function is a powerful tool for creating stacked area plots in Matplotlib. It offers:\n",
    "\n",
    "- **Basic Plotting**: Simple stack plots to visualize the cumulative contributions of different components.\n",
    "- **Customization**: Extensive control over colors, transparency, baselines, and overlays with other plot types.\n",
    "- **Advanced Features**: Ability to handle missing data, plot multiple series, and visualize percentages.\n",
    "- **Subplots and Saving**: Create multiple stack plots in one figure and save them for later use.\n",
    "\n",
    "Stack plots are particularly useful when you want to visualize the composition and trends of different components over time or another continuous variable. Matplotlib’s stackplot function provides the flexibility needed to create informative and visually appealing stack plots.\n",
    "\n"
   ]
  }
 ],
 "metadata": {},
 "nbformat": 4,
 "nbformat_minor": 5
}
