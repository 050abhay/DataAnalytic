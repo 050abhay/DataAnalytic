{
 "cells": [
  {
   "cell_type": "markdown",
   "id": "cb7e7a0e",
   "metadata": {},
   "source": [
    "# seaborn.swarmplot\n",
    "The seaborn.swarmplot function is a highly effective tool in Seaborn for visualizing the distribution of data across categories. It is particularly useful for displaying small to medium-sized datasets where you want to show all data points and their distribution, especially when dealing with overlapping data points. Unlike strip plots, which may have overlapping points, swarm plots arrange points in a way that they do not overlap, providing a clearer picture of the distribution."
   ]
  },
  {
   "cell_type": "markdown",
   "id": "e34b7faa",
   "metadata": {},
   "source": [
    "## 1. Understanding the Swarm Plot\n",
    "A swarm plot is a scatter plot where one of the axes represents a categorical variable. The points are adjusted along the categorical axis (either x or y) so that they do not overlap, which gives a more accurate representation of the distribution. This makes swarm plots ideal for visualizing the spread and density of data points within categories while still showing each individual observation."
   ]
  },
  {
   "cell_type": "markdown",
   "id": "63bf7b2c",
   "metadata": {},
   "source": [
    "## 2. Basic Usage of seaborn.swarmplot\n",
    "The basic usage of seaborn.swarmplot involves specifying the categorical variable for one axis and the numeric variable for the other.\n",
    "### Example: Simple Swarm Plot"
   ]
  },
  {
   "cell_type": "code",
   "execution_count": null,
   "id": "6f956eec",
   "metadata": {},
   "outputs": [],
   "source": [
    "import seaborn as sns\n",
    "import matplotlib.pyplot as plt\n",
    "\n",
    "# Sample data: Tips dataset\n",
    "tips = sns.load_dataset(\"tips\")\n",
    "\n",
    "# Create a simple swarm plot\n",
    "sns.swarmplot(x=\"day\", y=\"total_bill\", data=tips)\n",
    "\n",
    "# Display the plot\n",
    "plt.show()"
   ]
  },
  {
   "cell_type": "markdown",
   "id": "18e007cf",
   "metadata": {},
   "source": [
    "In this example:\n",
    "• `x=\"day\"`: The days of the week are plotted on the x-axis as the categorical variable.\n",
    "• `y=\"total_bill\"`: The total bill values are plotted on the y-axis as the numeric variable.\n",
    "• `data=tips`: The tips dataset is used."
   ]
  },
  {
   "cell_type": "markdown",
   "id": "d479c342",
   "metadata": {},
   "source": [
    "## 3. Customizing the Marker Style\n",
    "You can customize the appearance of the data points using the size, palette, and linewidth parameters.\n",
    "• `size`: Controls the size of the markers.\n",
    "• `palette`: Controls the color palette for the markers.\n",
    "• `linewidth`: Sets the width of the marker edges.\n",
    "### Example: Customizing Marker Style"
   ]
  },
  {
   "cell_type": "code",
   "execution_count": null,
   "id": "63dd3fa4",
   "metadata": {},
   "outputs": [],
   "source": [
    "sns.swarmplot(x=\"day\", y=\"total_bill\", data=tips, size=6, linewidth=1, palette=\"Set2\")\n",
    "plt.show()"
   ]
  },
  {
   "cell_type": "markdown",
   "id": "2ebf4bbb",
   "metadata": {},
   "source": [
    "In this example:\n",
    "• `size=6`: Sets the size of the markers.\n",
    "• `linewidth=1`: Sets the width of the marker edges.\n",
    "• `palette=\"Set2\"`: Uses the Set2 color palette for the markers."
   ]
  },
  {
   "cell_type": "markdown",
   "id": "044e3135",
   "metadata": {},
   "source": [
    "## 4. Adding a Hue for Grouping\n",
    "The `hue` parameter allows you to color-code the data points based on another categorical variable, making it easier to compare distributions across subgroups.\n",
    "### Example: Swarm Plot with hue"
   ]
  },
  {
   "cell_type": "code",
   "execution_count": null,
   "id": "b788112b",
   "metadata": {},
   "outputs": [],
   "source": [
    "sns.swarmplot(x=\"day\", y=\"total_bill\", hue=\"sex\", data=tips, palette=\"coolwarm\")\n",
    "plt.show()"
   ]
  },
  {
   "cell_type": "markdown",
   "id": "67ac1f9a",
   "metadata": {},
   "source": [
    "In this example:\n",
    "• `hue=\"sex\"`: Colors the points based on the gender of the customers, allowing you to compare the total bill distributions for men and women across each day.\n",
    "• `palette=\"coolwarm\"`: Uses the coolwarm color palette for differentiation."
   ]
  },
  {
   "cell_type": "markdown",
   "id": "ee63ca2f",
   "metadata": {},
   "source": [
    "## 5. Handling Overplotting with dodge\n",
    "When using the `hue` parameter, the `dodge` parameter separates the data points for each hue level along the categorical axis. This prevents the data points from overlapping and makes it easier to compare the groups.\n",
    "• `dodge=True`: Separates the points for different hue levels along the categorical axis.\n",
    "### Example: Swarm Plot with dodge"
   ]
  },
  {
   "cell_type": "code",
   "execution_count": null,
   "id": "f208252a",
   "metadata": {},
   "outputs": [],
   "source": [
    "sns.swarmplot(x=\"day\", y=\"total_bill\", hue=\"sex\", data=tips, dodge=True, palette=\"coolwarm\")\n",
    "plt.show()"
   ]
  },
  {
   "cell_type": "markdown",
   "id": "b03b5352",
   "metadata": {},
   "source": [
    "In this example:\n",
    "• `dodge=True`: Separates the data points for male and female customers along the x-axis, making it easier to compare the distributions."
   ]
  },
  {
   "cell_type": "markdown",
   "id": "8e25111e",
   "metadata": {},
   "source": [
    "## 6. Controlling the Orientation of the Plot\n",
    "You can control the orientation of the plot using the `orient` parameter. This allows you to switch the roles of the x and y axes, effectively flipping the plot.\n",
    "• `orient=\"v\"`: Vertical swarm plot (default).\n",
    "• `orient=\"h\"`: Horizontal swarm plot.\n",
    "### Example: Horizontal Swarm Plot"
   ]
  },
  {
   "cell_type": "code",
   "execution_count": null,
   "id": "cb585081",
   "metadata": {},
   "outputs": [],
   "source": [
    "sns.swarmplot(x=\"total_bill\", y=\"day\", data=tips, orient=\"h\")\n",
    "plt.show()"
   ]
  },
  {
   "cell_type": "markdown",
   "id": "8277c4f6",
   "metadata": {},
   "source": [
    "In this example:\n",
    "• `orient=\"h\"`: Creates a horizontal swarm plot, with the days of the week on the y-axis and the total bill on the x-axis."
   ]
  },
  {
   "cell_type": "markdown",
   "id": "0ae91fe8",
   "metadata": {},
   "source": [
    "## 7. Combining swarmplot with Other Plots\n",
    "You can combine `swarmplot` with other plots like `boxplot`, `violinplot`, or `stripplot` to add more layers of information to your visualization. This is particularly useful for showing both individual data points and summary statistics.\n",
    "### Example: Combining swarmplot with boxplot"
   ]
  },
  {
   "cell_type": "code",
   "execution_count": null,
   "id": "d73ebf74",
   "metadata": {},
   "outputs": [],
   "source": [
    "sns.boxplot(x=\"day\", y=\"total_bill\", data=tips, whis=[0, 100], width=0.6, palette=\"pastel\")\n",
    "sns.swarmplot(x=\"day\", y=\"total_bill\", data=tips, color=\"black\", size=5)\n",
    "plt.show()"
   ]
  },
  {
   "cell_type": "markdown",
   "id": "a75801a8",
   "metadata": {},
   "source": [
    "In this example:\n",
    "• `sns.boxplot()`: First, a box plot is drawn to show the summary statistics for the total bill on each day.\n",
    "• `sns.swarmplot()`: Then, a swarm plot is overlaid on top of the box plot to show the individual data points."
   ]
  },
  {
   "cell_type": "markdown",
   "id": "c6bebc28",
   "metadata": {},
   "source": [
    "## 8. Faceting with swarmplot\n",
    "You can use Seaborn’s `FacetGrid` to create multiple swarm plots based on different subsets of the data. This is useful for comparing distributions across multiple categories.\n",
    "### Example: Faceted Swarm Plot"
   ]
  },
  {
   "cell_type": "code",
   "execution_count": null,
   "id": "b787c2b4",
   "metadata": {},
   "outputs": [],
   "source": [
    "g = sns.FacetGrid(tips, col=\"time\", height=4, aspect=1.2)\n",
    "g.map(sns.swarmplot, \"day\", \"total_bill\")\n",
    "plt.show()"
   ]
  },
  {
   "cell_type": "markdown",
   "id": "2f4044bf",
   "metadata": {},
   "source": [
    "In this example:\n",
    "• `col=\"time\"`: Creates separate swarm plots for lunch and dinner.\n",
    "• `height=4` and `aspect=1.2`: Controls the size and aspect ratio of the facets."
   ]
  },
  {
   "cell_type": "markdown",
   "id": "42fcdf72",
   "metadata": {},
   "source": [
    "## 9. Using the order Parameter\n",
    "The `order` parameter allows you to specify the order of the categories along the categorical axis. This is useful when you want to arrange the categories in a specific order rather than the default alphabetical order.\n",
    "### Example: Custom Order of Categories"
   ]
  },
  {
   "cell_type": "code",
   "execution_count": null,
   "id": "893ef7eb",
   "metadata": {},
   "outputs": [],
   "source": [
    "sns.swarmplot(x=\"day\", y=\"total_bill\", data=tips, order=[\"Sun\", \"Sat\", \"Fri\", \"Thur\"])\n",
    "plt.show()"
   ]
  },
  {
   "cell_type": "markdown",
   "id": "00fdbc06",
   "metadata": {},
   "source": [
    "In this example:\n",
    "• `order=[\"Sun\", \"Sat\", \"Fri\", \"Thur\"]`: Sets the order of the days from Sunday to Thursday."
   ]
  },
  {
   "cell_type": "markdown",
   "id": "a9f17e4f",
   "metadata": {},
   "source": [
    "## 10. Handling Large Datasets\n",
    "Swarm plots are generally used for small to medium-sized datasets. For larger datasets, overplotting can occur, making it difficult to distinguish individual points. In such cases, you might consider using a strip plot or a violin plot instead, or reducing the sample size.\n",
    "### Example: Reducing Overplotting with a Sample"
   ]
  },
  {
   "cell_type": "code",
   "execution_count": null,
   "id": "10dcaa2b",
   "metadata": {},
   "outputs": [],
   "source": [
    "tips_sample = tips.sample(frac=0.5)\n",
    "sns.swarmplot(x=\"day\", y=\"total_bill\", data=tips_sample)\n",
    "plt.show()"
   ]
  },
  {
   "cell_type": "markdown",
   "id": "d6e6a86a",
   "metadata": {},
   "source": [
    "In this example:\n",
    "• A random sample of 50% of the data is used to reduce overplotting."
   ]
  },
  {
   "cell_type": "markdown",
   "id": "fdd21637",
   "metadata": {},
   "source": [
    "## 11. Advanced Example: Multiple Customizations\n",
    "Here’s an example that combines several features of `seaborn.swarmplot`:\n",
    "```python\n",
    "sns.set(style=\"whitegrid\")\n",
    "\n",
    "sns.swarmplot(\n",
    "    x=\"day\", \n",
    "    y=\"total_bill\", \n",
    "    hue=\"sex\", \n",
    "    data=tips, \n",
    "    dodge=True, \n",
    "    palette=\"viridis\", \n",
    "    size=6, \n",
    "    linewidth=1.2\n",
    ")\n",
    "plt.title(\"Swarm Plot of Total Bill by Day and Gender\")\n",
    "plt.xlabel(\"Day of the Week\")\n",
    "plt.ylabel(\"Total Bill\")\n",
    "plt.legend(title=\"Gender\")\n",
    "plt.show()\n",
    "```"
   ]
  },
  {
   "cell_type": "markdown",
   "id": "46b94d26",
   "metadata": {},
   "source": [
    "This plot:\n",
    "• Uses the viridis color palette.\n",
    "• Adds dodge to separate the points by gender.\n",
    "• Adjusts the size and linewidth of the markers.\n",
    "• Adds a title and axis labels for better readability."
   ]
  },
  {
   "cell_type": "markdown",
   "id": "6d02bda2",
   "metadata": {},
   "source": [
    "## Summary of Important Parameters\n",
    "• `x` and `y`: Variables to be plotted on the x and y axes.\n",
    "• `hue`: Variable that defines subsets of the data with different colors.\n",
    "• `dodge`: Separates the points for different hue levels along the categorical axis.\n",
    "• `size`: Adjusts the size of the markers.\n",
    "• `linewidth`: Controls the width of the marker edges.\n",
    "• `palette`: Color palette to use for different levels of the hue variable.\n",
    "• `orient`: Orientation of the plot (\"v\" for vertical, \"h\" for horizontal).\n",
    "• `order`: Specifies the order of the categories along the categorical axis."
   ]
  },
  {
   "cell_type": "markdown",
   "id": "72a214e6",
   "metadata": {},
   "source": [
    "## Conclusion\n",
    "The `seaborn.swarmplot` function is a versatile and powerful tool for visualizing the distribution of data points across categories. It provides a clear and accurate representation of the spread and density of data points while avoiding overlap."
   ]
  }
 ],
 "metadata": {},
 "nbformat": 4,
 "nbformat_minor": 5
}
