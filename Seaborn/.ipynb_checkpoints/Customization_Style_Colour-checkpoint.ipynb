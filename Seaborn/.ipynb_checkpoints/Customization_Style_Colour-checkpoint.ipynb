{
 "cells": [
  {
   "cell_type": "markdown",
   "id": "99012cfa",
   "metadata": {},
   "source": [
    "# Customization of Style and Colour\n",
    "Seaborn is a powerful data visualization library built on top of Matplotlib, and it provides a high-level interface for creating attractive and informative statistical graphics. One of the strengths of Seaborn is its ability to easily control the style and color of plots, which helps in making visualizations not only more aesthetically pleasing but also more informative. In this discussion, we will cover how to customize style and color in Seaborn, along with detailed examples."
   ]
  },
  {
   "cell_type": "markdown",
   "id": "0054f5a1",
   "metadata": {},
   "source": [
    "## 1. Setting the Style in Seaborn\n",
    "Seaborn comes with several built-in themes that allow you to control the overall appearance of your plots. These styles can be easily switched using the `sns.set_style()` function.\n",
    "\n",
    "**Available Styles:**\n",
    "- `\"darkgrid\"`: A dark grid on a white background (default).\n",
    "- `\"whitegrid\"`: A light grid on a white background.\n",
    "- `\"dark\"`: A dark background without grid lines.\n",
    "- `\"white\"`: A white background without grid lines.\n",
    "- `\"ticks\"`: A white background with ticks and minimal grid lines.\n",
    "\n",
    "**Example: Setting Different Styles"
   ]
  },
  {
   "cell_type": "code",
   "execution_count": null,
   "id": "ca4d4321",
   "metadata": {},
   "outputs": [],
   "source": [
    "import seaborn as sns\n",
    "import matplotlib.pyplot as plt\n",
    "\n",
    "# Sample data: Tips dataset\n",
    "tips = sns.load_dataset(\"tips\")\n",
    "\n",
    "# Apply different styles and create plots\n",
    "styles = [\"darkgrid\", \"whitegrid\", \"dark\", \"white\", \"ticks\"]\n",
    "\n",
    "for style in styles:\n",
    "    sns.set_style(style)\n",
    "    sns.boxplot(x=\"day\", y=\"total_bill\", data=tips)\n",
    "    plt.title(f\"Style: {style}\")\n",
    "    plt.show()"
   ]
  },
  {
   "cell_type": "markdown",
   "id": "6bd0fbd0",
   "metadata": {},
   "source": [
    "In this example:\n",
    "- We apply different styles using `sns.set_style(style)` and create box plots for each style to observe how the appearance changes."
   ]
  },
  {
   "cell_type": "markdown",
   "id": "6be2b571",
   "metadata": {},
   "source": [
    "## 2. Customizing Elements of the Style\n",
    "You can further customize individual elements of the style, such as grid lines, spines, and ticks, using the `sns.axes_style()` function in combination with context managers.\n",
    "\n",
    "**Example: Customizing Elements"
   ]
  },
  {
   "cell_type": "code",
   "execution_count": null,
   "id": "cbd6b76a",
   "metadata": {},
   "outputs": [],
   "source": [
    "# Customize specific elements of the style\n",
    "custom_style = {\n",
    "    \"axes.facecolor\": \"lightgrey\",\n",
    "    \"grid.color\": \"white\",\n",
    "    \"grid.linestyle\": \"-\",\n",
    "    \"axes.edgecolor\": \"black\",\n",
    "    \"axes.grid\": True,\n",
    "    \"xtick.color\": \"blue\",\n",
    "    \"ytick.color\": \"red\",\n",
    "}\n",
    "\n",
    "with sns.axes_style(\"whitegrid\", custom_style):\n",
    "    sns.boxplot(x=\"day\", y=\"total_bill\", data=tips)\n",
    "    plt.title(\"Custom Style\")\n",
    "    plt.show()"
   ]
  },
  {
   "cell_type": "markdown",
   "id": "d91f347e",
   "metadata": {},
   "source": [
    "In this example:\n",
    "- We create a custom style dictionary to change specific elements, like the face color of the axes, grid color, and tick colors."
   ]
  },
  {
   "cell_type": "markdown",
   "id": "8a75f6d7",
   "metadata": {},
   "source": [
    "## 3. Context: Adjusting the Size of Plot Elements\n",
    "Seaborn also allows you to adjust the scale of plot elements based on the context in which the plot will be used (e.g., in a notebook, a paper, a talk, or a poster). This can be controlled using `sns.set_context()`.\n",
    "\n",
    "**Available Contexts:**\n",
    "- `\"paper\"`: Smallest elements, suitable for inclusion in a paper (default).\n",
    "- `\"notebook\"`: Larger elements for better readability in a notebook.\n",
    "- `\"talk\"`: Even larger elements for presentations.\n",
    "- `\"poster\"`: Largest elements, suitable for large posters.\n",
    "\n",
    "**Example: Setting Different Contexts"
   ]
  },
  {
   "cell_type": "code",
   "execution_count": null,
   "id": "c80462f2",
   "metadata": {},
   "outputs": [],
   "source": [
    "contexts = [\"paper\", \"notebook\", \"talk\", \"poster\"]\n",
    "\n",
    "for context in contexts:\n",
    "    sns.set_context(context)\n",
    "    sns.boxplot(x=\"day\", y=\"total_bill\", data=tips)\n",
    "    plt.title(f\"Context: {context}\")\n",
    "    plt.show()"
   ]
  },
  {
   "cell_type": "markdown",
   "id": "385aea50",
   "metadata": {},
   "source": [
    "In this example:\n",
    "- We apply different contexts using `sns.set_context(context)` and create box plots for each context to observe how the scale of the plot elements changes."
   ]
  },
  {
   "cell_type": "markdown",
   "id": "176aae82",
   "metadata": {},
   "source": [
    "## 4. Customizing the Color Palette\n",
    "Color plays a crucial role in making visualizations more effective. Seaborn provides several built-in color palettes and allows you to create custom palettes as well. You can set the color palette using the `sns.set_palette()` function.\n",
    "\n",
    "**Built-in Color Palettes:**\n",
    "- `\"deep\"`: Default palette, a good general-purpose palette.\n",
    "- `\"muted\"`: Softer colors, suitable for presentations.\n",
    "- `\"pastel\"`: Light colors, good for backgrounds.\n",
    "- `\"bright\"`: Bright colors, ideal for distinguishing between categories.\n",
    "- `\"dark\"`: Darker colors, good for high-contrast plots.\n",
    "- `\"colorblind\"`: Colors that are distinguishable by those with color vision deficiencies.\n",
    "\n",
    "**Example: Applying Different Color Palettes"
   ]
  },
  {
   "cell_type": "code",
   "execution_count": null,
   "id": "135fec79",
   "metadata": {},
   "outputs": [],
   "source": [
    "palettes = [\"deep\", \"muted\", \"pastel\", \"bright\", \"dark\", \"colorblind\"]\n",
    "\n",
    "for palette in palettes:\n",
    "    sns.set_palette(palette)\n",
    "    sns.violinplot(x=\"day\", y=\"total_bill\", data=tips)\n",
    "    plt.title(f\"Palette: {palette}\")\n",
    "    plt.show()"
   ]
  },
  {
   "cell_type": "markdown",
   "id": "fd43d0c1",
   "metadata": {},
   "source": [
    "In this example:\n",
    "- We apply different color palettes using `sns.set_palette(palette)` and create violin plots for each palette to observe how the colors change."
   ]
  },
  {
   "cell_type": "markdown",
   "id": "32054c3a",
   "metadata": {},
   "source": [
    "## 5. Creating Custom Color Palettes\n",
    "You can create custom color palettes using `sns.color_palette()`, `sns.light_palette()`, `sns.dark_palette()`, or `sns.cubehelix_palette()`.\n",
    "\n",
    "**Example: Custom Color Palettes"
   ]
  },
  {
   "cell_type": "code",
   "execution_count": null,
   "id": "dedbe8de",
   "metadata": {},
   "outputs": [],
   "source": [
    "# Custom color palette using a list of colors\n",
    "custom_palette = sns.color_palette([\"#FF6347\", \"#6A5ACD\", \"#2E8B57\", \"#FFD700\", \"#FF69B4\"])\n",
    "\n",
    "sns.set_palette(custom_palette)\n",
    "sns.barplot(x=\"day\", y=\"total_bill\", data=tips)\n",
    "plt.title(\"Custom Color Palette\")\n",
    "plt.show()"
   ]
  },
  {
   "cell_type": "markdown",
   "id": "5b75051e",
   "metadata": {},
   "source": [
    "In this example:\n",
    "- We create a custom color palette using specific hex codes and apply it to a bar plot."
   ]
  },
  {
   "cell_type": "markdown",
   "id": "667afa5a",
   "metadata": {},
   "source": [
    "## 6. Using the `hue` Parameter with Palettes\n",
    "The `hue` parameter allows you to apply color coding to different categories within a plot, and Seaborn will automatically use the current palette.\n",
    "\n",
    "**Example: Using `hue` with a Custom Palette"
   ]
  },
  {
   "cell_type": "code",
   "execution_count": null,
   "id": "3e76b42f",
   "metadata": {},
   "outputs": [],
   "source": [
    "sns.set_palette(\"pastel\")\n",
    "\n",
    "sns.barplot(x=\"day\", y=\"total_bill\", hue=\"sex\", data=tips)\n",
    "plt.title(\"Hue with Custom Palette\")\n",
    "plt.show()"
   ]
  },
  {
   "cell_type": "markdown",
   "id": "20d7d115",
   "metadata": {},
   "source": [
    "In this example:\n",
    "- The `hue` parameter is used to separate the data by gender, and the pastel palette is applied to differentiate between male and female customers."
   ]
  },
  {
   "cell_type": "markdown",
   "id": "105cbfb4",
   "metadata": {},
   "source": [
    "## 7. Using `sns.color_palette()` in a Context Manager\n",
    "You can also use `sns.color_palette()` within a context manager to apply a color palette temporarily to a specific plot.\n",
    "\n",
    "**Example: Temporary Color Palette"
   ]
  },
  {
   "cell_type": "code",
   "execution_count": null,
   "id": "38d5ffa8",
   "metadata": {},
   "outputs": [],
   "source": [
    "with sns.color_palette(\"husl\"):\n",
    "    sns.boxplot(x=\"day\", y=\"total_bill\", data=tips)\n",
    "    plt.title(\"HUSL Palette\")\n",
    "    plt.show()"
   ]
  },
  {
   "cell_type": "markdown",
   "id": "a8718771",
   "metadata": {},
   "source": [
    "In this example:\n",
    "- The HUSL color palette is applied temporarily to a box plot, affecting only that specific plot."
   ]
  },
  {
   "cell_type": "markdown",
   "id": "58b9b7c4",
   "metadata": {},
   "source": [
    "## 8. Reversing and Desaturating Palettes\n",
    "Sometimes, you might want to reverse the order of colors in a palette or desaturate it (make the colors lighter).\n",
    "\n",
    "**Example: Reversing and Desaturating a Palette"
   ]
  },
  {
   "cell_type": "code",
   "execution_count": null,
   "id": "8be67955",
   "metadata": {},
   "outputs": [],
   "source": [
    "# Reverse a palette\n",
    "sns.set_palette(sns.color_palette(\"Blues_r\"))\n",
    "\n",
    "sns.violinplot(x=\"day\", y=\"total_bill\", data=tips)\n",
    "plt.title(\"Reversed Blues Palette\")\n",
    "plt.show()\n",
    "\n",
    "# Desaturate a palette\n",
    "desat_palette = sns.color_palette(\"husl\", desat=0.7)\n",
    "\n",
    "sns.set_palette(desat_palette)\n",
    "sns.barplot(x=\"day\", y=\"total_bill\", hue=\"sex\", data=tips)\n",
    "plt.title(\"Desaturated HUSL Palette\")\n",
    "plt.show()"
   ]
  },
  {
   "cell_type": "markdown",
   "id": "60bba924",
   "metadata": {},
   "source": [
    "In this example:\n",
    "- The first plot uses a reversed version of the \"Blues\" palette.\n",
    "- The second plot applies a desaturated version of the \"husl\" palette."
   ]
  },
  {
   "cell_type": "markdown",
   "id": "d5162960",
   "metadata": {},
   "source": [
    "## 9. Customizing Axis Gridlines and Spines\n",
    "Seaborn provides functions like `sns.despine()` and `sns.despine(offset=10, trim=True)` to remove or adjust the axis spines for cleaner-looking plots.\n",
    "\n",
    "**Example: Customizing Gridlines and Spines"
   ]
  },
  {
   "cell_type": "code",
   "execution_count": null,
   "id": "d7fa6d52",
   "metadata": {},
   "outputs": [],
   "source": [
    "sns.set_style(\"whitegrid\")\n",
    "\n",
    "sns.boxplot(x=\"day\", y=\"total_bill\", data=tips)\n",
    "sns.despine(offset=10, trim=True)\n",
    "plt.title(\"Boxplot with Despined Axes\")\n",
    "plt.show()"
   ]
  },
  {
   "cell_type": "markdown",
   "id": "58cdc218",
   "metadata": {},
   "source": [
    "In this example:\n",
    "- `sns.despine(offset=10, trim=True)` removes the top and right spines, offsets the bottom and left spines, and trims the spines to the range of the data."
   ]
  },
  {
   "cell_type": "markdown",
   "id": "5f967a4f",
   "metadata": {},
   "source": [
    "## 10. Combining Style and Color Customizations\n",
    "You can combine different style and color customizations to create plots that are both informative and visually appealing.\n",
    "\n",
    "**Example: Combining Style and Color Customizations"
   ]
  },
  {
   "cell_type": "code",
   "execution_count": null,
   "id": "94149067",
   "metadata": {},
   "outputs": [],
   "source": [
    "sns.set_style(\"ticks\")\n",
    "sns.set_context(\"talk\")\n",
    "sns.set_palette(\"dark\")\n",
    "\n",
    "sns.barplot(x=\"day\", y=\"total_bill\", hue=\"sex\", data=tips)\n",
    "sns.despine()\n",
    "\n",
    "plt.title(\"Customized Barplot\")\n",
    "plt.xlabel(\"Day of the Week\")\n",
    "plt.ylabel(\"Total Bill\")\n",
    "plt.show()"
   ]
  },
  {
   "cell_type": "markdown",
   "id": "d09327a5",
   "metadata": {},
   "source": [
    "In this example:\n",
    "- The style is set to \"ticks\" with `sns.set_style(\"ticks\")`.\n",
    "- The context is set to \"talk\" for a larger plot suitable for presentations.\n",
    "- The color palette is set to \"dark\" with `sns.set_palette(\"dark\")`.\n",
    "- The plot spines are customized using `sns.despine()`."
   ]
  },
  {
   "cell_type": "markdown",
   "id": "300f943f",
   "metadata": {},
   "source": [
    "## Summary of Important Functions and Parameters\n",
    "- `sns.set_style(style)`: Sets the overall style of the plots.\n",
    "- `sns.axes_style()`: Customizes individual elements of the style.\n",
    "- `sns.set_context(context)`: Adjusts the scale of plot elements based on the context.\n",
    "- `sns.set_palette(palette)`: Sets the color palette for the plots.\n",
    "- `sns.color_palette()`: Creates custom color palettes.\n",
    "- `sns.despine()`: Removes or customizes the plot spines.\n",
    "- `hue` parameter: Applies color coding to categories within a plot."
   ]
  },
  {
   "cell_type": "markdown",
   "id": "4ea6479d",
   "metadata": {},
   "source": [
    "## Conclusion\n",
    "Seaborn’s style and color customizations provide powerful tools to enhance the readability and aesthetic appeal of your plots. By carefully choosing styles, adjusting contexts, and applying appropriate color palettes, you can create visualizations that are not only attractive but also effective in conveying information. Whether you’re preparing a quick exploratory plot or a polished presentation, Seaborn’s flexibility in styling and coloring makes it an excellent choice for data visualization."
   ]
  }
 ],
 "metadata": {},
 "nbformat": 4,
 "nbformat_minor": 5
}
