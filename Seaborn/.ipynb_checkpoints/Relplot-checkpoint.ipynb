{
 "cells": [
  {
   "cell_type": "markdown",
   "id": "f0b4f679",
   "metadata": {},
   "source": [
    "# seaborn.relplot"
   ]
  },
  {
   "cell_type": "markdown",
   "id": "7ae443d5",
   "metadata": {},
   "source": [
    "The `seaborn.relplot` function is a high-level interface in Seaborn for creating relational plots. It combines the functionalities of scatter plots (`sns.scatterplot`) and line plots (`sns.lineplot`) and provides a flexible way to visualize the relationships between two or more variables. One of the main advantages of `relplot` is that it allows you to easily create faceted plots, where the data is split across multiple subplots based on the values of categorical variables."
   ]
  },
  {
   "cell_type": "markdown",
   "id": "bfa89d53",
   "metadata": {},
   "source": [
    "## 1. Understanding `relplot`"
   ]
  },
  {
   "cell_type": "markdown",
   "id": "2a4351eb",
   "metadata": {},
   "source": [
    "`seaborn.relplot` is used to create scatter plots and line plots. It acts as a wrapper for `sns.scatterplot` and `sns.lineplot`, making it easier to create these plots with additional capabilities like faceting, grouping, and customizing the plot’s appearance."
   ]
  },
  {
   "cell_type": "markdown",
   "id": "16b8b820",
   "metadata": {},
   "source": [
    "### Key Features of `relplot`:"
   ]
  },
  {
   "cell_type": "markdown",
   "id": "8f76864a",
   "metadata": {},
   "source": [
    "- **Faceting**: Easily create grids of subplots based on categorical variables using `col`, `row`, and `hue`.\n",
    "- **Plot Type**: Specify whether to create a scatter plot or a line plot using the `kind` parameter.\n",
    "- **Grouping**: Group data points by different categories using the `hue`, `style`, and `size` parameters.\n",
    "- **Customization**: Customize the appearance of the plot with various parameters, such as `palette`, `markers`, `linewidth`, and more."
   ]
  },
  {
   "cell_type": "markdown",
   "id": "fbcb07c8",
   "metadata": {},
   "source": [
    "## 2. Basic Usage of `relplot`"
   ]
  },
  {
   "cell_type": "markdown",
   "id": "fbfe8ad2",
   "metadata": {},
   "source": [
    "The basic usage of `relplot` involves specifying the `x` and `y` variables, along with the `data` parameter to create a simple scatter or line plot."
   ]
  },
  {
   "cell_type": "markdown",
   "id": "55a5160f",
   "metadata": {},
   "source": [
    "### Example: Basic Scatter Plot with `relplot`"
   ]
  },
  {
   "cell_type": "code",
   "execution_count": null,
   "id": "3bb138e8",
   "metadata": {},
   "outputs": [],
   "source": [
    "import seaborn as sns\n",
    "import matplotlib.pyplot as plt\n",
    "\n",
    "# Sample data: Tips dataset\n",
    "tips = sns.load_dataset('tips')\n",
    "\n",
    "# Create a simple scatter plot\n",
    "sns.relplot(x='total_bill', y='tip', data=tips)\n",
    "\n",
    "# Display the plot\n",
    "plt.show()"
   ]
  },
  {
   "cell_type": "markdown",
   "id": "56cb9448",
   "metadata": {},
   "source": [
    "In this example:"
   ]
  },
  {
   "cell_type": "markdown",
   "id": "95848ca8",
   "metadata": {},
   "source": [
    "- `x='total_bill'`: The total bill is plotted on the x-axis.\n",
    "- `y='tip'`: The tip amount is plotted on the y-axis.\n",
    "- `data=tips`: The tips dataset is used.\n",
    "- The default plot type is a scatter plot."
   ]
  },
  {
   "cell_type": "markdown",
   "id": "2bfb766f",
   "metadata": {},
   "source": [
    "## 3. Choosing the Plot Type with `kind`"
   ]
  },
  {
   "cell_type": "markdown",
   "id": "b590fd2e",
   "metadata": {},
   "source": [
    "The `kind` parameter allows you to specify the type of plot you want to create. `relplot` supports two main kinds of plots:\n",
    "- `kind='scatter'`: Creates a scatter plot (default).\n",
    "- `kind='line'`: Creates a line plot."
   ]
  },
  {
   "cell_type": "markdown",
   "id": "62610da3",
   "metadata": {},
   "source": [
    "### Example: Creating a Line Plot"
   ]
  },
  {
   "cell_type": "code",
   "execution_count": null,
   "id": "a971d051",
   "metadata": {},
   "outputs": [],
   "source": [
    "sns.relplot(x='total_bill', y='tip', data=tips, kind='line')\n",
    "plt.show()"
   ]
  },
  {
   "cell_type": "markdown",
   "id": "4d78aebc",
   "metadata": {},
   "source": [
    "In this example:"
   ]
  },
  {
   "cell_type": "markdown",
   "id": "3ef9c3e0",
   "metadata": {},
   "source": [
    "- The plot type is changed to a line plot using `kind='line'`."
   ]
  },
  {
   "cell_type": "markdown",
   "id": "ee8ae4e3",
   "metadata": {},
   "source": [
    "## 4. Grouping Data with `hue`, `style`, and `size`"
   ]
  },
  {
   "cell_type": "markdown",
   "id": "133ca04f",
   "metadata": {},
   "source": [
    "The `hue`, `style`, and `size` parameters allow you to group the data points by different categorical variables, which helps in comparing different groups within the same plot.\n",
    "- `hue`: Colors the points or lines based on a categorical variable.\n",
    "- `style`: Changes the marker or line style based on a categorical variable.\n",
    "- `size`: Changes the size of the markers based on a categorical or numeric variable."
   ]
  },
  {
   "cell_type": "markdown",
   "id": "84ac0ea6",
   "metadata": {},
   "source": [
    "### Example: Grouping with `hue`, `style`, and `size`"
   ]
  },
  {
   "cell_type": "code",
   "execution_count": null,
   "id": "d3f4df56",
   "metadata": {},
   "outputs": [],
   "source": [
    "sns.relplot(x='total_bill', y='tip', hue='sex', style='time', size='size', data=tips)\n",
    "plt.show()"
   ]
  },
  {
   "cell_type": "markdown",
   "id": "82ac9e6c",
   "metadata": {},
   "source": [
    "In this example:"
   ]
  },
  {
   "cell_type": "markdown",
   "id": "672e1acc",
   "metadata": {},
   "source": [
    "- `hue='sex'`: Colors the points based on the sex variable.\n",
    "- `style='time'`: Changes the marker style based on whether the time is lunch or dinner.\n",
    "- `size='size'`: Adjusts the size of the markers based on the size of the party."
   ]
  },
  {
   "cell_type": "markdown",
   "id": "bbdd3478",
   "metadata": {},
   "source": [
    "## 5. Faceting with `relplot`"
   ]
  },
  {
   "cell_type": "markdown",
   "id": "5e673dbd",
   "metadata": {},
   "source": [
    "`relplot` can create faceted plots where data is split into multiple subplots based on the values of categorical variables. This is done using the `col`, `row`, and `hue` parameters.\n",
    "- `col`: Creates columns of subplots based on a categorical variable.\n",
    "- `row`: Creates rows of subplots based on a categorical variable.\n",
    "- `hue`: Colors the points or lines based on a categorical variable."
   ]
  },
  {
   "cell_type": "markdown",
   "id": "d453defc",
   "metadata": {},
   "source": [
    "### Example: Faceted Scatter Plot"
   ]
  },
  {
   "cell_type": "code",
   "execution_count": null,
   "id": "43a89875",
   "metadata": {},
   "outputs": [],
   "source": [
    "sns.relplot(x='total_bill', y='tip', hue='sex', col='time', data=tips)\n",
    "plt.show()"
   ]
  },
  {
   "cell_type": "markdown",
   "id": "23091956",
   "metadata": {},
   "source": [
    "In this example:"
   ]
  },
  {
   "cell_type": "markdown",
   "id": "1021b83d",
   "metadata": {},
   "source": [
    "- `col='time'`: Creates separate scatter plots for lunch and dinner.\n",
    "- `hue='sex'`: Colors the points based on the gender of the customer."
   ]
  },
  {
   "cell_type": "markdown",
   "id": "1a5d7a53",
   "metadata": {},
   "source": [
    "## 6. Customizing the Facet Grid Layout"
   ]
  },
  {
   "cell_type": "markdown",
   "id": "23d8b14a",
   "metadata": {},
   "source": [
    "You can customize the layout of the facet grid using the `height`, `aspect`, and `col_wrap` parameters.\n",
    "- `height`: Sets the height (in inches) of each subplot.\n",
    "- `aspect`: Sets the aspect ratio of each subplot.\n",
    "- `col_wrap`: Wraps the columns so that a new row starts after a specified number of columns."
   ]
  },
  {
   "cell_type": "markdown",
   "id": "3c8a3f4e",
   "metadata": {},
   "source": [
    "### Example: Customizing Facet Grid Layout"
   ]
  },
  {
   "cell_type": "code",
   "execution_count": null,
   "id": "fa60ebeb",
   "metadata": {},
   "outputs": [],
   "source": [
    "sns.relplot(x='total_bill', y='tip', hue='sex', col='day', data=tips, height=4, aspect=0.7, col_wrap=2)\n",
    "plt.show()"
   ]
  },
  {
   "cell_type": "markdown",
   "id": "ed015979",
   "metadata": {},
   "source": [
    "In this example:"
   ]
  },
  {
   "cell_type": "markdown",
   "id": "1fdb1476",
   "metadata": {},
   "source": [
    "- `height=4` and `aspect=0.7`: Control the size and aspect ratio of each subplot.\n",
    "- `col_wrap=2`: Wraps the columns so that there are two subplots per row."
   ]
  },
  {
   "cell_type": "markdown",
   "id": "7ee7b73b",
   "metadata": {},
   "source": [
    "## 7. Adding Regression Lines with `kind='line'`"
   ]
  },
  {
   "cell_type": "markdown",
   "id": "754d5d4b",
   "metadata": {},
   "source": [
    "When using `kind='line'`, Seaborn can automatically add confidence intervals around the line, which represent the uncertainty of the estimated relationship. This is useful for understanding trends in the data."
   ]
  },
  {
   "cell_type": "markdown",
   "id": "e11be526",
   "metadata": {},
   "source": [
    "### Example: Line Plot with Confidence Intervals"
   ]
  },
  {
   "cell_type": "code",
   "execution_count": null,
   "id": "5f05373d",
   "metadata": {},
   "outputs": [],
   "source": [
    "sns.relplot(x='total_bill', y='tip', hue='sex', kind='line', data=tips)\n",
    "plt.show()"
   ]
  },
  {
   "cell_type": "markdown",
   "id": "281adbb4",
   "metadata": {},
   "source": [
    "In this example:"
   ]
  },
  {
   "cell_type": "markdown",
   "id": "5fa5390c",
   "metadata": {},
   "source": [
    "- A line plot is created with confidence intervals shaded around the line, showing the relationship between `total_bill` and `tip` for each gender."
   ]
  },
  {
   "cell_type": "markdown",
   "id": "9141ac5b",
   "metadata": {},
   "source": [
    "## 8. Handling Missing Data"
   ]
  },
  {
   "cell_type": "markdown",
   "id": "94dbd400",
   "metadata": {},
   "source": [
    "Seaborn automatically excludes missing data `(NaNs)` from the plots. However, you might want to handle or impute missing values before plotting."
   ]
  },
  {
   "cell_type": "markdown",
   "id": "815afa65",
   "metadata": {},
   "source": [
    "### Example: Handling Missing Data"
   ]
  },
  {
   "cell_type": "code",
   "execution_count": null,
   "id": "a72db398",
   "metadata": {},
   "outputs": [],
   "source": [
    "\n",
    "tips_nan = tips.copy()\n",
    "tips_nan.loc[0:10, 'total_bill'] = None  # Introduce some NaNs\n",
    "\n",
    "sns.relplot(x=\"total_bill\", y=\"tip\", data=tips_nan)\n",
    "plt.show()\n",
    "\n",
    "        "
   ]
  },
  {
   "cell_type": "markdown",
   "id": "6856d8f9",
   "metadata": {},
   "source": [
    "In this example:"
   ]
  },
  {
   "cell_type": "markdown",
   "id": "33808429",
   "metadata": {},
   "source": [
    "- The `relplot` function excludes rows with missing `total_bill` values."
   ]
  },
  {
   "cell_type": "markdown",
   "id": "d4ce2904",
   "metadata": {},
   "source": [
    "## 9. Customizing the Appearance of Plots"
   ]
  },
  {
   "cell_type": "markdown",
   "id": "9ac349d5",
   "metadata": {},
   "source": [
    "Seaborn provides a wide range of options to customize the appearance of your plots. You can customize the appearance of the plot by controlling the color palette, marker styles, line styles, and more.\n",
    "- `palette`: Specifies the color palette to use for the `hue` variable.\n",
    "- `markers`: Specifies the marker style for scatter plots.\n",
    "- `linestyle`: Specifies the line style for line plots.\n",
    "- `linewidth`: Adjusts the width of the lines in line plots.\n",
    "\n",
    "        "
   ]
  },
  {
   "cell_type": "markdown",
   "id": "de3a71d0",
   "metadata": {},
   "source": [
    "### Example: Customizing Colors and Markers"
   ]
  },
  {
   "cell_type": "code",
   "execution_count": null,
   "id": "95e4151b",
   "metadata": {},
   "outputs": [],
   "source": [
    "sns.relplot(x='total_bill', y='tip', hue='day', style='time', size='size', palette='coolwarm', markers=True, data=tips)\n",
    "plt.show()"
   ]
  },
  {
   "cell_type": "markdown",
   "id": "b16d4a10",
   "metadata": {},
   "source": [
    "In this example:"
   ]
  },
  {
   "cell_type": "markdown",
   "id": "8e0a0fb8",
   "metadata": {},
   "source": [
    "- `palette='coolwarm'`: Changes the color palette to a cool-to-warm gradient.\n",
    "- `markers=True`: Ensures that different markers are used for different categories in the `style` parameter."
   ]
  },
  {
   "cell_type": "markdown",
   "id": "3153935d",
   "metadata": {},
   "source": [
    "### Example: Customizing Line Style and Width"
   ]
  },
  {
   "cell_type": "code",
   "execution_count": null,
   "id": "81722157",
   "metadata": {},
   "outputs": [],
   "source": [
    "sns.relplot(x='total_bill', y='tip', hue='sex', kind='line', style='sex', dashes=False, markers=True, linewidth=2.5, data=tips)\n",
    "plt.show()"
   ]
  },
  {
   "cell_type": "markdown",
   "id": "3d9304ee",
   "metadata": {},
   "source": [
    "In this example:"
   ]
  },
  {
   "cell_type": "markdown",
   "id": "6d05e557",
   "metadata": {},
   "source": [
    "- `dashes=False`: Disables the dashed line style.\n",
    "- `linewidth=2.5`: Increases the line width for better visibility."
   ]
  },
  {
   "cell_type": "markdown",
   "id": "72323639",
   "metadata": {},
   "source": [
    "## 10. Faceting with Multiple Variables"
   ]
  },
  {
   "cell_type": "markdown",
   "id": "9cdaf8de",
   "metadata": {},
   "source": [
    "You can create more complex plots by faceting on multiple variables. `seaborn.relplot` allows you to use both `col` and `row` to create a grid of subplots."
   ]
  },
  {
   "cell_type": "markdown",
   "id": "1ab9b001",
   "metadata": {},
   "source": [
    "### Example: Faceting with Both Columns and Rows"
   ]
  },
  {
   "cell_type": "code",
   "execution_count": null,
   "id": "71c5e3fe",
   "metadata": {},
   "outputs": [],
   "source": [
    "sns.relplot(x='total_bill', y='tip', hue='sex', col='day', row='time', data=tips)\n",
    "plt.show()"
   ]
  },
  {
   "cell_type": "markdown",
   "id": "fd867e6c",
   "metadata": {},
   "source": [
    "In this example:"
   ]
  },
  {
   "cell_type": "markdown",
   "id": "b9f62008",
   "metadata": {},
   "source": [
    "- `col='day'`: Creates separate columns for each day of the week.\n",
    "- `row='time'`: Creates separate rows for lunch and dinner times."
   ]
  },
  {
   "cell_type": "markdown",
   "id": "26a1b1ea",
   "metadata": {},
   "source": [
    "## 11. Combining `relplot` with Other Seaborn Functions"
   ]
  },
  {
   "cell_type": "markdown",
   "id": "6f9f6465",
   "metadata": {},
   "source": [
    "`relplot` can be combined with other Seaborn functions to create more advanced visualizations. For example, you can use `relplot` along with `sns.regplot` to add regression lines to your plots."
   ]
  },
  {
   "cell_type": "markdown",
   "id": "c900474f",
   "metadata": {},
   "source": [
    "### Example: Adding Regression Lines to a Faceted Plot"
   ]
  },
  {
   "cell_type": "code",
   "execution_count": null,
   "id": "0ae973a0",
   "metadata": {},
   "outputs": [],
   "source": [
    "g = sns.relplot(x='total_bill', y='tip', hue='sex', col='time', data=tips)\n",
    "for ax in g.axes.flat:\n",
    "    sns.regplot(x='total_bill', y='tip', data=tips, scatter=False, ax=ax)\n",
    "plt.show()"
   ]
  },
  {
   "cell_type": "markdown",
   "id": "b544e246",
   "metadata": {},
   "source": [
    "In this example:"
   ]
  },
  {
   "cell_type": "markdown",
   "id": "61bd3db5",
   "metadata": {},
   "source": [
    "- The plot created by `relplot` is enhanced by adding regression lines using `sns.regplot`.\n",
    "- `scatter=False`: Ensures that the scatter plot from `regplot` is not drawn, only the regression line is added."
   ]
  }
 ],
 "metadata": {},
 "nbformat": 4,
 "nbformat_minor": 5
}
