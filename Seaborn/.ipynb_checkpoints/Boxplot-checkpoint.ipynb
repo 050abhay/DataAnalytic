{
 "cells": [
  {
   "cell_type": "markdown",
   "id": "997c855e",
   "metadata": {},
   "source": [
    "\n",
    "# seaborn.boxplot\n",
    "\n",
    "The `seaborn.boxplot` function is a powerful tool for visualizing the distribution of a dataset and understanding its central tendency, spread, and the presence of outliers. A box plot (or whisker plot) displays the minimum, first quartile, median, third quartile, and maximum of a dataset, along with any outliers. This makes it an excellent choice for comparing distributions across different categories.\n"
   ]
  },
  {
   "cell_type": "markdown",
   "id": "894265dd",
   "metadata": {},
   "source": [
    "\n",
    "## 1. Basic Understanding of a Box Plot\n",
    "\n",
    "A box plot displays a summary of a dataset using the following components:\n",
    "- **Median (Q2)**: The middle value of the dataset.\n",
    "- **Interquartile Range (IQR)**: The range between the first quartile (Q1, 25th percentile) and the third quartile (Q3, 75th percentile). The box represents this range.\n",
    "- **Whiskers**: Lines extending from the box to the smallest and largest values within 1.5 times the IQR from the quartiles.\n",
    "- **Outliers**: Data points outside the whiskers, plotted as individual points.\n"
   ]
  },
  {
   "cell_type": "markdown",
   "id": "5206a7bb",
   "metadata": {},
   "source": [
    "\n",
    "## 2. Basic Usage of `seaborn.boxplot`\n",
    "\n",
    "The `seaborn.boxplot` function is typically used to create a box plot for a single variable or to compare distributions across multiple categories.\n",
    "\n",
    "### Example: Simple Box Plot\n"
   ]
  },
  {
   "cell_type": "code",
   "execution_count": null,
   "id": "4f4b8f70",
   "metadata": {},
   "outputs": [],
   "source": [
    "\n",
    "import seaborn as sns\n",
    "import matplotlib.pyplot as plt\n",
    "\n",
    "# Sample data: Tips dataset\n",
    "tips = sns.load_dataset(\"tips\")\n",
    "\n",
    "# Create a simple box plot\n",
    "sns.boxplot(x=\"day\", y=\"total_bill\", data=tips)\n",
    "\n",
    "# Display the plot\n",
    "plt.show()\n"
   ]
  },
  {
   "cell_type": "markdown",
   "id": "4b5be208",
   "metadata": {},
   "source": [
    "\n",
    "In this example:\n",
    "- `x=\"day\"`: The day of the week is plotted on the x-axis.\n",
    "- `y=\"total_bill\"`: The distribution of the total bill is plotted on the y-axis for each day.\n",
    "- `data=tips`: The tips dataset is used.\n"
   ]
  },
  {
   "cell_type": "markdown",
   "id": "f4a49820",
   "metadata": {},
   "source": [
    "\n",
    "## 3. Adding a Hue for Grouping\n",
    "\n",
    "The `hue` parameter allows you to add color coding based on a third variable, making it easy to visualize differences between groups within each category.\n",
    "\n",
    "### Example: Box Plot with hue\n"
   ]
  },
  {
   "cell_type": "code",
   "execution_count": null,
   "id": "20c19eee",
   "metadata": {},
   "outputs": [],
   "source": [
    "\n",
    "sns.boxplot(x=\"day\", y=\"total_bill\", hue=\"smoker\", data=tips)\n",
    "plt.show()\n"
   ]
  },
  {
   "cell_type": "markdown",
   "id": "c803c5f3",
   "metadata": {},
   "source": [
    "\n",
    "- `hue=\"smoker\"`: This adds different colors to the boxes based on whether the customer is a smoker or not, allowing you to see how smoking status affects the total bill within each day.\n"
   ]
  },
  {
   "cell_type": "markdown",
   "id": "de3e9bb5",
   "metadata": {},
   "source": [
    "\n",
    "## 4. Orienting the Plot\n",
    "\n",
    "Seaborn automatically determines the orientation of the plot based on the data types of the x and y variables. However, you can manually set the orientation using the `orient` parameter.\n",
    "- `orient=\"v\"`: Vertical boxes (default).\n",
    "- `orient=\"h\"`: Horizontal boxes.\n",
    "\n",
    "### Example: Horizontal Box Plot\n"
   ]
  },
  {
   "cell_type": "code",
   "execution_count": null,
   "id": "d74c9274",
   "metadata": {},
   "outputs": [],
   "source": [
    "\n",
    "sns.boxplot(x=\"total_bill\", y=\"day\", data=tips, orient=\"h\")\n",
    "plt.show()\n"
   ]
  },
  {
   "cell_type": "markdown",
   "id": "4a8edb09",
   "metadata": {},
   "source": [
    "\n",
    "## 5. Customizing Box Appearance\n",
    "\n",
    "You can customize the appearance of the boxes using various parameters:\n",
    "- `palette`: Controls the color palette for the hue variable.\n",
    "- `linewidth`: Sets the width of the box edges.\n",
    "- `saturation`: Controls the intensity of the box colors (0 to 1).\n",
    "\n",
    "### Example: Customizing Box Appearance\n"
   ]
  },
  {
   "cell_type": "code",
   "execution_count": null,
   "id": "580a5e34",
   "metadata": {},
   "outputs": [],
   "source": [
    "\n",
    "sns.boxplot(x=\"day\", y=\"total_bill\", hue=\"sex\", data=tips, palette=\"Set3\", linewidth=2.5, saturation=0.7)\n",
    "plt.show()\n"
   ]
  },
  {
   "cell_type": "markdown",
   "id": "77363a73",
   "metadata": {},
   "source": [
    "\n",
    "- `palette=\"Set3\"`: Uses the Set3 color palette.\n",
    "- `linewidth=2.5`: Increases the width of the box edges.\n",
    "- `saturation=0.7`: Adjusts the color intensity of the boxes.\n"
   ]
  },
  {
   "cell_type": "markdown",
   "id": "7016d3a0",
   "metadata": {},
   "source": [
    "\n",
    "## 6. Handling Outliers\n",
    "\n",
    "Outliers are automatically plotted as individual points outside the whiskers. You can control whether to show or hide outliers using the `showfliers` parameter.\n",
    "- `showfliers=True`: Show outliers (default).\n",
    "- `showfliers=False`: Hide outliers.\n",
    "\n",
    "### Example: Hiding Outliers\n"
   ]
  },
  {
   "cell_type": "code",
   "execution_count": null,
   "id": "1ad169bb",
   "metadata": {},
   "outputs": [],
   "source": [
    "\n",
    "sns.boxplot(x=\"day\", y=\"total_bill\", data=tips, showfliers=False)\n",
    "plt.show()\n"
   ]
  },
  {
   "cell_type": "markdown",
   "id": "a6e96de1",
   "metadata": {},
   "source": [
    "\n",
    "## 7. Using `notch` for Confidence Intervals\n",
    "\n",
    "The `notch` parameter adds notches to the box plots, which can be used to compare the medians between groups. The notches represent the confidence interval around the median.\n",
    "- `notch=True`: Adds notches to the boxes.\n",
    "\n",
    "### Example: Box Plot with Notches\n"
   ]
  },
  {
   "cell_type": "code",
   "execution_count": null,
   "id": "77ea5934",
   "metadata": {},
   "outputs": [],
   "source": [
    "\n",
    "sns.boxplot(x=\"day\", y=\"total_bill\", data=tips, notch=True)\n",
    "plt.show()\n"
   ]
  },
  {
   "cell_type": "markdown",
   "id": "0465fab6",
   "metadata": {},
   "source": [
    "\n",
    "## 8. Using `width` to Control Box Width\n",
    "\n",
    "The `width` parameter controls the width of the boxes. This can be useful when comparing multiple plots or when the plot becomes cluttered.\n",
    "- `width=0.8`: Default width.\n",
    "- `width=0.5`: Narrower boxes.\n",
    "\n",
    "### Example: Narrow Box Width\n"
   ]
  },
  {
   "cell_type": "code",
   "execution_count": null,
   "id": "2e6b2154",
   "metadata": {},
   "outputs": [],
   "source": [
    "\n",
    "sns.boxplot(x=\"day\", y=\"total_bill\", data=tips, width=0.5)\n",
    "plt.show()\n"
   ]
  },
  {
   "cell_type": "markdown",
   "id": "5a4cf7eb",
   "metadata": {},
   "source": [
    "\n",
    "## 9. Drawing Multiple Box Plots in One Figure\n",
    "\n",
    "Seaborn allows you to draw multiple box plots on the same figure using `hue` for grouping, or you can create separate subplots using `FacetGrid`.\n",
    "\n",
    "### Example: Multiple Box Plots with hue\n"
   ]
  },
  {
   "cell_type": "code",
   "execution_count": null,
   "id": "614f0493",
   "metadata": {},
   "outputs": [],
   "source": [
    "\n",
    "sns.boxplot(x=\"day\", y=\"total_bill\", hue=\"time\", data=tips)\n",
    "plt.show()\n"
   ]
  },
  {
   "cell_type": "markdown",
   "id": "a69226a0",
   "metadata": {},
   "source": [
    "\n",
    "## 10. Using `order` and `hue_order` for Custom Sorting\n",
    "\n",
    "The `order` and `hue_order` parameters allow you to control the order of categories along the x-axis and within the hue variable, respectively.\n",
    "- `order=[\"Thur\", \"Fri\", \"Sat\", \"Sun\"]`: Custom order for the x-axis categories.\n",
    "- `hue_order=[\"Lunch\", \"Dinner\"]`: Custom order for the hue variable.\n",
    "\n",
    "### Example: Custom Sorting\n"
   ]
  },
  {
   "cell_type": "code",
   "execution_count": null,
   "id": "af087d3e",
   "metadata": {},
   "outputs": [],
   "source": [
    "\n",
    "sns.boxplot(x=\"day\", y=\"total_bill\", hue=\"time\", data=tips, order=[\"Sun\", \"Sat\", \"Fri\", \"Thur\"], hue_order=[\"Dinner\", \"Lunch\"])\n",
    "plt.show()\n"
   ]
  },
  {
   "cell_type": "markdown",
   "id": "9d8cf8d8",
   "metadata": {},
   "source": [
    "\n",
    "## 11. Combining `boxplot` with Other Seaborn Functions\n",
    "\n",
    "You can combine `boxplot` with other Seaborn functions like `swarmplot`, `stripplot`, or `violinplot` to add more layers to your visualization.\n",
    "\n",
    "### Example: Combining `boxplot` with `swarmplot`\n"
   ]
  },
  {
   "cell_type": "code",
   "execution_count": null,
   "id": "35988285",
   "metadata": {},
   "outputs": [],
   "source": [
    "\n",
    "sns.boxplot(x=\"day\", y=\"total_bill\", data=tips)\n",
    "sns.swarmplot(x=\"day\", y=\"total_bill\", data=tips, color=\".25\")\n",
    "plt.show()\n"
   ]
  },
  {
   "cell_type": "markdown",
   "id": "d246c615",
   "metadata": {},
   "source": [
    "\n",
    "In this example:\n",
    "- `sns.swarmplot()`: Adds individual data points on top of the box plot, showing the distribution within each category.\n"
   ]
  },
  {
   "cell_type": "markdown",
   "id": "ca56454c",
   "metadata": {},
   "source": [
    "\n",
    "## 12. Advanced Example: Multiple Customizations\n",
    "\n",
    "Here’s an example that combines several features of `boxplot`:\n"
   ]
  },
  {
   "cell_type": "code",
   "execution_count": null,
   "id": "e0be1d8e",
   "metadata": {},
   "outputs": [],
   "source": [
    "\n",
    "sns.boxplot(\n",
    "    x=\"day\", \n",
    "    y=\"total_bill\", \n",
    "    hue=\"sex\", \n",
    "    data=tips, \n",
    "    palette=\"coolwarm\", \n",
    "    width=0.6, \n",
    "    notch=True, \n",
    "    showfliers=False, \n",
    "    linewidth=2\n",
    ")\n",
    "plt.title(\"Box Plot of Total Bill by Day and Gender\")\n",
    "plt.xlabel(\"Day of the Week\")\n",
    "plt.ylabel(\"Total Bill\")\n",
    "plt.legend(title=\"Gender\")\n",
    "plt.show()\n"
   ]
  },
  {
   "cell_type": "markdown",
   "id": "1d76d7cb",
   "metadata": {},
   "source": [
    "\n",
    "This plot:\n",
    "- Uses the coolwarm color palette.\n",
    "- Sets the box width to 0.6.\n",
    "- Adds notches to indicate confidence intervals around the medians.\n",
    "- Hides outliers for a cleaner look.\n",
    "- Increases the linewidth of the boxes.\n"
   ]
  },
  {
   "cell_type": "markdown",
   "id": "fbd59b26",
   "metadata": {},
   "source": [
    "\n",
    "## Summary of Important Parameters\n",
    "\n",
    "- `x` and `y`: Variables to be plotted on the x and y axes.\n",
    "- `hue`: Variable that defines subsets of the data with different colors.\n",
    "- `orient`: Orientation of the boxes (\"v\" for vertical, \"h\" for horizontal).\n",
    "- `palette`: Color palette to use for different levels of the hue variable.\n",
    "- `width`: Width of the boxes (default is 0.8).\n",
    "- `linewidth`: Thickness of the box edges.\n",
    "- `showfliers`: Whether to show outliers (default is True).\n",
    "- `notch`: Whether to draw a notch to indicate the confidence interval around the median.\n",
    "- `order` and `hue_order`: Order to plot the categorical levels.\n"
   ]
  },
  {
   "cell_type": "markdown",
   "id": "66e234f4",
   "metadata": {},
   "source": [
    "\n",
    "## Conclusion\n",
    "\n",
    "The `seaborn.boxplot` function is a versatile tool for visualizing the distribution of data and identifying outliers across different categories. It provides a clear summary of the central tendency, spread, and variability within a dataset, making it an essential tool for exploratory data analysis. With extensive customization options, `seaborn.boxplot` can be tailored to suit a wide range of analytical and presentation needs, allowing you to create informative and aesthetically pleasing plots.\n"
   ]
  }
 ],
 "metadata": {},
 "nbformat": 4,
 "nbformat_minor": 5
}
