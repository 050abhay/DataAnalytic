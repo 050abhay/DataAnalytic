{
 "cells": [
  {
   "cell_type": "markdown",
   "id": "039933ad",
   "metadata": {},
   "source": [
    "# Creating DataFrames and Merging in pandas\n",
    "In this notebook, we'll create two DataFrames and practice merging them using the `merge()` function in pandas. We'll cover various types of joins, including inner, left, right, and outer joins."
   ]
  },
  {
   "cell_type": "markdown",
   "id": "12d1c9c5",
   "metadata": {},
   "source": [
    "## Creating DataFrames\n",
    "\n",
    "We'll start by creating two DataFrames: one for employees and one for departments."
   ]
  },
  {
   "cell_type": "code",
   "execution_count": 1,
   "id": "c37bf724",
   "metadata": {
    "tags": []
   },
   "outputs": [
    {
     "name": "stdout",
     "output_type": "stream",
     "text": [
      "Employees DataFrame:\n",
      "   EmployeeID         Name  DepartmentID  Salary\n",
      "0           1     John Doe           101   50000\n",
      "1           2   Jane Smith           102   60000\n",
      "2           3   Mike Brown           101   45000\n",
      "3           4  Emily Davis           103   70000\n",
      "4           5   Anna White           104   48000\n",
      "\n",
      "Departments DataFrame:\n",
      "   DepartmentID DepartmentName\n",
      "0           101             HR\n",
      "1           102             IT\n",
      "2           103      Marketing\n",
      "3           105          Sales\n"
     ]
    }
   ],
   "source": [
    "import pandas as pd\n",
    "\n",
    "# Dataset 1: Employees\n",
    "employees = pd.DataFrame({\n",
    "    'EmployeeID': [1, 2, 3, 4, 5],\n",
    "    'Name': ['John Doe', 'Jane Smith', 'Mike Brown', 'Emily Davis', 'Anna White'],\n",
    "    'DepartmentID': [101, 102, 101, 103, 104],\n",
    "    'Salary': [50000, 60000, 45000, 70000, 48000]\n",
    "})\n",
    "\n",
    "# Dataset 2: Departments\n",
    "departments = pd.DataFrame({\n",
    "    'DepartmentID': [101, 102, 103, 105],\n",
    "    'DepartmentName': ['HR', 'IT', 'Marketing', 'Sales']\n",
    "})\n",
    "\n",
    "# Display the DataFrames\n",
    "print(\"Employees DataFrame:\")\n",
    "print(employees)\n",
    "print(\"\\nDepartments DataFrame:\")\n",
    "print(departments)\n"
   ]
  },
  {
   "cell_type": "markdown",
   "id": "780834c0",
   "metadata": {},
   "source": [
    "## Example Merge Operations\n",
    "\n",
    "We can perform various merge operations using the `merge()` function. Here are some common types of joins:"
   ]
  },
  {
   "cell_type": "markdown",
   "id": "9fb5f714",
   "metadata": {},
   "source": [
    "### 1. Inner Join\n",
    "Merging on `DepartmentID` to get only employees who have a matching department."
   ]
  },
  {
   "cell_type": "code",
   "execution_count": 2,
   "id": "de4ea9a2",
   "metadata": {
    "tags": []
   },
   "outputs": [
    {
     "name": "stdout",
     "output_type": "stream",
     "text": [
      "\n",
      "Inner Join Result:\n"
     ]
    },
    {
     "data": {
      "text/html": [
       "<div>\n",
       "<style scoped>\n",
       "    .dataframe tbody tr th:only-of-type {\n",
       "        vertical-align: middle;\n",
       "    }\n",
       "\n",
       "    .dataframe tbody tr th {\n",
       "        vertical-align: top;\n",
       "    }\n",
       "\n",
       "    .dataframe thead th {\n",
       "        text-align: right;\n",
       "    }\n",
       "</style>\n",
       "<table border=\"1\" class=\"dataframe\">\n",
       "  <thead>\n",
       "    <tr style=\"text-align: right;\">\n",
       "      <th></th>\n",
       "      <th>EmployeeID</th>\n",
       "      <th>Name</th>\n",
       "      <th>DepartmentID</th>\n",
       "      <th>Salary</th>\n",
       "      <th>DepartmentName</th>\n",
       "    </tr>\n",
       "  </thead>\n",
       "  <tbody>\n",
       "    <tr>\n",
       "      <th>0</th>\n",
       "      <td>1</td>\n",
       "      <td>John Doe</td>\n",
       "      <td>101</td>\n",
       "      <td>50000</td>\n",
       "      <td>HR</td>\n",
       "    </tr>\n",
       "    <tr>\n",
       "      <th>1</th>\n",
       "      <td>3</td>\n",
       "      <td>Mike Brown</td>\n",
       "      <td>101</td>\n",
       "      <td>45000</td>\n",
       "      <td>HR</td>\n",
       "    </tr>\n",
       "    <tr>\n",
       "      <th>2</th>\n",
       "      <td>2</td>\n",
       "      <td>Jane Smith</td>\n",
       "      <td>102</td>\n",
       "      <td>60000</td>\n",
       "      <td>IT</td>\n",
       "    </tr>\n",
       "    <tr>\n",
       "      <th>3</th>\n",
       "      <td>4</td>\n",
       "      <td>Emily Davis</td>\n",
       "      <td>103</td>\n",
       "      <td>70000</td>\n",
       "      <td>Marketing</td>\n",
       "    </tr>\n",
       "  </tbody>\n",
       "</table>\n",
       "</div>"
      ],
      "text/plain": [
       "   EmployeeID         Name  DepartmentID  Salary DepartmentName\n",
       "0           1     John Doe           101   50000             HR\n",
       "1           3   Mike Brown           101   45000             HR\n",
       "2           2   Jane Smith           102   60000             IT\n",
       "3           4  Emily Davis           103   70000      Marketing"
      ]
     },
     "execution_count": 2,
     "metadata": {},
     "output_type": "execute_result"
    }
   ],
   "source": [
    "# Inner join\n",
    "merged_inner = pd.merge(employees, departments, on='DepartmentID', how='inner')\n",
    "\n",
    "print(\"\\nInner Join Result:\")\n",
    "merged_inner\n"
   ]
  },
  {
   "cell_type": "markdown",
   "id": "5e340d66",
   "metadata": {},
   "source": [
    "### Left Join\n",
    "Keeping all employees and adding department information where available."
   ]
  },
  {
   "cell_type": "code",
   "execution_count": 7,
   "id": "c5471bf9",
   "metadata": {
    "tags": []
   },
   "outputs": [
    {
     "name": "stdout",
     "output_type": "stream",
     "text": [
      "\n",
      "Left Join Result:\n"
     ]
    },
    {
     "data": {
      "text/html": [
       "<div>\n",
       "<style scoped>\n",
       "    .dataframe tbody tr th:only-of-type {\n",
       "        vertical-align: middle;\n",
       "    }\n",
       "\n",
       "    .dataframe tbody tr th {\n",
       "        vertical-align: top;\n",
       "    }\n",
       "\n",
       "    .dataframe thead th {\n",
       "        text-align: right;\n",
       "    }\n",
       "</style>\n",
       "<table border=\"1\" class=\"dataframe\">\n",
       "  <thead>\n",
       "    <tr style=\"text-align: right;\">\n",
       "      <th></th>\n",
       "      <th>EmployeeID</th>\n",
       "      <th>Name</th>\n",
       "      <th>DepartmentID</th>\n",
       "      <th>Salary</th>\n",
       "      <th>DepartmentName</th>\n",
       "    </tr>\n",
       "  </thead>\n",
       "  <tbody>\n",
       "    <tr>\n",
       "      <th>0</th>\n",
       "      <td>1</td>\n",
       "      <td>John Doe</td>\n",
       "      <td>101</td>\n",
       "      <td>50000</td>\n",
       "      <td>HR</td>\n",
       "    </tr>\n",
       "    <tr>\n",
       "      <th>1</th>\n",
       "      <td>2</td>\n",
       "      <td>Jane Smith</td>\n",
       "      <td>102</td>\n",
       "      <td>60000</td>\n",
       "      <td>IT</td>\n",
       "    </tr>\n",
       "    <tr>\n",
       "      <th>2</th>\n",
       "      <td>3</td>\n",
       "      <td>Mike Brown</td>\n",
       "      <td>101</td>\n",
       "      <td>45000</td>\n",
       "      <td>HR</td>\n",
       "    </tr>\n",
       "    <tr>\n",
       "      <th>3</th>\n",
       "      <td>4</td>\n",
       "      <td>Emily Davis</td>\n",
       "      <td>103</td>\n",
       "      <td>70000</td>\n",
       "      <td>Marketing</td>\n",
       "    </tr>\n",
       "    <tr>\n",
       "      <th>4</th>\n",
       "      <td>5</td>\n",
       "      <td>Anna White</td>\n",
       "      <td>104</td>\n",
       "      <td>48000</td>\n",
       "      <td>NaN</td>\n",
       "    </tr>\n",
       "  </tbody>\n",
       "</table>\n",
       "</div>"
      ],
      "text/plain": [
       "   EmployeeID         Name  DepartmentID  Salary DepartmentName\n",
       "0           1     John Doe           101   50000             HR\n",
       "1           2   Jane Smith           102   60000             IT\n",
       "2           3   Mike Brown           101   45000             HR\n",
       "3           4  Emily Davis           103   70000      Marketing\n",
       "4           5   Anna White           104   48000            NaN"
      ]
     },
     "execution_count": 7,
     "metadata": {},
     "output_type": "execute_result"
    }
   ],
   "source": [
    "# Left join\n",
    "merged_left = pd.merge(employees, departments, on='DepartmentID', how='left')\n",
    "\n",
    "print(\"\\nLeft Join Result:\")\n",
    "merged_left\n"
   ]
  },
  {
   "cell_type": "code",
   "execution_count": 8,
   "id": "f1987977-0c6e-4483-94db-1625e99daed8",
   "metadata": {
    "tags": []
   },
   "outputs": [
    {
     "name": "stdout",
     "output_type": "stream",
     "text": [
      "\n",
      "Left Join Result:\n"
     ]
    },
    {
     "data": {
      "text/html": [
       "<div>\n",
       "<style scoped>\n",
       "    .dataframe tbody tr th:only-of-type {\n",
       "        vertical-align: middle;\n",
       "    }\n",
       "\n",
       "    .dataframe tbody tr th {\n",
       "        vertical-align: top;\n",
       "    }\n",
       "\n",
       "    .dataframe thead th {\n",
       "        text-align: right;\n",
       "    }\n",
       "</style>\n",
       "<table border=\"1\" class=\"dataframe\">\n",
       "  <thead>\n",
       "    <tr style=\"text-align: right;\">\n",
       "      <th></th>\n",
       "      <th>DepartmentID</th>\n",
       "      <th>DepartmentName</th>\n",
       "      <th>EmployeeID</th>\n",
       "      <th>Name</th>\n",
       "      <th>Salary</th>\n",
       "    </tr>\n",
       "  </thead>\n",
       "  <tbody>\n",
       "    <tr>\n",
       "      <th>0</th>\n",
       "      <td>101</td>\n",
       "      <td>HR</td>\n",
       "      <td>1.0</td>\n",
       "      <td>John Doe</td>\n",
       "      <td>50000.0</td>\n",
       "    </tr>\n",
       "    <tr>\n",
       "      <th>1</th>\n",
       "      <td>101</td>\n",
       "      <td>HR</td>\n",
       "      <td>3.0</td>\n",
       "      <td>Mike Brown</td>\n",
       "      <td>45000.0</td>\n",
       "    </tr>\n",
       "    <tr>\n",
       "      <th>2</th>\n",
       "      <td>102</td>\n",
       "      <td>IT</td>\n",
       "      <td>2.0</td>\n",
       "      <td>Jane Smith</td>\n",
       "      <td>60000.0</td>\n",
       "    </tr>\n",
       "    <tr>\n",
       "      <th>3</th>\n",
       "      <td>103</td>\n",
       "      <td>Marketing</td>\n",
       "      <td>4.0</td>\n",
       "      <td>Emily Davis</td>\n",
       "      <td>70000.0</td>\n",
       "    </tr>\n",
       "    <tr>\n",
       "      <th>4</th>\n",
       "      <td>105</td>\n",
       "      <td>Sales</td>\n",
       "      <td>NaN</td>\n",
       "      <td>NaN</td>\n",
       "      <td>NaN</td>\n",
       "    </tr>\n",
       "  </tbody>\n",
       "</table>\n",
       "</div>"
      ],
      "text/plain": [
       "   DepartmentID DepartmentName  EmployeeID         Name   Salary\n",
       "0           101             HR         1.0     John Doe  50000.0\n",
       "1           101             HR         3.0   Mike Brown  45000.0\n",
       "2           102             IT         2.0   Jane Smith  60000.0\n",
       "3           103      Marketing         4.0  Emily Davis  70000.0\n",
       "4           105          Sales         NaN          NaN      NaN"
      ]
     },
     "execution_count": 8,
     "metadata": {},
     "output_type": "execute_result"
    }
   ],
   "source": [
    "# Left join\n",
    "merged_left = pd.merge( departments,employees, on='DepartmentID', how='left')\n",
    "\n",
    "print(\"\\nLeft Join Result:\")\n",
    "merged_left"
   ]
  },
  {
   "cell_type": "code",
   "execution_count": null,
   "id": "fbafcf07-6083-423a-9028-aa41d95ba881",
   "metadata": {},
   "outputs": [],
   "source": []
  },
  {
   "cell_type": "markdown",
   "id": "5f86b77b",
   "metadata": {},
   "source": [
    "### Right Join\n",
    "Keeping all departments and adding employee information where available."
   ]
  },
  {
   "cell_type": "code",
   "execution_count": 4,
   "id": "f7b060b6",
   "metadata": {
    "tags": []
   },
   "outputs": [
    {
     "name": "stdout",
     "output_type": "stream",
     "text": [
      "\n",
      "Right Join Result:\n",
      "   EmployeeID         Name  DepartmentID   Salary DepartmentName\n",
      "0         1.0     John Doe           101  50000.0             HR\n",
      "1         3.0   Mike Brown           101  45000.0             HR\n",
      "2         2.0   Jane Smith           102  60000.0             IT\n",
      "3         4.0  Emily Davis           103  70000.0      Marketing\n",
      "4         NaN          NaN           105      NaN          Sales\n"
     ]
    }
   ],
   "source": [
    "# Right join\n",
    "merged_right = pd.merge(employees, departments, on='DepartmentID', how='right')\n",
    "\n",
    "print(\"\\nRight Join Result:\")\n",
    "print(merged_right)\n"
   ]
  },
  {
   "cell_type": "markdown",
   "id": "f5fe3776",
   "metadata": {},
   "source": [
    "### Outer Join\n",
    "Combining all employees and departments, regardless of whether they have matching data."
   ]
  },
  {
   "cell_type": "code",
   "execution_count": 5,
   "id": "d1701a67",
   "metadata": {
    "tags": []
   },
   "outputs": [
    {
     "name": "stdout",
     "output_type": "stream",
     "text": [
      "\n",
      "Outer Join Result:\n",
      "   EmployeeID         Name  DepartmentID   Salary DepartmentName\n",
      "0         1.0     John Doe           101  50000.0             HR\n",
      "1         3.0   Mike Brown           101  45000.0             HR\n",
      "2         2.0   Jane Smith           102  60000.0             IT\n",
      "3         4.0  Emily Davis           103  70000.0      Marketing\n",
      "4         5.0   Anna White           104  48000.0            NaN\n",
      "5         NaN          NaN           105      NaN          Sales\n"
     ]
    }
   ],
   "source": [
    "# Outer join\n",
    "merged_outer = pd.merge(employees, departments, on='DepartmentID', how='outer')\n",
    "\n",
    "print(\"\\nOuter Join Result:\")\n",
    "print(merged_outer)\n"
   ]
  },
  {
   "cell_type": "markdown",
   "id": "cbd4d5df",
   "metadata": {
    "tags": []
   },
   "source": [
    "## Summary\n",
    "In this notebook, we demonstrated how to create DataFrames and perform various merge operations using the `merge()` function in pandas. We covered:\n",
    "- **Inner Join**: Merges only rows with matching keys in both DataFrames.\n",
    "- **Left Join**: Keeps all rows from the left DataFrame and adds matching rows from the right DataFrame.\n",
    "- **Right Join**: Keeps all rows from the right DataFrame and adds matching rows from the left DataFrame.\n",
    "- **Outer Join**: Combines all rows from both DataFrames, with NaN for missing matches.\n",
    "\n",
    "These operations are useful for combining datasets and performing relational data analysis."
   ]
  },
  {
   "cell_type": "markdown",
   "id": "c773ac0f-7eb2-4270-b696-8cf98abfd7c5",
   "metadata": {},
   "source": [
    "### Concat: \n",
    "Concatenate DataFrames either along rows or columns."
   ]
  },
  {
   "cell_type": "code",
   "execution_count": 9,
   "id": "a6fcf75b-a477-4c25-b334-c21869a2afc5",
   "metadata": {
    "tags": []
   },
   "outputs": [
    {
     "data": {
      "text/html": [
       "<div>\n",
       "<style scoped>\n",
       "    .dataframe tbody tr th:only-of-type {\n",
       "        vertical-align: middle;\n",
       "    }\n",
       "\n",
       "    .dataframe tbody tr th {\n",
       "        vertical-align: top;\n",
       "    }\n",
       "\n",
       "    .dataframe thead th {\n",
       "        text-align: right;\n",
       "    }\n",
       "</style>\n",
       "<table border=\"1\" class=\"dataframe\">\n",
       "  <thead>\n",
       "    <tr style=\"text-align: right;\">\n",
       "      <th></th>\n",
       "      <th>A</th>\n",
       "      <th>B</th>\n",
       "    </tr>\n",
       "  </thead>\n",
       "  <tbody>\n",
       "    <tr>\n",
       "      <th>0</th>\n",
       "      <td>1</td>\n",
       "      <td>3</td>\n",
       "    </tr>\n",
       "    <tr>\n",
       "      <th>1</th>\n",
       "      <td>2</td>\n",
       "      <td>4</td>\n",
       "    </tr>\n",
       "    <tr>\n",
       "      <th>0</th>\n",
       "      <td>5</td>\n",
       "      <td>7</td>\n",
       "    </tr>\n",
       "    <tr>\n",
       "      <th>1</th>\n",
       "      <td>6</td>\n",
       "      <td>8</td>\n",
       "    </tr>\n",
       "  </tbody>\n",
       "</table>\n",
       "</div>"
      ],
      "text/plain": [
       "   A  B\n",
       "0  1  3\n",
       "1  2  4\n",
       "0  5  7\n",
       "1  6  8"
      ]
     },
     "execution_count": 9,
     "metadata": {},
     "output_type": "execute_result"
    }
   ],
   "source": [
    "df1 = pd.DataFrame({'A': [1, 2], 'B': [3, 4]})\n",
    "df2 = pd.DataFrame({'A': [5, 6], 'B': [7, 8]})\n",
    "pd.concat([df1, df2])"
   ]
  },
  {
   "cell_type": "code",
   "execution_count": null,
   "id": "11c10186-809a-4899-aca4-f611dc182bc6",
   "metadata": {},
   "outputs": [],
   "source": []
  }
 ],
 "metadata": {
  "kernelspec": {
   "display_name": "Python 3 (ipykernel)",
   "language": "python",
   "name": "python3"
  },
  "language_info": {
   "codemirror_mode": {
    "name": "ipython",
    "version": 3
   },
   "file_extension": ".py",
   "mimetype": "text/x-python",
   "name": "python",
   "nbconvert_exporter": "python",
   "pygments_lexer": "ipython3",
   "version": "3.11.5"
  }
 },
 "nbformat": 4,
 "nbformat_minor": 5
}
