{
 "cells": [
  {
   "cell_type": "markdown",
   "id": "4b9ce556",
   "metadata": {},
   "source": [
    "# pandas.DataFrame.groupby\n",
    "The pandas.DataFrame.groupby function is one of the most powerful features in pandas, used for grouping data based on one or more keys and then applying some aggregation, transformation, or other operations on those groups."
   ]
  },
  {
   "cell_type": "markdown",
   "id": "a778b315",
   "metadata": {},
   "source": [
    "## 1. Basic Concept\n",
    "DataFrame.groupby is similar to the SQL GROUP BY clause. It allows you to split the DataFrame into groups based on some criteria, perform operations on each group, and then combine the results back into a single DataFrame or Series."
   ]
  },
  {
   "cell_type": "markdown",
   "id": "86e9f49b",
   "metadata": {
    "tags": []
   },
   "source": [
    "## 2. Syntax\n",
    "\n",
    "```python\n",
    "DataFrame.groupby(by=None, axis=0, level=None, as_index=True, sort=True, group_keys=True, squeeze=NoDefault.no_default, observed=False, dropna=True)\n",
    "```\n",
    "\n",
    "- `by`: Specifies the column(s) to group by.\n",
    "- `axis`: The axis to group along (default is 0, which means grouping by rows).\n",
    "- `level`: For multi-indexes, you can specify the level to group by.\n",
    "- `as_index`: If `True`, the group labels are set as the index of the resulting DataFrame.\n",
    "- `sort`: Whether to sort the group keys (default is `True`).\n",
    "- `group_keys`: When calling `apply`, add group keys to the index (default is `True`).\n",
    "- `observed`: For categorical data, whether to show the observed groups only (default is `False`).\n",
    "- `dropna`: If `True`, don’t include groups whose keys are `NaN` (default is `True`).\n"
   ]
  },
  {
   "cell_type": "markdown",
   "id": "39789f20",
   "metadata": {},
   "source": [
    "## 3. Steps in Using groupby\n",
    "1. **Splitting**: The data is split into groups based on the values of the specified key(s).\n",
    "2. **Applying**: An operation is applied to each group independently. These operations can include:\n",
    "   - Aggregation: e.g., sum, mean, count, etc.\n",
    "   - Transformation: e.g., standardizing data within groups.\n",
    "   - Filtration: e.g., filtering groups based on a condition.\n",
    "3. **Combining**: The results are combined back into a DataFrame or Series."
   ]
  },
  {
   "cell_type": "markdown",
   "id": "c7639d6b",
   "metadata": {},
   "source": [
    "## 4. Common Aggregations\n",
    "Here are some common aggregation functions you can use after grouping:\n",
    "\n",
    "- `sum()`: Sum of values in each group.\n",
    "- `mean()`: Mean of values in each group.\n",
    "- `size()`: Size of each group.\n",
    "- `count()`: Number of non-NA/null observations in each group.\n",
    "- `min()`/`max()`: Minimum/Maximum value in each group.\n",
    "- `first()`/`last()`: First/Last value in each group.\n",
    "- `std()`/`var()`: Standard deviation/variance of each group."
   ]
  },
  {
   "cell_type": "markdown",
   "id": "45770515",
   "metadata": {},
   "source": [
    "## 5. Examples\n",
    "\n",
    "### Example 1: Basic Grouping and Aggregation"
   ]
  },
  {
   "cell_type": "code",
   "execution_count": null,
   "id": "a5c2f00c",
   "metadata": {},
   "outputs": [],
   "source": [
    "import pandas as pd\n",
    "\n",
    "# Sample DataFrame\n",
    "data = {\n",
    "    'Category': ['A', 'B', 'A', 'B', 'A', 'B'],\n",
    "    'Values': [10, 20, 15, 25, 10, 30]\n",
    "}\n",
    "df = pd.DataFrame(data)\n",
    "\n",
    "# Group by 'Category' and sum the 'Values'\n",
    "grouped = df.groupby('Category').sum()\n",
    "\n",
    "print(grouped)\n"
   ]
  },
  {
   "cell_type": "markdown",
   "id": "9a231987",
   "metadata": {},
   "source": [
    "• Explanation: The DataFrame is grouped by the Category column, and the sum() function is applied to the Values column. This results in a new DataFrame where the Values for each Category are summed."
   ]
  },
  {
   "cell_type": "markdown",
   "id": "752c7472",
   "metadata": {},
   "source": [
    "### Example 2: Grouping by Multiple Columns"
   ]
  },
  {
   "cell_type": "code",
   "execution_count": null,
   "id": "aee5f7d1",
   "metadata": {},
   "outputs": [],
   "source": [
    "data = {\n",
    "    'Category': ['A', 'A', 'B', 'B', 'C', 'C'],\n",
    "    'Sub-Category': ['X', 'Y', 'X', 'Y', 'X', 'Y'],\n",
    "    'Values': [1, 2, 3, 4, 5, 6]\n",
    "}\n",
    "df = pd.DataFrame(data)\n",
    "\n",
    "# Group by 'Category' and 'Sub-Category', then calculate the mean of 'Values'\n",
    "grouped = df.groupby(['Category', 'Sub-Category']).mean()\n",
    "\n",
    "print(grouped)\n"
   ]
  },
  {
   "cell_type": "markdown",
   "id": "ef82d47a",
   "metadata": {},
   "source": [
    "• Explanation: The DataFrame is grouped by both Category and Sub-Category. The mean() function is applied to the Values column, giving the mean for each combination of Category and Sub-Category."
   ]
  },
  {
   "cell_type": "markdown",
   "id": "523078bc",
   "metadata": {},
   "source": [
    "### Example 3: Grouping and Applying Multiple Aggregations"
   ]
  },
  {
   "cell_type": "code",
   "execution_count": null,
   "id": "bdb89216",
   "metadata": {},
   "outputs": [],
   "source": [
    "data = {\n",
    "    'Category': ['A', 'A', 'B', 'B', 'A', 'B'],\n",
    "    'Values': [10, 20, 15, 25, 10, 30]\n",
    "}\n",
    "df = pd.DataFrame(data)\n",
    "\n",
    "# Group by 'Category' and apply multiple aggregation functions\n",
    "grouped = df.groupby('Category')['Values'].agg(['sum', 'mean', 'count'])\n",
    "\n",
    "print(grouped)\n"
   ]
  },
  {
   "cell_type": "markdown",
   "id": "1c2d7841",
   "metadata": {},
   "source": [
    "• Explanation: The DataFrame is grouped by the Category column, and multiple aggregation functions (sum, mean, and count) are applied to the Values column. The result is a new DataFrame with the specified aggregations."
   ]
  },
  {
   "cell_type": "markdown",
   "id": "af6709c0",
   "metadata": {},
   "source": [
    "### Example 4: Grouping and Filtering"
   ]
  },
  {
   "cell_type": "code",
   "execution_count": null,
   "id": "5a905eaf",
   "metadata": {},
   "outputs": [],
   "source": [
    "data = {\n",
    "    'Category': ['A', 'A', 'B', 'B', 'C', 'C'],\n",
    "    'Values': [10, 20, 10, 30, 50, 60]\n",
    "}\n",
    "df = pd.DataFrame(data)\n",
    "\n",
    "# Group by 'Category' and filter groups where the sum of 'Values' > 50\n",
    "filtered = df.groupby('Category').filter(lambda x: x['Values'].sum() > 50)\n",
    "\n",
    "print(filtered)\n"
   ]
  },
  {
   "cell_type": "markdown",
   "id": "c8192969",
   "metadata": {},
   "source": [
    "• Explanation: The DataFrame is grouped by the Category column. The filter() function keeps only those groups where the sum of Values is greater than 50. In this case, only category 'C' meets the condition."
   ]
  },
  {
   "cell_type": "markdown",
   "id": "bded7501",
   "metadata": {},
   "source": [
    "## 6. Advanced Usage\n",
    "\n",
    "### Example 5: Grouping and Transforming Data"
   ]
  },
  {
   "cell_type": "code",
   "execution_count": null,
   "id": "0f9b2d8a",
   "metadata": {},
   "outputs": [],
   "source": [
    "data = {\n",
    "    'Category': ['A', 'A', 'B', 'B', 'A', 'B'],\n",
    "    'Values': [10, 20, 15, 25, 10, 30]\n",
    "}\n",
    "df = pd.DataFrame(data)\n",
    "\n",
    "# Group by 'Category' and subtract the mean of 'Values' within each group\n",
    "df['Adjusted Values'] = df.groupby('Category')['Values'].transform(lambda x: x - x.mean())\n",
    "\n",
    "print(df)\n"
   ]
  },
  {
   "cell_type": "markdown",
   "id": "29d46c93",
   "metadata": {},
   "source": [
    "- `Explanation:` The DataFrame is grouped by Category, and the mean of Values within each group is subtracted from each value in that group. This operation is done using transform(), which returns a Series with the same shape as the original data."
   ]
  },
  {
   "cell_type": "markdown",
   "id": "6e65d132",
   "metadata": {},
   "source": [
    "### Summary\n",
    "- `groupby()` allows you to split your data into groups based on some criteria, perform operations on each group, and then combine the results.\n",
    "- Aggregation functions like `sum(), mean(), count()`, etc., are commonly used with groupby.\n",
    "- You can group by multiple columns, apply multiple aggregation functions, filter groups, or even transform data within groups.\n",
    "- groupby() is essential for data analysis tasks where you need to summarize or manipulate data based on specific groupings."
   ]
  },
  {
   "cell_type": "code",
   "execution_count": null,
   "id": "ca1d260a-9760-4744-8b90-4e3b95c37f74",
   "metadata": {},
   "outputs": [],
   "source": []
  }
 ],
 "metadata": {
  "kernelspec": {
   "display_name": "Python 3 (ipykernel)",
   "language": "python",
   "name": "python3"
  },
  "language_info": {
   "codemirror_mode": {
    "name": "ipython",
    "version": 3
   },
   "file_extension": ".py",
   "mimetype": "text/x-python",
   "name": "python",
   "nbconvert_exporter": "python",
   "pygments_lexer": "ipython3",
   "version": "3.11.5"
  }
 },
 "nbformat": 4,
 "nbformat_minor": 5
}
