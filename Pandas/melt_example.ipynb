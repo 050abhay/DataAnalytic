{
 "cells": [
  {
   "cell_type": "markdown",
   "id": "80f70a3e",
   "metadata": {},
   "source": [
    "# pandas.melt"
   ]
  },
  {
   "cell_type": "markdown",
   "id": "a5824d3d",
   "metadata": {},
   "source": [
    "pandas.melt is a powerful function in pandas that allows you to transform or reshape a DataFrame from a wide format to a long format. This is often used when you need to normalize your data for easier analysis or to prepare it for specific types of visualizations or operations."
   ]
  },
  {
   "cell_type": "markdown",
   "id": "20946325",
   "metadata": {},
   "source": [
    "## 1. Basic Concept of pandas.melt"
   ]
  },
  {
   "cell_type": "markdown",
   "id": "12d4b1b3",
   "metadata": {},
   "source": [
    "* **Wide format:** Data is spread across multiple columns. Each column represents a different variable.\n",
    "* **Long format:** Data is condensed into fewer columns, with one column identifying the variable type and another column holding the value.\n",
    "pandas.melt essentially unpivots the DataFrame, making it longer by turning multiple columns into rows."
   ]
  },
  {
   "cell_type": "markdown",
   "id": "d5875a07",
   "metadata": {},
   "source": [
    "## 2. Syntax"
   ]
  },
  {
   "cell_type": "markdown",
   "id": "bc2939d4-fffa-4a07-b303-cf2b73cd7470",
   "metadata": {},
   "source": [
    "```python\n",
    "pandas.melt(frame, id_vars=None, value_vars=None, var_name=None, value_name='value', col_level=None, ignore_index=True)\n",
    "```"
   ]
  },
  {
   "cell_type": "markdown",
   "id": "1e451ac3",
   "metadata": {},
   "source": [
    "* **frame:** The DataFrame to melt.\n",
    "* **id_vars:** Columns to use as identifiers (i.e., columns that should remain fixed).\n",
    "* **value_vars:** Columns to unpivot (i.e., columns to convert into rows).\n",
    "* **var_name:** Name to use for the variable column. If not specified, uses the original column name.\n",
    "* **value_name:** Name to use for the value column.\n",
    "* **col_level:** If columns are multi-indexed, this specifies which level to melt.\n",
    "* **ignore_index:** If True, the index is reset in the result."
   ]
  },
  {
   "cell_type": "markdown",
   "id": "c4dae89c",
   "metadata": {},
   "source": [
    "## 3. Basic Example of pandas.melt"
   ]
  },
  {
   "cell_type": "code",
   "execution_count": 19,
   "id": "972bf448",
   "metadata": {
    "tags": []
   },
   "outputs": [
    {
     "name": "stdout",
     "output_type": "stream",
     "text": [
      "Original DataFrame:\n",
      "\n",
      "         Date  New York  Los Angeles  Chicago\n",
      "0  2023-01-01        32           75       28\n",
      "1  2023-01-02        30           78       27\n"
     ]
    }
   ],
   "source": [
    "import pandas as pd\n",
    "\n",
    "# Create a simple DataFrame\n",
    "data = {\n",
    "    'Date': ['2023-01-01', '2023-01-02'],\n",
    "    'New York': [32, 30],\n",
    "    'Los Angeles': [75, 78],\n",
    "    'Chicago': [28, 27]\n",
    "}\n",
    "\n",
    "df = pd.DataFrame(data)\n",
    "print('Original DataFrame:\\n')\n",
    "print(df)\n",
    "\n"
   ]
  },
  {
   "cell_type": "code",
   "execution_count": 2,
   "id": "a7b48b1b-a3ca-40b2-ab2d-d1f7e1f8c5d7",
   "metadata": {
    "tags": []
   },
   "outputs": [
    {
     "name": "stdout",
     "output_type": "stream",
     "text": [
      "\n",
      "Melted DataFrame:\n",
      "         Date         City  Temperature\n",
      "0  2023-01-01     New York           32\n",
      "1  2023-01-02     New York           30\n",
      "2  2023-01-01  Los Angeles           75\n",
      "3  2023-01-02  Los Angeles           78\n",
      "4  2023-01-01      Chicago           28\n",
      "5  2023-01-02      Chicago           27\n"
     ]
    }
   ],
   "source": [
    "# Melt the DataFrame\n",
    "melted_df = pd.melt(df, id_vars=['Date'], value_vars=['New York', 'Los Angeles', 'Chicago'],\n",
    "                    var_name='City', value_name='Temperature')\n",
    "print('\\nMelted DataFrame:')\n",
    "print(melted_df)"
   ]
  },
  {
   "cell_type": "markdown",
   "id": "f6c9029c",
   "metadata": {},
   "source": [
    "* **Explanation:**\n",
    "  * **id_vars:** The Date column remains fixed.\n",
    "  * **value_vars:** The New York, Los Angeles, and Chicago columns are unpivoted.\n",
    "  * **var_name:** The unpivoted column names are stored in the City column.\n",
    "  * **value_name:** The values from the unpivoted columns are stored in the Temperature column."
   ]
  },
  {
   "cell_type": "markdown",
   "id": "77504de5",
   "metadata": {},
   "source": [
    "## 4. Melt with Default Parameters"
   ]
  },
  {
   "cell_type": "code",
   "execution_count": 20,
   "id": "81598db4",
   "metadata": {
    "tags": []
   },
   "outputs": [
    {
     "name": "stdout",
     "output_type": "stream",
     "text": [
      "\n",
      "Melted DataFrame with default value_vars:\n",
      "\n",
      "         Date     variable  value\n",
      "0  2023-01-01     New York     32\n",
      "1  2023-01-02     New York     30\n",
      "2  2023-01-01  Los Angeles     75\n",
      "3  2023-01-02  Los Angeles     78\n",
      "4  2023-01-01      Chicago     28\n",
      "5  2023-01-02      Chicago     27\n"
     ]
    }
   ],
   "source": [
    "# Melt without specifying value_vars\n",
    "melted_df_default = pd.melt(df, id_vars=['Date'])\n",
    "print('\\nMelted DataFrame with default value_vars:\\n')\n",
    "print(melted_df_default)"
   ]
  },
  {
   "cell_type": "markdown",
   "id": "fc409b06",
   "metadata": {},
   "source": [
    "* **Explanation:**\n",
    "  * By default, melt uses all columns except id_vars as value_vars.\n",
    "  * The variable column (default name) holds the column names, and the value column holds the data."
   ]
  },
  {
   "cell_type": "markdown",
   "id": "03eb9ced",
   "metadata": {},
   "source": [
    "## 5. Changing var_name and value_name"
   ]
  },
  {
   "cell_type": "code",
   "execution_count": 21,
   "id": "bfb1db15",
   "metadata": {
    "tags": []
   },
   "outputs": [
    {
     "name": "stdout",
     "output_type": "stream",
     "text": [
      "\n",
      "Melted DataFrame with custom var_name and value_name:\n",
      "\n",
      "         Date     Location  Temp\n",
      "0  2023-01-01     New York    32\n",
      "1  2023-01-02     New York    30\n",
      "2  2023-01-01  Los Angeles    75\n",
      "3  2023-01-02  Los Angeles    78\n",
      "4  2023-01-01      Chicago    28\n",
      "5  2023-01-02      Chicago    27\n"
     ]
    }
   ],
   "source": [
    "# Melt with custom var_name and value_name\n",
    "melted_df_custom = pd.melt(df, id_vars=['Date'], var_name='Location', value_name='Temp')\n",
    "print('\\nMelted DataFrame with custom var_name and value_name:\\n')\n",
    "print(melted_df_custom)"
   ]
  },
  {
   "cell_type": "markdown",
   "id": "b9cbe4b0",
   "metadata": {},
   "source": [
    "* **Explanation:**\n",
    "  * The variable column is renamed to Location.\n",
    "  * The value column is renamed to Temp."
   ]
  },
  {
   "cell_type": "markdown",
   "id": "2d5b01d5",
   "metadata": {},
   "source": [
    "## 6. Using pandas.melt with MultiIndex Columns"
   ]
  },
  {
   "cell_type": "code",
   "execution_count": 9,
   "id": "f953c3de",
   "metadata": {
    "tags": []
   },
   "outputs": [
    {
     "name": "stdout",
     "output_type": "stream",
     "text": [
      "\n",
      "Original DataFrame with MultiIndex columns:\n",
      "\n",
      "Type       Temperature             Humidity            \n",
      "City          New York Los Angeles New York Los Angeles\n",
      "2023-01-01          32          75       80          20\n",
      "2023-01-02          30          78       85          18\n"
     ]
    }
   ],
   "source": [
    "# Create a DataFrame with MultiIndex columns\n",
    "arrays = [['Temperature', 'Temperature', 'Humidity', 'Humidity'],\n",
    "          ['New York', 'Los Angeles', 'New York', 'Los Angeles']]\n",
    "index = pd.MultiIndex.from_arrays(arrays, names=('Type', 'City'))\n",
    "\n",
    "df_multi = pd.DataFrame([[32, 75, 80, 20], [30, 78, 85, 18]], columns=index, index=['2023-01-01', '2023-01-02'])\n",
    "print('\\nOriginal DataFrame with MultiIndex columns:\\n')\n",
    "print(df_multi)\n",
    "\n",
    "\n",
    "# Melt the MultiIndex DataFrame\n",
    "melted_df_multi = pd.melt(df_multi.reset_index(), id_vars=['index'], col_level=1)\n",
    "print('\\nMelted DataFrame with MultiIndex columns:\\n')\n",
    "print(melted_df_multi)\n"
   ]
  },
  {
   "cell_type": "code",
   "execution_count": 17,
   "id": "a7f3a7fd-f982-4500-9aa7-ee296c464053",
   "metadata": {
    "tags": []
   },
   "outputs": [
    {
     "name": "stdout",
     "output_type": "stream",
     "text": [
      "Original DataFrame with MultiIndex columns:\n",
      "\n",
      "Type       Temperature             Humidity            \n",
      "City          New York Los Angeles New York Los Angeles\n",
      "2023-01-01          32          75       80          20\n",
      "2023-01-02          30          78       85          18\n",
      "\n",
      "DataFrame after reset_index():\n",
      "\n",
      "Type      index Temperature             Humidity            \n",
      "City               New York Los Angeles New York Los Angeles\n",
      "0    2023-01-01          32          75       80          20\n",
      "1    2023-01-02          30          78       85          18\n",
      "Column names after reset_index(): MultiIndex([(      'index',            ''),\n",
      "            ('Temperature',    'New York'),\n",
      "            ('Temperature', 'Los Angeles'),\n",
      "            (   'Humidity',    'New York'),\n",
      "            (   'Humidity', 'Los Angeles')],\n",
      "           names=['Type', 'City'])\n",
      "Index column name: ('index', '')\n",
      "\n",
      "Melted DataFrame:\n",
      "\n",
      "   (index, )         Type         City  value\n",
      "0 2023-01-01  Temperature     New York     32\n",
      "1 2023-01-02  Temperature     New York     30\n",
      "2 2023-01-01  Temperature  Los Angeles     75\n",
      "3 2023-01-02  Temperature  Los Angeles     78\n",
      "4 2023-01-01     Humidity     New York     80\n",
      "5 2023-01-02     Humidity     New York     85\n",
      "6 2023-01-01     Humidity  Los Angeles     20\n",
      "7 2023-01-02     Humidity  Los Angeles     18\n"
     ]
    }
   ],
   "source": [
    "import pandas as pd\n",
    "\n",
    "# Create a DataFrame with MultiIndex columns\n",
    "arrays = [['Temperature', 'Temperature', 'Humidity', 'Humidity'],\n",
    "          ['New York', 'Los Angeles', 'New York', 'Los Angeles']]\n",
    "index = pd.MultiIndex.from_arrays(arrays, names=('Type', 'City'))\n",
    "\n",
    "df_multi = pd.DataFrame([[32, 75, 80, 20], [30, 78, 85, 18]], columns=index, index=pd.to_datetime(['2023-01-01', '2023-01-02']))\n",
    "print('Original DataFrame with MultiIndex columns:\\n')\n",
    "print(df_multi)\n",
    "\n",
    "# Reset index and check column names\n",
    "df_reset = df_multi.reset_index()\n",
    "print('\\nDataFrame after reset_index():\\n')\n",
    "print(df_reset.head())\n",
    "print('Column names after reset_index():', df_reset.columns)\n",
    "\n",
    "# Extract the name of the index column\n",
    "index_column = df_reset.columns[0]\n",
    "print('Index column name:', index_column)\n",
    "\n",
    "# Melt the DataFrame without col_level\n",
    "melted_df_multi = pd.melt(df_reset, id_vars=[index_column])\n",
    "print('\\nMelted DataFrame:\\n')\n",
    "print(melted_df_multi)\n"
   ]
  },
  {
   "cell_type": "markdown",
   "id": "820a14f0",
   "metadata": {
    "tags": []
   },
   "source": [
    "## **Explanation:**\n",
    "\n",
    "  \n",
    "\n",
    "### 1. Create a MultiIndex for columns\n",
    "```python\n",
    "arrays = [['Temperature', 'Temperature', 'Humidity', 'Humidity'],\n",
    "          ['New York', 'Los Angeles', 'New York', 'Los Angeles']]\n",
    "index = pd.MultiIndex.from_arrays(arrays, names=('Type', 'City'))\n",
    "```\n",
    "- Here, arrays is a list of lists that defines two levels of a MultiIndex for the columns. The first list defines the type (e.g., Temperature, Humidity), and the second list defines the city (e.g., New York, Los Angeles).\n",
    "- pd.MultiIndex.from_arrays creates a MultiIndex object using the arrays. The levels of the MultiIndex are named 'Type' and 'City'.\n",
    "\n",
    "### 2. Create a DataFrame with MultiIndex columns\n",
    "```python\n",
    "df_multi = pd.DataFrame([[32, 75, 80, 20], [30, 78, 85, 18]], columns=index, index=pd.to_datetime(['2023-01-01', '2023-01-02']))\n",
    "```\n",
    "- This creates a DataFrame df_multi with two rows and MultiIndex columns.\n",
    "- The data is structured so that each city's temperature and humidity on two different dates (2023-01-01 and 2023-01-02) is recorded.\n",
    "- The index of the DataFrame is a datetime index representing the dates.\n",
    "\n",
    "### 3. Print the original DataFrame\n",
    "```python\n",
    "print('Original DataFrame with MultiIndex columns:\\n')\n",
    "print(df_multi)\n",
    "```\n",
    "- This prints the DataFrame with its MultiIndex columns, showing how the data is structured.\n",
    "\n",
    "### 4. Reset the index\n",
    "```python\n",
    "df_reset = df_multi.reset_index()\n",
    "print('\\nDataFrame after reset_index():\\n')\n",
    "print(df_reset.head())\n",
    "print('Column names after reset_index():', df_reset.columns)\n",
    "```\n",
    "- The reset_index function moves the index (dates) back to columns and creates a new default integer index.\n",
    "- df_reset now has a flat structure with the dates as a regular column.\n",
    "- The column names after resetting the index are printed to see the structure of the DataFrame.\n",
    "\n",
    "### 5. Extract the name of the index column\n",
    "```python\n",
    "index_column = df_reset.columns[0]\n",
    "print('Index column name:', index_column)\n",
    "```\n",
    "- The first column name (which was the index before reset) is extracted and stored in the variable index_column.\n",
    "- This column name will be used as an identifier when performing the melt operation.\n",
    "\n",
    "### 6. Melt the DataFrame\n",
    "```python\n",
    "melted_df_multi = pd.melt(df_reset, id_vars=[index_column])\n",
    "print('\\nMelted DataFrame:\\n')\n",
    "print(melted_df_multi)\n",
    "```\n",
    "- The pd.melt function is used to unpivot the DataFrame from wide format to long format.\n",
    "- id_vars=[index_column] ensures that the original index (date) remains as an identifier and is not melted.\n",
    "- The result is a DataFrame where each row corresponds to a specific date, city, and type (temperature or humidity), with their respective values.\n",
    "\n",
    "`Summary:`\n",
    "- The code demonstrates how to create a DataFrame with MultiIndex columns, reset the index to make the data more accessible, and then melt the DataFrame to transform it from wide to long format. This process is useful when you need to reshape data for analysis or visualization.\n",
    "\n",
    "\n"
   ]
  },
  {
   "cell_type": "markdown",
   "id": "aceaf30e",
   "metadata": {},
   "source": [
    "## 7. Ignoring Index with ignore_index"
   ]
  },
  {
   "cell_type": "code",
   "execution_count": 18,
   "id": "19dd654e",
   "metadata": {
    "tags": []
   },
   "outputs": [
    {
     "name": "stdout",
     "output_type": "stream",
     "text": [
      "\n",
      "Melted DataFrame with original index retained:\n",
      "         Date     variable  value\n",
      "0  2023-01-01     New York     32\n",
      "1  2023-01-02     New York     30\n",
      "0  2023-01-01  Los Angeles     75\n",
      "1  2023-01-02  Los Angeles     78\n",
      "0  2023-01-01      Chicago     28\n",
      "1  2023-01-02      Chicago     27\n"
     ]
    }
   ],
   "source": [
    "# Melt with ignore_index\n",
    "melted_df_ignore_index = pd.melt(df, id_vars=['Date'], ignore_index=False)\n",
    "print('\\nMelted DataFrame with original index retained:')\n",
    "print(melted_df_ignore_index)"
   ]
  },
  {
   "cell_type": "markdown",
   "id": "1ee8bd8f",
   "metadata": {},
   "source": [
    "* **Explanation:**\n",
    "  * The original index from the DataFrame is retained in the melted DataFrame."
   ]
  },
  {
   "cell_type": "markdown",
   "id": "795f5375",
   "metadata": {},
   "source": [
    "## 8. When to Use pandas.melt"
   ]
  },
  {
   "cell_type": "markdown",
   "id": "2e4f6785",
   "metadata": {},
   "source": [
    "* **Normalization:** If you have data in a wide format (multiple columns for variables) and you need to normalize it for analysis.\n",
    "* **Visualization:** Certain visualizations or statistical analyses require data in a long format.\n",
    "* **Data Preparation:** Prepares data for certain types of operations, like grouping, merging, or applying functions that require long-format data."
   ]
  },
  {
   "cell_type": "markdown",
   "id": "03de2997",
   "metadata": {},
   "source": [
    "## Summary"
   ]
  },
  {
   "cell_type": "markdown",
   "id": "6caae3c8",
   "metadata": {},
   "source": [
    "* **pandas.melt** is used to reshape DataFrames from wide to long format.\n",
    "* **Key Concepts:**\n",
    "  * **id_vars:** Columns that remain fixed in the output DataFrame.\n",
    "  * **value_vars:** Columns to unpivot into rows.\n",
    "  * **var_name** and **value_name:** Custom names for the resulting columns.\n",
    "  * **col_level:** Used for MultiIndex columns to specify which level to melt.\n",
    "  * **ignore_index:** Determines whether to reset the index in the resulting DataFrame.\n",
    "* **Applications:**\n",
    "  * Normalizing data.\n",
    "  * Preparing data for analysis, visualization, or further processing.\n",
    "Understanding how to use pandas.melt effectively can help you manipulate and analyze your data more efficiently, particularly when dealing with complex datasets that need to be reshaped for specific tasks."
   ]
  }
 ],
 "metadata": {
  "kernelspec": {
   "display_name": "Python 3 (ipykernel)",
   "language": "python",
   "name": "python3"
  },
  "language_info": {
   "codemirror_mode": {
    "name": "ipython",
    "version": 3
   },
   "file_extension": ".py",
   "mimetype": "text/x-python",
   "name": "python",
   "nbconvert_exporter": "python",
   "pygments_lexer": "ipython3",
   "version": "3.11.5"
  }
 },
 "nbformat": 4,
 "nbformat_minor": 5
}
