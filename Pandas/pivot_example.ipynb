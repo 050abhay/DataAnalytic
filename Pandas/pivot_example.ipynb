{
 "cells": [
  {
   "cell_type": "markdown",
   "id": "25f694ed",
   "metadata": {},
   "source": [
    "# Using pandas.DataFrame.pivot\n",
    "The `pandas.DataFrame.pivot` function is a powerful tool for reshaping DataFrames. It transforms data from a long format to a wide format, which is useful for data analysis and reporting.\n",
    "\n",
    "In this notebook, we will explore how to use `pivot` to reorganize and summarize data. We will cover basic usage, handling missing data, reshaping data back, and using MultiIndex."
   ]
  },
  {
   "cell_type": "markdown",
   "id": "c0c2b50c",
   "metadata": {},
   "source": [
    "## Basic Concept\n",
    "\n",
    "`pandas.DataFrame.pivot` rearranges the data in your DataFrame by converting unique values from one column into new columns and organizing the data according to a given index and values.\n",
    "\n",
    "It is mainly used to reorganize and summarize data for better analysis."
   ]
  },
  {
   "cell_type": "markdown",
   "id": "d9f1fe22",
   "metadata": {},
   "source": [
    "## Syntax\n",
    "\n",
    "`DataFrame.pivot(index=None, columns=None, values=None)`\n",
    "\n",
    "- **index**: The column to use as the new DataFrame’s index. If None, uses the existing index.\n",
    "- **columns**: The column whose unique values will become the columns in the pivoted DataFrame.\n",
    "- **values**: The column to fill the new DataFrame's values. If None, all remaining columns are used."
   ]
  },
  {
   "cell_type": "markdown",
   "id": "b9d16ac8",
   "metadata": {},
   "source": [
    "## Basic Example\n",
    "\n",
    "Let's start with a simple example to understand how pivot works."
   ]
  },
  {
   "cell_type": "code",
   "execution_count": 1,
   "id": "466f5849",
   "metadata": {
    "tags": []
   },
   "outputs": [
    {
     "name": "stdout",
     "output_type": "stream",
     "text": [
      "Original DataFrame:\n"
     ]
    },
    {
     "data": {
      "text/html": [
       "<div>\n",
       "<style scoped>\n",
       "    .dataframe tbody tr th:only-of-type {\n",
       "        vertical-align: middle;\n",
       "    }\n",
       "\n",
       "    .dataframe tbody tr th {\n",
       "        vertical-align: top;\n",
       "    }\n",
       "\n",
       "    .dataframe thead th {\n",
       "        text-align: right;\n",
       "    }\n",
       "</style>\n",
       "<table border=\"1\" class=\"dataframe\">\n",
       "  <thead>\n",
       "    <tr style=\"text-align: right;\">\n",
       "      <th></th>\n",
       "      <th>Date</th>\n",
       "      <th>City</th>\n",
       "      <th>Temperature</th>\n",
       "      <th>Humidity</th>\n",
       "    </tr>\n",
       "  </thead>\n",
       "  <tbody>\n",
       "    <tr>\n",
       "      <th>0</th>\n",
       "      <td>2023-01-01</td>\n",
       "      <td>New York</td>\n",
       "      <td>32</td>\n",
       "      <td>80</td>\n",
       "    </tr>\n",
       "    <tr>\n",
       "      <th>1</th>\n",
       "      <td>2023-01-01</td>\n",
       "      <td>Los Angeles</td>\n",
       "      <td>75</td>\n",
       "      <td>20</td>\n",
       "    </tr>\n",
       "    <tr>\n",
       "      <th>2</th>\n",
       "      <td>2023-01-02</td>\n",
       "      <td>New York</td>\n",
       "      <td>30</td>\n",
       "      <td>85</td>\n",
       "    </tr>\n",
       "    <tr>\n",
       "      <th>3</th>\n",
       "      <td>2023-01-02</td>\n",
       "      <td>Los Angeles</td>\n",
       "      <td>78</td>\n",
       "      <td>18</td>\n",
       "    </tr>\n",
       "  </tbody>\n",
       "</table>\n",
       "</div>"
      ],
      "text/plain": [
       "         Date         City  Temperature  Humidity\n",
       "0  2023-01-01     New York           32        80\n",
       "1  2023-01-01  Los Angeles           75        20\n",
       "2  2023-01-02     New York           30        85\n",
       "3  2023-01-02  Los Angeles           78        18"
      ]
     },
     "execution_count": 1,
     "metadata": {},
     "output_type": "execute_result"
    }
   ],
   "source": [
    "import pandas as pd\n",
    "\n",
    "# Create a simple DataFrame\n",
    "data = {\n",
    "    'Date': ['2023-01-01', '2023-01-01', '2023-01-02', '2023-01-02'],\n",
    "    'City': ['New York', 'Los Angeles', 'New York', 'Los Angeles'],\n",
    "    'Temperature': [32, 75, 30, 78],\n",
    "    'Humidity': [80, 20, 85, 18]\n",
    "}\n",
    "\n",
    "df = pd.DataFrame(data)\n",
    "print(\"Original DataFrame:\")\n",
    "df\n",
    "\n",
    "\n"
   ]
  },
  {
   "cell_type": "code",
   "execution_count": 2,
   "id": "104c0c36-ede1-4cb1-83c3-589381eb7687",
   "metadata": {
    "tags": []
   },
   "outputs": [
    {
     "name": "stdout",
     "output_type": "stream",
     "text": [
      "\n",
      "Pivoted DataFrame:\n"
     ]
    },
    {
     "data": {
      "text/html": [
       "<div>\n",
       "<style scoped>\n",
       "    .dataframe tbody tr th:only-of-type {\n",
       "        vertical-align: middle;\n",
       "    }\n",
       "\n",
       "    .dataframe tbody tr th {\n",
       "        vertical-align: top;\n",
       "    }\n",
       "\n",
       "    .dataframe thead th {\n",
       "        text-align: right;\n",
       "    }\n",
       "</style>\n",
       "<table border=\"1\" class=\"dataframe\">\n",
       "  <thead>\n",
       "    <tr style=\"text-align: right;\">\n",
       "      <th>City</th>\n",
       "      <th>Los Angeles</th>\n",
       "      <th>New York</th>\n",
       "    </tr>\n",
       "    <tr>\n",
       "      <th>Date</th>\n",
       "      <th></th>\n",
       "      <th></th>\n",
       "    </tr>\n",
       "  </thead>\n",
       "  <tbody>\n",
       "    <tr>\n",
       "      <th>2023-01-01</th>\n",
       "      <td>75</td>\n",
       "      <td>32</td>\n",
       "    </tr>\n",
       "    <tr>\n",
       "      <th>2023-01-02</th>\n",
       "      <td>78</td>\n",
       "      <td>30</td>\n",
       "    </tr>\n",
       "  </tbody>\n",
       "</table>\n",
       "</div>"
      ],
      "text/plain": [
       "City        Los Angeles  New York\n",
       "Date                             \n",
       "2023-01-01           75        32\n",
       "2023-01-02           78        30"
      ]
     },
     "execution_count": 2,
     "metadata": {},
     "output_type": "execute_result"
    }
   ],
   "source": [
    "# Pivot the DataFrame\n",
    "pivot_df = df.pivot(index='Date', columns='City', values='Temperature')\n",
    "print(\"\\nPivoted DataFrame:\")\n",
    "pivot_df"
   ]
  },
  {
   "cell_type": "markdown",
   "id": "5438e4d2",
   "metadata": {},
   "source": [
    "## Pivot with Multiple Values\n",
    "\n",
    "You can also pivot multiple columns by specifying a list of column names in the `values` parameter."
   ]
  },
  {
   "cell_type": "code",
   "execution_count": 3,
   "id": "31abb961",
   "metadata": {
    "tags": []
   },
   "outputs": [
    {
     "name": "stdout",
     "output_type": "stream",
     "text": [
      "\n",
      "Pivoted DataFrame with multiple values:\n"
     ]
    },
    {
     "data": {
      "text/html": [
       "<div>\n",
       "<style scoped>\n",
       "    .dataframe tbody tr th:only-of-type {\n",
       "        vertical-align: middle;\n",
       "    }\n",
       "\n",
       "    .dataframe tbody tr th {\n",
       "        vertical-align: top;\n",
       "    }\n",
       "\n",
       "    .dataframe thead tr th {\n",
       "        text-align: left;\n",
       "    }\n",
       "\n",
       "    .dataframe thead tr:last-of-type th {\n",
       "        text-align: right;\n",
       "    }\n",
       "</style>\n",
       "<table border=\"1\" class=\"dataframe\">\n",
       "  <thead>\n",
       "    <tr>\n",
       "      <th></th>\n",
       "      <th colspan=\"2\" halign=\"left\">Temperature</th>\n",
       "      <th colspan=\"2\" halign=\"left\">Humidity</th>\n",
       "    </tr>\n",
       "    <tr>\n",
       "      <th>City</th>\n",
       "      <th>Los Angeles</th>\n",
       "      <th>New York</th>\n",
       "      <th>Los Angeles</th>\n",
       "      <th>New York</th>\n",
       "    </tr>\n",
       "    <tr>\n",
       "      <th>Date</th>\n",
       "      <th></th>\n",
       "      <th></th>\n",
       "      <th></th>\n",
       "      <th></th>\n",
       "    </tr>\n",
       "  </thead>\n",
       "  <tbody>\n",
       "    <tr>\n",
       "      <th>2023-01-01</th>\n",
       "      <td>75</td>\n",
       "      <td>32</td>\n",
       "      <td>20</td>\n",
       "      <td>80</td>\n",
       "    </tr>\n",
       "    <tr>\n",
       "      <th>2023-01-02</th>\n",
       "      <td>78</td>\n",
       "      <td>30</td>\n",
       "      <td>18</td>\n",
       "      <td>85</td>\n",
       "    </tr>\n",
       "  </tbody>\n",
       "</table>\n",
       "</div>"
      ],
      "text/plain": [
       "           Temperature             Humidity         \n",
       "City       Los Angeles New York Los Angeles New York\n",
       "Date                                                \n",
       "2023-01-01          75       32          20       80\n",
       "2023-01-02          78       30          18       85"
      ]
     },
     "execution_count": 3,
     "metadata": {},
     "output_type": "execute_result"
    }
   ],
   "source": [
    "# Pivot with multiple values\n",
    "pivot_df = df.pivot(index='Date', columns='City', values=['Temperature', 'Humidity'])\n",
    "print(\"\\nPivoted DataFrame with multiple values:\")\n",
    "pivot_df\n"
   ]
  },
  {
   "cell_type": "markdown",
   "id": "d6cb2968",
   "metadata": {},
   "source": [
    "## Handling Missing Data\n",
    "\n",
    "If your data contains combinations of index and columns that do not exist in the original DataFrame, the resulting pivoted DataFrame will contain NaN for those missing values."
   ]
  },
  {
   "cell_type": "code",
   "execution_count": 4,
   "id": "0bca9c42",
   "metadata": {
    "tags": []
   },
   "outputs": [
    {
     "name": "stdout",
     "output_type": "stream",
     "text": [
      "\n",
      "Original DataFrame with missing data:\n"
     ]
    },
    {
     "data": {
      "text/html": [
       "<div>\n",
       "<style scoped>\n",
       "    .dataframe tbody tr th:only-of-type {\n",
       "        vertical-align: middle;\n",
       "    }\n",
       "\n",
       "    .dataframe tbody tr th {\n",
       "        vertical-align: top;\n",
       "    }\n",
       "\n",
       "    .dataframe thead th {\n",
       "        text-align: right;\n",
       "    }\n",
       "</style>\n",
       "<table border=\"1\" class=\"dataframe\">\n",
       "  <thead>\n",
       "    <tr style=\"text-align: right;\">\n",
       "      <th></th>\n",
       "      <th>Date</th>\n",
       "      <th>City</th>\n",
       "      <th>Temperature</th>\n",
       "      <th>Humidity</th>\n",
       "    </tr>\n",
       "  </thead>\n",
       "  <tbody>\n",
       "    <tr>\n",
       "      <th>0</th>\n",
       "      <td>2023-01-01</td>\n",
       "      <td>New York</td>\n",
       "      <td>32</td>\n",
       "      <td>80</td>\n",
       "    </tr>\n",
       "    <tr>\n",
       "      <th>1</th>\n",
       "      <td>2023-01-01</td>\n",
       "      <td>Los Angeles</td>\n",
       "      <td>75</td>\n",
       "      <td>20</td>\n",
       "    </tr>\n",
       "    <tr>\n",
       "      <th>2</th>\n",
       "      <td>2023-01-02</td>\n",
       "      <td>New York</td>\n",
       "      <td>30</td>\n",
       "      <td>85</td>\n",
       "    </tr>\n",
       "    <tr>\n",
       "      <th>3</th>\n",
       "      <td>2023-01-02</td>\n",
       "      <td>Los Angeles</td>\n",
       "      <td>78</td>\n",
       "      <td>18</td>\n",
       "    </tr>\n",
       "    <tr>\n",
       "      <th>4</th>\n",
       "      <td>2023-01-03</td>\n",
       "      <td>New York</td>\n",
       "      <td>28</td>\n",
       "      <td>90</td>\n",
       "    </tr>\n",
       "  </tbody>\n",
       "</table>\n",
       "</div>"
      ],
      "text/plain": [
       "         Date         City  Temperature  Humidity\n",
       "0  2023-01-01     New York           32        80\n",
       "1  2023-01-01  Los Angeles           75        20\n",
       "2  2023-01-02     New York           30        85\n",
       "3  2023-01-02  Los Angeles           78        18\n",
       "4  2023-01-03     New York           28        90"
      ]
     },
     "execution_count": 4,
     "metadata": {},
     "output_type": "execute_result"
    }
   ],
   "source": [
    "# Add a row with a missing city\n",
    "data_with_missing = {\n",
    "    'Date': ['2023-01-01', '2023-01-01', '2023-01-02', '2023-01-02', '2023-01-03'],\n",
    "    'City': ['New York', 'Los Angeles', 'New York', 'Los Angeles', 'New York'],\n",
    "    'Temperature': [32, 75, 30, 78, 28],\n",
    "    'Humidity': [80, 20, 85, 18, 90]\n",
    "}\n",
    "\n",
    "df_missing = pd.DataFrame(data_with_missing)\n",
    "print(\"\\nOriginal DataFrame with missing data:\")\n",
    "df_missing\n",
    "\n",
    "\n"
   ]
  },
  {
   "cell_type": "code",
   "execution_count": 5,
   "id": "c6c38acc-b1b3-41f9-b247-5260787881ad",
   "metadata": {
    "tags": []
   },
   "outputs": [
    {
     "name": "stdout",
     "output_type": "stream",
     "text": [
      "\n",
      "Pivoted DataFrame with missing data:\n"
     ]
    },
    {
     "data": {
      "text/html": [
       "<div>\n",
       "<style scoped>\n",
       "    .dataframe tbody tr th:only-of-type {\n",
       "        vertical-align: middle;\n",
       "    }\n",
       "\n",
       "    .dataframe tbody tr th {\n",
       "        vertical-align: top;\n",
       "    }\n",
       "\n",
       "    .dataframe thead th {\n",
       "        text-align: right;\n",
       "    }\n",
       "</style>\n",
       "<table border=\"1\" class=\"dataframe\">\n",
       "  <thead>\n",
       "    <tr style=\"text-align: right;\">\n",
       "      <th>City</th>\n",
       "      <th>Los Angeles</th>\n",
       "      <th>New York</th>\n",
       "    </tr>\n",
       "    <tr>\n",
       "      <th>Date</th>\n",
       "      <th></th>\n",
       "      <th></th>\n",
       "    </tr>\n",
       "  </thead>\n",
       "  <tbody>\n",
       "    <tr>\n",
       "      <th>2023-01-01</th>\n",
       "      <td>75.0</td>\n",
       "      <td>32.0</td>\n",
       "    </tr>\n",
       "    <tr>\n",
       "      <th>2023-01-02</th>\n",
       "      <td>78.0</td>\n",
       "      <td>30.0</td>\n",
       "    </tr>\n",
       "    <tr>\n",
       "      <th>2023-01-03</th>\n",
       "      <td>NaN</td>\n",
       "      <td>28.0</td>\n",
       "    </tr>\n",
       "  </tbody>\n",
       "</table>\n",
       "</div>"
      ],
      "text/plain": [
       "City        Los Angeles  New York\n",
       "Date                             \n",
       "2023-01-01         75.0      32.0\n",
       "2023-01-02         78.0      30.0\n",
       "2023-01-03          NaN      28.0"
      ]
     },
     "execution_count": 5,
     "metadata": {},
     "output_type": "execute_result"
    }
   ],
   "source": [
    "# Pivot the DataFrame\n",
    "pivot_df_missing = df_missing.pivot(index='Date', columns='City', values='Temperature')\n",
    "print(\"\\nPivoted DataFrame with missing data:\")\n",
    "pivot_df_missing"
   ]
  },
  {
   "cell_type": "markdown",
   "id": "668e2701",
   "metadata": {},
   "source": [
    "## Reshaping Back: From Pivoted DataFrame to Original\n",
    "\n",
    "If you need to reshape the pivoted DataFrame back to its original long format, you can use the `pandas.DataFrame.melt` function."
   ]
  },
  {
   "cell_type": "code",
   "execution_count": 6,
   "id": "c45cf276",
   "metadata": {
    "tags": []
   },
   "outputs": [
    {
     "name": "stdout",
     "output_type": "stream",
     "text": [
      "\n",
      "Melted DataFrame:\n",
      "         Date         City  Temperature\n",
      "0  2023-01-01  Los Angeles         75.0\n",
      "1  2023-01-02  Los Angeles         78.0\n",
      "2  2023-01-03  Los Angeles          NaN\n",
      "3  2023-01-01     New York         32.0\n",
      "4  2023-01-02     New York         30.0\n",
      "5  2023-01-03     New York         28.0\n"
     ]
    }
   ],
   "source": [
    "# Reshape back using melt\n",
    "melted_df = pivot_df_missing.reset_index().melt(id_vars='Date', value_name='Temperature')\n",
    "print(\"\\nMelted DataFrame:\")\n",
    "print(melted_df)\n"
   ]
  },
  {
   "cell_type": "markdown",
   "id": "dfe8a001",
   "metadata": {},
   "source": [
    "## Pivoting with MultiIndex\n",
    "\n",
    "You can create a pivoted DataFrame with multiple index levels (MultiIndex) by using multiple columns in the `index` parameter."
   ]
  },
  {
   "cell_type": "code",
   "execution_count": 7,
   "id": "8226b6a4",
   "metadata": {
    "tags": []
   },
   "outputs": [
    {
     "name": "stdout",
     "output_type": "stream",
     "text": [
      "\n",
      "Original DataFrame with multiple index levels:\n",
      "         Date         City         Type  Value\n",
      "0  2023-01-01     New York  Temperature     32\n",
      "1  2023-01-01  Los Angeles  Temperature     75\n",
      "2  2023-01-02     New York  Temperature     30\n",
      "3  2023-01-02  Los Angeles  Temperature     78\n",
      "4  2023-01-03     New York  Temperature     28\n",
      "\n",
      "Pivoted DataFrame with MultiIndex:\n"
     ]
    },
    {
     "data": {
      "text/html": [
       "<div>\n",
       "<style scoped>\n",
       "    .dataframe tbody tr th:only-of-type {\n",
       "        vertical-align: middle;\n",
       "    }\n",
       "\n",
       "    .dataframe tbody tr th {\n",
       "        vertical-align: top;\n",
       "    }\n",
       "\n",
       "    .dataframe thead th {\n",
       "        text-align: right;\n",
       "    }\n",
       "</style>\n",
       "<table border=\"1\" class=\"dataframe\">\n",
       "  <thead>\n",
       "    <tr style=\"text-align: right;\">\n",
       "      <th></th>\n",
       "      <th>City</th>\n",
       "      <th>Los Angeles</th>\n",
       "      <th>New York</th>\n",
       "    </tr>\n",
       "    <tr>\n",
       "      <th>Date</th>\n",
       "      <th>Type</th>\n",
       "      <th></th>\n",
       "      <th></th>\n",
       "    </tr>\n",
       "  </thead>\n",
       "  <tbody>\n",
       "    <tr>\n",
       "      <th>2023-01-01</th>\n",
       "      <th>Temperature</th>\n",
       "      <td>75.0</td>\n",
       "      <td>32.0</td>\n",
       "    </tr>\n",
       "    <tr>\n",
       "      <th>2023-01-02</th>\n",
       "      <th>Temperature</th>\n",
       "      <td>78.0</td>\n",
       "      <td>30.0</td>\n",
       "    </tr>\n",
       "    <tr>\n",
       "      <th>2023-01-03</th>\n",
       "      <th>Temperature</th>\n",
       "      <td>NaN</td>\n",
       "      <td>28.0</td>\n",
       "    </tr>\n",
       "  </tbody>\n",
       "</table>\n",
       "</div>"
      ],
      "text/plain": [
       "City                    Los Angeles  New York\n",
       "Date       Type                              \n",
       "2023-01-01 Temperature         75.0      32.0\n",
       "2023-01-02 Temperature         78.0      30.0\n",
       "2023-01-03 Temperature          NaN      28.0"
      ]
     },
     "execution_count": 7,
     "metadata": {},
     "output_type": "execute_result"
    }
   ],
   "source": [
    "# Create a DataFrame with more complex data\n",
    "data_multi = {\n",
    "    'Date': ['2023-01-01', '2023-01-01', '2023-01-02', '2023-01-02', '2023-01-03'],\n",
    "    'City': ['New York', 'Los Angeles', 'New York', 'Los Angeles', 'New York'],\n",
    "    'Type': ['Temperature', 'Temperature', 'Temperature', 'Temperature', 'Temperature'],\n",
    "    'Value': [32, 75, 30, 78, 28]\n",
    "}\n",
    "\n",
    "df_multi = pd.DataFrame(data_multi)\n",
    "print(\"\\nOriginal DataFrame with multiple index levels:\")\n",
    "print(df_multi)\n",
    "\n",
    "# Pivot with MultiIndex\n",
    "pivot_df_multi = df_multi.pivot(index=['Date', 'Type'], columns='City', values='Value')\n",
    "print(\"\\nPivoted DataFrame with MultiIndex:\")\n",
    "pivot_df_multi\n"
   ]
  },
  {
   "cell_type": "markdown",
   "id": "fe99545f",
   "metadata": {},
   "source": [
    "## Pivoting without Aggregation: Difference from pivot_table\n",
    "\n",
    "Unlike `pivot_table`, which performs aggregation (e.g., sum, mean), `pivot` does not perform any aggregation. It simply reshapes the data."
   ]
  },
  {
   "cell_type": "markdown",
   "id": "5a2df847",
   "metadata": {},
   "source": [
    "## Summary\n",
    "\n",
    "The `pandas.DataFrame.pivot` function is used to reshape DataFrames by transforming data into a wide format, making it easier to analyze and report. Key points include:\n",
    "\n",
    "- **Parameters**:\n",
    "  - **index**: Determines the new index for the pivoted DataFrame.\n",
    "  - **columns**: Defines the new columns based on unique values from this column.\n",
    "  - **values**: Specifies which column's values to use for filling the new DataFrame.\n",
    "- **Handling Missing Data**: The resulting pivoted DataFrame will show NaN for missing values.\n",
    "- **Reshaping**: Use `melt` to reshape data back to its long format.\n",
    "- **MultiIndex**: Supports creating pivoted DataFrames with hierarchical indices.\n",
    "\n",
    "Understanding how to use `pivot` effectively can help you organize and analyze data more efficiently, especially when dealing with complex datasets."
   ]
  },
  {
   "cell_type": "code",
   "execution_count": null,
   "id": "9e7a3efb-ed78-457e-8d9a-a872b2b1907d",
   "metadata": {},
   "outputs": [],
   "source": [
    "pandas.DataFrame.pivot()"
   ]
  }
 ],
 "metadata": {
  "kernelspec": {
   "display_name": "Python 3 (ipykernel)",
   "language": "python",
   "name": "python3"
  },
  "language_info": {
   "codemirror_mode": {
    "name": "ipython",
    "version": 3
   },
   "file_extension": ".py",
   "mimetype": "text/x-python",
   "name": "python",
   "nbconvert_exporter": "python",
   "pygments_lexer": "ipython3",
   "version": "3.11.5"
  }
 },
 "nbformat": 4,
 "nbformat_minor": 5
}
