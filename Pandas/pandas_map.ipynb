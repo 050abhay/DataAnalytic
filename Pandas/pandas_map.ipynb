{
 "cells": [
  {
   "cell_type": "markdown",
   "id": "ffb60c1d",
   "metadata": {},
   "source": [
    "# pandas.DataFrame.map\n",
    "- The `pandas.DataFrame.map` function is a powerful tool for element-wise operations on a Series (not directly on a DataFrame, though similar operations can be done on DataFrame columns). \n",
    "- It is used to map or substitute each value in a Series using a mapping correspondence (a dictionary, a function, or a Series)."
   ]
  },
  {
   "cell_type": "markdown",
   "id": "f6d111ce",
   "metadata": {},
   "source": [
    "## 1. Basic Concept\n",
    "• **Series.map** is used for mapping values in a Series from one set of values to another based on a provided mapping.\n",
    "• This is often used for tasks like replacing values, applying functions to each element, or using a dictionary to transform the data."
   ]
  },
  {
   "cell_type": "markdown",
   "id": "b907b694",
   "metadata": {},
   "source": [
    "## 2. Syntax\n",
    "\n",
    "```python\n",
    "Series.map(arg, na_action=None)\n",
    "```\n",
    "• `arg`: This can be a function, dictionary, or Series. It defines the mapping correspondence.\n",
    "  - Function: A function to apply to each element of the Series.\n",
    "  - Dictionary/Series: A mapping of values to new values.\n",
    "• `**na_action**`: This can be either None or 'ignore'. If set to 'ignore', it leaves NaN values as NaN."
   ]
  },
  {
   "cell_type": "markdown",
   "id": "1ca2ed6a",
   "metadata": {},
   "source": [
    "## 3. Examples\n",
    "\n",
    "### Example 1: Mapping Using a Dictionary"
   ]
  },
  {
   "cell_type": "code",
   "execution_count": 1,
   "id": "cf2ff853",
   "metadata": {
    "tags": []
   },
   "outputs": [
    {
     "name": "stdout",
     "output_type": "stream",
     "text": [
      "          City  Temperature State\n",
      "0     New York           75    NY\n",
      "1  Los Angeles           85    CA\n",
      "2      Chicago           60    IL\n",
      "3      Houston           90    TX\n",
      "4      Phoenix          100    AZ\n"
     ]
    }
   ],
   "source": [
    "import pandas as pd\n",
    "\n",
    "# Sample DataFrame\n",
    "data = {\n",
    "    'City': ['New York', 'Los Angeles', 'Chicago', 'Houston', 'Phoenix'],\n",
    "    'Temperature': [75, 85, 60, 90, 100]\n",
    "}\n",
    "df = pd.DataFrame(data)\n",
    "\n",
    "# Mapping cities to states using a dictionary\n",
    "city_to_state = {\n",
    "    'New York': 'NY',\n",
    "    'Los Angeles': 'CA',\n",
    "    'Chicago': 'IL',\n",
    "    'Houston': 'TX',\n",
    "    'Phoenix': 'AZ'\n",
    "}\n",
    "\n",
    "# Apply map function to 'City' column\n",
    "df['State'] = df['City'].map(city_to_state)\n",
    "\n",
    "print(df)\n"
   ]
  },
  {
   "cell_type": "markdown",
   "id": "395571b1",
   "metadata": {},
   "source": [
    "• **Explanation**:\n",
    "  - The `map()` function is applied to the 'City' column, using the `city_to_state` dictionary to map each city to its corresponding state.\n",
    "  - A new column 'State' is created in the DataFrame containing the mapped state values."
   ]
  },
  {
   "cell_type": "markdown",
   "id": "210662d8",
   "metadata": {},
   "source": [
    "### Example 2: Applying a Function to Each Element"
   ]
  },
  {
   "cell_type": "code",
   "execution_count": 2,
   "id": "5bae5ea4",
   "metadata": {
    "tags": []
   },
   "outputs": [
    {
     "name": "stdout",
     "output_type": "stream",
     "text": [
      "          City  Temperature State  Temperature_Celsius\n",
      "0     New York           75    NY            23.888889\n",
      "1  Los Angeles           85    CA            29.444444\n",
      "2      Chicago           60    IL            15.555556\n",
      "3      Houston           90    TX            32.222222\n",
      "4      Phoenix          100    AZ            37.777778\n"
     ]
    }
   ],
   "source": [
    "# Apply a lambda function to convert Fahrenheit to Celsius\n",
    "df['Temperature_Celsius'] = df['Temperature'].map(lambda x: (x - 32) * 5.0/9.0)\n",
    "\n",
    "print(df)\n"
   ]
  },
  {
   "cell_type": "markdown",
   "id": "419e3c4d",
   "metadata": {},
   "source": [
    "• **Explanation**:\n",
    "  - The `map()` function is used here to apply a lambda function to each value in the 'Temperature' column.\n",
    "  - The lambda function converts the temperature from Fahrenheit to Celsius, and the result is stored in a new column 'Temperature_Celsius'."
   ]
  },
  {
   "cell_type": "markdown",
   "id": "d5a38c71",
   "metadata": {},
   "source": [
    "### Example 3: Handling Missing Mappings"
   ]
  },
  {
   "cell_type": "code",
   "execution_count": 3,
   "id": "045764a0",
   "metadata": {
    "tags": []
   },
   "outputs": [
    {
     "name": "stdout",
     "output_type": "stream",
     "text": [
      "            City  Temperature State  Temperature_Celsius\n",
      "0       New York           75    NY            23.888889\n",
      "1    Los Angeles           85    CA            29.444444\n",
      "2        Chicago           60    IL            15.555556\n",
      "3        Houston           90    TX            32.222222\n",
      "4        Phoenix          100    AZ            37.777778\n",
      "5  San Francisco           65   NaN                  NaN\n"
     ]
    }
   ],
   "source": [
    "# Adding a new city that is not in the mapping dictionary\n",
    "df.loc[len(df.index)] = ['San Francisco', 65, None, None]\n",
    "\n",
    "# Mapping cities to states with NaN handling\n",
    "df['State'] = df['City'].map(city_to_state)\n",
    "\n",
    "print(df)\n"
   ]
  },
  {
   "cell_type": "markdown",
   "id": "01c045c4",
   "metadata": {},
   "source": [
    "• **Explanation**:\n",
    "  - A new city 'San Francisco' is added to the DataFrame, but it is not included in the `city_to_state` dictionary.\n",
    "  - When `map()` is called, it cannot find a match for 'San Francisco', so it assigns NaN to the 'State' column for that row.\n",
    "  - `map()` naturally handles missing mappings by assigning NaN to unmatched values."
   ]
  },
  {
   "cell_type": "markdown",
   "id": "79ff8e7d",
   "metadata": {},
   "source": [
    "### Example 4: Mapping with a Series"
   ]
  },
  {
   "cell_type": "code",
   "execution_count": 4,
   "id": "49d8a5e6",
   "metadata": {
    "tags": []
   },
   "outputs": [
    {
     "name": "stdout",
     "output_type": "stream",
     "text": [
      "            City  Temperature State  Temperature_Celsius  Population_Millions\n",
      "0       New York           75    NY            23.888889                19.45\n",
      "1    Los Angeles           85    CA            29.444444                39.51\n",
      "2        Chicago           60    IL            15.555556                12.67\n",
      "3        Houston           90    TX            32.222222                28.70\n",
      "4        Phoenix          100    AZ            37.777778                 7.28\n",
      "5  San Francisco           65   NaN                  NaN                  NaN\n"
     ]
    }
   ],
   "source": [
    "# Creating a Series for mapping\n",
    "state_population = pd.Series({\n",
    "    'NY': 19.45,\n",
    "    'CA': 39.51,\n",
    "    'IL': 12.67,\n",
    "    'TX': 28.7,\n",
    "    'AZ': 7.28\n",
    "}, name='Population_Millions')\n",
    "\n",
    "# Map states to their populations\n",
    "df['Population_Millions'] = df['State'].map(state_population)\n",
    "\n",
    "print(df)\n"
   ]
  },
  {
   "cell_type": "markdown",
   "id": "68d47abd",
   "metadata": {},
   "source": [
    "• **Explanation**:\n",
    "  - A Series `state_population` is created, where the index represents the state abbreviations, and the values represent the population in millions.\n",
    "  - The `map()` function maps the state abbreviations in the 'State' column to their corresponding population values.\n",
    "  - The resulting population values are stored in a new column 'Population_Millions'."
   ]
  },
  {
   "cell_type": "markdown",
   "id": "15e0f519",
   "metadata": {},
   "source": [
    "### Summary\n",
    "• `map()` is mainly used with pandas Series to perform element-wise transformations based on a dictionary, Series, or function.\n",
    "• It is commonly used to replace values, apply functions, and map values based on another Series or dictionary.\n",
    "• **Handling missing values**: If a value in the Series is not found in the mapping, NaN is returned for that element.\n",
    "• **Not applicable directly to DataFrames**: `map()` works on Series. For DataFrames, it can be applied to individual columns.\n",
    "\n",
    "The versatility of `map()` makes it a valuable tool in data manipulation and transformation tasks."
   ]
  }
 ],
 "metadata": {
  "kernelspec": {
   "display_name": "Python 3 (ipykernel)",
   "language": "python",
   "name": "python3"
  },
  "language_info": {
   "codemirror_mode": {
    "name": "ipython",
    "version": 3
   },
   "file_extension": ".py",
   "mimetype": "text/x-python",
   "name": "python",
   "nbconvert_exporter": "python",
   "pygments_lexer": "ipython3",
   "version": "3.11.5"
  }
 },
 "nbformat": 4,
 "nbformat_minor": 5
}
