{
 "cells": [
  {
   "cell_type": "code",
   "execution_count": 1,
   "id": "7023b564-4b68-4f29-9bcd-8ef614e31325",
   "metadata": {
    "tags": []
   },
   "outputs": [],
   "source": [
    "import pandas as pd"
   ]
  },
  {
   "cell_type": "code",
   "execution_count": 2,
   "id": "bcd68a58-a069-44f0-9852-452fa2125580",
   "metadata": {
    "tags": []
   },
   "outputs": [
    {
     "name": "stdout",
     "output_type": "stream",
     "text": [
      "DataFrame 1 (df1):\n",
      "   ID         Name  Age  Salary Department\n",
      "0   1     John Doe   28   50000         HR\n",
      "1   2   Jane Smith   34   60000         IT\n",
      "2   3   Mike Brown   45   55000  Marketing\n",
      "3   4  Emily Davis   29   70000         IT\n",
      "4   5   Anna White   31   48000         HR\n",
      "\n",
      "DataFrame 2 (df2):\n",
      "   ID         Name  Age  Salary Department\n",
      "0   1     John Doe   29   50000         HR\n",
      "1   2   Jane Smith   34   62000         IT\n",
      "2   3   Mike Brown   46   54000  Marketing\n",
      "3   4  Emily Davis   29   72000         IT\n",
      "4   5   Anna White   32   48000      Sales\n"
     ]
    }
   ],
   "source": [
    "# Dataset 1: df1\n",
    "df1 = pd.DataFrame({\n",
    "    'ID': [1, 2, 3, 4, 5],\n",
    "    'Name': ['John Doe', 'Jane Smith', 'Mike Brown', 'Emily Davis', 'Anna White'],\n",
    "    'Age': [28, 34, 45, 29, 31],\n",
    "    'Salary': [50000, 60000, 55000, 70000, 48000],\n",
    "    'Department': ['HR', 'IT', 'Marketing', 'IT', 'HR']\n",
    "})\n",
    "\n",
    "# Dataset 2: df2\n",
    "df2 = pd.DataFrame({\n",
    "    'ID': [1, 2, 3, 4, 5],\n",
    "    'Name': ['John Doe', 'Jane Smith', 'Mike Brown', 'Emily Davis', 'Anna White'],\n",
    "    'Age': [29, 34, 46, 29, 32],\n",
    "    'Salary': [50000, 62000, 54000, 72000, 48000],\n",
    "    'Department': ['HR', 'IT', 'Marketing', 'IT', 'Sales']\n",
    "})\n",
    "\n",
    "# Display the DataFrames\n",
    "print(\"DataFrame 1 (df1):\")\n",
    "print(df1)\n",
    "print(\"\\nDataFrame 2 (df2):\")\n",
    "print(df2)\n",
    "\n"
   ]
  },
  {
   "cell_type": "code",
   "execution_count": 4,
   "id": "59806faa-b8a6-481a-8088-eea53cc4b556",
   "metadata": {
    "tags": []
   },
   "outputs": [
    {
     "name": "stdout",
     "output_type": "stream",
     "text": [
      "\n",
      "Comparison Result:\n"
     ]
    },
    {
     "data": {
      "text/html": [
       "<div>\n",
       "<style scoped>\n",
       "    .dataframe tbody tr th:only-of-type {\n",
       "        vertical-align: middle;\n",
       "    }\n",
       "\n",
       "    .dataframe tbody tr th {\n",
       "        vertical-align: top;\n",
       "    }\n",
       "\n",
       "    .dataframe thead tr th {\n",
       "        text-align: left;\n",
       "    }\n",
       "</style>\n",
       "<table border=\"1\" class=\"dataframe\">\n",
       "  <thead>\n",
       "    <tr>\n",
       "      <th></th>\n",
       "      <th colspan=\"2\" halign=\"left\">Age</th>\n",
       "      <th colspan=\"2\" halign=\"left\">Salary</th>\n",
       "      <th colspan=\"2\" halign=\"left\">Department</th>\n",
       "    </tr>\n",
       "    <tr>\n",
       "      <th></th>\n",
       "      <th>self</th>\n",
       "      <th>other</th>\n",
       "      <th>self</th>\n",
       "      <th>other</th>\n",
       "      <th>self</th>\n",
       "      <th>other</th>\n",
       "    </tr>\n",
       "  </thead>\n",
       "  <tbody>\n",
       "    <tr>\n",
       "      <th>0</th>\n",
       "      <td>28.0</td>\n",
       "      <td>29.0</td>\n",
       "      <td>NaN</td>\n",
       "      <td>NaN</td>\n",
       "      <td>NaN</td>\n",
       "      <td>NaN</td>\n",
       "    </tr>\n",
       "    <tr>\n",
       "      <th>1</th>\n",
       "      <td>NaN</td>\n",
       "      <td>NaN</td>\n",
       "      <td>60000.0</td>\n",
       "      <td>62000.0</td>\n",
       "      <td>NaN</td>\n",
       "      <td>NaN</td>\n",
       "    </tr>\n",
       "    <tr>\n",
       "      <th>2</th>\n",
       "      <td>45.0</td>\n",
       "      <td>46.0</td>\n",
       "      <td>55000.0</td>\n",
       "      <td>54000.0</td>\n",
       "      <td>NaN</td>\n",
       "      <td>NaN</td>\n",
       "    </tr>\n",
       "    <tr>\n",
       "      <th>3</th>\n",
       "      <td>NaN</td>\n",
       "      <td>NaN</td>\n",
       "      <td>70000.0</td>\n",
       "      <td>72000.0</td>\n",
       "      <td>NaN</td>\n",
       "      <td>NaN</td>\n",
       "    </tr>\n",
       "    <tr>\n",
       "      <th>4</th>\n",
       "      <td>31.0</td>\n",
       "      <td>32.0</td>\n",
       "      <td>NaN</td>\n",
       "      <td>NaN</td>\n",
       "      <td>HR</td>\n",
       "      <td>Sales</td>\n",
       "    </tr>\n",
       "  </tbody>\n",
       "</table>\n",
       "</div>"
      ],
      "text/plain": [
       "    Age         Salary          Department       \n",
       "   self other     self    other       self  other\n",
       "0  28.0  29.0      NaN      NaN        NaN    NaN\n",
       "1   NaN   NaN  60000.0  62000.0        NaN    NaN\n",
       "2  45.0  46.0  55000.0  54000.0        NaN    NaN\n",
       "3   NaN   NaN  70000.0  72000.0        NaN    NaN\n",
       "4  31.0  32.0      NaN      NaN         HR  Sales"
      ]
     },
     "execution_count": 4,
     "metadata": {},
     "output_type": "execute_result"
    }
   ],
   "source": [
    "# Compare the two DataFrames\n",
    "comparison = df1.compare(df2)\n",
    "\n",
    "# Display the comparison result\n",
    "print(\"\\nComparison Result:\")\n",
    "comparison"
   ]
  },
  {
   "cell_type": "markdown",
   "id": "5e110616-83e4-4e5b-94e9-895a14734bc9",
   "metadata": {},
   "source": [
    "### Explanation\n",
    "`Comparison:` The compare() function will show differences between df1 and df2. For each cell where values differ, it will display the old and new values.\n",
    "\n",
    "`Note: ` The compare() function requires both DataFrames to have the same shape and column names. If there are discrepancies, you may need to align the DataFrames before using compare().\n",
    "\n"
   ]
  },
  {
   "cell_type": "code",
   "execution_count": null,
   "id": "4e474f26-3c0b-47f8-a2be-c0025b076d23",
   "metadata": {},
   "outputs": [],
   "source": []
  }
 ],
 "metadata": {
  "kernelspec": {
   "display_name": "Python 3 (ipykernel)",
   "language": "python",
   "name": "python3"
  },
  "language_info": {
   "codemirror_mode": {
    "name": "ipython",
    "version": 3
   },
   "file_extension": ".py",
   "mimetype": "text/x-python",
   "name": "python",
   "nbconvert_exporter": "python",
   "pygments_lexer": "ipython3",
   "version": "3.11.5"
  }
 },
 "nbformat": 4,
 "nbformat_minor": 5
}
