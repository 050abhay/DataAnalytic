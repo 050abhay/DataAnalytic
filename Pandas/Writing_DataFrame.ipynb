{
 "cells": [
  {
   "cell_type": "markdown",
   "id": "9168da41-619f-4449-93d4-260ec049abd6",
   "metadata": {},
   "source": [
    "Writing a simple Excel file pandas_practice1.xlsx"
   ]
  },
  {
   "cell_type": "code",
   "execution_count": 2,
   "id": "6b569056-bbdc-47c5-9146-1a47de87596d",
   "metadata": {
    "tags": []
   },
   "outputs": [],
   "source": [
    "import pandas as pd\n",
    "\n",
    "# Creating data for each sheet\n",
    "\n",
    "# Sales Data\n",
    "sales_data = {\n",
    "    'Date': ['01/05/2023', '02/10/2023', '03/15/2023', '04/20/2023'],\n",
    "    'Region': ['North', 'South', 'East', 'West'],\n",
    "    'Product': ['Widget A', 'Widget B', 'Widget C', 'Widget A'],\n",
    "    'Quantity Sold': [10, 5, 20, 8],\n",
    "    'Unit Price': [15.50, 25.00, 10.00, 15.50],\n",
    "    'Total Sales': [155.00, 125.00, 200.00, 124.00]\n",
    "}\n",
    "sales_df = pd.DataFrame(sales_data)\n",
    "\n",
    "# Employee Info\n",
    "employee_info = {\n",
    "    'Employee ID': ['E001', 'E002', 'E003'],\n",
    "    'Name': ['Alice Johnson', 'Bob Smith', 'Charlie Brown'],\n",
    "    'Department': ['Sales', 'IT', 'HR'],\n",
    "    'Position': ['Sales Manager', 'IT Specialist', 'HR Coordinator'],\n",
    "    'Hire Date': ['01/12/2018', '02/23/2019', '03/15/2020'],\n",
    "    'Salary': [75000.00, 65000.00, 55000.00]\n",
    "}\n",
    "employee_df = pd.DataFrame(employee_info)\n",
    "\n",
    "# Product Inventory\n",
    "product_inventory = {\n",
    "    'Product ID': ['P001', 'P002', 'P003'],\n",
    "    'Product Name': ['Laptop', 'Desk', 'Shirt'],\n",
    "    'Category': ['Electronics', 'Furniture', 'Clothing'],\n",
    "    'Stock Quantity': [50, 20, 100],\n",
    "    'Reorder Level': [10, 5, 20],\n",
    "    'Supplier': ['Tech Supplies', 'Office Depot', 'Apparel Corp']\n",
    "}\n",
    "product_df = pd.DataFrame(product_inventory)\n",
    "\n",
    "# Exam Scores\n",
    "exam_scores = {\n",
    "    'Student ID': ['S001', 'S002'],\n",
    "    'Name': ['John Doe', 'Jane Smith'],\n",
    "    'Math': [85, 92],\n",
    "    'Science': [90, 85],\n",
    "    'History': [75, 80],\n",
    "    'English': [88, 95],\n",
    "    'Total Score': [338, 352],\n",
    "    'Grade': ['B', 'A']\n",
    "}\n",
    "exam_df = pd.DataFrame(exam_scores)\n",
    "\n",
    "# Customer Feedback\n",
    "customer_feedback = {\n",
    "    'Feedback ID': ['F001', 'F002'],\n",
    "    'Customer Name': ['Mark Taylor', 'Sarah Wilson'],\n",
    "    'Product': ['Widget A', 'Widget B'],\n",
    "    'Rating': [4, 5],\n",
    "    'Comments': ['Good quality, satisfied.', 'Excellent product, loved it.']\n",
    "}\n",
    "feedback_df = pd.DataFrame(customer_feedback)\n",
    "\n",
    "# Creating an Excel writer to save all sheets in one workbook\n",
    "file_path = 'pandas_practice1.xlsx'\n",
    "with pd.ExcelWriter(file_path) as writer:\n",
    "    sales_df.to_excel(writer, sheet_name='Sales_Data', index=False)\n",
    "    employee_df.to_excel(writer, sheet_name='Employee_Info', index=False)\n",
    "    product_df.to_excel(writer, sheet_name='Product_Inventory', index=False)\n",
    "    exam_df.to_excel(writer, sheet_name='Exam_Scores', index=False)\n",
    "    feedback_df.to_excel(writer, sheet_name='Customer_Feedback', index=False)\n"
   ]
  },
  {
   "cell_type": "markdown",
   "id": "a79646af-fed9-49fc-a635-2427500aece7",
   "metadata": {},
   "source": [
    "Anthoer excel file witring"
   ]
  },
  {
   "cell_type": "code",
   "execution_count": 7,
   "id": "fafccd06-0509-4b6b-ba67-a82def1a1e10",
   "metadata": {
    "tags": []
   },
   "outputs": [],
   "source": [
    "\n",
    "import pandas as pd\n",
    "import numpy as np\n",
    "\n",
    "# Sales Data: 20 rows with sales transaction data\n",
    "# Sales Data: 20 rows with sales transaction data\n",
    "sales_data = pd.DataFrame({\n",
    "    'Transaction ID': np.arange(1, 21),\n",
    "    'Date': pd.date_range(start='2023-01-01', periods=20, freq='D'),\n",
    "    'Product': np.random.choice(['Laptop', 'Mouse', 'Keyboard', 'Monitor', 'Printer'], 20),\n",
    "    'Quantity': np.random.randint(1, 10, 20),\n",
    "    'Price': np.random.uniform(100, 1000, 20).round(2)\n",
    "})\n",
    "# Calculate the 'Total' column\n",
    "sales_data['Total'] = sales_data['Quantity'] * sales_data['Price']\n",
    "\n",
    "\n",
    "\n",
    "# Employee Info: 20 rows with employee data\n",
    "employee_info = pd.DataFrame({\n",
    "    'Employee ID': np.arange(101, 121),\n",
    "    'Name': np.random.choice(['Alice', 'Bob', 'Charlie', 'David', 'Eva', \n",
    "                              'Frank', 'Grace', 'Hannah', 'Ivan', 'Jack', \n",
    "                              'Kara', 'Leo', 'Mia', 'Nina', 'Oscar', \n",
    "                              'Paula', 'Quinn', 'Rita', 'Steve', 'Tina'], 20),\n",
    "    'Department': np.random.choice(['HR', 'Sales', 'Development', 'Finance', 'Marketing'], 20),\n",
    "    'Salary': np.random.randint(50000, 120000, 20),\n",
    "    'Joining Date': pd.date_range(start='2018-01-01', periods=20, freq='M')\n",
    "})\n",
    "\n",
    "# Product Inventory: 20 rows with product inventory data\n",
    "product_inventory = pd.DataFrame({\n",
    "    'Product ID': np.arange(201, 221),\n",
    "    'Product Name': np.random.choice(['Laptop', 'Mouse', 'Keyboard', 'Monitor', 'Printer'], 20),\n",
    "    'Category': np.random.choice(['Electronics', 'Accessories', 'Office Supplies'], 20),\n",
    "    'Stock': np.random.randint(10, 200, 20),\n",
    "    'Price': np.random.uniform(50, 1500, 20).round(2)\n",
    "})\n",
    "\n",
    "# Exam Scores: 20 rows with exam score data\n",
    "exam_scores = pd.DataFrame({\n",
    "    'Student ID': np.arange(301, 321),\n",
    "    'Name': np.random.choice(['Alice', 'Bob', 'Charlie', 'David', 'Eva', \n",
    "                              'Frank', 'Grace', 'Hannah', 'Ivan', 'Jack', \n",
    "                              'Kara', 'Leo', 'Mia', 'Nina', 'Oscar', 'Paula', \n",
    "                              'Quinn', 'Rita', 'Steve', 'Tina'], 20),\n",
    "    'Subject': np.random.choice(['Math', 'Science', 'History', 'Art', 'Physical Education'], 20),\n",
    "    'Score': np.random.randint(50, 100, 20)\n",
    "})\n",
    "\n",
    "# Customer Feedback: 20 rows with customer feedback data\n",
    "customer_feedback = pd.DataFrame({\n",
    "    'Feedback ID': np.arange(401, 421),\n",
    "    'Customer Name': np.random.choice(['Alice', 'Bob', 'Charlie', 'David', 'Eva', 'Frank', 'Grace', 'Hannah', 'Ivan', 'Jack', \n",
    "                                       'Kara', 'Leo', 'Mia', 'Nina', 'Oscar', 'Paula', 'Quinn', 'Rita', 'Steve', 'Tina'], 20),\n",
    "    'Product': np.random.choice(['Laptop', 'Mouse', 'Keyboard', 'Monitor', 'Printer'], 20),\n",
    "    'Rating': np.random.randint(1, 6, 20),\n",
    "    'Comments': np.random.choice(['Good', 'Average', 'Excellent', 'Poor', 'Satisfactory'], 20)\n",
    "})\n",
    "\n",
    "# Save to Excel\n",
    "with pd.ExcelWriter('practice_20_rows.xlsx') as writer:\n",
    "    sales_data.to_excel(writer, sheet_name='Sales Data', index=False)\n",
    "    employee_info.to_excel(writer, sheet_name='Employee Info', index=False)\n",
    "    product_inventory.to_excel(writer, sheet_name='Product Inventory', index=False)\n",
    "    exam_scores.to_excel(writer, sheet_name='Exam Scores', index=False)\n",
    "    customer_feedback.to_excel(writer, sheet_name='Customer Feedback', index=False)\n"
   ]
  },
  {
   "cell_type": "code",
   "execution_count": 6,
   "id": "4673a6e4-1b4d-4654-92df-1a3abc0e83a6",
   "metadata": {
    "tags": []
   },
   "outputs": [],
   "source": [
    "import pandas as pd\n",
    "import numpy as np\n",
    "\n",
    "# Sales Data: 20 rows with sales transaction data\n",
    "sales_data = pd.DataFrame({\n",
    "    'Transaction ID': np.arange(1, 21),\n",
    "    'Date': pd.date_range(start='2023-01-01', periods=20, freq='D'),\n",
    "    'Product': np.random.choice(['Laptop', 'Mouse', 'Keyboard', 'Monitor', 'Printer'], 20),\n",
    "    'Quantity': np.random.randint(1, 10, 20),\n",
    "    'Price': np.random.uniform(100, 1000, 20).round(2)\n",
    "})\n",
    "\n",
    "# Calculate the 'Total' column\n",
    "sales_data['Total'] = sales_data['Quantity'] * sales_data['Price']\n",
    "\n",
    "# Save to Excel\n",
    "with pd.ExcelWriter('practice_20_rows1.xlsx') as writer:\n",
    "    sales_data.to_excel(writer, sheet_name='Sales Data', index=False)\n"
   ]
  },
  {
   "cell_type": "markdown",
   "id": "1136f061-10a4-4a08-8094-d3707a983360",
   "metadata": {},
   "source": [
    "`Writing a csv file`"
   ]
  },
  {
   "cell_type": "code",
   "execution_count": 8,
   "id": "66fdfc73-8c41-4632-aefc-40223aef37be",
   "metadata": {
    "tags": []
   },
   "outputs": [
    {
     "name": "stdout",
     "output_type": "stream",
     "text": [
      "sample_dataset_missing_values.csv Created\n"
     ]
    }
   ],
   "source": [
    "import pandas as pd\n",
    "\n",
    "data = {\n",
    "    'Name': ['John Doe', 'Jane Smith', 'Emily Davis', 'Michael Brown', 'Jessica Wilson', \n",
    "             'David Lee', 'Laura White', 'Chris Green', 'Sarah King', 'James Taylor'],\n",
    "    'Age': [29, 35, 28, 40, 32, None, 27, None, 38, 45],\n",
    "    'Gender': ['Male', 'Female', 'Female', 'Male', 'Female', 'Male', 'Female', 'Male', 'Female', 'Male'],\n",
    "    'Salary': [50000, None, 62000, 80000, 55000, None, 48000, 71000, None, 90000],\n",
    "    'Department': ['IT', 'HR', 'IT', 'Finance', 'HR', 'IT', 'Finance', 'IT', 'HR', 'Finance'],\n",
    "    'Joining_Date': ['2020-01-15', '2018-03-22', '2019-07-09', None, '2021-02-05', \n",
    "                     '2020-09-13', '2021-01-20', '2019-11-11', '2017-08-14', '2016-05-30']\n",
    "}\n",
    "\n",
    "df = pd.DataFrame(data)\n",
    "df.to_csv('sample_dataset_missing_values.csv', index=False)\n",
    "print(\"sample_dataset_missing_values.csv Created\")\n"
   ]
  },
  {
   "cell_type": "code",
   "execution_count": null,
   "id": "07fad82b-8704-445e-8be9-bc03cfca388f",
   "metadata": {},
   "outputs": [],
   "source": []
  }
 ],
 "metadata": {
  "kernelspec": {
   "display_name": "Python 3 (ipykernel)",
   "language": "python",
   "name": "python3"
  },
  "language_info": {
   "codemirror_mode": {
    "name": "ipython",
    "version": 3
   },
   "file_extension": ".py",
   "mimetype": "text/x-python",
   "name": "python",
   "nbconvert_exporter": "python",
   "pygments_lexer": "ipython3",
   "version": "3.11.5"
  }
 },
 "nbformat": 4,
 "nbformat_minor": 5
}
