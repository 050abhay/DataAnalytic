{
 "cells": [
  {
   "cell_type": "markdown",
   "id": "6fb5d485",
   "metadata": {},
   "source": [
    "# 1. What is a DataFrame?\n",
    "A DataFrame is a two-dimensional, size-mutable, and heterogeneous tabular data structure with labeled axes (rows and columns). It’s similar to a spreadsheet or SQL table and is one of the most versatile structures in Pandas."
   ]
  },
  {
   "cell_type": "markdown",
   "id": "6e7c00f2",
   "metadata": {},
   "source": [
    "## 2. Creating a DataFrame\n",
    "DataFrames can be created in several ways:"
   ]
  },
  {
   "cell_type": "markdown",
   "id": "6bd0be94",
   "metadata": {},
   "source": [
    "### From a Dictionary:\n",
    "You can create a DataFrame using a dictionary where the keys are column names and the values are lists or arrays."
   ]
  },
  {
   "cell_type": "code",
   "execution_count": 1,
   "id": "8cbddbaa",
   "metadata": {},
   "outputs": [
    {
     "data": {
      "text/html": [
       "<div>\n",
       "<style scoped>\n",
       "    .dataframe tbody tr th:only-of-type {\n",
       "        vertical-align: middle;\n",
       "    }\n",
       "\n",
       "    .dataframe tbody tr th {\n",
       "        vertical-align: top;\n",
       "    }\n",
       "\n",
       "    .dataframe thead th {\n",
       "        text-align: right;\n",
       "    }\n",
       "</style>\n",
       "<table border=\"1\" class=\"dataframe\">\n",
       "  <thead>\n",
       "    <tr style=\"text-align: right;\">\n",
       "      <th></th>\n",
       "      <th>Name</th>\n",
       "      <th>Age</th>\n",
       "      <th>City</th>\n",
       "      <th>Region</th>\n",
       "    </tr>\n",
       "  </thead>\n",
       "  <tbody>\n",
       "    <tr>\n",
       "      <th>0</th>\n",
       "      <td>Alice</td>\n",
       "      <td>25</td>\n",
       "      <td>New York</td>\n",
       "      <td>North</td>\n",
       "    </tr>\n",
       "    <tr>\n",
       "      <th>1</th>\n",
       "      <td>Bob</td>\n",
       "      <td>30</td>\n",
       "      <td>Los Angeles</td>\n",
       "      <td>South</td>\n",
       "    </tr>\n",
       "    <tr>\n",
       "      <th>2</th>\n",
       "      <td>Charlie</td>\n",
       "      <td>35</td>\n",
       "      <td>Chicago</td>\n",
       "      <td>East</td>\n",
       "    </tr>\n",
       "  </tbody>\n",
       "</table>\n",
       "</div>"
      ],
      "text/plain": [
       "      Name  Age         City Region\n",
       "0    Alice   25     New York  North\n",
       "1      Bob   30  Los Angeles  South\n",
       "2  Charlie   35      Chicago   East"
      ]
     },
     "execution_count": 1,
     "metadata": {},
     "output_type": "execute_result"
    }
   ],
   "source": [
    "import pandas as pd\n",
    "\n",
    "data = {\n",
    "    'Name': ['Alice', 'Bob', 'Charlie'],\n",
    "    'Age': [25, 30, 35],\n",
    "    'City': ['New York', 'Los Angeles', 'Chicago'],\n",
    "    'Region': ['North', 'South', 'East']\n",
    "}\n",
    "\n",
    "df = pd.DataFrame(data)\n",
    "df"
   ]
  },
  {
   "cell_type": "markdown",
   "id": "d967d3c5",
   "metadata": {},
   "source": [
    "### From a List of Dictionaries:\n",
    "Another common way to create a DataFrame is from a list of dictionaries."
   ]
  },
  {
   "cell_type": "code",
   "execution_count": 2,
   "id": "4f187c3d",
   "metadata": {},
   "outputs": [
    {
     "data": {
      "text/html": [
       "<div>\n",
       "<style scoped>\n",
       "    .dataframe tbody tr th:only-of-type {\n",
       "        vertical-align: middle;\n",
       "    }\n",
       "\n",
       "    .dataframe tbody tr th {\n",
       "        vertical-align: top;\n",
       "    }\n",
       "\n",
       "    .dataframe thead th {\n",
       "        text-align: right;\n",
       "    }\n",
       "</style>\n",
       "<table border=\"1\" class=\"dataframe\">\n",
       "  <thead>\n",
       "    <tr style=\"text-align: right;\">\n",
       "      <th></th>\n",
       "      <th>Name</th>\n",
       "      <th>Age</th>\n",
       "      <th>City</th>\n",
       "    </tr>\n",
       "  </thead>\n",
       "  <tbody>\n",
       "    <tr>\n",
       "      <th>0</th>\n",
       "      <td>Alice</td>\n",
       "      <td>25</td>\n",
       "      <td>New York</td>\n",
       "    </tr>\n",
       "    <tr>\n",
       "      <th>1</th>\n",
       "      <td>Bob</td>\n",
       "      <td>30</td>\n",
       "      <td>Los Angeles</td>\n",
       "    </tr>\n",
       "    <tr>\n",
       "      <th>2</th>\n",
       "      <td>Charlie</td>\n",
       "      <td>35</td>\n",
       "      <td>Chicago</td>\n",
       "    </tr>\n",
       "  </tbody>\n",
       "</table>\n",
       "</div>"
      ],
      "text/plain": [
       "      Name  Age         City\n",
       "0    Alice   25     New York\n",
       "1      Bob   30  Los Angeles\n",
       "2  Charlie   35      Chicago"
      ]
     },
     "execution_count": 2,
     "metadata": {},
     "output_type": "execute_result"
    }
   ],
   "source": [
    "data = [\n",
    "    {'Name': 'Alice', 'Age': 25, 'City': 'New York'},\n",
    "    {'Name': 'Bob', 'Age': 30, 'City': 'Los Angeles'},\n",
    "    {'Name': 'Charlie', 'Age': 35, 'City': 'Chicago'}\n",
    "]\n",
    "\n",
    "df = pd.DataFrame(data)\n",
    "df"
   ]
  },
  {
   "cell_type": "markdown",
   "id": "6eabcd47",
   "metadata": {},
   "source": [
    "### From a CSV or Excel File:\n",
    "You can load data directly from files into a DataFrame using `pd.read_csv()` or `pd.read_excel()`."
   ]
  },
  {
   "cell_type": "code",
   "execution_count": 3,
   "id": "48938c2f",
   "metadata": {},
   "outputs": [
    {
     "data": {
      "text/html": [
       "<div>\n",
       "<style scoped>\n",
       "    .dataframe tbody tr th:only-of-type {\n",
       "        vertical-align: middle;\n",
       "    }\n",
       "\n",
       "    .dataframe tbody tr th {\n",
       "        vertical-align: top;\n",
       "    }\n",
       "\n",
       "    .dataframe thead th {\n",
       "        text-align: right;\n",
       "    }\n",
       "</style>\n",
       "<table border=\"1\" class=\"dataframe\">\n",
       "  <thead>\n",
       "    <tr style=\"text-align: right;\">\n",
       "      <th></th>\n",
       "      <th>Name</th>\n",
       "      <th>Age</th>\n",
       "      <th>City</th>\n",
       "      <th>Region</th>\n",
       "    </tr>\n",
       "  </thead>\n",
       "  <tbody>\n",
       "    <tr>\n",
       "      <th>0</th>\n",
       "      <td>Alice</td>\n",
       "      <td>25</td>\n",
       "      <td>New York</td>\n",
       "      <td>North</td>\n",
       "    </tr>\n",
       "    <tr>\n",
       "      <th>1</th>\n",
       "      <td>Bob</td>\n",
       "      <td>30</td>\n",
       "      <td>Los Angeles</td>\n",
       "      <td>South</td>\n",
       "    </tr>\n",
       "    <tr>\n",
       "      <th>2</th>\n",
       "      <td>Charlie</td>\n",
       "      <td>35</td>\n",
       "      <td>Chicago</td>\n",
       "      <td>East</td>\n",
       "    </tr>\n",
       "  </tbody>\n",
       "</table>\n",
       "</div>"
      ],
      "text/plain": [
       "      Name  Age         City Region\n",
       "0    Alice   25     New York  North\n",
       "1      Bob   30  Los Angeles  South\n",
       "2  Charlie   35      Chicago   East"
      ]
     },
     "execution_count": 3,
     "metadata": {},
     "output_type": "execute_result"
    }
   ],
   "source": [
    "df = pd.read_excel('toShow.xlsx')\n",
    "df"
   ]
  },
  {
   "cell_type": "markdown",
   "id": "8e215b58",
   "metadata": {},
   "source": [
    "### From NumPy Arrays:\n",
    "DataFrames can also be created from NumPy arrays."
   ]
  },
  {
   "cell_type": "code",
   "execution_count": 4,
   "id": "5822e075",
   "metadata": {},
   "outputs": [
    {
     "data": {
      "text/html": [
       "<div>\n",
       "<style scoped>\n",
       "    .dataframe tbody tr th:only-of-type {\n",
       "        vertical-align: middle;\n",
       "    }\n",
       "\n",
       "    .dataframe tbody tr th {\n",
       "        vertical-align: top;\n",
       "    }\n",
       "\n",
       "    .dataframe thead th {\n",
       "        text-align: right;\n",
       "    }\n",
       "</style>\n",
       "<table border=\"1\" class=\"dataframe\">\n",
       "  <thead>\n",
       "    <tr style=\"text-align: right;\">\n",
       "      <th></th>\n",
       "      <th>A</th>\n",
       "      <th>B</th>\n",
       "      <th>C</th>\n",
       "    </tr>\n",
       "  </thead>\n",
       "  <tbody>\n",
       "    <tr>\n",
       "      <th>0</th>\n",
       "      <td>1</td>\n",
       "      <td>2</td>\n",
       "      <td>3</td>\n",
       "    </tr>\n",
       "    <tr>\n",
       "      <th>1</th>\n",
       "      <td>4</td>\n",
       "      <td>5</td>\n",
       "      <td>6</td>\n",
       "    </tr>\n",
       "    <tr>\n",
       "      <th>2</th>\n",
       "      <td>7</td>\n",
       "      <td>8</td>\n",
       "      <td>9</td>\n",
       "    </tr>\n",
       "  </tbody>\n",
       "</table>\n",
       "</div>"
      ],
      "text/plain": [
       "   A  B  C\n",
       "0  1  2  3\n",
       "1  4  5  6\n",
       "2  7  8  9"
      ]
     },
     "execution_count": 4,
     "metadata": {},
     "output_type": "execute_result"
    }
   ],
   "source": [
    "import numpy as np\n",
    "\n",
    "data1 = np.array([[1, 2, 3], [4, 5, 6], [7, 8, 9]])\n",
    "df1 = pd.DataFrame(data1, columns=['A', 'B', 'C'])\n",
    "df1"
   ]
  },
  {
   "cell_type": "markdown",
   "id": "1525fbd2",
   "metadata": {},
   "source": [
    "## 3. Indexing and Selecting Data\n",
    "Pandas provides powerful ways to access and manipulate data:"
   ]
  },
  {
   "cell_type": "markdown",
   "id": "22022775",
   "metadata": {},
   "source": [
    "### .loc[]: Access rows and columns by labels."
   ]
  },
  {
   "cell_type": "markdown",
   "id": "ab3cffa1-085d-4b54-9d11-98d88f03a275",
   "metadata": {},
   "source": [
    "df.loc[0]  # Accesses the first row\n",
    "df.loc[:, 'Age']  # Accesses the 'Age' column\n",
    "df.loc[0, 'Name']  # Accesses the value at the first row of 'Name' column"
   ]
  },
  {
   "cell_type": "code",
   "execution_count": 5,
   "id": "2fcd3e40-51b2-4655-af13-3299d0ec8739",
   "metadata": {
    "tags": []
   },
   "outputs": [
    {
     "data": {
      "text/plain": [
       "Name         Alice\n",
       "Age             25\n",
       "City      New York\n",
       "Region       North\n",
       "Name: 0, dtype: object"
      ]
     },
     "execution_count": 5,
     "metadata": {},
     "output_type": "execute_result"
    }
   ],
   "source": [
    "df.loc[0]  # Accesses the first row"
   ]
  },
  {
   "cell_type": "code",
   "execution_count": 6,
   "id": "97f38a0d-96f6-4e8a-a16f-049fbb65b259",
   "metadata": {
    "tags": []
   },
   "outputs": [
    {
     "data": {
      "text/plain": [
       "0    25\n",
       "1    30\n",
       "2    35\n",
       "Name: Age, dtype: int64"
      ]
     },
     "execution_count": 6,
     "metadata": {},
     "output_type": "execute_result"
    }
   ],
   "source": [
    "df.loc[:, 'Age']  # Accesses the 'Age' column"
   ]
  },
  {
   "cell_type": "code",
   "execution_count": 7,
   "id": "e9516e2f-1efb-476f-b865-cb1bdfd59a01",
   "metadata": {
    "tags": []
   },
   "outputs": [
    {
     "data": {
      "text/plain": [
       "'Alice'"
      ]
     },
     "execution_count": 7,
     "metadata": {},
     "output_type": "execute_result"
    }
   ],
   "source": [
    "df.loc[0, 'Name']  # Accesses the value at the first row of 'Name' column"
   ]
  },
  {
   "cell_type": "markdown",
   "id": "802f23be",
   "metadata": {},
   "source": [
    "### .iloc[]: Access rows and columns by integer positions."
   ]
  },
  {
   "cell_type": "markdown",
   "id": "f8fb5263-074b-4b91-9868-1fb56564f5c1",
   "metadata": {},
   "source": [
    "df.iloc[0]  # Accesses the first row\n",
    "df.iloc[:, 1]  # Accesses the second column\n",
    "df.iloc[0, 1]  # Accesses the value at the first row of the second column"
   ]
  },
  {
   "cell_type": "code",
   "execution_count": 8,
   "id": "609b6845-d50e-464d-b9d2-8cab81cb7eed",
   "metadata": {
    "tags": []
   },
   "outputs": [
    {
     "data": {
      "text/plain": [
       "Name         Alice\n",
       "Age             25\n",
       "City      New York\n",
       "Region       North\n",
       "Name: 0, dtype: object"
      ]
     },
     "execution_count": 8,
     "metadata": {},
     "output_type": "execute_result"
    }
   ],
   "source": [
    "df.iloc[0]  # Accesses the first row\n"
   ]
  },
  {
   "cell_type": "code",
   "execution_count": 9,
   "id": "ccd59845-b755-4981-ae51-323380a36161",
   "metadata": {
    "tags": []
   },
   "outputs": [
    {
     "data": {
      "text/plain": [
       "0    25\n",
       "1    30\n",
       "2    35\n",
       "Name: Age, dtype: int64"
      ]
     },
     "execution_count": 9,
     "metadata": {},
     "output_type": "execute_result"
    }
   ],
   "source": [
    "df.iloc[:, 1]  # Accesses the second column\n"
   ]
  },
  {
   "cell_type": "code",
   "execution_count": 10,
   "id": "6f0e72e2-4eef-4354-bb92-0d55ab5db1e0",
   "metadata": {
    "tags": []
   },
   "outputs": [
    {
     "data": {
      "text/plain": [
       "25"
      ]
     },
     "execution_count": 10,
     "metadata": {},
     "output_type": "execute_result"
    }
   ],
   "source": [
    "df.iloc[0, 1]  # Accesses the value at the first row of the second column"
   ]
  },
  {
   "cell_type": "markdown",
   "id": "2a996833",
   "metadata": {},
   "source": [
    "### Boolean Indexing: Filtering data based on conditions."
   ]
  },
  {
   "cell_type": "code",
   "execution_count": 11,
   "id": "0afdabf5",
   "metadata": {},
   "outputs": [
    {
     "data": {
      "text/html": [
       "<div>\n",
       "<style scoped>\n",
       "    .dataframe tbody tr th:only-of-type {\n",
       "        vertical-align: middle;\n",
       "    }\n",
       "\n",
       "    .dataframe tbody tr th {\n",
       "        vertical-align: top;\n",
       "    }\n",
       "\n",
       "    .dataframe thead th {\n",
       "        text-align: right;\n",
       "    }\n",
       "</style>\n",
       "<table border=\"1\" class=\"dataframe\">\n",
       "  <thead>\n",
       "    <tr style=\"text-align: right;\">\n",
       "      <th></th>\n",
       "      <th>Name</th>\n",
       "      <th>Age</th>\n",
       "      <th>City</th>\n",
       "      <th>Region</th>\n",
       "    </tr>\n",
       "  </thead>\n",
       "  <tbody>\n",
       "    <tr>\n",
       "      <th>2</th>\n",
       "      <td>Charlie</td>\n",
       "      <td>35</td>\n",
       "      <td>Chicago</td>\n",
       "      <td>East</td>\n",
       "    </tr>\n",
       "  </tbody>\n",
       "</table>\n",
       "</div>"
      ],
      "text/plain": [
       "      Name  Age     City Region\n",
       "2  Charlie   35  Chicago   East"
      ]
     },
     "execution_count": 11,
     "metadata": {},
     "output_type": "execute_result"
    }
   ],
   "source": [
    "df[df['Age'] > 30]  # Returns rows where 'Age' is greater than 30"
   ]
  },
  {
   "cell_type": "markdown",
   "id": "b83ce357",
   "metadata": {},
   "source": [
    "## 4. DataFrame Operations"
   ]
  },
  {
   "cell_type": "markdown",
   "id": "43d77451",
   "metadata": {},
   "source": [
    "### Add Columns:"
   ]
  },
  {
   "cell_type": "code",
   "execution_count": 12,
   "id": "959d2b57",
   "metadata": {},
   "outputs": [
    {
     "data": {
      "text/html": [
       "<div>\n",
       "<style scoped>\n",
       "    .dataframe tbody tr th:only-of-type {\n",
       "        vertical-align: middle;\n",
       "    }\n",
       "\n",
       "    .dataframe tbody tr th {\n",
       "        vertical-align: top;\n",
       "    }\n",
       "\n",
       "    .dataframe thead th {\n",
       "        text-align: right;\n",
       "    }\n",
       "</style>\n",
       "<table border=\"1\" class=\"dataframe\">\n",
       "  <thead>\n",
       "    <tr style=\"text-align: right;\">\n",
       "      <th></th>\n",
       "      <th>Name</th>\n",
       "      <th>Age</th>\n",
       "      <th>City</th>\n",
       "      <th>Region</th>\n",
       "      <th>Salary</th>\n",
       "    </tr>\n",
       "  </thead>\n",
       "  <tbody>\n",
       "    <tr>\n",
       "      <th>0</th>\n",
       "      <td>Alice</td>\n",
       "      <td>25</td>\n",
       "      <td>New York</td>\n",
       "      <td>North</td>\n",
       "      <td>50000</td>\n",
       "    </tr>\n",
       "    <tr>\n",
       "      <th>1</th>\n",
       "      <td>Bob</td>\n",
       "      <td>30</td>\n",
       "      <td>Los Angeles</td>\n",
       "      <td>South</td>\n",
       "      <td>60000</td>\n",
       "    </tr>\n",
       "    <tr>\n",
       "      <th>2</th>\n",
       "      <td>Charlie</td>\n",
       "      <td>35</td>\n",
       "      <td>Chicago</td>\n",
       "      <td>East</td>\n",
       "      <td>70000</td>\n",
       "    </tr>\n",
       "  </tbody>\n",
       "</table>\n",
       "</div>"
      ],
      "text/plain": [
       "      Name  Age         City Region  Salary\n",
       "0    Alice   25     New York  North   50000\n",
       "1      Bob   30  Los Angeles  South   60000\n",
       "2  Charlie   35      Chicago   East   70000"
      ]
     },
     "execution_count": 12,
     "metadata": {},
     "output_type": "execute_result"
    }
   ],
   "source": [
    "df['Salary'] = [50000, 60000, 70000]  # Adding a new column\n",
    "\n",
    "df"
   ]
  },
  {
   "cell_type": "markdown",
   "id": "43aed101-15b0-4042-a75a-4d0e9a0e67a6",
   "metadata": {},
   "source": [
    "### Delete Columns:"
   ]
  },
  {
   "cell_type": "markdown",
   "id": "0466a42b-861f-444c-91a7-eaa39d52d707",
   "metadata": {
    "tags": []
   },
   "source": [
    "The line of code `df.drop('City', axis=1, inplace=True)` in Pandas is used to remove a specific column from a DataFrame. \n",
    "\n",
    "#### `df.drop()`\n",
    "This is a method in Pandas that is used to drop (remove) rows or columns from a DataFrame.\n",
    "\n",
    "#### `'City'`\n",
    "This is the label of the column you want to drop from the DataFrame `df`. In this case, the column named `'City'` is targeted for removal.\n",
    "\n",
    "#### `axis=1`\n",
    "The `axis` parameter specifies whether you want to drop rows or columns:\n",
    "- `axis=0`: Drop rows (this is the default if `axis` is not specified).\n",
    "- `axis=1`: Drop columns.\n",
    "\n",
    "Here, `axis=1` indicates that you want to drop a column.\n",
    "\n",
    "#### `inplace=True`\n",
    "The `inplace` parameter determines whether the operation should modify the original DataFrame or return a new one.\n",
    "- `inplace=True`: The DataFrame `df` is modified in place, meaning that the column `'City'` is removed from the original DataFrame, and no new DataFrame is returned.\n",
    "- `inplace=False`: A new DataFrame is returned with the specified column dropped, but the original DataFrame remains unchanged.\n",
    "\n",
    "#### Summary:\n",
    "- **Purpose:** This line of code removes the `'City'` column from the DataFrame `df`.\n",
    "- **Effect:** The original DataFrame `df` is directly modified, with the `'City'` column being permanently deleted.\n"
   ]
  },
  {
   "cell_type": "code",
   "execution_count": 13,
   "id": "b7cded22-971e-4191-9750-7ad435d5e461",
   "metadata": {
    "tags": []
   },
   "outputs": [
    {
     "name": "stdout",
     "output_type": "stream",
     "text": [
      "      Name  Age         City Region  Salary\n",
      "0    Alice   25     New York  North   50000\n",
      "1      Bob   30  Los Angeles  South   60000\n",
      "2  Charlie   35      Chicago   East   70000\n",
      "\n",
      "\n",
      "after removing the City column from database\n"
     ]
    },
    {
     "data": {
      "text/html": [
       "<div>\n",
       "<style scoped>\n",
       "    .dataframe tbody tr th:only-of-type {\n",
       "        vertical-align: middle;\n",
       "    }\n",
       "\n",
       "    .dataframe tbody tr th {\n",
       "        vertical-align: top;\n",
       "    }\n",
       "\n",
       "    .dataframe thead th {\n",
       "        text-align: right;\n",
       "    }\n",
       "</style>\n",
       "<table border=\"1\" class=\"dataframe\">\n",
       "  <thead>\n",
       "    <tr style=\"text-align: right;\">\n",
       "      <th></th>\n",
       "      <th>Name</th>\n",
       "      <th>Age</th>\n",
       "      <th>Region</th>\n",
       "      <th>Salary</th>\n",
       "    </tr>\n",
       "  </thead>\n",
       "  <tbody>\n",
       "    <tr>\n",
       "      <th>0</th>\n",
       "      <td>Alice</td>\n",
       "      <td>25</td>\n",
       "      <td>North</td>\n",
       "      <td>50000</td>\n",
       "    </tr>\n",
       "    <tr>\n",
       "      <th>1</th>\n",
       "      <td>Bob</td>\n",
       "      <td>30</td>\n",
       "      <td>South</td>\n",
       "      <td>60000</td>\n",
       "    </tr>\n",
       "    <tr>\n",
       "      <th>2</th>\n",
       "      <td>Charlie</td>\n",
       "      <td>35</td>\n",
       "      <td>East</td>\n",
       "      <td>70000</td>\n",
       "    </tr>\n",
       "  </tbody>\n",
       "</table>\n",
       "</div>"
      ],
      "text/plain": [
       "      Name  Age Region  Salary\n",
       "0    Alice   25  North   50000\n",
       "1      Bob   30  South   60000\n",
       "2  Charlie   35   East   70000"
      ]
     },
     "execution_count": 13,
     "metadata": {},
     "output_type": "execute_result"
    }
   ],
   "source": [
    "print(df)\n",
    "print(\"\\n\\nafter removing the City column from database\")\n",
    "df_drop = df.drop('City', axis=1, inplace=False)  # Deleting a column\n",
    "df_drop"
   ]
  },
  {
   "cell_type": "markdown",
   "id": "2364f328",
   "metadata": {},
   "source": [
    "### Add Rows:"
   ]
  },
  {
   "cell_type": "code",
   "execution_count": 14,
   "id": "0303f2a0",
   "metadata": {},
   "outputs": [
    {
     "name": "stdout",
     "output_type": "stream",
     "text": [
      "\n",
      "\n",
      "After adding a new row.\n"
     ]
    },
    {
     "data": {
      "text/html": [
       "<div>\n",
       "<style scoped>\n",
       "    .dataframe tbody tr th:only-of-type {\n",
       "        vertical-align: middle;\n",
       "    }\n",
       "\n",
       "    .dataframe tbody tr th {\n",
       "        vertical-align: top;\n",
       "    }\n",
       "\n",
       "    .dataframe thead th {\n",
       "        text-align: right;\n",
       "    }\n",
       "</style>\n",
       "<table border=\"1\" class=\"dataframe\">\n",
       "  <thead>\n",
       "    <tr style=\"text-align: right;\">\n",
       "      <th></th>\n",
       "      <th>Name</th>\n",
       "      <th>Age</th>\n",
       "      <th>City</th>\n",
       "      <th>Region</th>\n",
       "      <th>Salary</th>\n",
       "    </tr>\n",
       "  </thead>\n",
       "  <tbody>\n",
       "    <tr>\n",
       "      <th>0</th>\n",
       "      <td>Alice</td>\n",
       "      <td>25</td>\n",
       "      <td>New York</td>\n",
       "      <td>North</td>\n",
       "      <td>50000</td>\n",
       "    </tr>\n",
       "    <tr>\n",
       "      <th>1</th>\n",
       "      <td>Bob</td>\n",
       "      <td>30</td>\n",
       "      <td>Los Angeles</td>\n",
       "      <td>South</td>\n",
       "      <td>60000</td>\n",
       "    </tr>\n",
       "    <tr>\n",
       "      <th>2</th>\n",
       "      <td>Charlie</td>\n",
       "      <td>35</td>\n",
       "      <td>Chicago</td>\n",
       "      <td>East</td>\n",
       "      <td>70000</td>\n",
       "    </tr>\n",
       "    <tr>\n",
       "      <th>3</th>\n",
       "      <td>David</td>\n",
       "      <td>28</td>\n",
       "      <td>Miami</td>\n",
       "      <td>NorthEast</td>\n",
       "      <td>65000</td>\n",
       "    </tr>\n",
       "  </tbody>\n",
       "</table>\n",
       "</div>"
      ],
      "text/plain": [
       "      Name  Age         City     Region  Salary\n",
       "0    Alice   25     New York      North   50000\n",
       "1      Bob   30  Los Angeles      South   60000\n",
       "2  Charlie   35      Chicago       East   70000\n",
       "3    David   28        Miami  NorthEast   65000"
      ]
     },
     "execution_count": 14,
     "metadata": {},
     "output_type": "execute_result"
    }
   ],
   "source": [
    "# Adding a row\n",
    "\n",
    "df.loc[3] = ['David', 28, 'Miami','NorthEast', 65000]\n",
    "print(\"\\n\\nAfter adding a new row.\") \n",
    "df"
   ]
  },
  {
   "cell_type": "markdown",
   "id": "4fac7a44-afe0-4849-91a5-2bbec446c015",
   "metadata": {},
   "source": [
    "### Delete Rows:"
   ]
  },
  {
   "cell_type": "code",
   "execution_count": 15,
   "id": "db295a79-e908-4d43-84df-6d7cad176982",
   "metadata": {
    "tags": []
   },
   "outputs": [
    {
     "name": "stdout",
     "output_type": "stream",
     "text": [
      "Here we not make changes in original dataset.\n"
     ]
    },
    {
     "data": {
      "text/html": [
       "<div>\n",
       "<style scoped>\n",
       "    .dataframe tbody tr th:only-of-type {\n",
       "        vertical-align: middle;\n",
       "    }\n",
       "\n",
       "    .dataframe tbody tr th {\n",
       "        vertical-align: top;\n",
       "    }\n",
       "\n",
       "    .dataframe thead th {\n",
       "        text-align: right;\n",
       "    }\n",
       "</style>\n",
       "<table border=\"1\" class=\"dataframe\">\n",
       "  <thead>\n",
       "    <tr style=\"text-align: right;\">\n",
       "      <th></th>\n",
       "      <th>Name</th>\n",
       "      <th>Age</th>\n",
       "      <th>City</th>\n",
       "      <th>Region</th>\n",
       "      <th>Salary</th>\n",
       "    </tr>\n",
       "  </thead>\n",
       "  <tbody>\n",
       "    <tr>\n",
       "      <th>1</th>\n",
       "      <td>Bob</td>\n",
       "      <td>30</td>\n",
       "      <td>Los Angeles</td>\n",
       "      <td>South</td>\n",
       "      <td>60000</td>\n",
       "    </tr>\n",
       "    <tr>\n",
       "      <th>2</th>\n",
       "      <td>Charlie</td>\n",
       "      <td>35</td>\n",
       "      <td>Chicago</td>\n",
       "      <td>East</td>\n",
       "      <td>70000</td>\n",
       "    </tr>\n",
       "    <tr>\n",
       "      <th>3</th>\n",
       "      <td>David</td>\n",
       "      <td>28</td>\n",
       "      <td>Miami</td>\n",
       "      <td>NorthEast</td>\n",
       "      <td>65000</td>\n",
       "    </tr>\n",
       "  </tbody>\n",
       "</table>\n",
       "</div>"
      ],
      "text/plain": [
       "      Name  Age         City     Region  Salary\n",
       "1      Bob   30  Los Angeles      South   60000\n",
       "2  Charlie   35      Chicago       East   70000\n",
       "3    David   28        Miami  NorthEast   65000"
      ]
     },
     "execution_count": 15,
     "metadata": {},
     "output_type": "execute_result"
    }
   ],
   "source": [
    "df_drop2=df.drop(0, axis=0, inplace=False)  # Deleting a row by index\n",
    "print(\"Here we not make changes in original dataset.\")\n",
    "df_drop2"
   ]
  },
  {
   "cell_type": "markdown",
   "id": "7aa74b94",
   "metadata": {},
   "source": [
    "### DataFrame Transpose:\n",
    "You can transpose a DataFrame (swap rows and columns)."
   ]
  },
  {
   "cell_type": "code",
   "execution_count": 16,
   "id": "2e866a8d",
   "metadata": {},
   "outputs": [
    {
     "data": {
      "text/html": [
       "<div>\n",
       "<style scoped>\n",
       "    .dataframe tbody tr th:only-of-type {\n",
       "        vertical-align: middle;\n",
       "    }\n",
       "\n",
       "    .dataframe tbody tr th {\n",
       "        vertical-align: top;\n",
       "    }\n",
       "\n",
       "    .dataframe thead th {\n",
       "        text-align: right;\n",
       "    }\n",
       "</style>\n",
       "<table border=\"1\" class=\"dataframe\">\n",
       "  <thead>\n",
       "    <tr style=\"text-align: right;\">\n",
       "      <th></th>\n",
       "      <th>0</th>\n",
       "      <th>1</th>\n",
       "      <th>2</th>\n",
       "      <th>3</th>\n",
       "    </tr>\n",
       "  </thead>\n",
       "  <tbody>\n",
       "    <tr>\n",
       "      <th>Name</th>\n",
       "      <td>Alice</td>\n",
       "      <td>Bob</td>\n",
       "      <td>Charlie</td>\n",
       "      <td>David</td>\n",
       "    </tr>\n",
       "    <tr>\n",
       "      <th>Age</th>\n",
       "      <td>25</td>\n",
       "      <td>30</td>\n",
       "      <td>35</td>\n",
       "      <td>28</td>\n",
       "    </tr>\n",
       "    <tr>\n",
       "      <th>City</th>\n",
       "      <td>New York</td>\n",
       "      <td>Los Angeles</td>\n",
       "      <td>Chicago</td>\n",
       "      <td>Miami</td>\n",
       "    </tr>\n",
       "    <tr>\n",
       "      <th>Region</th>\n",
       "      <td>North</td>\n",
       "      <td>South</td>\n",
       "      <td>East</td>\n",
       "      <td>NorthEast</td>\n",
       "    </tr>\n",
       "    <tr>\n",
       "      <th>Salary</th>\n",
       "      <td>50000</td>\n",
       "      <td>60000</td>\n",
       "      <td>70000</td>\n",
       "      <td>65000</td>\n",
       "    </tr>\n",
       "  </tbody>\n",
       "</table>\n",
       "</div>"
      ],
      "text/plain": [
       "               0            1        2          3\n",
       "Name       Alice          Bob  Charlie      David\n",
       "Age           25           30       35         28\n",
       "City    New York  Los Angeles  Chicago      Miami\n",
       "Region     North        South     East  NorthEast\n",
       "Salary     50000        60000    70000      65000"
      ]
     },
     "execution_count": 16,
     "metadata": {},
     "output_type": "execute_result"
    }
   ],
   "source": [
    "df.T"
   ]
  },
  {
   "cell_type": "markdown",
   "id": "c7bed1ea",
   "metadata": {},
   "source": [
    "## 5. Data Cleaning"
   ]
  },
  {
   "cell_type": "markdown",
   "id": "92f6647e",
   "metadata": {},
   "source": [
    "### Handling Missing Data:"
   ]
  },
  {
   "cell_type": "markdown",
   "id": "9d0a1906-a52e-4d28-a594-2102e15bedf5",
   "metadata": {},
   "source": [
    "df.dropna()  # Drops rows with missing values\n",
    "df.fillna(0)  # Fills missing values with 0\n",
    "df['Age'].fillna(df['Age'].mean(), inplace=True)  # Fills missing values with the mean"
   ]
  },
  {
   "cell_type": "code",
   "execution_count": 17,
   "id": "b782de5e-4831-409a-b50c-83beff0069c1",
   "metadata": {
    "tags": []
   },
   "outputs": [
    {
     "name": "stdout",
     "output_type": "stream",
     "text": [
      "Because there is no any missing data in the dataset so it will not drop any row.\n"
     ]
    },
    {
     "data": {
      "text/html": [
       "<div>\n",
       "<style scoped>\n",
       "    .dataframe tbody tr th:only-of-type {\n",
       "        vertical-align: middle;\n",
       "    }\n",
       "\n",
       "    .dataframe tbody tr th {\n",
       "        vertical-align: top;\n",
       "    }\n",
       "\n",
       "    .dataframe thead th {\n",
       "        text-align: right;\n",
       "    }\n",
       "</style>\n",
       "<table border=\"1\" class=\"dataframe\">\n",
       "  <thead>\n",
       "    <tr style=\"text-align: right;\">\n",
       "      <th></th>\n",
       "      <th>Name</th>\n",
       "      <th>Age</th>\n",
       "      <th>City</th>\n",
       "      <th>Region</th>\n",
       "      <th>Salary</th>\n",
       "    </tr>\n",
       "  </thead>\n",
       "  <tbody>\n",
       "    <tr>\n",
       "      <th>0</th>\n",
       "      <td>Alice</td>\n",
       "      <td>25</td>\n",
       "      <td>New York</td>\n",
       "      <td>North</td>\n",
       "      <td>50000</td>\n",
       "    </tr>\n",
       "    <tr>\n",
       "      <th>1</th>\n",
       "      <td>Bob</td>\n",
       "      <td>30</td>\n",
       "      <td>Los Angeles</td>\n",
       "      <td>South</td>\n",
       "      <td>60000</td>\n",
       "    </tr>\n",
       "    <tr>\n",
       "      <th>2</th>\n",
       "      <td>Charlie</td>\n",
       "      <td>35</td>\n",
       "      <td>Chicago</td>\n",
       "      <td>East</td>\n",
       "      <td>70000</td>\n",
       "    </tr>\n",
       "    <tr>\n",
       "      <th>3</th>\n",
       "      <td>David</td>\n",
       "      <td>28</td>\n",
       "      <td>Miami</td>\n",
       "      <td>NorthEast</td>\n",
       "      <td>65000</td>\n",
       "    </tr>\n",
       "  </tbody>\n",
       "</table>\n",
       "</div>"
      ],
      "text/plain": [
       "      Name  Age         City     Region  Salary\n",
       "0    Alice   25     New York      North   50000\n",
       "1      Bob   30  Los Angeles      South   60000\n",
       "2  Charlie   35      Chicago       East   70000\n",
       "3    David   28        Miami  NorthEast   65000"
      ]
     },
     "execution_count": 17,
     "metadata": {},
     "output_type": "execute_result"
    }
   ],
   "source": [
    "# Drops rows with missing values\n",
    "print(\"Because there is no any missing data in the dataset so it will not drop any row.\")\n",
    "df.dropna() "
   ]
  },
  {
   "cell_type": "code",
   "execution_count": 18,
   "id": "758d2577-cb0c-48e7-98a3-157d0b2eb228",
   "metadata": {
    "tags": []
   },
   "outputs": [
    {
     "name": "stdout",
     "output_type": "stream",
     "text": [
      "Because there is no any missing data in the dataset so it will not fill any row with zero.\n"
     ]
    },
    {
     "data": {
      "text/html": [
       "<div>\n",
       "<style scoped>\n",
       "    .dataframe tbody tr th:only-of-type {\n",
       "        vertical-align: middle;\n",
       "    }\n",
       "\n",
       "    .dataframe tbody tr th {\n",
       "        vertical-align: top;\n",
       "    }\n",
       "\n",
       "    .dataframe thead th {\n",
       "        text-align: right;\n",
       "    }\n",
       "</style>\n",
       "<table border=\"1\" class=\"dataframe\">\n",
       "  <thead>\n",
       "    <tr style=\"text-align: right;\">\n",
       "      <th></th>\n",
       "      <th>Name</th>\n",
       "      <th>Age</th>\n",
       "      <th>City</th>\n",
       "      <th>Region</th>\n",
       "      <th>Salary</th>\n",
       "    </tr>\n",
       "  </thead>\n",
       "  <tbody>\n",
       "    <tr>\n",
       "      <th>0</th>\n",
       "      <td>Alice</td>\n",
       "      <td>25</td>\n",
       "      <td>New York</td>\n",
       "      <td>North</td>\n",
       "      <td>50000</td>\n",
       "    </tr>\n",
       "    <tr>\n",
       "      <th>1</th>\n",
       "      <td>Bob</td>\n",
       "      <td>30</td>\n",
       "      <td>Los Angeles</td>\n",
       "      <td>South</td>\n",
       "      <td>60000</td>\n",
       "    </tr>\n",
       "    <tr>\n",
       "      <th>2</th>\n",
       "      <td>Charlie</td>\n",
       "      <td>35</td>\n",
       "      <td>Chicago</td>\n",
       "      <td>East</td>\n",
       "      <td>70000</td>\n",
       "    </tr>\n",
       "    <tr>\n",
       "      <th>3</th>\n",
       "      <td>David</td>\n",
       "      <td>28</td>\n",
       "      <td>Miami</td>\n",
       "      <td>NorthEast</td>\n",
       "      <td>65000</td>\n",
       "    </tr>\n",
       "  </tbody>\n",
       "</table>\n",
       "</div>"
      ],
      "text/plain": [
       "      Name  Age         City     Region  Salary\n",
       "0    Alice   25     New York      North   50000\n",
       "1      Bob   30  Los Angeles      South   60000\n",
       "2  Charlie   35      Chicago       East   70000\n",
       "3    David   28        Miami  NorthEast   65000"
      ]
     },
     "execution_count": 18,
     "metadata": {},
     "output_type": "execute_result"
    }
   ],
   "source": [
    "print(\"Because there is no any missing data in the dataset so it will not fill any row with zero.\")\n",
    "df.fillna(0)  # Fills missing values with 0"
   ]
  },
  {
   "cell_type": "code",
   "execution_count": 19,
   "id": "95a3ee4e-8bd4-401a-99db-556b31c8d109",
   "metadata": {
    "tags": []
   },
   "outputs": [
    {
     "name": "stdout",
     "output_type": "stream",
     "text": [
      "Because there is no any missing data in the dataset so it will not fill any row with of coloumn age with the median value of age.\n"
     ]
    },
    {
     "data": {
      "text/html": [
       "<div>\n",
       "<style scoped>\n",
       "    .dataframe tbody tr th:only-of-type {\n",
       "        vertical-align: middle;\n",
       "    }\n",
       "\n",
       "    .dataframe tbody tr th {\n",
       "        vertical-align: top;\n",
       "    }\n",
       "\n",
       "    .dataframe thead th {\n",
       "        text-align: right;\n",
       "    }\n",
       "</style>\n",
       "<table border=\"1\" class=\"dataframe\">\n",
       "  <thead>\n",
       "    <tr style=\"text-align: right;\">\n",
       "      <th></th>\n",
       "      <th>Name</th>\n",
       "      <th>Age</th>\n",
       "      <th>City</th>\n",
       "      <th>Region</th>\n",
       "      <th>Salary</th>\n",
       "    </tr>\n",
       "  </thead>\n",
       "  <tbody>\n",
       "    <tr>\n",
       "      <th>0</th>\n",
       "      <td>Alice</td>\n",
       "      <td>25</td>\n",
       "      <td>New York</td>\n",
       "      <td>North</td>\n",
       "      <td>50000</td>\n",
       "    </tr>\n",
       "    <tr>\n",
       "      <th>1</th>\n",
       "      <td>Bob</td>\n",
       "      <td>30</td>\n",
       "      <td>Los Angeles</td>\n",
       "      <td>South</td>\n",
       "      <td>60000</td>\n",
       "    </tr>\n",
       "    <tr>\n",
       "      <th>2</th>\n",
       "      <td>Charlie</td>\n",
       "      <td>35</td>\n",
       "      <td>Chicago</td>\n",
       "      <td>East</td>\n",
       "      <td>70000</td>\n",
       "    </tr>\n",
       "    <tr>\n",
       "      <th>3</th>\n",
       "      <td>David</td>\n",
       "      <td>28</td>\n",
       "      <td>Miami</td>\n",
       "      <td>NorthEast</td>\n",
       "      <td>65000</td>\n",
       "    </tr>\n",
       "  </tbody>\n",
       "</table>\n",
       "</div>"
      ],
      "text/plain": [
       "      Name  Age         City     Region  Salary\n",
       "0    Alice   25     New York      North   50000\n",
       "1      Bob   30  Los Angeles      South   60000\n",
       "2  Charlie   35      Chicago       East   70000\n",
       "3    David   28        Miami  NorthEast   65000"
      ]
     },
     "execution_count": 19,
     "metadata": {},
     "output_type": "execute_result"
    }
   ],
   "source": [
    "print(\"Because there is no any missing data in the dataset so it will not fill any row with of coloumn age with the median value of age.\")\n",
    "df['Age'].fillna(df['Age'].mean(), inplace=True)  # Fills missing values with the mean\n",
    "df"
   ]
  },
  {
   "cell_type": "markdown",
   "id": "1b36bcfa",
   "metadata": {},
   "source": [
    "### Data Type Conversion:"
   ]
  },
  {
   "cell_type": "code",
   "execution_count": 20,
   "id": "9419e6a7",
   "metadata": {},
   "outputs": [
    {
     "data": {
      "text/html": [
       "<div>\n",
       "<style scoped>\n",
       "    .dataframe tbody tr th:only-of-type {\n",
       "        vertical-align: middle;\n",
       "    }\n",
       "\n",
       "    .dataframe tbody tr th {\n",
       "        vertical-align: top;\n",
       "    }\n",
       "\n",
       "    .dataframe thead th {\n",
       "        text-align: right;\n",
       "    }\n",
       "</style>\n",
       "<table border=\"1\" class=\"dataframe\">\n",
       "  <thead>\n",
       "    <tr style=\"text-align: right;\">\n",
       "      <th></th>\n",
       "      <th>Name</th>\n",
       "      <th>Age</th>\n",
       "      <th>City</th>\n",
       "      <th>Region</th>\n",
       "      <th>Salary</th>\n",
       "    </tr>\n",
       "  </thead>\n",
       "  <tbody>\n",
       "    <tr>\n",
       "      <th>0</th>\n",
       "      <td>Alice</td>\n",
       "      <td>25.0</td>\n",
       "      <td>New York</td>\n",
       "      <td>North</td>\n",
       "      <td>50000</td>\n",
       "    </tr>\n",
       "    <tr>\n",
       "      <th>1</th>\n",
       "      <td>Bob</td>\n",
       "      <td>30.0</td>\n",
       "      <td>Los Angeles</td>\n",
       "      <td>South</td>\n",
       "      <td>60000</td>\n",
       "    </tr>\n",
       "    <tr>\n",
       "      <th>2</th>\n",
       "      <td>Charlie</td>\n",
       "      <td>35.0</td>\n",
       "      <td>Chicago</td>\n",
       "      <td>East</td>\n",
       "      <td>70000</td>\n",
       "    </tr>\n",
       "    <tr>\n",
       "      <th>3</th>\n",
       "      <td>David</td>\n",
       "      <td>28.0</td>\n",
       "      <td>Miami</td>\n",
       "      <td>NorthEast</td>\n",
       "      <td>65000</td>\n",
       "    </tr>\n",
       "  </tbody>\n",
       "</table>\n",
       "</div>"
      ],
      "text/plain": [
       "      Name   Age         City     Region  Salary\n",
       "0    Alice  25.0     New York      North   50000\n",
       "1      Bob  30.0  Los Angeles      South   60000\n",
       "2  Charlie  35.0      Chicago       East   70000\n",
       "3    David  28.0        Miami  NorthEast   65000"
      ]
     },
     "execution_count": 20,
     "metadata": {},
     "output_type": "execute_result"
    }
   ],
   "source": [
    "df['Age'] = df['Age'].astype(float)\n",
    "df\n"
   ]
  },
  {
   "cell_type": "markdown",
   "id": "32b4dee4-e054-44e7-ab6b-df9b70ae29e3",
   "metadata": {},
   "source": [
    "#### Checking Data Types of coloumns in dataframe\n",
    "`'df.dtypes:'`Returns the data type of each column in the DataFrame as a pandas  `'Series'`."
   ]
  },
  {
   "cell_type": "code",
   "execution_count": 21,
   "id": "f9140b36-eb0c-49c6-af67-f2060ee013df",
   "metadata": {
    "tags": []
   },
   "outputs": [
    {
     "name": "stdout",
     "output_type": "stream",
     "text": [
      "Here the data types of Age coloumn is converted into float.\n"
     ]
    },
    {
     "data": {
      "text/plain": [
       "Name       object\n",
       "Age       float64\n",
       "City       object\n",
       "Region     object\n",
       "Salary      int64\n",
       "dtype: object"
      ]
     },
     "execution_count": 21,
     "metadata": {},
     "output_type": "execute_result"
    }
   ],
   "source": [
    "print(\"Here the data types of Age coloumn is converted into float.\")\n",
    "df.dtypes"
   ]
  },
  {
   "cell_type": "markdown",
   "id": "ffdef170",
   "metadata": {},
   "source": [
    "### Removing Duplicates:"
   ]
  },
  {
   "cell_type": "code",
   "execution_count": 22,
   "id": "a9997929",
   "metadata": {},
   "outputs": [],
   "source": [
    "df.drop_duplicates(inplace=True)"
   ]
  },
  {
   "cell_type": "markdown",
   "id": "c00150d7",
   "metadata": {},
   "source": [
    "## 6. Merging and Joining DataFrames"
   ]
  },
  {
   "cell_type": "markdown",
   "id": "5bda3935",
   "metadata": {},
   "source": [
    "### Concat: \n",
    "Concatenate DataFrames either along rows or columns."
   ]
  },
  {
   "cell_type": "code",
   "execution_count": 23,
   "id": "d3f460ba",
   "metadata": {},
   "outputs": [
    {
     "data": {
      "text/html": [
       "<div>\n",
       "<style scoped>\n",
       "    .dataframe tbody tr th:only-of-type {\n",
       "        vertical-align: middle;\n",
       "    }\n",
       "\n",
       "    .dataframe tbody tr th {\n",
       "        vertical-align: top;\n",
       "    }\n",
       "\n",
       "    .dataframe thead th {\n",
       "        text-align: right;\n",
       "    }\n",
       "</style>\n",
       "<table border=\"1\" class=\"dataframe\">\n",
       "  <thead>\n",
       "    <tr style=\"text-align: right;\">\n",
       "      <th></th>\n",
       "      <th>A</th>\n",
       "      <th>B</th>\n",
       "    </tr>\n",
       "  </thead>\n",
       "  <tbody>\n",
       "    <tr>\n",
       "      <th>0</th>\n",
       "      <td>1</td>\n",
       "      <td>3</td>\n",
       "    </tr>\n",
       "    <tr>\n",
       "      <th>1</th>\n",
       "      <td>2</td>\n",
       "      <td>4</td>\n",
       "    </tr>\n",
       "    <tr>\n",
       "      <th>0</th>\n",
       "      <td>5</td>\n",
       "      <td>7</td>\n",
       "    </tr>\n",
       "    <tr>\n",
       "      <th>1</th>\n",
       "      <td>6</td>\n",
       "      <td>8</td>\n",
       "    </tr>\n",
       "  </tbody>\n",
       "</table>\n",
       "</div>"
      ],
      "text/plain": [
       "   A  B\n",
       "0  1  3\n",
       "1  2  4\n",
       "0  5  7\n",
       "1  6  8"
      ]
     },
     "execution_count": 23,
     "metadata": {},
     "output_type": "execute_result"
    }
   ],
   "source": [
    "df1 = pd.DataFrame({'A': [1, 2], 'B': [3, 4]})\n",
    "df2 = pd.DataFrame({'A': [5, 6], 'B': [7, 8]})\n",
    "pd.concat([df1, df2])"
   ]
  },
  {
   "cell_type": "markdown",
   "id": "96440e73",
   "metadata": {},
   "source": [
    "### Merge: Merge DataFrames based on keys (similar to SQL JOIN)."
   ]
  },
  {
   "cell_type": "code",
   "execution_count": 24,
   "id": "48649293",
   "metadata": {},
   "outputs": [
    {
     "data": {
      "text/html": [
       "<div>\n",
       "<style scoped>\n",
       "    .dataframe tbody tr th:only-of-type {\n",
       "        vertical-align: middle;\n",
       "    }\n",
       "\n",
       "    .dataframe tbody tr th {\n",
       "        vertical-align: top;\n",
       "    }\n",
       "\n",
       "    .dataframe thead th {\n",
       "        text-align: right;\n",
       "    }\n",
       "</style>\n",
       "<table border=\"1\" class=\"dataframe\">\n",
       "  <thead>\n",
       "    <tr style=\"text-align: right;\">\n",
       "      <th></th>\n",
       "      <th>key</th>\n",
       "      <th>value_x</th>\n",
       "      <th>value_y</th>\n",
       "    </tr>\n",
       "  </thead>\n",
       "  <tbody>\n",
       "    <tr>\n",
       "      <th>0</th>\n",
       "      <td>B</td>\n",
       "      <td>2</td>\n",
       "      <td>4</td>\n",
       "    </tr>\n",
       "    <tr>\n",
       "      <th>1</th>\n",
       "      <td>C</td>\n",
       "      <td>3</td>\n",
       "      <td>5</td>\n",
       "    </tr>\n",
       "  </tbody>\n",
       "</table>\n",
       "</div>"
      ],
      "text/plain": [
       "  key  value_x  value_y\n",
       "0   B        2        4\n",
       "1   C        3        5"
      ]
     },
     "execution_count": 24,
     "metadata": {},
     "output_type": "execute_result"
    }
   ],
   "source": [
    "df1 = pd.DataFrame({'key': ['A', 'B', 'C'], 'value': [1, 2, 3]})\n",
    "df2 = pd.DataFrame({'key': ['B', 'C', 'D'], 'value': [4, 5, 6]})\n",
    "pd.merge(df1, df2, on='key', how='inner')"
   ]
  },
  {
   "cell_type": "markdown",
   "id": "cb659f50",
   "metadata": {},
   "source": [
    "## 7. GroupBy Operations"
   ]
  },
  {
   "cell_type": "markdown",
   "id": "19b3aaa2",
   "metadata": {},
   "source": [
    "### GroupBy: You can group data by one or more columns and then apply aggregate functions."
   ]
  },
  {
   "cell_type": "code",
   "execution_count": 25,
   "id": "80c4af2c-0804-4926-8625-810c1550bc3c",
   "metadata": {
    "tags": []
   },
   "outputs": [
    {
     "name": "stdout",
     "output_type": "stream",
     "text": [
      "This DataFrame looks like this:\n",
      "\n"
     ]
    },
    {
     "data": {
      "text/html": [
       "<div>\n",
       "<style scoped>\n",
       "    .dataframe tbody tr th:only-of-type {\n",
       "        vertical-align: middle;\n",
       "    }\n",
       "\n",
       "    .dataframe tbody tr th {\n",
       "        vertical-align: top;\n",
       "    }\n",
       "\n",
       "    .dataframe thead th {\n",
       "        text-align: right;\n",
       "    }\n",
       "</style>\n",
       "<table border=\"1\" class=\"dataframe\">\n",
       "  <thead>\n",
       "    <tr style=\"text-align: right;\">\n",
       "      <th></th>\n",
       "      <th>Name</th>\n",
       "      <th>Age</th>\n",
       "      <th>City</th>\n",
       "      <th>Salary</th>\n",
       "    </tr>\n",
       "  </thead>\n",
       "  <tbody>\n",
       "    <tr>\n",
       "      <th>0</th>\n",
       "      <td>Alice</td>\n",
       "      <td>25</td>\n",
       "      <td>New York</td>\n",
       "      <td>70000</td>\n",
       "    </tr>\n",
       "    <tr>\n",
       "      <th>1</th>\n",
       "      <td>Bob</td>\n",
       "      <td>30</td>\n",
       "      <td>Los Angeles</td>\n",
       "      <td>80000</td>\n",
       "    </tr>\n",
       "    <tr>\n",
       "      <th>2</th>\n",
       "      <td>Charlie</td>\n",
       "      <td>35</td>\n",
       "      <td>Chicago</td>\n",
       "      <td>75000</td>\n",
       "    </tr>\n",
       "    <tr>\n",
       "      <th>3</th>\n",
       "      <td>David</td>\n",
       "      <td>40</td>\n",
       "      <td>New York</td>\n",
       "      <td>85000</td>\n",
       "    </tr>\n",
       "    <tr>\n",
       "      <th>4</th>\n",
       "      <td>Eve</td>\n",
       "      <td>45</td>\n",
       "      <td>Los Angeles</td>\n",
       "      <td>90000</td>\n",
       "    </tr>\n",
       "    <tr>\n",
       "      <th>5</th>\n",
       "      <td>Rose</td>\n",
       "      <td>22</td>\n",
       "      <td>Chicago</td>\n",
       "      <td>34000</td>\n",
       "    </tr>\n",
       "    <tr>\n",
       "      <th>6</th>\n",
       "      <td>Robert</td>\n",
       "      <td>34</td>\n",
       "      <td>New York</td>\n",
       "      <td>23000</td>\n",
       "    </tr>\n",
       "    <tr>\n",
       "      <th>7</th>\n",
       "      <td>Elon</td>\n",
       "      <td>56</td>\n",
       "      <td>Miami</td>\n",
       "      <td>39000</td>\n",
       "    </tr>\n",
       "  </tbody>\n",
       "</table>\n",
       "</div>"
      ],
      "text/plain": [
       "      Name  Age         City  Salary\n",
       "0    Alice   25     New York   70000\n",
       "1      Bob   30  Los Angeles   80000\n",
       "2  Charlie   35      Chicago   75000\n",
       "3    David   40     New York   85000\n",
       "4      Eve   45  Los Angeles   90000\n",
       "5     Rose   22      Chicago   34000\n",
       "6   Robert   34     New York   23000\n",
       "7     Elon   56        Miami   39000"
      ]
     },
     "execution_count": 25,
     "metadata": {},
     "output_type": "execute_result"
    }
   ],
   "source": [
    "import pandas as pd\n",
    "\n",
    "# Sample data\n",
    "data_for_GroupBy = {\n",
    "    'Name': ['Alice', 'Bob', 'Charlie', 'David', 'Eve','Rose','Robert','Elon'],\n",
    "    'Age': [25, 30, 35, 40, 45,22,34,56],\n",
    "    'City': ['New York', 'Los Angeles', 'Chicago', 'New York', 'Los Angeles','Chicago','New York','Miami'],\n",
    "    'Salary': [70000, 80000, 75000, 85000, 90000,34000 , 23000, 39000]\n",
    "}\n",
    "\n",
    "df_GroupBy = pd.DataFrame(data_for_GroupBy)\n",
    "\n",
    "print(\"This DataFrame looks like this:\\n\")\n",
    "df_GroupBy"
   ]
  },
  {
   "cell_type": "markdown",
   "id": "6d647a92-3077-4008-a779-7dab220c663f",
   "metadata": {},
   "source": [
    "##### Example 1: Using `.groupby()` and `.agg()`\n",
    "If you want to group by City and calculate the mean Age and Salary for each city:"
   ]
  },
  {
   "cell_type": "code",
   "execution_count": 26,
   "id": "a25688e9-01d1-42c8-94b4-841061170962",
   "metadata": {
    "tags": []
   },
   "outputs": [
    {
     "name": "stdout",
     "output_type": "stream",
     "text": [
      "The result will be:\n"
     ]
    },
    {
     "data": {
      "text/html": [
       "<div>\n",
       "<style scoped>\n",
       "    .dataframe tbody tr th:only-of-type {\n",
       "        vertical-align: middle;\n",
       "    }\n",
       "\n",
       "    .dataframe tbody tr th {\n",
       "        vertical-align: top;\n",
       "    }\n",
       "\n",
       "    .dataframe thead th {\n",
       "        text-align: right;\n",
       "    }\n",
       "</style>\n",
       "<table border=\"1\" class=\"dataframe\">\n",
       "  <thead>\n",
       "    <tr style=\"text-align: right;\">\n",
       "      <th></th>\n",
       "      <th>Age</th>\n",
       "      <th>Salary</th>\n",
       "    </tr>\n",
       "    <tr>\n",
       "      <th>City</th>\n",
       "      <th></th>\n",
       "      <th></th>\n",
       "    </tr>\n",
       "  </thead>\n",
       "  <tbody>\n",
       "    <tr>\n",
       "      <th>Chicago</th>\n",
       "      <td>28.5</td>\n",
       "      <td>54500.000000</td>\n",
       "    </tr>\n",
       "    <tr>\n",
       "      <th>Los Angeles</th>\n",
       "      <td>37.5</td>\n",
       "      <td>85000.000000</td>\n",
       "    </tr>\n",
       "    <tr>\n",
       "      <th>Miami</th>\n",
       "      <td>56.0</td>\n",
       "      <td>39000.000000</td>\n",
       "    </tr>\n",
       "    <tr>\n",
       "      <th>New York</th>\n",
       "      <td>33.0</td>\n",
       "      <td>59333.333333</td>\n",
       "    </tr>\n",
       "  </tbody>\n",
       "</table>\n",
       "</div>"
      ],
      "text/plain": [
       "              Age        Salary\n",
       "City                           \n",
       "Chicago      28.5  54500.000000\n",
       "Los Angeles  37.5  85000.000000\n",
       "Miami        56.0  39000.000000\n",
       "New York     33.0  59333.333333"
      ]
     },
     "execution_count": 26,
     "metadata": {},
     "output_type": "execute_result"
    }
   ],
   "source": [
    "result = df_GroupBy.groupby('City').agg({'Age': 'mean', 'Salary': 'mean'})\n",
    "print(\"The result will be:\")\n",
    "result"
   ]
  },
  {
   "cell_type": "markdown",
   "id": "e16613a2-3ce3-4c49-920c-e70cf80d38df",
   "metadata": {},
   "source": [
    "`Explanation:`\n",
    "\n",
    "- The Age and Salary columns are averaged for each unique City.\n",
    "- Miami has only one entry, so the mean for Age and Salary is the same as the original values.\n",
    "- Los Angeles,Chicago and New York have two entries each, so the means are calculated by averaging the Age and Salary values for the corresponding cities."
   ]
  },
  {
   "cell_type": "markdown",
   "id": "c8612699-11bd-4edf-bcfc-7029ccfba037",
   "metadata": {
    "tags": []
   },
   "source": [
    "##### Example 2: Using .groupby() and .mean()\n",
    "If you just want to calculate the mean of `all` numeric columns `for` each city:"
   ]
  },
  {
   "cell_type": "code",
   "execution_count": 27,
   "id": "3c411bb0-c587-4a06-a47f-cf7882b41618",
   "metadata": {
    "tags": []
   },
   "outputs": [
    {
     "name": "stdout",
     "output_type": "stream",
     "text": [
      "The result will be:\n"
     ]
    },
    {
     "data": {
      "text/html": [
       "<div>\n",
       "<style scoped>\n",
       "    .dataframe tbody tr th:only-of-type {\n",
       "        vertical-align: middle;\n",
       "    }\n",
       "\n",
       "    .dataframe tbody tr th {\n",
       "        vertical-align: top;\n",
       "    }\n",
       "\n",
       "    .dataframe thead th {\n",
       "        text-align: right;\n",
       "    }\n",
       "</style>\n",
       "<table border=\"1\" class=\"dataframe\">\n",
       "  <thead>\n",
       "    <tr style=\"text-align: right;\">\n",
       "      <th></th>\n",
       "      <th>Age</th>\n",
       "      <th>Salary</th>\n",
       "    </tr>\n",
       "    <tr>\n",
       "      <th>City</th>\n",
       "      <th></th>\n",
       "      <th></th>\n",
       "    </tr>\n",
       "  </thead>\n",
       "  <tbody>\n",
       "    <tr>\n",
       "      <th>Chicago</th>\n",
       "      <td>28.5</td>\n",
       "      <td>54500.000000</td>\n",
       "    </tr>\n",
       "    <tr>\n",
       "      <th>Los Angeles</th>\n",
       "      <td>37.5</td>\n",
       "      <td>85000.000000</td>\n",
       "    </tr>\n",
       "    <tr>\n",
       "      <th>Miami</th>\n",
       "      <td>56.0</td>\n",
       "      <td>39000.000000</td>\n",
       "    </tr>\n",
       "    <tr>\n",
       "      <th>New York</th>\n",
       "      <td>33.0</td>\n",
       "      <td>59333.333333</td>\n",
       "    </tr>\n",
       "  </tbody>\n",
       "</table>\n",
       "</div>"
      ],
      "text/plain": [
       "              Age        Salary\n",
       "City                           \n",
       "Chicago      28.5  54500.000000\n",
       "Los Angeles  37.5  85000.000000\n",
       "Miami        56.0  39000.000000\n",
       "New York     33.0  59333.333333"
      ]
     },
     "execution_count": 27,
     "metadata": {},
     "output_type": "execute_result"
    }
   ],
   "source": [
    "result = df_GroupBy.groupby('City').mean(numeric_only=True)\n",
    "print(\"The result will be:\")\n",
    "result\n"
   ]
  },
  {
   "cell_type": "markdown",
   "id": "7391135e-efa5-45e2-9081-f4e685346ac5",
   "metadata": {},
   "source": [
    "\n",
    "`Explanation:`\n",
    "\n",
    "- The output is the same as above because the numeric_only=True option ensures that only the numeric columns (Age and Salary) are averaged.\n",
    "- Non-numeric columns (like Name) are automatically excluded from the aggregation.\n",
    "\n",
    "#### Summary:\n",
    "1. `groupby('City').agg({'Age': 'mean', 'Salary': 'mean'}):` Allows you to specify which columns and aggregation functions to apply.\n",
    "2. `groupby('City').mean(numeric_only=True):` Automatically calculates the mean of all numeric columns.\n",
    "\n",
    "Both methods will return a DataFrame where each row corresponds to a group (e.g., City), and the columns contain the aggregated results (mean in this case) for each group.\n",
    "\n",
    "\n",
    "\n",
    "\n",
    "\n",
    "\n",
    "\n",
    "\n",
    "\n"
   ]
  },
  {
   "cell_type": "code",
   "execution_count": 28,
   "id": "605242bf-8846-48b0-a4ce-d4be2ca635de",
   "metadata": {
    "tags": []
   },
   "outputs": [
    {
     "data": {
      "text/html": [
       "<div>\n",
       "<style scoped>\n",
       "    .dataframe tbody tr th:only-of-type {\n",
       "        vertical-align: middle;\n",
       "    }\n",
       "\n",
       "    .dataframe tbody tr th {\n",
       "        vertical-align: top;\n",
       "    }\n",
       "\n",
       "    .dataframe thead th {\n",
       "        text-align: right;\n",
       "    }\n",
       "</style>\n",
       "<table border=\"1\" class=\"dataframe\">\n",
       "  <thead>\n",
       "    <tr style=\"text-align: right;\">\n",
       "      <th></th>\n",
       "      <th>Age</th>\n",
       "      <th>Salary</th>\n",
       "    </tr>\n",
       "    <tr>\n",
       "      <th>City</th>\n",
       "      <th></th>\n",
       "      <th></th>\n",
       "    </tr>\n",
       "  </thead>\n",
       "  <tbody>\n",
       "    <tr>\n",
       "      <th>Chicago</th>\n",
       "      <td>28.5</td>\n",
       "      <td>109000</td>\n",
       "    </tr>\n",
       "    <tr>\n",
       "      <th>Los Angeles</th>\n",
       "      <td>37.5</td>\n",
       "      <td>170000</td>\n",
       "    </tr>\n",
       "    <tr>\n",
       "      <th>Miami</th>\n",
       "      <td>56.0</td>\n",
       "      <td>39000</td>\n",
       "    </tr>\n",
       "    <tr>\n",
       "      <th>New York</th>\n",
       "      <td>33.0</td>\n",
       "      <td>178000</td>\n",
       "    </tr>\n",
       "  </tbody>\n",
       "</table>\n",
       "</div>"
      ],
      "text/plain": [
       "              Age  Salary\n",
       "City                     \n",
       "Chicago      28.5  109000\n",
       "Los Angeles  37.5  170000\n",
       "Miami        56.0   39000\n",
       "New York     33.0  178000"
      ]
     },
     "execution_count": 28,
     "metadata": {},
     "output_type": "execute_result"
    }
   ],
   "source": [
    "df_GroupBy.groupby('City').agg({'Age': 'mean', 'Salary': 'sum'})  # Apply different aggregations"
   ]
  },
  {
   "cell_type": "markdown",
   "id": "cf84e336",
   "metadata": {},
   "source": [
    "## 8. Pivot Tables\n",
    "Pivot tables in Pandas are similar to pivot tables in Excel. They allow you to rearrange and summarize data."
   ]
  },
  {
   "cell_type": "code",
   "execution_count": 29,
   "id": "808365ed",
   "metadata": {},
   "outputs": [
    {
     "name": "stdout",
     "output_type": "stream",
     "text": [
      "      Name  Age         City  Salary\n",
      "0    Alice   25     New York   70000\n",
      "1      Bob   30  Los Angeles   80000\n",
      "2  Charlie   35      Chicago   75000\n",
      "3    David   40     New York   85000\n",
      "4      Eve   45  Los Angeles   90000\n",
      "5     Rose   22      Chicago   34000\n",
      "6   Robert   34     New York   23000\n",
      "7     Elon   56        Miami   39000 \n",
      "\n",
      "\n"
     ]
    },
    {
     "data": {
      "text/html": [
       "<div>\n",
       "<style scoped>\n",
       "    .dataframe tbody tr th:only-of-type {\n",
       "        vertical-align: middle;\n",
       "    }\n",
       "\n",
       "    .dataframe tbody tr th {\n",
       "        vertical-align: top;\n",
       "    }\n",
       "\n",
       "    .dataframe thead th {\n",
       "        text-align: right;\n",
       "    }\n",
       "</style>\n",
       "<table border=\"1\" class=\"dataframe\">\n",
       "  <thead>\n",
       "    <tr style=\"text-align: right;\">\n",
       "      <th>Name</th>\n",
       "      <th>Alice</th>\n",
       "      <th>Bob</th>\n",
       "      <th>Charlie</th>\n",
       "      <th>David</th>\n",
       "      <th>Elon</th>\n",
       "      <th>Eve</th>\n",
       "      <th>Robert</th>\n",
       "      <th>Rose</th>\n",
       "    </tr>\n",
       "    <tr>\n",
       "      <th>City</th>\n",
       "      <th></th>\n",
       "      <th></th>\n",
       "      <th></th>\n",
       "      <th></th>\n",
       "      <th></th>\n",
       "      <th></th>\n",
       "      <th></th>\n",
       "      <th></th>\n",
       "    </tr>\n",
       "  </thead>\n",
       "  <tbody>\n",
       "    <tr>\n",
       "      <th>Chicago</th>\n",
       "      <td>NaN</td>\n",
       "      <td>NaN</td>\n",
       "      <td>35.0</td>\n",
       "      <td>NaN</td>\n",
       "      <td>NaN</td>\n",
       "      <td>NaN</td>\n",
       "      <td>NaN</td>\n",
       "      <td>22.0</td>\n",
       "    </tr>\n",
       "    <tr>\n",
       "      <th>Los Angeles</th>\n",
       "      <td>NaN</td>\n",
       "      <td>30.0</td>\n",
       "      <td>NaN</td>\n",
       "      <td>NaN</td>\n",
       "      <td>NaN</td>\n",
       "      <td>45.0</td>\n",
       "      <td>NaN</td>\n",
       "      <td>NaN</td>\n",
       "    </tr>\n",
       "    <tr>\n",
       "      <th>Miami</th>\n",
       "      <td>NaN</td>\n",
       "      <td>NaN</td>\n",
       "      <td>NaN</td>\n",
       "      <td>NaN</td>\n",
       "      <td>56.0</td>\n",
       "      <td>NaN</td>\n",
       "      <td>NaN</td>\n",
       "      <td>NaN</td>\n",
       "    </tr>\n",
       "    <tr>\n",
       "      <th>New York</th>\n",
       "      <td>25.0</td>\n",
       "      <td>NaN</td>\n",
       "      <td>NaN</td>\n",
       "      <td>40.0</td>\n",
       "      <td>NaN</td>\n",
       "      <td>NaN</td>\n",
       "      <td>34.0</td>\n",
       "      <td>NaN</td>\n",
       "    </tr>\n",
       "  </tbody>\n",
       "</table>\n",
       "</div>"
      ],
      "text/plain": [
       "Name         Alice   Bob  Charlie  David  Elon   Eve  Robert  Rose\n",
       "City                                                              \n",
       "Chicago        NaN   NaN     35.0    NaN   NaN   NaN     NaN  22.0\n",
       "Los Angeles    NaN  30.0      NaN    NaN   NaN  45.0     NaN   NaN\n",
       "Miami          NaN   NaN      NaN    NaN  56.0   NaN     NaN   NaN\n",
       "New York      25.0   NaN      NaN   40.0   NaN   NaN    34.0   NaN"
      ]
     },
     "execution_count": 29,
     "metadata": {},
     "output_type": "execute_result"
    }
   ],
   "source": [
    "print(df_GroupBy,\"\\n\\n\")\n",
    "df_GroupBy.pivot_table(values='Age', index='City', columns='Name', aggfunc='mean')"
   ]
  },
  {
   "cell_type": "markdown",
   "id": "304fba12",
   "metadata": {
    "tags": []
   },
   "source": [
    "## 9. Handling Dates"
   ]
  },
  {
   "cell_type": "markdown",
   "id": "47bad0e6-17fd-4404-9b6c-eb97ad87d85f",
   "metadata": {},
   "source": [
    "##### Adding Date Coloumn in dataset"
   ]
  },
  {
   "cell_type": "code",
   "execution_count": 34,
   "id": "85e6fa7b-df53-4cd5-bdb4-275754368831",
   "metadata": {
    "tags": []
   },
   "outputs": [
    {
     "name": "stdout",
     "output_type": "stream",
     "text": [
      "      Name  Age         City  Salary        Date\n",
      "0    Alice   25     New York   70000  2024-01-01\n",
      "1      Bob   30  Los Angeles   80000  2024-02-01\n",
      "2  Charlie   35      Chicago   75000  2024-03-01\n",
      "3    David   40     New York   85000  2024-04-01\n",
      "4      Eve   45  Los Angeles   90000  2024-05-01\n",
      "5     Rose   22      Chicago   34000  2024-06-01\n",
      "6   Robert   34     New York   23000  2024-07-01\n",
      "7     Elon   56        Miami   39000  2024-08-01\n"
     ]
    }
   ],
   "source": [
    "df_GroupBy['Date'] = ['2024-01-01', '2024-02-01', '2024-03-01', '2024-04-01', '2024-05-01', '2024-06-01', '2024-07-01', '2024-08-01']\n",
    "\n",
    "print(df_GroupBy)\n"
   ]
  },
  {
   "cell_type": "markdown",
   "id": "3232a6bc",
   "metadata": {
    "tags": []
   },
   "source": [
    "### Datetime Conversion: Convert a column to datetime."
   ]
  },
  {
   "cell_type": "code",
   "execution_count": 35,
   "id": "7e340419-9fcb-4043-927c-94f416da6923",
   "metadata": {
    "tags": []
   },
   "outputs": [
    {
     "name": "stdout",
     "output_type": "stream",
     "text": [
      "Data type before convertion.\n"
     ]
    },
    {
     "data": {
      "text/plain": [
       "Name      object\n",
       "Age        int64\n",
       "City      object\n",
       "Salary     int64\n",
       "Date      object\n",
       "dtype: object"
      ]
     },
     "execution_count": 35,
     "metadata": {},
     "output_type": "execute_result"
    }
   ],
   "source": [
    "print(\"Data type before convertion.\")\n",
    "df_GroupBy.dtypes"
   ]
  },
  {
   "cell_type": "code",
   "execution_count": 37,
   "id": "40645137",
   "metadata": {},
   "outputs": [
    {
     "name": "stdout",
     "output_type": "stream",
     "text": [
      "Data type after convertion.\n"
     ]
    },
    {
     "data": {
      "text/plain": [
       "Name              object\n",
       "Age                int64\n",
       "City              object\n",
       "Salary             int64\n",
       "Date      datetime64[ns]\n",
       "dtype: object"
      ]
     },
     "execution_count": 37,
     "metadata": {},
     "output_type": "execute_result"
    }
   ],
   "source": [
    "df_GroupBy['Date'] = pd.to_datetime(df_GroupBy['Date'])\n",
    "print(\"Data type after convertion.\")\n",
    "df_GroupBy.dtypes"
   ]
  },
  {
   "cell_type": "markdown",
   "id": "c121296a-78ce-4588-8c88-62d1fd9e566d",
   "metadata": {},
   "source": [
    "##### Example: Generating a Sequence of Dates\n",
    "You can generate a sequence of dates using `pd.date_range():`\n"
   ]
  },
  {
   "cell_type": "code",
   "execution_count": 42,
   "id": "9107b994-dc66-4b9f-ac9c-9becfcf6f787",
   "metadata": {
    "tags": []
   },
   "outputs": [
    {
     "data": {
      "text/html": [
       "<div>\n",
       "<style scoped>\n",
       "    .dataframe tbody tr th:only-of-type {\n",
       "        vertical-align: middle;\n",
       "    }\n",
       "\n",
       "    .dataframe tbody tr th {\n",
       "        vertical-align: top;\n",
       "    }\n",
       "\n",
       "    .dataframe thead th {\n",
       "        text-align: right;\n",
       "    }\n",
       "</style>\n",
       "<table border=\"1\" class=\"dataframe\">\n",
       "  <thead>\n",
       "    <tr style=\"text-align: right;\">\n",
       "      <th></th>\n",
       "      <th>Name</th>\n",
       "      <th>Age</th>\n",
       "      <th>City</th>\n",
       "      <th>Salary</th>\n",
       "      <th>Date</th>\n",
       "      <th>Genrated_Date_Sequence</th>\n",
       "    </tr>\n",
       "  </thead>\n",
       "  <tbody>\n",
       "    <tr>\n",
       "      <th>0</th>\n",
       "      <td>Alice</td>\n",
       "      <td>25</td>\n",
       "      <td>New York</td>\n",
       "      <td>70000</td>\n",
       "      <td>2024-01-01</td>\n",
       "      <td>2024-01-02 00:00:00.000000000</td>\n",
       "    </tr>\n",
       "    <tr>\n",
       "      <th>1</th>\n",
       "      <td>Bob</td>\n",
       "      <td>30</td>\n",
       "      <td>Los Angeles</td>\n",
       "      <td>80000</td>\n",
       "      <td>2024-02-01</td>\n",
       "      <td>2024-02-01 10:17:08.571428571</td>\n",
       "    </tr>\n",
       "    <tr>\n",
       "      <th>2</th>\n",
       "      <td>Charlie</td>\n",
       "      <td>35</td>\n",
       "      <td>Chicago</td>\n",
       "      <td>75000</td>\n",
       "      <td>2024-03-01</td>\n",
       "      <td>2024-03-02 20:34:17.142857143</td>\n",
       "    </tr>\n",
       "    <tr>\n",
       "      <th>3</th>\n",
       "      <td>David</td>\n",
       "      <td>40</td>\n",
       "      <td>New York</td>\n",
       "      <td>85000</td>\n",
       "      <td>2024-04-01</td>\n",
       "      <td>2024-04-02 06:51:25.714285714</td>\n",
       "    </tr>\n",
       "    <tr>\n",
       "      <th>4</th>\n",
       "      <td>Eve</td>\n",
       "      <td>45</td>\n",
       "      <td>Los Angeles</td>\n",
       "      <td>90000</td>\n",
       "      <td>2024-05-01</td>\n",
       "      <td>2024-05-02 17:08:34.285714286</td>\n",
       "    </tr>\n",
       "    <tr>\n",
       "      <th>5</th>\n",
       "      <td>Rose</td>\n",
       "      <td>22</td>\n",
       "      <td>Chicago</td>\n",
       "      <td>34000</td>\n",
       "      <td>2024-06-01</td>\n",
       "      <td>2024-06-02 03:25:42.857142858</td>\n",
       "    </tr>\n",
       "    <tr>\n",
       "      <th>6</th>\n",
       "      <td>Robert</td>\n",
       "      <td>34</td>\n",
       "      <td>New York</td>\n",
       "      <td>23000</td>\n",
       "      <td>2024-07-01</td>\n",
       "      <td>2024-07-02 13:42:51.428571428</td>\n",
       "    </tr>\n",
       "    <tr>\n",
       "      <th>7</th>\n",
       "      <td>Elon</td>\n",
       "      <td>56</td>\n",
       "      <td>Miami</td>\n",
       "      <td>39000</td>\n",
       "      <td>2024-08-01</td>\n",
       "      <td>2024-08-02 00:00:00.000000000</td>\n",
       "    </tr>\n",
       "  </tbody>\n",
       "</table>\n",
       "</div>"
      ],
      "text/plain": [
       "      Name  Age         City  Salary       Date        Genrated_Date_Sequence\n",
       "0    Alice   25     New York   70000 2024-01-01 2024-01-02 00:00:00.000000000\n",
       "1      Bob   30  Los Angeles   80000 2024-02-01 2024-02-01 10:17:08.571428571\n",
       "2  Charlie   35      Chicago   75000 2024-03-01 2024-03-02 20:34:17.142857143\n",
       "3    David   40     New York   85000 2024-04-01 2024-04-02 06:51:25.714285714\n",
       "4      Eve   45  Los Angeles   90000 2024-05-01 2024-05-02 17:08:34.285714286\n",
       "5     Rose   22      Chicago   34000 2024-06-01 2024-06-02 03:25:42.857142858\n",
       "6   Robert   34     New York   23000 2024-07-01 2024-07-02 13:42:51.428571428\n",
       "7     Elon   56        Miami   39000 2024-08-01 2024-08-02 00:00:00.000000000"
      ]
     },
     "execution_count": 42,
     "metadata": {},
     "output_type": "execute_result"
    }
   ],
   "source": [
    "df_GroupBy['Genrated_Date_Sequence'] = pd.date_range(start='2024-01-02', end='2024-08-02', periods=8)  \n",
    "df_GroupBy\n"
   ]
  },
  {
   "cell_type": "markdown",
   "id": "a33d334f",
   "metadata": {
    "tags": []
   },
   "source": [
    "### DateTimeIndex: \n",
    "You can use date/time as an index."
   ]
  },
  {
   "cell_type": "code",
   "execution_count": null,
   "id": "69f3134b",
   "metadata": {},
   "outputs": [],
   "source": [
    "df.set_index('Date', inplace=True)"
   ]
  },
  {
   "cell_type": "markdown",
   "id": "5077f2d6",
   "metadata": {},
   "source": [
    "### Resampling: \n",
    "Resample time-series data to a different frequency."
   ]
  },
  {
   "cell_type": "code",
   "execution_count": null,
   "id": "1137dbb3",
   "metadata": {},
   "outputs": [],
   "source": [
    "df.resample('M').mean()  # Resample by month and calculate the mean"
   ]
  },
  {
   "cell_type": "markdown",
   "id": "208a2965",
   "metadata": {},
   "source": [
    "## 10. Advanced Indexing"
   ]
  },
  {
   "cell_type": "markdown",
   "id": "f751280d",
   "metadata": {},
   "source": [
    "### MultiIndex: \n",
    "Pandas supports hierarchical indexing to work with high-dimensional data."
   ]
  },
  {
   "cell_type": "code",
   "execution_count": 45,
   "id": "3c3a9e4d",
   "metadata": {},
   "outputs": [
    {
     "data": {
      "text/html": [
       "<div>\n",
       "<style scoped>\n",
       "    .dataframe tbody tr th:only-of-type {\n",
       "        vertical-align: middle;\n",
       "    }\n",
       "\n",
       "    .dataframe tbody tr th {\n",
       "        vertical-align: top;\n",
       "    }\n",
       "\n",
       "    .dataframe thead th {\n",
       "        text-align: right;\n",
       "    }\n",
       "</style>\n",
       "<table border=\"1\" class=\"dataframe\">\n",
       "  <thead>\n",
       "    <tr style=\"text-align: right;\">\n",
       "      <th></th>\n",
       "      <th></th>\n",
       "      <th>Data1</th>\n",
       "      <th>Data2</th>\n",
       "    </tr>\n",
       "  </thead>\n",
       "  <tbody>\n",
       "    <tr>\n",
       "      <th rowspan=\"2\" valign=\"top\">A</th>\n",
       "      <th>1</th>\n",
       "      <td>0.399882</td>\n",
       "      <td>0.956253</td>\n",
       "    </tr>\n",
       "    <tr>\n",
       "      <th>2</th>\n",
       "      <td>0.422191</td>\n",
       "      <td>1.089121</td>\n",
       "    </tr>\n",
       "    <tr>\n",
       "      <th rowspan=\"2\" valign=\"top\">B</th>\n",
       "      <th>1</th>\n",
       "      <td>-0.547924</td>\n",
       "      <td>-0.270009</td>\n",
       "    </tr>\n",
       "    <tr>\n",
       "      <th>2</th>\n",
       "      <td>0.611324</td>\n",
       "      <td>-1.068530</td>\n",
       "    </tr>\n",
       "  </tbody>\n",
       "</table>\n",
       "</div>"
      ],
      "text/plain": [
       "        Data1     Data2\n",
       "A 1  0.399882  0.956253\n",
       "  2  0.422191  1.089121\n",
       "B 1 -0.547924 -0.270009\n",
       "  2  0.611324 -1.068530"
      ]
     },
     "execution_count": 45,
     "metadata": {},
     "output_type": "execute_result"
    }
   ],
   "source": [
    "arrays = [\n",
    "    ['A', 'A', 'B', 'B'],\n",
    "    [1, 2, 1, 2]\n",
    "]\n",
    "df_adv = pd.DataFrame(np.random.randn(4, 2), index=arrays, columns=['Data1', 'Data2'])\n",
    "df_adv"
   ]
  },
  {
   "cell_type": "markdown",
   "id": "8ddf14f0",
   "metadata": {},
   "source": [
    "### Index Slicing: \n",
    "You can slice DataFrames with MultiIndex."
   ]
  },
  {
   "cell_type": "code",
   "execution_count": 47,
   "id": "486e9dad",
   "metadata": {},
   "outputs": [
    {
     "data": {
      "text/html": [
       "<div>\n",
       "<style scoped>\n",
       "    .dataframe tbody tr th:only-of-type {\n",
       "        vertical-align: middle;\n",
       "    }\n",
       "\n",
       "    .dataframe tbody tr th {\n",
       "        vertical-align: top;\n",
       "    }\n",
       "\n",
       "    .dataframe thead th {\n",
       "        text-align: right;\n",
       "    }\n",
       "</style>\n",
       "<table border=\"1\" class=\"dataframe\">\n",
       "  <thead>\n",
       "    <tr style=\"text-align: right;\">\n",
       "      <th></th>\n",
       "      <th>Data1</th>\n",
       "      <th>Data2</th>\n",
       "    </tr>\n",
       "  </thead>\n",
       "  <tbody>\n",
       "    <tr>\n",
       "      <th>1</th>\n",
       "      <td>0.399882</td>\n",
       "      <td>0.956253</td>\n",
       "    </tr>\n",
       "    <tr>\n",
       "      <th>2</th>\n",
       "      <td>0.422191</td>\n",
       "      <td>1.089121</td>\n",
       "    </tr>\n",
       "  </tbody>\n",
       "</table>\n",
       "</div>"
      ],
      "text/plain": [
       "      Data1     Data2\n",
       "1  0.399882  0.956253\n",
       "2  0.422191  1.089121"
      ]
     },
     "execution_count": 47,
     "metadata": {},
     "output_type": "execute_result"
    }
   ],
   "source": [
    "df_adv.loc['A']\n"
   ]
  },
  {
   "cell_type": "code",
   "execution_count": 48,
   "id": "3b188031-835e-44d5-a166-f2e1125fbea5",
   "metadata": {
    "tags": []
   },
   "outputs": [
    {
     "data": {
      "text/html": [
       "<div>\n",
       "<style scoped>\n",
       "    .dataframe tbody tr th:only-of-type {\n",
       "        vertical-align: middle;\n",
       "    }\n",
       "\n",
       "    .dataframe tbody tr th {\n",
       "        vertical-align: top;\n",
       "    }\n",
       "\n",
       "    .dataframe thead th {\n",
       "        text-align: right;\n",
       "    }\n",
       "</style>\n",
       "<table border=\"1\" class=\"dataframe\">\n",
       "  <thead>\n",
       "    <tr style=\"text-align: right;\">\n",
       "      <th></th>\n",
       "      <th></th>\n",
       "      <th>Data1</th>\n",
       "      <th>Data2</th>\n",
       "    </tr>\n",
       "  </thead>\n",
       "  <tbody>\n",
       "    <tr>\n",
       "      <th rowspan=\"2\" valign=\"top\">A</th>\n",
       "      <th>1</th>\n",
       "      <td>0.399882</td>\n",
       "      <td>0.956253</td>\n",
       "    </tr>\n",
       "    <tr>\n",
       "      <th>2</th>\n",
       "      <td>0.422191</td>\n",
       "      <td>1.089121</td>\n",
       "    </tr>\n",
       "    <tr>\n",
       "      <th>B</th>\n",
       "      <th>1</th>\n",
       "      <td>-0.547924</td>\n",
       "      <td>-0.270009</td>\n",
       "    </tr>\n",
       "  </tbody>\n",
       "</table>\n",
       "</div>"
      ],
      "text/plain": [
       "        Data1     Data2\n",
       "A 1  0.399882  0.956253\n",
       "  2  0.422191  1.089121\n",
       "B 1 -0.547924 -0.270009"
      ]
     },
     "execution_count": 48,
     "metadata": {},
     "output_type": "execute_result"
    }
   ],
   "source": [
    "df_adv.loc[('A', 1):('B', 1)]"
   ]
  },
  {
   "cell_type": "markdown",
   "id": "f9c7735f",
   "metadata": {},
   "source": [
    "## 11. Visualization\n",
    "Pandas integrates well with Matplotlib, allowing for quick visualization."
   ]
  },
  {
   "cell_type": "markdown",
   "id": "0f1e4014",
   "metadata": {},
   "source": [
    "### Plotting: \n",
    "Simple plots can be created directly from DataFrames."
   ]
  },
  {
   "cell_type": "code",
   "execution_count": 49,
   "id": "15fada99",
   "metadata": {},
   "outputs": [
    {
     "data": {
      "text/plain": [
       "<Axes: xlabel='Age', ylabel='Salary'>"
      ]
     },
     "execution_count": 49,
     "metadata": {},
     "output_type": "execute_result"
    },
    {
     "data": {
      "image/png": "[encoded data removed]",
      "text/plain": [
       "<Figure size 640x480 with 1 Axes>"
      ]
     },
     "metadata": {},
     "output_type": "display_data"
    }
   ],
   "source": [
    "df_GroupBy.plot(x='Age', y='Salary', kind='scatter')"
   ]
  },
  {
   "cell_type": "markdown",
   "id": "d5bbe7fb",
   "metadata": {},
   "source": [
    "## 12. Performance Optimization"
   ]
  },
  {
   "cell_type": "markdown",
   "id": "52f2baa3",
   "metadata": {},
   "source": [
    "### Vectorization:\n",
    "Pandas operations are vectorized, meaning they are applied element-wise, making them very efficient."
   ]
  },
  {
   "cell_type": "markdown",
   "id": "068656be",
   "metadata": {},
   "source": [
    "### Apply/Map:\n",
    "For custom operations, apply and map are often used, but they can be slower than vectorized operations."
   ]
  },
  {
   "cell_type": "code",
   "execution_count": null,
   "id": "850eac81",
   "metadata": {},
   "outputs": [],
   "source": [
    "df['Age'].apply(lambda x: x + 1)"
   ]
  },
  {
   "cell_type": "markdown",
   "id": "2633b19c",
   "metadata": {},
   "source": [
    "### Memory Usage:\n",
    "You can check and optimize memory usage by downcasting data types."
   ]
  },
  {
   "cell_type": "code",
   "execution_count": 50,
   "id": "e539e2bf",
   "metadata": {},
   "outputs": [
    {
     "data": {
      "text/plain": [
       "Index                     132\n",
       "Name                      493\n",
       "Age                        64\n",
       "City                      521\n",
       "Salary                     64\n",
       "Date                       64\n",
       "Genrated_Date_Sequence     64\n",
       "dtype: int64"
      ]
     },
     "execution_count": 50,
     "metadata": {},
     "output_type": "execute_result"
    }
   ],
   "source": [
    "df_GroupBy.memory_usage(deep=True)"
   ]
  },
  {
   "cell_type": "markdown",
   "id": "739686ee",
   "metadata": {},
   "source": [
    "## 14. Common Issues"
   ]
  },
  {
   "cell_type": "markdown",
   "id": "9d56491e",
   "metadata": {},
   "source": [
    "### SettingWithCopyWarning:\n",
    "This warning occurs when you're trying to modify a copy of a slice from a DataFrame. It's essential to understand when you're working with views vs. copies."
   ]
  },
  {
   "cell_type": "code",
   "execution_count": 51,
   "id": "01a4bbe3",
   "metadata": {},
   "outputs": [],
   "source": [
    "df_GroupBy.loc[0, 'Age'] = 26  # Direct assignment avoids this warning"
   ]
  },
  {
   "cell_type": "code",
   "execution_count": null,
   "id": "00e6c8ac-e500-472b-b276-ac751557a1b4",
   "metadata": {},
   "outputs": [],
   "source": []
  }
 ],
 "metadata": {
  "kernelspec": {
   "display_name": "Python 3 (ipykernel)",
   "language": "python",
   "name": "python3"
  },
  "language_info": {
   "codemirror_mode": {
    "name": "ipython",
    "version": 3
   },
   "file_extension": ".py",
   "mimetype": "text/x-python",
   "name": "python",
   "nbconvert_exporter": "python",
   "pygments_lexer": "ipython3",
   "version": "3.11.5"
  }
 },
 "nbformat": 4,
 "nbformat_minor": 5
}
