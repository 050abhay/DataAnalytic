{
 "cells": [
  {
   "cell_type": "markdown",
   "id": "26520b3d",
   "metadata": {},
   "source": [
    "# Pandas Series: Overview\n",
    "1. A Pandas Series is a one-dimensional labeled array capable of holding any data type, including integers, floats, strings, Python objects, and more.\n",
    "2. It can be thought of as a single column in a spreadsheet or a single column of a DataFrame.\n",
    "3. Each element in a Series has an associated label or index, which allows for fast and easy data retrieval."
   ]
  },
  {
   "cell_type": "markdown",
   "id": "59603043",
   "metadata": {},
   "source": [
    "## Key Features of a Pandas Series\n",
    "1. **Homogeneous Data**: All elements in a Series are of the same data type.\n",
    "2. **Labeled Index**: Each element is associated with an index, which is a label that allows you to access elements by their index rather than their position.\n",
    "3. **Automatic Alignment**: Series objects align automatically based on their index when performing operations.\n",
    "4. **Flexible Indexing**: Series supports both integer and label-based indexing."
   ]
  },
  {
   "cell_type": "markdown",
   "id": "3dd6a11b",
   "metadata": {},
   "source": [
    "## Creating a Pandas Series\n",
    "There are several ways to create a Pandas Series:"
   ]
  },
  {
   "cell_type": "markdown",
   "id": "feb93fd5",
   "metadata": {},
   "source": [
    "### 1. From a Python List:"
   ]
  },
  {
   "cell_type": "code",
   "execution_count": 1,
   "id": "d4d9b854",
   "metadata": {
    "tags": []
   },
   "outputs": [
    {
     "name": "stdout",
     "output_type": "stream",
     "text": [
      "0    10\n",
      "1    20\n",
      "2    30\n",
      "3    40\n",
      "dtype: int64\n"
     ]
    }
   ],
   "source": [
    "import pandas as pd\n",
    "\n",
    "data = [10, 20, 30, 40]\n",
    "s = pd.Series(data)\n",
    "print(s)"
   ]
  },
  {
   "cell_type": "markdown",
   "id": "f708665b",
   "metadata": {},
   "source": [
    "### 2. From a Dictionary:"
   ]
  },
  {
   "cell_type": "code",
   "execution_count": 2,
   "id": "f2c5657c",
   "metadata": {
    "tags": []
   },
   "outputs": [
    {
     "name": "stdout",
     "output_type": "stream",
     "text": [
      "a    10\n",
      "b    20\n",
      "c    30\n",
      "d    40\n",
      "dtype: int64\n"
     ]
    }
   ],
   "source": [
    "data = {'a': 10, 'b': 20, 'c': 30, 'd': 40}\n",
    "s = pd.Series(data)\n",
    "print(s)"
   ]
  },
  {
   "cell_type": "markdown",
   "id": "5d3421ce",
   "metadata": {},
   "source": [
    "### 3. From a Scalar Value:\n",
    "You can create a Series with the same value repeated across a specified index."
   ]
  },
  {
   "cell_type": "code",
   "execution_count": 3,
   "id": "9d1ad89a",
   "metadata": {
    "tags": []
   },
   "outputs": [
    {
     "name": "stdout",
     "output_type": "stream",
     "text": [
      "a    5\n",
      "b    5\n",
      "c    5\n",
      "d    5\n",
      "dtype: int64\n"
     ]
    }
   ],
   "source": [
    "s = pd.Series(5, index=['a', 'b', 'c', 'd'])\n",
    "print(s)"
   ]
  },
  {
   "cell_type": "markdown",
   "id": "c08fdf4e",
   "metadata": {},
   "source": [
    "### 4. Custom Indexing:\n",
    "You can provide a custom index while creating a Series."
   ]
  },
  {
   "cell_type": "code",
   "execution_count": 4,
   "id": "f3050f6f",
   "metadata": {
    "tags": []
   },
   "outputs": [
    {
     "name": "stdout",
     "output_type": "stream",
     "text": [
      "a    10\n",
      "b    20\n",
      "c    30\n",
      "d    40\n",
      "dtype: int64\n"
     ]
    }
   ],
   "source": [
    "data = [10, 20, 30, 40]\n",
    "s = pd.Series(data, index=['a', 'b', 'c', 'd'])\n",
    "print(s)"
   ]
  },
  {
   "cell_type": "markdown",
   "id": "286c2b03",
   "metadata": {},
   "source": [
    "## Accessing Data in a Series"
   ]
  },
  {
   "cell_type": "markdown",
   "id": "c4212b9f",
   "metadata": {},
   "source": [
    "### 1. By Index Label:\n",
    "**Accessing a single element:**"
   ]
  },
  {
   "cell_type": "code",
   "execution_count": 5,
   "id": "8e1baa03",
   "metadata": {
    "tags": []
   },
   "outputs": [
    {
     "name": "stdout",
     "output_type": "stream",
     "text": [
      "20\n"
     ]
    }
   ],
   "source": [
    "print(s['b'])"
   ]
  },
  {
   "cell_type": "markdown",
   "id": "7900c7e9",
   "metadata": {},
   "source": [
    "### Accessing multiple elements:"
   ]
  },
  {
   "cell_type": "code",
   "execution_count": 6,
   "id": "1fd119ca",
   "metadata": {
    "tags": []
   },
   "outputs": [
    {
     "name": "stdout",
     "output_type": "stream",
     "text": [
      "a    10\n",
      "c    30\n",
      "dtype: int64\n"
     ]
    }
   ],
   "source": [
    "print(s[['a', 'c']])"
   ]
  },
  {
   "cell_type": "markdown",
   "id": "ce99614f",
   "metadata": {},
   "source": [
    "### 2. By Integer Location:\n",
    "**Accessing a single element:**"
   ]
  },
  {
   "cell_type": "code",
   "execution_count": 7,
   "id": "61ad57b1",
   "metadata": {
    "tags": []
   },
   "outputs": [
    {
     "name": "stdout",
     "output_type": "stream",
     "text": [
      "20\n"
     ]
    }
   ],
   "source": [
    "print(s[1])"
   ]
  },
  {
   "cell_type": "markdown",
   "id": "9c132cd4",
   "metadata": {},
   "source": [
    "### Accessing a range of elements:"
   ]
  },
  {
   "cell_type": "code",
   "execution_count": 8,
   "id": "3f9e3e79",
   "metadata": {
    "tags": []
   },
   "outputs": [
    {
     "name": "stdout",
     "output_type": "stream",
     "text": [
      "b    20\n",
      "c    30\n",
      "dtype: int64\n"
     ]
    }
   ],
   "source": [
    "print(s[1:3])"
   ]
  },
  {
   "cell_type": "markdown",
   "id": "3c1fbee8",
   "metadata": {},
   "source": [
    "## Vectorized Operations on Series\n",
    "One of the powerful features of Pandas is the ability to perform vectorized operations on Series, which means applying an operation to each element in the Series without the need for explicit loops."
   ]
  },
  {
   "cell_type": "markdown",
   "id": "3e2b5704",
   "metadata": {},
   "source": [
    "### 1. Arithmetic Operations:"
   ]
  },
  {
   "cell_type": "code",
   "execution_count": 9,
   "id": "0e7ca36e",
   "metadata": {
    "tags": []
   },
   "outputs": [
    {
     "name": "stdout",
     "output_type": "stream",
     "text": [
      "0    11\n",
      "1    12\n",
      "2    13\n",
      "3    14\n",
      "dtype: int64\n"
     ]
    }
   ],
   "source": [
    "s = pd.Series([1, 2, 3, 4])\n",
    "print(s + 10)"
   ]
  },
  {
   "cell_type": "markdown",
   "id": "51214d9a",
   "metadata": {},
   "source": [
    "### 2. Element-wise Operations:"
   ]
  },
  {
   "cell_type": "code",
   "execution_count": 10,
   "id": "23dd06a6",
   "metadata": {
    "tags": []
   },
   "outputs": [
    {
     "name": "stdout",
     "output_type": "stream",
     "text": [
      "0     1\n",
      "1     4\n",
      "2     9\n",
      "3    16\n",
      "dtype: int64\n"
     ]
    }
   ],
   "source": [
    "s = pd.Series([1, 2, 3, 4])\n",
    "print(s * s)"
   ]
  },
  {
   "cell_type": "markdown",
   "id": "c2b711b1",
   "metadata": {},
   "source": [
    "### 3. Using NumPy Functions:"
   ]
  },
  {
   "cell_type": "code",
   "execution_count": 11,
   "id": "a38275c7",
   "metadata": {
    "tags": []
   },
   "outputs": [
    {
     "name": "stdout",
     "output_type": "stream",
     "text": [
      "0     2.718282\n",
      "1     7.389056\n",
      "2    20.085537\n",
      "3    54.598150\n",
      "dtype: float64\n"
     ]
    }
   ],
   "source": [
    "import numpy as np\n",
    "s = pd.Series([1, 2, 3, 4])\n",
    "print(np.exp(s))"
   ]
  },
  {
   "cell_type": "markdown",
   "id": "ec7f90b5",
   "metadata": {},
   "source": [
    "## Handling Missing Data in Series\n",
    "Pandas Series has built-in support for handling missing data using NaN (Not a Number)."
   ]
  },
  {
   "cell_type": "markdown",
   "id": "594292c4",
   "metadata": {},
   "source": [
    "### 1. Creating a Series with Missing Data:"
   ]
  },
  {
   "cell_type": "code",
   "execution_count": 12,
   "id": "80c0c392",
   "metadata": {
    "tags": []
   },
   "outputs": [
    {
     "name": "stdout",
     "output_type": "stream",
     "text": [
      "0    1.0\n",
      "1    2.0\n",
      "2    NaN\n",
      "3    4.0\n",
      "dtype: float64\n"
     ]
    }
   ],
   "source": [
    "s = pd.Series([1, 2, np.nan, 4])\n",
    "print(s)"
   ]
  },
  {
   "cell_type": "markdown",
   "id": "3ddfd652",
   "metadata": {},
   "source": [
    "### 2. Detecting Missing Data:"
   ]
  },
  {
   "cell_type": "code",
   "execution_count": 13,
   "id": "28c947d1",
   "metadata": {
    "tags": []
   },
   "outputs": [
    {
     "name": "stdout",
     "output_type": "stream",
     "text": [
      "0    False\n",
      "1    False\n",
      "2     True\n",
      "3    False\n",
      "dtype: bool\n"
     ]
    }
   ],
   "source": [
    "print(s.isnull())"
   ]
  },
  {
   "cell_type": "markdown",
   "id": "ea8047c4",
   "metadata": {},
   "source": [
    "### 3. Filling Missing Data:"
   ]
  },
  {
   "cell_type": "code",
   "execution_count": 14,
   "id": "63018478",
   "metadata": {
    "tags": []
   },
   "outputs": [
    {
     "name": "stdout",
     "output_type": "stream",
     "text": [
      "0    1.0\n",
      "1    2.0\n",
      "2    0.0\n",
      "3    4.0\n",
      "dtype: float64\n"
     ]
    }
   ],
   "source": [
    "print(s.fillna(0))"
   ]
  },
  {
   "cell_type": "markdown",
   "id": "00b298ff",
   "metadata": {},
   "source": [
    "### 4. Dropping Missing Data:"
   ]
  },
  {
   "cell_type": "code",
   "execution_count": 15,
   "id": "68975e87",
   "metadata": {
    "tags": []
   },
   "outputs": [
    {
     "name": "stdout",
     "output_type": "stream",
     "text": [
      "0    1.0\n",
      "1    2.0\n",
      "3    4.0\n",
      "dtype: float64\n"
     ]
    }
   ],
   "source": [
    "print(s.dropna())"
   ]
  },
  {
   "cell_type": "markdown",
   "id": "ce921c43",
   "metadata": {},
   "source": [
    "## Example: Creating and Manipulating a Series\n",
    "Let’s consider a practical example where we create a Series of exam scores and perform some operations."
   ]
  },
  {
   "cell_type": "code",
   "execution_count": 16,
   "id": "163a363f",
   "metadata": {
    "tags": []
   },
   "outputs": [
    {
     "name": "stdout",
     "output_type": "stream",
     "text": [
      "Scores:\n",
      "Alice      85\n",
      "Bob        90\n",
      "Charlie    78\n",
      "David      92\n",
      "Eva        88\n",
      "dtype: int64\n",
      "\n",
      "Bob's score: 90\n",
      "\n",
      "Average score: 86.6\n",
      "\n",
      "Scores after adding bonus points:\n",
      "Alice      90\n",
      "Bob        95\n",
      "Charlie    83\n",
      "David      97\n",
      "Eva        93\n",
      "dtype: int64\n",
      "\n",
      "Students scoring above 90 after bonus:\n",
      "Bob      95\n",
      "David    97\n",
      "Eva      93\n",
      "dtype: int64\n"
     ]
    }
   ],
   "source": [
    "import pandas as pd\n",
    "\n",
    "# Create a Series with custom index\n",
    "scores = pd.Series([85, 90, 78, 92, 88], index=['Alice', 'Bob', 'Charlie', 'David', 'Eva'])\n",
    "\n",
    "# Display the Series\n",
    "print(\"Scores:\")\n",
    "print(scores)\n",
    "\n",
    "# Accessing a single score\n",
    "print(\"\\nBob's score:\", scores['Bob'])\n",
    "\n",
    "# Calculating the average score\n",
    "average_score = scores.mean()\n",
    "print(\"\\nAverage score:\", average_score)\n",
    "\n",
    "# Adding 5 bonus points to all scores\n",
    "bonus_scores = scores + 5\n",
    "print(\"\\nScores after adding bonus points:\")\n",
    "print(bonus_scores)\n",
    "\n",
    "# Identify students who scored above 90 after the bonus\n",
    "high_scorers = bonus_scores[bonus_scores > 90]\n",
    "print(\"\\nStudents scoring above 90 after bonus:\")\n",
    "print(high_scorers)"
   ]
  }
 ],
 "metadata": {
  "kernelspec": {
   "display_name": "Python 3 (ipykernel)",
   "language": "python",
   "name": "python3"
  },
  "language_info": {
   "codemirror_mode": {
    "name": "ipython",
    "version": 3
   },
   "file_extension": ".py",
   "mimetype": "text/x-python",
   "name": "python",
   "nbconvert_exporter": "python",
   "pygments_lexer": "ipython3",
   "version": "3.11.5"
  }
 },
 "nbformat": 4,
 "nbformat_minor": 5
}
