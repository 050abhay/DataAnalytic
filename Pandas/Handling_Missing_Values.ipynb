{
 "cells": [
  {
   "cell_type": "markdown",
   "id": "2946291f-4203-41c6-a4f6-296ded86342b",
   "metadata": {},
   "source": [
    "# Handling Missing Value"
   ]
  },
  {
   "cell_type": "code",
   "execution_count": 16,
   "id": "f7fe7052-9a39-4cca-bdfc-7cf75dd2caa6",
   "metadata": {
    "tags": []
   },
   "outputs": [
    {
     "data": {
      "text/html": [
       "<div>\n",
       "<style scoped>\n",
       "    .dataframe tbody tr th:only-of-type {\n",
       "        vertical-align: middle;\n",
       "    }\n",
       "\n",
       "    .dataframe tbody tr th {\n",
       "        vertical-align: top;\n",
       "    }\n",
       "\n",
       "    .dataframe thead th {\n",
       "        text-align: right;\n",
       "    }\n",
       "</style>\n",
       "<table border=\"1\" class=\"dataframe\">\n",
       "  <thead>\n",
       "    <tr style=\"text-align: right;\">\n",
       "      <th></th>\n",
       "      <th>Emp_ID</th>\n",
       "      <th>Name</th>\n",
       "      <th>Age</th>\n",
       "      <th>Gender</th>\n",
       "      <th>Salary</th>\n",
       "      <th>Department</th>\n",
       "      <th>Joining_Date</th>\n",
       "    </tr>\n",
       "  </thead>\n",
       "  <tbody>\n",
       "    <tr>\n",
       "      <th>0</th>\n",
       "      <td>E01</td>\n",
       "      <td>John Doe</td>\n",
       "      <td>29.0</td>\n",
       "      <td>Male</td>\n",
       "      <td>50000.0</td>\n",
       "      <td>IT</td>\n",
       "      <td>15-01-2020</td>\n",
       "    </tr>\n",
       "    <tr>\n",
       "      <th>1</th>\n",
       "      <td>E02</td>\n",
       "      <td>Jane Smith</td>\n",
       "      <td>35.0</td>\n",
       "      <td>Female</td>\n",
       "      <td>NaN</td>\n",
       "      <td>HR</td>\n",
       "      <td>22-03-2018</td>\n",
       "    </tr>\n",
       "    <tr>\n",
       "      <th>2</th>\n",
       "      <td>E03</td>\n",
       "      <td>Emily Davis</td>\n",
       "      <td>28.0</td>\n",
       "      <td>Female</td>\n",
       "      <td>NaN</td>\n",
       "      <td>IT</td>\n",
       "      <td>09-07-2019</td>\n",
       "    </tr>\n",
       "    <tr>\n",
       "      <th>3</th>\n",
       "      <td>E04</td>\n",
       "      <td>Michael Brown</td>\n",
       "      <td>40.0</td>\n",
       "      <td>Male</td>\n",
       "      <td>80000.0</td>\n",
       "      <td>Finance</td>\n",
       "      <td>NaN</td>\n",
       "    </tr>\n",
       "    <tr>\n",
       "      <th>4</th>\n",
       "      <td>E05</td>\n",
       "      <td>Jessica Wilson</td>\n",
       "      <td>32.0</td>\n",
       "      <td>Female</td>\n",
       "      <td>55000.0</td>\n",
       "      <td>HR</td>\n",
       "      <td>05-02-2021</td>\n",
       "    </tr>\n",
       "    <tr>\n",
       "      <th>5</th>\n",
       "      <td>E06</td>\n",
       "      <td>David Lee</td>\n",
       "      <td>NaN</td>\n",
       "      <td>Male</td>\n",
       "      <td>NaN</td>\n",
       "      <td>IT</td>\n",
       "      <td>13-09-2020</td>\n",
       "    </tr>\n",
       "    <tr>\n",
       "      <th>6</th>\n",
       "      <td>E07</td>\n",
       "      <td>Laura White</td>\n",
       "      <td>27.0</td>\n",
       "      <td>Female</td>\n",
       "      <td>48000.0</td>\n",
       "      <td>Finance</td>\n",
       "      <td>20-01-2021</td>\n",
       "    </tr>\n",
       "    <tr>\n",
       "      <th>7</th>\n",
       "      <td>E08</td>\n",
       "      <td>Chris Green</td>\n",
       "      <td>NaN</td>\n",
       "      <td>Male</td>\n",
       "      <td>71000.0</td>\n",
       "      <td>IT</td>\n",
       "      <td>11-11-2019</td>\n",
       "    </tr>\n",
       "    <tr>\n",
       "      <th>8</th>\n",
       "      <td>E09</td>\n",
       "      <td>Sarah King</td>\n",
       "      <td>38.0</td>\n",
       "      <td>Female</td>\n",
       "      <td>NaN</td>\n",
       "      <td>HR</td>\n",
       "      <td>14-08-2017</td>\n",
       "    </tr>\n",
       "    <tr>\n",
       "      <th>9</th>\n",
       "      <td>E10</td>\n",
       "      <td>James Taylor</td>\n",
       "      <td>45.0</td>\n",
       "      <td>Male</td>\n",
       "      <td>90000.0</td>\n",
       "      <td>Finance</td>\n",
       "      <td>30-05-2016</td>\n",
       "    </tr>\n",
       "    <tr>\n",
       "      <th>10</th>\n",
       "      <td>E03</td>\n",
       "      <td>Emily Davis</td>\n",
       "      <td>28.0</td>\n",
       "      <td>NaN</td>\n",
       "      <td>62000.0</td>\n",
       "      <td>IT</td>\n",
       "      <td>09-07-2019</td>\n",
       "    </tr>\n",
       "    <tr>\n",
       "      <th>11</th>\n",
       "      <td>E05</td>\n",
       "      <td>Jessica Wilson</td>\n",
       "      <td>32.0</td>\n",
       "      <td>Female</td>\n",
       "      <td>55000.0</td>\n",
       "      <td>NaN</td>\n",
       "      <td>05-02-2021</td>\n",
       "    </tr>\n",
       "  </tbody>\n",
       "</table>\n",
       "</div>"
      ],
      "text/plain": [
       "   Emp_ID            Name   Age  Gender   Salary Department Joining_Date\n",
       "0     E01        John Doe  29.0    Male  50000.0         IT   15-01-2020\n",
       "1     E02      Jane Smith  35.0  Female      NaN         HR   22-03-2018\n",
       "2     E03     Emily Davis  28.0  Female      NaN         IT   09-07-2019\n",
       "3     E04   Michael Brown  40.0    Male  80000.0    Finance          NaN\n",
       "4     E05  Jessica Wilson  32.0  Female  55000.0         HR   05-02-2021\n",
       "5     E06       David Lee   NaN    Male      NaN         IT   13-09-2020\n",
       "6     E07     Laura White  27.0  Female  48000.0    Finance   20-01-2021\n",
       "7     E08     Chris Green   NaN    Male  71000.0         IT   11-11-2019\n",
       "8     E09      Sarah King  38.0  Female      NaN         HR   14-08-2017\n",
       "9     E10    James Taylor  45.0    Male  90000.0    Finance   30-05-2016\n",
       "10    E03     Emily Davis  28.0     NaN  62000.0         IT   09-07-2019\n",
       "11    E05  Jessica Wilson  32.0  Female  55000.0        NaN   05-02-2021"
      ]
     },
     "execution_count": 16,
     "metadata": {},
     "output_type": "execute_result"
    }
   ],
   "source": [
    "# Here we are using the new data \n",
    "df_Miss_val = pd.read_csv('sample_dataset_missing_values.csv')\n",
    "df_Miss_val"
   ]
  },
  {
   "cell_type": "markdown",
   "id": "c7bed1ea",
   "metadata": {},
   "source": [
    "## 5. Data Cleaning"
   ]
  },
  {
   "cell_type": "markdown",
   "id": "6ab1dd31-0ef3-44cf-ad32-5b346280b29d",
   "metadata": {},
   "source": [
    "#### Checking Duplicate values in dataset"
   ]
  },
  {
   "cell_type": "code",
   "execution_count": 17,
   "id": "e9bc9885-78a9-4ae8-9726-5f81f72dfa26",
   "metadata": {
    "tags": []
   },
   "outputs": [
    {
     "data": {
      "text/plain": [
       "0     False\n",
       "1     False\n",
       "2     False\n",
       "3     False\n",
       "4     False\n",
       "5     False\n",
       "6     False\n",
       "7     False\n",
       "8     False\n",
       "9     False\n",
       "10    False\n",
       "11    False\n",
       "dtype: bool"
      ]
     },
     "execution_count": 17,
     "metadata": {},
     "output_type": "execute_result"
    }
   ],
   "source": [
    "df_Miss_val.duplicated()"
   ]
  },
  {
   "cell_type": "markdown",
   "id": "ef100e22-fa86-499f-9696-ed1621e5471e",
   "metadata": {},
   "source": [
    "`Here it does not show any duplicate value , but Emp_ID is unique column, so we will check along this attribute to finds duplicate.`"
   ]
  },
  {
   "cell_type": "code",
   "execution_count": 18,
   "id": "269b6c77-5a46-4193-b92b-aab54c87835d",
   "metadata": {
    "tags": []
   },
   "outputs": [
    {
     "data": {
      "text/plain": [
       "0     False\n",
       "1     False\n",
       "2     False\n",
       "3     False\n",
       "4     False\n",
       "5     False\n",
       "6     False\n",
       "7     False\n",
       "8     False\n",
       "9     False\n",
       "10     True\n",
       "11     True\n",
       "Name: Emp_ID, dtype: bool"
      ]
     },
     "execution_count": 18,
     "metadata": {},
     "output_type": "execute_result"
    }
   ],
   "source": [
    "df_Miss_val['Emp_ID'].duplicated()"
   ]
  },
  {
   "cell_type": "code",
   "execution_count": 19,
   "id": "6849da55-55aa-4567-85a4-6544c8050093",
   "metadata": {
    "tags": []
   },
   "outputs": [
    {
     "data": {
      "text/plain": [
       "2"
      ]
     },
     "execution_count": 19,
     "metadata": {},
     "output_type": "execute_result"
    }
   ],
   "source": [
    "df_Miss_val['Emp_ID'].duplicated().sum()"
   ]
  },
  {
   "cell_type": "code",
   "execution_count": 20,
   "id": "5402adf0-ebb6-4196-b078-2e742f9b7639",
   "metadata": {
    "tags": []
   },
   "outputs": [
    {
     "data": {
      "text/html": [
       "<div>\n",
       "<style scoped>\n",
       "    .dataframe tbody tr th:only-of-type {\n",
       "        vertical-align: middle;\n",
       "    }\n",
       "\n",
       "    .dataframe tbody tr th {\n",
       "        vertical-align: top;\n",
       "    }\n",
       "\n",
       "    .dataframe thead th {\n",
       "        text-align: right;\n",
       "    }\n",
       "</style>\n",
       "<table border=\"1\" class=\"dataframe\">\n",
       "  <thead>\n",
       "    <tr style=\"text-align: right;\">\n",
       "      <th></th>\n",
       "      <th>Emp_ID</th>\n",
       "      <th>Name</th>\n",
       "      <th>Age</th>\n",
       "      <th>Gender</th>\n",
       "      <th>Salary</th>\n",
       "      <th>Department</th>\n",
       "      <th>Joining_Date</th>\n",
       "    </tr>\n",
       "  </thead>\n",
       "  <tbody>\n",
       "    <tr>\n",
       "      <th>0</th>\n",
       "      <td>E01</td>\n",
       "      <td>John Doe</td>\n",
       "      <td>29.0</td>\n",
       "      <td>Male</td>\n",
       "      <td>50000.0</td>\n",
       "      <td>IT</td>\n",
       "      <td>15-01-2020</td>\n",
       "    </tr>\n",
       "    <tr>\n",
       "      <th>1</th>\n",
       "      <td>E02</td>\n",
       "      <td>Jane Smith</td>\n",
       "      <td>35.0</td>\n",
       "      <td>Female</td>\n",
       "      <td>NaN</td>\n",
       "      <td>HR</td>\n",
       "      <td>22-03-2018</td>\n",
       "    </tr>\n",
       "    <tr>\n",
       "      <th>2</th>\n",
       "      <td>E03</td>\n",
       "      <td>Emily Davis</td>\n",
       "      <td>28.0</td>\n",
       "      <td>Female</td>\n",
       "      <td>NaN</td>\n",
       "      <td>IT</td>\n",
       "      <td>09-07-2019</td>\n",
       "    </tr>\n",
       "    <tr>\n",
       "      <th>3</th>\n",
       "      <td>E04</td>\n",
       "      <td>Michael Brown</td>\n",
       "      <td>40.0</td>\n",
       "      <td>Male</td>\n",
       "      <td>80000.0</td>\n",
       "      <td>Finance</td>\n",
       "      <td>NaN</td>\n",
       "    </tr>\n",
       "    <tr>\n",
       "      <th>4</th>\n",
       "      <td>E05</td>\n",
       "      <td>Jessica Wilson</td>\n",
       "      <td>32.0</td>\n",
       "      <td>Female</td>\n",
       "      <td>55000.0</td>\n",
       "      <td>HR</td>\n",
       "      <td>05-02-2021</td>\n",
       "    </tr>\n",
       "    <tr>\n",
       "      <th>5</th>\n",
       "      <td>E06</td>\n",
       "      <td>David Lee</td>\n",
       "      <td>NaN</td>\n",
       "      <td>Male</td>\n",
       "      <td>NaN</td>\n",
       "      <td>IT</td>\n",
       "      <td>13-09-2020</td>\n",
       "    </tr>\n",
       "    <tr>\n",
       "      <th>6</th>\n",
       "      <td>E07</td>\n",
       "      <td>Laura White</td>\n",
       "      <td>27.0</td>\n",
       "      <td>Female</td>\n",
       "      <td>48000.0</td>\n",
       "      <td>Finance</td>\n",
       "      <td>20-01-2021</td>\n",
       "    </tr>\n",
       "    <tr>\n",
       "      <th>7</th>\n",
       "      <td>E08</td>\n",
       "      <td>Chris Green</td>\n",
       "      <td>NaN</td>\n",
       "      <td>Male</td>\n",
       "      <td>71000.0</td>\n",
       "      <td>IT</td>\n",
       "      <td>11-11-2019</td>\n",
       "    </tr>\n",
       "    <tr>\n",
       "      <th>8</th>\n",
       "      <td>E09</td>\n",
       "      <td>Sarah King</td>\n",
       "      <td>38.0</td>\n",
       "      <td>Female</td>\n",
       "      <td>NaN</td>\n",
       "      <td>HR</td>\n",
       "      <td>14-08-2017</td>\n",
       "    </tr>\n",
       "    <tr>\n",
       "      <th>9</th>\n",
       "      <td>E10</td>\n",
       "      <td>James Taylor</td>\n",
       "      <td>45.0</td>\n",
       "      <td>Male</td>\n",
       "      <td>90000.0</td>\n",
       "      <td>Finance</td>\n",
       "      <td>30-05-2016</td>\n",
       "    </tr>\n",
       "  </tbody>\n",
       "</table>\n",
       "</div>"
      ],
      "text/plain": [
       "  Emp_ID            Name   Age  Gender   Salary Department Joining_Date\n",
       "0    E01        John Doe  29.0    Male  50000.0         IT   15-01-2020\n",
       "1    E02      Jane Smith  35.0  Female      NaN         HR   22-03-2018\n",
       "2    E03     Emily Davis  28.0  Female      NaN         IT   09-07-2019\n",
       "3    E04   Michael Brown  40.0    Male  80000.0    Finance          NaN\n",
       "4    E05  Jessica Wilson  32.0  Female  55000.0         HR   05-02-2021\n",
       "5    E06       David Lee   NaN    Male      NaN         IT   13-09-2020\n",
       "6    E07     Laura White  27.0  Female  48000.0    Finance   20-01-2021\n",
       "7    E08     Chris Green   NaN    Male  71000.0         IT   11-11-2019\n",
       "8    E09      Sarah King  38.0  Female      NaN         HR   14-08-2017\n",
       "9    E10    James Taylor  45.0    Male  90000.0    Finance   30-05-2016"
      ]
     },
     "execution_count": 20,
     "metadata": {},
     "output_type": "execute_result"
    }
   ],
   "source": [
    "df_Miss_val.drop_duplicates(\"Emp_ID\")"
   ]
  },
  {
   "cell_type": "markdown",
   "id": "92f6647e",
   "metadata": {},
   "source": [
    "### Handling Missing Data:"
   ]
  },
  {
   "cell_type": "markdown",
   "id": "08c6850b-c0cb-49e9-a44f-a675fb803099",
   "metadata": {},
   "source": [
    "df.dropna()  # Drops rows with missing values\n",
    "df.fillna(0)  # Fills missing values with 0\n",
    "df['Age'].fillna(df['Age'].mean(), inplace=True)  # Fills missing values with the mean"
   ]
  },
  {
   "cell_type": "code",
   "execution_count": 21,
   "id": "5f85afa1-5124-4204-8a3b-3aadbb753b9d",
   "metadata": {
    "tags": []
   },
   "outputs": [
    {
     "data": {
      "text/html": [
       "<div>\n",
       "<style scoped>\n",
       "    .dataframe tbody tr th:only-of-type {\n",
       "        vertical-align: middle;\n",
       "    }\n",
       "\n",
       "    .dataframe tbody tr th {\n",
       "        vertical-align: top;\n",
       "    }\n",
       "\n",
       "    .dataframe thead th {\n",
       "        text-align: right;\n",
       "    }\n",
       "</style>\n",
       "<table border=\"1\" class=\"dataframe\">\n",
       "  <thead>\n",
       "    <tr style=\"text-align: right;\">\n",
       "      <th></th>\n",
       "      <th>Emp_ID</th>\n",
       "      <th>Name</th>\n",
       "      <th>Age</th>\n",
       "      <th>Gender</th>\n",
       "      <th>Salary</th>\n",
       "      <th>Department</th>\n",
       "      <th>Joining_Date</th>\n",
       "    </tr>\n",
       "  </thead>\n",
       "  <tbody>\n",
       "    <tr>\n",
       "      <th>0</th>\n",
       "      <td>False</td>\n",
       "      <td>False</td>\n",
       "      <td>False</td>\n",
       "      <td>False</td>\n",
       "      <td>False</td>\n",
       "      <td>False</td>\n",
       "      <td>False</td>\n",
       "    </tr>\n",
       "    <tr>\n",
       "      <th>1</th>\n",
       "      <td>False</td>\n",
       "      <td>False</td>\n",
       "      <td>False</td>\n",
       "      <td>False</td>\n",
       "      <td>True</td>\n",
       "      <td>False</td>\n",
       "      <td>False</td>\n",
       "    </tr>\n",
       "    <tr>\n",
       "      <th>2</th>\n",
       "      <td>False</td>\n",
       "      <td>False</td>\n",
       "      <td>False</td>\n",
       "      <td>False</td>\n",
       "      <td>True</td>\n",
       "      <td>False</td>\n",
       "      <td>False</td>\n",
       "    </tr>\n",
       "    <tr>\n",
       "      <th>3</th>\n",
       "      <td>False</td>\n",
       "      <td>False</td>\n",
       "      <td>False</td>\n",
       "      <td>False</td>\n",
       "      <td>False</td>\n",
       "      <td>False</td>\n",
       "      <td>True</td>\n",
       "    </tr>\n",
       "    <tr>\n",
       "      <th>4</th>\n",
       "      <td>False</td>\n",
       "      <td>False</td>\n",
       "      <td>False</td>\n",
       "      <td>False</td>\n",
       "      <td>False</td>\n",
       "      <td>False</td>\n",
       "      <td>False</td>\n",
       "    </tr>\n",
       "    <tr>\n",
       "      <th>5</th>\n",
       "      <td>False</td>\n",
       "      <td>False</td>\n",
       "      <td>True</td>\n",
       "      <td>False</td>\n",
       "      <td>True</td>\n",
       "      <td>False</td>\n",
       "      <td>False</td>\n",
       "    </tr>\n",
       "    <tr>\n",
       "      <th>6</th>\n",
       "      <td>False</td>\n",
       "      <td>False</td>\n",
       "      <td>False</td>\n",
       "      <td>False</td>\n",
       "      <td>False</td>\n",
       "      <td>False</td>\n",
       "      <td>False</td>\n",
       "    </tr>\n",
       "    <tr>\n",
       "      <th>7</th>\n",
       "      <td>False</td>\n",
       "      <td>False</td>\n",
       "      <td>True</td>\n",
       "      <td>False</td>\n",
       "      <td>False</td>\n",
       "      <td>False</td>\n",
       "      <td>False</td>\n",
       "    </tr>\n",
       "    <tr>\n",
       "      <th>8</th>\n",
       "      <td>False</td>\n",
       "      <td>False</td>\n",
       "      <td>False</td>\n",
       "      <td>False</td>\n",
       "      <td>True</td>\n",
       "      <td>False</td>\n",
       "      <td>False</td>\n",
       "    </tr>\n",
       "    <tr>\n",
       "      <th>9</th>\n",
       "      <td>False</td>\n",
       "      <td>False</td>\n",
       "      <td>False</td>\n",
       "      <td>False</td>\n",
       "      <td>False</td>\n",
       "      <td>False</td>\n",
       "      <td>False</td>\n",
       "    </tr>\n",
       "    <tr>\n",
       "      <th>10</th>\n",
       "      <td>False</td>\n",
       "      <td>False</td>\n",
       "      <td>False</td>\n",
       "      <td>True</td>\n",
       "      <td>False</td>\n",
       "      <td>False</td>\n",
       "      <td>False</td>\n",
       "    </tr>\n",
       "    <tr>\n",
       "      <th>11</th>\n",
       "      <td>False</td>\n",
       "      <td>False</td>\n",
       "      <td>False</td>\n",
       "      <td>False</td>\n",
       "      <td>False</td>\n",
       "      <td>True</td>\n",
       "      <td>False</td>\n",
       "    </tr>\n",
       "  </tbody>\n",
       "</table>\n",
       "</div>"
      ],
      "text/plain": [
       "    Emp_ID   Name    Age  Gender  Salary  Department  Joining_Date\n",
       "0    False  False  False   False   False       False         False\n",
       "1    False  False  False   False    True       False         False\n",
       "2    False  False  False   False    True       False         False\n",
       "3    False  False  False   False   False       False          True\n",
       "4    False  False  False   False   False       False         False\n",
       "5    False  False   True   False    True       False         False\n",
       "6    False  False  False   False   False       False         False\n",
       "7    False  False   True   False   False       False         False\n",
       "8    False  False  False   False    True       False         False\n",
       "9    False  False  False   False   False       False         False\n",
       "10   False  False  False    True   False       False         False\n",
       "11   False  False  False   False   False        True         False"
      ]
     },
     "execution_count": 21,
     "metadata": {},
     "output_type": "execute_result"
    }
   ],
   "source": [
    "df_Miss_val.isnull()"
   ]
  },
  {
   "cell_type": "code",
   "execution_count": 22,
   "id": "642268b8-f704-4dfe-bd1b-a941d57f4aa2",
   "metadata": {
    "tags": []
   },
   "outputs": [
    {
     "data": {
      "text/plain": [
       "Emp_ID          0\n",
       "Name            0\n",
       "Age             2\n",
       "Gender          1\n",
       "Salary          4\n",
       "Department      1\n",
       "Joining_Date    1\n",
       "dtype: int64"
      ]
     },
     "execution_count": 22,
     "metadata": {},
     "output_type": "execute_result"
    }
   ],
   "source": [
    "df_Miss_val.isnull().sum()"
   ]
  },
  {
   "cell_type": "markdown",
   "id": "1b36bcfa",
   "metadata": {},
   "source": [
    "### :Replaceing Data or Filling the data"
   ]
  },
  {
   "cell_type": "code",
   "execution_count": 23,
   "id": "9419e6a7",
   "metadata": {},
   "outputs": [
    {
     "data": {
      "text/plain": [
       "0     50000.0\n",
       "1     63875.0\n",
       "2     63875.0\n",
       "3     80000.0\n",
       "4     55000.0\n",
       "5     63875.0\n",
       "6     48000.0\n",
       "7     71000.0\n",
       "8     63875.0\n",
       "9     90000.0\n",
       "10    62000.0\n",
       "11    55000.0\n",
       "Name: Salary, dtype: float64"
      ]
     },
     "execution_count": 23,
     "metadata": {},
     "output_type": "execute_result"
    }
   ],
   "source": [
    "import numpy as np\n",
    "\n",
    "df_Miss_val['Salary'] = df_Miss_val['Salary'].replace(np.nan,df_Miss_val['Salary'].mean())\n",
    "df_Miss_val['Salary']"
   ]
  },
  {
   "cell_type": "markdown",
   "id": "c43d2629-336d-41b6-a978-39dd7f5e48f8",
   "metadata": {},
   "source": [
    "Now , in Salary column there is no Nan values because all Nan values id filled with the mean of salary."
   ]
  },
  {
   "cell_type": "code",
   "execution_count": 24,
   "id": "aa34b11c-db05-4bab-8ef4-78a03abfbf23",
   "metadata": {
    "tags": []
   },
   "outputs": [
    {
     "data": {
      "text/plain": [
       "Emp_ID          0\n",
       "Name            0\n",
       "Age             2\n",
       "Gender          1\n",
       "Salary          0\n",
       "Department      1\n",
       "Joining_Date    1\n",
       "dtype: int64"
      ]
     },
     "execution_count": 24,
     "metadata": {},
     "output_type": "execute_result"
    }
   ],
   "source": [
    "df_Miss_val.isnull().sum()"
   ]
  },
  {
   "cell_type": "code",
   "execution_count": 27,
   "id": "34e353b1-a0e5-47b3-9ec0-2d275ec91cbd",
   "metadata": {
    "tags": []
   },
   "outputs": [
    {
     "data": {
      "text/plain": [
       "0     29.0\n",
       "1     35.0\n",
       "2     28.0\n",
       "3     40.0\n",
       "4     32.0\n",
       "5     33.4\n",
       "6     27.0\n",
       "7     33.4\n",
       "8     38.0\n",
       "9     45.0\n",
       "10    28.0\n",
       "11    32.0\n",
       "Name: Age, dtype: float64"
      ]
     },
     "execution_count": 27,
     "metadata": {},
     "output_type": "execute_result"
    }
   ],
   "source": [
    "df_Miss_val['Age'] = df_Miss_val['Age'].replace(np.nan,df_Miss_val['Age'].mean())\n",
    "df_Miss_val['Age']"
   ]
  },
  {
   "cell_type": "markdown",
   "id": "1a1b26d6-2115-4d6e-a8f7-685b5d96afa4",
   "metadata": {
    "tags": []
   },
   "source": [
    "Now , in Age column there is no Nan values because all Nan values id filled with the mean of Age."
   ]
  },
  {
   "cell_type": "code",
   "execution_count": 30,
   "id": "787c16c2-af46-4e90-a80d-fd3b0d552e55",
   "metadata": {
    "tags": []
   },
   "outputs": [
    {
     "data": {
      "text/plain": [
       "0     15-01-2020\n",
       "1     22-03-2018\n",
       "2     09-07-2019\n",
       "3     09-07-2019\n",
       "4     05-02-2021\n",
       "5     13-09-2020\n",
       "6     20-01-2021\n",
       "7     11-11-2019\n",
       "8     14-08-2017\n",
       "9     30-05-2016\n",
       "10    09-07-2019\n",
       "11    05-02-2021\n",
       "Name: Joining_Date, dtype: object"
      ]
     },
     "execution_count": 30,
     "metadata": {},
     "output_type": "execute_result"
    }
   ],
   "source": [
    "df_Miss_val[\"Joining_Date\"]=df_Miss_val[\"Joining_Date\"].fillna(method=\"ffill\")\n",
    "df_Miss_val[\"Joining_Date\"]"
   ]
  },
  {
   "cell_type": "code",
   "execution_count": 31,
   "id": "8e69f15e-4233-49c7-850f-c2f464b04dee",
   "metadata": {
    "tags": []
   },
   "outputs": [
    {
     "data": {
      "text/plain": [
       "0          IT\n",
       "1          HR\n",
       "2          IT\n",
       "3     Finance\n",
       "4          HR\n",
       "5          IT\n",
       "6     Finance\n",
       "7          IT\n",
       "8          HR\n",
       "9     Finance\n",
       "10         IT\n",
       "11         IT\n",
       "Name: Department, dtype: object"
      ]
     },
     "execution_count": 31,
     "metadata": {},
     "output_type": "execute_result"
    }
   ],
   "source": [
    "df_Miss_val[\"Department\"]=df_Miss_val[\"Department\"].fillna(method=\"ffill\")\n",
    "df_Miss_val[\"Department\"]"
   ]
  },
  {
   "cell_type": "code",
   "execution_count": 32,
   "id": "d8cec8a9-5dcc-4c66-b010-f9994174c8f8",
   "metadata": {
    "tags": []
   },
   "outputs": [
    {
     "data": {
      "text/plain": [
       "0       Male\n",
       "1     Female\n",
       "2     Female\n",
       "3       Male\n",
       "4     Female\n",
       "5       Male\n",
       "6     Female\n",
       "7       Male\n",
       "8     Female\n",
       "9       Male\n",
       "10      Male\n",
       "11    Female\n",
       "Name: Gender, dtype: object"
      ]
     },
     "execution_count": 32,
     "metadata": {},
     "output_type": "execute_result"
    }
   ],
   "source": [
    "df_Miss_val[\"Gender\"]=df_Miss_val[\"Gender\"].fillna(method=\"ffill\")\n",
    "df_Miss_val[\"Gender\"]"
   ]
  },
  {
   "cell_type": "code",
   "execution_count": 33,
   "id": "3be9d28e-b0d7-48c0-a6f9-e820bbdffcb7",
   "metadata": {
    "tags": []
   },
   "outputs": [
    {
     "data": {
      "text/plain": [
       "Emp_ID          0\n",
       "Name            0\n",
       "Age             0\n",
       "Gender          0\n",
       "Salary          0\n",
       "Department      0\n",
       "Joining_Date    0\n",
       "dtype: int64"
      ]
     },
     "execution_count": 33,
     "metadata": {},
     "output_type": "execute_result"
    }
   ],
   "source": [
    "df_Miss_val.isnull().sum()"
   ]
  },
  {
   "cell_type": "markdown",
   "id": "ffdef170",
   "metadata": {},
   "source": [
    "### Removing Duplicates:"
   ]
  },
  {
   "cell_type": "code",
   "execution_count": 38,
   "id": "261e0e5e-39e9-4402-9498-c5945bbc20f4",
   "metadata": {
    "tags": []
   },
   "outputs": [
    {
     "data": {
      "text/html": [
       "<div>\n",
       "<style scoped>\n",
       "    .dataframe tbody tr th:only-of-type {\n",
       "        vertical-align: middle;\n",
       "    }\n",
       "\n",
       "    .dataframe tbody tr th {\n",
       "        vertical-align: top;\n",
       "    }\n",
       "\n",
       "    .dataframe thead th {\n",
       "        text-align: right;\n",
       "    }\n",
       "</style>\n",
       "<table border=\"1\" class=\"dataframe\">\n",
       "  <thead>\n",
       "    <tr style=\"text-align: right;\">\n",
       "      <th></th>\n",
       "      <th>Emp_ID</th>\n",
       "      <th>Name</th>\n",
       "      <th>Age</th>\n",
       "      <th>Gender</th>\n",
       "      <th>Salary</th>\n",
       "      <th>Department</th>\n",
       "      <th>Joining_Date</th>\n",
       "    </tr>\n",
       "  </thead>\n",
       "  <tbody>\n",
       "    <tr>\n",
       "      <th>0</th>\n",
       "      <td>E01</td>\n",
       "      <td>John Doe</td>\n",
       "      <td>29.0</td>\n",
       "      <td>Male</td>\n",
       "      <td>50000.0</td>\n",
       "      <td>IT</td>\n",
       "      <td>15-01-2020</td>\n",
       "    </tr>\n",
       "    <tr>\n",
       "      <th>1</th>\n",
       "      <td>E02</td>\n",
       "      <td>Jane Smith</td>\n",
       "      <td>35.0</td>\n",
       "      <td>Female</td>\n",
       "      <td>63875.0</td>\n",
       "      <td>HR</td>\n",
       "      <td>22-03-2018</td>\n",
       "    </tr>\n",
       "    <tr>\n",
       "      <th>2</th>\n",
       "      <td>E03</td>\n",
       "      <td>Emily Davis</td>\n",
       "      <td>28.0</td>\n",
       "      <td>Female</td>\n",
       "      <td>63875.0</td>\n",
       "      <td>IT</td>\n",
       "      <td>09-07-2019</td>\n",
       "    </tr>\n",
       "    <tr>\n",
       "      <th>3</th>\n",
       "      <td>E04</td>\n",
       "      <td>Michael Brown</td>\n",
       "      <td>40.0</td>\n",
       "      <td>Male</td>\n",
       "      <td>80000.0</td>\n",
       "      <td>Finance</td>\n",
       "      <td>09-07-2019</td>\n",
       "    </tr>\n",
       "    <tr>\n",
       "      <th>4</th>\n",
       "      <td>E05</td>\n",
       "      <td>Jessica Wilson</td>\n",
       "      <td>32.0</td>\n",
       "      <td>Female</td>\n",
       "      <td>55000.0</td>\n",
       "      <td>HR</td>\n",
       "      <td>05-02-2021</td>\n",
       "    </tr>\n",
       "    <tr>\n",
       "      <th>5</th>\n",
       "      <td>E06</td>\n",
       "      <td>David Lee</td>\n",
       "      <td>33.4</td>\n",
       "      <td>Male</td>\n",
       "      <td>63875.0</td>\n",
       "      <td>IT</td>\n",
       "      <td>13-09-2020</td>\n",
       "    </tr>\n",
       "    <tr>\n",
       "      <th>6</th>\n",
       "      <td>E07</td>\n",
       "      <td>Laura White</td>\n",
       "      <td>27.0</td>\n",
       "      <td>Female</td>\n",
       "      <td>48000.0</td>\n",
       "      <td>Finance</td>\n",
       "      <td>20-01-2021</td>\n",
       "    </tr>\n",
       "    <tr>\n",
       "      <th>7</th>\n",
       "      <td>E08</td>\n",
       "      <td>Chris Green</td>\n",
       "      <td>33.4</td>\n",
       "      <td>Male</td>\n",
       "      <td>71000.0</td>\n",
       "      <td>IT</td>\n",
       "      <td>11-11-2019</td>\n",
       "    </tr>\n",
       "    <tr>\n",
       "      <th>8</th>\n",
       "      <td>E09</td>\n",
       "      <td>Sarah King</td>\n",
       "      <td>38.0</td>\n",
       "      <td>Female</td>\n",
       "      <td>63875.0</td>\n",
       "      <td>HR</td>\n",
       "      <td>14-08-2017</td>\n",
       "    </tr>\n",
       "    <tr>\n",
       "      <th>9</th>\n",
       "      <td>E10</td>\n",
       "      <td>James Taylor</td>\n",
       "      <td>45.0</td>\n",
       "      <td>Male</td>\n",
       "      <td>90000.0</td>\n",
       "      <td>Finance</td>\n",
       "      <td>30-05-2016</td>\n",
       "    </tr>\n",
       "  </tbody>\n",
       "</table>\n",
       "</div>"
      ],
      "text/plain": [
       "  Emp_ID            Name   Age  Gender   Salary Department Joining_Date\n",
       "0    E01        John Doe  29.0    Male  50000.0         IT   15-01-2020\n",
       "1    E02      Jane Smith  35.0  Female  63875.0         HR   22-03-2018\n",
       "2    E03     Emily Davis  28.0  Female  63875.0         IT   09-07-2019\n",
       "3    E04   Michael Brown  40.0    Male  80000.0    Finance   09-07-2019\n",
       "4    E05  Jessica Wilson  32.0  Female  55000.0         HR   05-02-2021\n",
       "5    E06       David Lee  33.4    Male  63875.0         IT   13-09-2020\n",
       "6    E07     Laura White  27.0  Female  48000.0    Finance   20-01-2021\n",
       "7    E08     Chris Green  33.4    Male  71000.0         IT   11-11-2019\n",
       "8    E09      Sarah King  38.0  Female  63875.0         HR   14-08-2017\n",
       "9    E10    James Taylor  45.0    Male  90000.0    Finance   30-05-2016"
      ]
     },
     "execution_count": 38,
     "metadata": {},
     "output_type": "execute_result"
    }
   ],
   "source": [
    "cleanData=df_Miss_val.drop_duplicates(\"Emp_ID\")\n",
    "cleanData"
   ]
  },
  {
   "cell_type": "markdown",
   "id": "c00150d7",
   "metadata": {},
   "source": [
    "## 6.  Column Transformation"
   ]
  },
  {
   "cell_type": "code",
   "execution_count": 39,
   "id": "43688fd5-e1d2-4e1d-8417-f7df3b49723a",
   "metadata": {
    "tags": []
   },
   "outputs": [
    {
     "data": {
      "text/html": [
       "<div>\n",
       "<style scoped>\n",
       "    .dataframe tbody tr th:only-of-type {\n",
       "        vertical-align: middle;\n",
       "    }\n",
       "\n",
       "    .dataframe tbody tr th {\n",
       "        vertical-align: top;\n",
       "    }\n",
       "\n",
       "    .dataframe thead th {\n",
       "        text-align: right;\n",
       "    }\n",
       "</style>\n",
       "<table border=\"1\" class=\"dataframe\">\n",
       "  <thead>\n",
       "    <tr style=\"text-align: right;\">\n",
       "      <th></th>\n",
       "      <th>Emp_ID</th>\n",
       "      <th>Name</th>\n",
       "      <th>Age</th>\n",
       "      <th>Gender</th>\n",
       "      <th>Salary</th>\n",
       "      <th>Department</th>\n",
       "      <th>Joining_Date</th>\n",
       "    </tr>\n",
       "  </thead>\n",
       "  <tbody>\n",
       "    <tr>\n",
       "      <th>0</th>\n",
       "      <td>E01</td>\n",
       "      <td>John Doe</td>\n",
       "      <td>29.0</td>\n",
       "      <td>Male</td>\n",
       "      <td>50000.0</td>\n",
       "      <td>IT</td>\n",
       "      <td>15-01-2020</td>\n",
       "    </tr>\n",
       "    <tr>\n",
       "      <th>1</th>\n",
       "      <td>E02</td>\n",
       "      <td>Jane Smith</td>\n",
       "      <td>35.0</td>\n",
       "      <td>Female</td>\n",
       "      <td>63875.0</td>\n",
       "      <td>HR</td>\n",
       "      <td>22-03-2018</td>\n",
       "    </tr>\n",
       "    <tr>\n",
       "      <th>2</th>\n",
       "      <td>E03</td>\n",
       "      <td>Emily Davis</td>\n",
       "      <td>28.0</td>\n",
       "      <td>Female</td>\n",
       "      <td>63875.0</td>\n",
       "      <td>IT</td>\n",
       "      <td>09-07-2019</td>\n",
       "    </tr>\n",
       "    <tr>\n",
       "      <th>3</th>\n",
       "      <td>E04</td>\n",
       "      <td>Michael Brown</td>\n",
       "      <td>40.0</td>\n",
       "      <td>Male</td>\n",
       "      <td>80000.0</td>\n",
       "      <td>Finance</td>\n",
       "      <td>09-07-2019</td>\n",
       "    </tr>\n",
       "    <tr>\n",
       "      <th>4</th>\n",
       "      <td>E05</td>\n",
       "      <td>Jessica Wilson</td>\n",
       "      <td>32.0</td>\n",
       "      <td>Female</td>\n",
       "      <td>55000.0</td>\n",
       "      <td>HR</td>\n",
       "      <td>05-02-2021</td>\n",
       "    </tr>\n",
       "    <tr>\n",
       "      <th>5</th>\n",
       "      <td>E06</td>\n",
       "      <td>David Lee</td>\n",
       "      <td>33.4</td>\n",
       "      <td>Male</td>\n",
       "      <td>63875.0</td>\n",
       "      <td>IT</td>\n",
       "      <td>13-09-2020</td>\n",
       "    </tr>\n",
       "    <tr>\n",
       "      <th>6</th>\n",
       "      <td>E07</td>\n",
       "      <td>Laura White</td>\n",
       "      <td>27.0</td>\n",
       "      <td>Female</td>\n",
       "      <td>48000.0</td>\n",
       "      <td>Finance</td>\n",
       "      <td>20-01-2021</td>\n",
       "    </tr>\n",
       "    <tr>\n",
       "      <th>7</th>\n",
       "      <td>E08</td>\n",
       "      <td>Chris Green</td>\n",
       "      <td>33.4</td>\n",
       "      <td>Male</td>\n",
       "      <td>71000.0</td>\n",
       "      <td>IT</td>\n",
       "      <td>11-11-2019</td>\n",
       "    </tr>\n",
       "    <tr>\n",
       "      <th>8</th>\n",
       "      <td>E09</td>\n",
       "      <td>Sarah King</td>\n",
       "      <td>38.0</td>\n",
       "      <td>Female</td>\n",
       "      <td>63875.0</td>\n",
       "      <td>HR</td>\n",
       "      <td>14-08-2017</td>\n",
       "    </tr>\n",
       "    <tr>\n",
       "      <th>9</th>\n",
       "      <td>E10</td>\n",
       "      <td>James Taylor</td>\n",
       "      <td>45.0</td>\n",
       "      <td>Male</td>\n",
       "      <td>90000.0</td>\n",
       "      <td>Finance</td>\n",
       "      <td>30-05-2016</td>\n",
       "    </tr>\n",
       "  </tbody>\n",
       "</table>\n",
       "</div>"
      ],
      "text/plain": [
       "  Emp_ID            Name   Age  Gender   Salary Department Joining_Date\n",
       "0    E01        John Doe  29.0    Male  50000.0         IT   15-01-2020\n",
       "1    E02      Jane Smith  35.0  Female  63875.0         HR   22-03-2018\n",
       "2    E03     Emily Davis  28.0  Female  63875.0         IT   09-07-2019\n",
       "3    E04   Michael Brown  40.0    Male  80000.0    Finance   09-07-2019\n",
       "4    E05  Jessica Wilson  32.0  Female  55000.0         HR   05-02-2021\n",
       "5    E06       David Lee  33.4    Male  63875.0         IT   13-09-2020\n",
       "6    E07     Laura White  27.0  Female  48000.0    Finance   20-01-2021\n",
       "7    E08     Chris Green  33.4    Male  71000.0         IT   11-11-2019\n",
       "8    E09      Sarah King  38.0  Female  63875.0         HR   14-08-2017\n",
       "9    E10    James Taylor  45.0    Male  90000.0    Finance   30-05-2016"
      ]
     },
     "execution_count": 39,
     "metadata": {},
     "output_type": "execute_result"
    }
   ],
   "source": [
    "cleanData"
   ]
  },
  {
   "cell_type": "markdown",
   "id": "2ce70852-2fdc-45df-9be2-5ba0f9a38083",
   "metadata": {},
   "source": [
    "Now we will add a extra column \"Status_of_Matuarity\", and it will be decided on age basis.\n",
    "If age> 35 then alpha and if age<35 then beta and if age<30 then gama."
   ]
  },
  {
   "cell_type": "code",
   "execution_count": 48,
   "id": "156dec9b-991c-4eb4-bfa0-05fc8dcfa116",
   "metadata": {
    "tags": []
   },
   "outputs": [
    {
     "data": {
      "text/html": [
       "<div>\n",
       "<style scoped>\n",
       "    .dataframe tbody tr th:only-of-type {\n",
       "        vertical-align: middle;\n",
       "    }\n",
       "\n",
       "    .dataframe tbody tr th {\n",
       "        vertical-align: top;\n",
       "    }\n",
       "\n",
       "    .dataframe thead th {\n",
       "        text-align: right;\n",
       "    }\n",
       "</style>\n",
       "<table border=\"1\" class=\"dataframe\">\n",
       "  <thead>\n",
       "    <tr style=\"text-align: right;\">\n",
       "      <th></th>\n",
       "      <th>Emp_ID</th>\n",
       "      <th>Name</th>\n",
       "      <th>Age</th>\n",
       "      <th>Gender</th>\n",
       "      <th>Salary</th>\n",
       "      <th>Department</th>\n",
       "      <th>Joining_Date</th>\n",
       "      <th>Status_of_Matuarity</th>\n",
       "    </tr>\n",
       "  </thead>\n",
       "  <tbody>\n",
       "    <tr>\n",
       "      <th>0</th>\n",
       "      <td>E01</td>\n",
       "      <td>John Doe</td>\n",
       "      <td>29.0</td>\n",
       "      <td>Male</td>\n",
       "      <td>50000.0</td>\n",
       "      <td>IT</td>\n",
       "      <td>15-01-2020</td>\n",
       "      <td>Gamma</td>\n",
       "    </tr>\n",
       "    <tr>\n",
       "      <th>1</th>\n",
       "      <td>E02</td>\n",
       "      <td>Jane Smith</td>\n",
       "      <td>35.0</td>\n",
       "      <td>Female</td>\n",
       "      <td>63875.0</td>\n",
       "      <td>HR</td>\n",
       "      <td>22-03-2018</td>\n",
       "      <td>Beta</td>\n",
       "    </tr>\n",
       "    <tr>\n",
       "      <th>2</th>\n",
       "      <td>E03</td>\n",
       "      <td>Emily Davis</td>\n",
       "      <td>28.0</td>\n",
       "      <td>Female</td>\n",
       "      <td>63875.0</td>\n",
       "      <td>IT</td>\n",
       "      <td>09-07-2019</td>\n",
       "      <td>Gamma</td>\n",
       "    </tr>\n",
       "    <tr>\n",
       "      <th>3</th>\n",
       "      <td>E04</td>\n",
       "      <td>Michael Brown</td>\n",
       "      <td>40.0</td>\n",
       "      <td>Male</td>\n",
       "      <td>80000.0</td>\n",
       "      <td>Finance</td>\n",
       "      <td>09-07-2019</td>\n",
       "      <td>Alpha</td>\n",
       "    </tr>\n",
       "    <tr>\n",
       "      <th>4</th>\n",
       "      <td>E05</td>\n",
       "      <td>Jessica Wilson</td>\n",
       "      <td>32.0</td>\n",
       "      <td>Female</td>\n",
       "      <td>55000.0</td>\n",
       "      <td>HR</td>\n",
       "      <td>05-02-2021</td>\n",
       "      <td>Beta</td>\n",
       "    </tr>\n",
       "    <tr>\n",
       "      <th>5</th>\n",
       "      <td>E06</td>\n",
       "      <td>David Lee</td>\n",
       "      <td>33.4</td>\n",
       "      <td>Male</td>\n",
       "      <td>63875.0</td>\n",
       "      <td>IT</td>\n",
       "      <td>13-09-2020</td>\n",
       "      <td>Beta</td>\n",
       "    </tr>\n",
       "    <tr>\n",
       "      <th>6</th>\n",
       "      <td>E07</td>\n",
       "      <td>Laura White</td>\n",
       "      <td>27.0</td>\n",
       "      <td>Female</td>\n",
       "      <td>48000.0</td>\n",
       "      <td>Finance</td>\n",
       "      <td>20-01-2021</td>\n",
       "      <td>Gamma</td>\n",
       "    </tr>\n",
       "    <tr>\n",
       "      <th>7</th>\n",
       "      <td>E08</td>\n",
       "      <td>Chris Green</td>\n",
       "      <td>33.4</td>\n",
       "      <td>Male</td>\n",
       "      <td>71000.0</td>\n",
       "      <td>IT</td>\n",
       "      <td>11-11-2019</td>\n",
       "      <td>Beta</td>\n",
       "    </tr>\n",
       "    <tr>\n",
       "      <th>8</th>\n",
       "      <td>E09</td>\n",
       "      <td>Sarah King</td>\n",
       "      <td>38.0</td>\n",
       "      <td>Female</td>\n",
       "      <td>63875.0</td>\n",
       "      <td>HR</td>\n",
       "      <td>14-08-2017</td>\n",
       "      <td>Alpha</td>\n",
       "    </tr>\n",
       "    <tr>\n",
       "      <th>9</th>\n",
       "      <td>E10</td>\n",
       "      <td>James Taylor</td>\n",
       "      <td>45.0</td>\n",
       "      <td>Male</td>\n",
       "      <td>90000.0</td>\n",
       "      <td>Finance</td>\n",
       "      <td>30-05-2016</td>\n",
       "      <td>Alpha</td>\n",
       "    </tr>\n",
       "  </tbody>\n",
       "</table>\n",
       "</div>"
      ],
      "text/plain": [
       "  Emp_ID            Name   Age  Gender   Salary Department Joining_Date  \\\n",
       "0    E01        John Doe  29.0    Male  50000.0         IT   15-01-2020   \n",
       "1    E02      Jane Smith  35.0  Female  63875.0         HR   22-03-2018   \n",
       "2    E03     Emily Davis  28.0  Female  63875.0         IT   09-07-2019   \n",
       "3    E04   Michael Brown  40.0    Male  80000.0    Finance   09-07-2019   \n",
       "4    E05  Jessica Wilson  32.0  Female  55000.0         HR   05-02-2021   \n",
       "5    E06       David Lee  33.4    Male  63875.0         IT   13-09-2020   \n",
       "6    E07     Laura White  27.0  Female  48000.0    Finance   20-01-2021   \n",
       "7    E08     Chris Green  33.4    Male  71000.0         IT   11-11-2019   \n",
       "8    E09      Sarah King  38.0  Female  63875.0         HR   14-08-2017   \n",
       "9    E10    James Taylor  45.0    Male  90000.0    Finance   30-05-2016   \n",
       "\n",
       "  Status_of_Matuarity  \n",
       "0               Gamma  \n",
       "1                Beta  \n",
       "2               Gamma  \n",
       "3               Alpha  \n",
       "4                Beta  \n",
       "5                Beta  \n",
       "6               Gamma  \n",
       "7                Beta  \n",
       "8               Alpha  \n",
       "9               Alpha  "
      ]
     },
     "execution_count": 48,
     "metadata": {},
     "output_type": "execute_result"
    }
   ],
   "source": [
    "cleanData.loc[cleanData['Age'] > 35, 'Status_of_Matuarity'] = \"Alpha\"\n",
    "cleanData.loc[(cleanData['Age'] >= 30) & (cleanData['Age'] <= 35), 'Status_of_Matuarity'] = \"Beta\"\n",
    "cleanData.loc[cleanData['Age'] < 30, 'Status_of_Matuarity'] = \"Gamma\"\n",
    "cleanData"
   ]
  },
  {
   "cell_type": "code",
   "execution_count": 1,
   "id": "59207b55-891e-448c-b2b1-c3d3ad9aecdc",
   "metadata": {},
   "outputs": [
    {
     "name": "stdout",
     "output_type": "stream",
     "text": [
      "     Months Short_months\n",
      "0   January          Jan\n",
      "1  February          Feb\n",
      "2     March          Mar\n",
      "3     April          Apr\n"
     ]
    }
   ],
   "source": [
    "import pandas as pd\n",
    "\n",
    "data = {\"Months\": [\"January\", \"February\", \"March\", \"April\"]}\n",
    "a = pd.DataFrame(data)\n",
    "\n",
    "def extract(value):\n",
    "    return value[0:3]\n",
    "\n",
    "a[\"Short_months\"] = a[\"Months\"].map(extract)\n",
    "print(a)"
   ]
  },
  {
   "cell_type": "markdown",
   "id": "5bda3935",
   "metadata": {},
   "source": [
    "### Concat: Concatenate DataFrames either along rows or columns."
   ]
  },
  {
   "cell_type": "code",
   "execution_count": null,
   "id": "d3f460ba",
   "metadata": {},
   "outputs": [],
   "source": [
    "df1 = pd.DataFrame({'A': [1, 2], 'B': [3, 4]})\n",
    "df2 = pd.DataFrame({'A': [5, 6], 'B': [7, 8]})\n",
    "pd.concat([df1, df2])"
   ]
  },
  {
   "cell_type": "markdown",
   "id": "96440e73",
   "metadata": {},
   "source": [
    "### Merge: Merge DataFrames based on keys (similar to SQL JOIN)."
   ]
  },
  {
   "cell_type": "code",
   "execution_count": null,
   "id": "48649293",
   "metadata": {},
   "outputs": [],
   "source": [
    "df1 = pd.DataFrame({'key': ['A', 'B', 'C'], 'value': [1, 2, 3]})\n",
    "df2 = pd.DataFrame({'key': ['B', 'C', 'D'], 'value': [4, 5, 6]})\n",
    "pd.merge(df1, df2, on='key', how='inner')"
   ]
  },
  {
   "cell_type": "markdown",
   "id": "cb659f50",
   "metadata": {},
   "source": [
    "## 7. GroupBy Operations"
   ]
  },
  {
   "cell_type": "markdown",
   "id": "19b3aaa2",
   "metadata": {},
   "source": [
    "### GroupBy: You can group data by one or more columns and then apply aggregate functions."
   ]
  },
  {
   "cell_type": "code",
   "execution_count": null,
   "id": "e6710c22",
   "metadata": {},
   "outputs": [],
   "source": [
    "df.groupby('City').mean()  # Group by 'City' and calculate the mean\n",
    "df.groupby('City').agg({'Age': 'mean', 'Salary': 'sum'})  # Apply different aggregations"
   ]
  },
  {
   "cell_type": "markdown",
   "id": "cf84e336",
   "metadata": {},
   "source": [
    "## 8. Pivot Tables\n",
    "Pivot tables in Pandas are similar to pivot tables in Excel. They allow you to rearrange and summarize data."
   ]
  },
  {
   "cell_type": "code",
   "execution_count": null,
   "id": "808365ed",
   "metadata": {},
   "outputs": [],
   "source": [
    "df.pivot_table(values='Age', index='City', columns='Name', aggfunc='mean')"
   ]
  },
  {
   "cell_type": "code",
   "execution_count": 51,
   "id": "804145e7-56ba-4117-8838-4c7b31ab3746",
   "metadata": {
    "tags": []
   },
   "outputs": [
    {
     "name": "stdout",
     "output_type": "stream",
     "text": [
      "1 2 4 7 11 \n",
      "* 16 18 21 25 * \n",
      "* * 30 33 37 * * \n",
      "* * * 42 46 * * * \n",
      "* * * * 51 * * * * \n"
     ]
    }
   ],
   "source": [
    "n = 6\n",
    "current_number = 1\n",
    "\n",
    "for i in range(1, n):\n",
    "    # Print leading asterisks\n",
    "    for _ in range(i - 1):\n",
    "        print(\"*\", end=\" \")\n",
    "\n",
    "    # Print numbers in the row\n",
    "    for j in range(i, n):\n",
    "        print(current_number, end=\" \")\n",
    "        current_number += j\n",
    "\n",
    "    # Fill the remaining row with asterisks\n",
    "    for _ in range(i - 1):\n",
    "        print(\"*\", end=\" \")\n",
    "\n",
    "    # Move to the next line\n",
    "    print()\n"
   ]
  },
  {
   "cell_type": "code",
   "execution_count": null,
   "id": "3e9d6f5f-4bba-4abe-a6ff-7ba733c27e23",
   "metadata": {},
   "outputs": [],
   "source": []
  }
 ],
 "metadata": {
  "kernelspec": {
   "display_name": "Python 3 (ipykernel)",
   "language": "python",
   "name": "python3"
  },
  "language_info": {
   "codemirror_mode": {
    "name": "ipython",
    "version": 3
   },
   "file_extension": ".py",
   "mimetype": "text/x-python",
   "name": "python",
   "nbconvert_exporter": "python",
   "pygments_lexer": "ipython3",
   "version": "3.11.5"
  }
 },
 "nbformat": 4,
 "nbformat_minor": 5
}
