{
 "cells": [
  {
   "cell_type": "markdown",
   "id": "aa8af0c4",
   "metadata": {},
   "source": [
    "# 1. What is a DataFrame?\n",
    "A DataFrame is a two-dimensional, size-mutable, and heterogeneous tabular data structure with labeled axes (rows and columns). It’s similar to a spreadsheet or SQL table and is one of the most versatile structures in Pandas."
   ]
  },
  {
   "cell_type": "markdown",
   "id": "c9152617",
   "metadata": {},
   "source": [
    "## 2. Creating a DataFrame\n",
    "DataFrames can be created in several ways:"
   ]
  },
  {
   "cell_type": "markdown",
   "id": "8547f98b",
   "metadata": {},
   "source": [
    "### From a Dictionary:\n",
    "You can create a DataFrame using a dictionary where the keys are column names and the values are lists or arrays."
   ]
  },
  {
   "cell_type": "code",
   "execution_count": 2,
   "id": "977d140c",
   "metadata": {
    "tags": []
   },
   "outputs": [
    {
     "data": {
      "text/html": [
       "<div>\n",
       "<style scoped>\n",
       "    .dataframe tbody tr th:only-of-type {\n",
       "        vertical-align: middle;\n",
       "    }\n",
       "\n",
       "    .dataframe tbody tr th {\n",
       "        vertical-align: top;\n",
       "    }\n",
       "\n",
       "    .dataframe thead th {\n",
       "        text-align: right;\n",
       "    }\n",
       "</style>\n",
       "<table border=\"1\" class=\"dataframe\">\n",
       "  <thead>\n",
       "    <tr style=\"text-align: right;\">\n",
       "      <th></th>\n",
       "      <th>Name</th>\n",
       "      <th>Age</th>\n",
       "      <th>City</th>\n",
       "    </tr>\n",
       "  </thead>\n",
       "  <tbody>\n",
       "    <tr>\n",
       "      <th>0</th>\n",
       "      <td>Alice</td>\n",
       "      <td>25</td>\n",
       "      <td>New York</td>\n",
       "    </tr>\n",
       "    <tr>\n",
       "      <th>1</th>\n",
       "      <td>Bob</td>\n",
       "      <td>30</td>\n",
       "      <td>Los Angeles</td>\n",
       "    </tr>\n",
       "    <tr>\n",
       "      <th>2</th>\n",
       "      <td>Charlie</td>\n",
       "      <td>35</td>\n",
       "      <td>Chicago</td>\n",
       "    </tr>\n",
       "  </tbody>\n",
       "</table>\n",
       "</div>"
      ],
      "text/plain": [
       "      Name  Age         City\n",
       "0    Alice   25     New York\n",
       "1      Bob   30  Los Angeles\n",
       "2  Charlie   35      Chicago"
      ]
     },
     "execution_count": 2,
     "metadata": {},
     "output_type": "execute_result"
    }
   ],
   "source": [
    "import pandas as pd\n",
    "\n",
    "data = {\n",
    "    'Name': ['Alice', 'Bob', 'Charlie'],\n",
    "    'Age': [25, 30, 35],\n",
    "    'City': ['New York', 'Los Angeles', 'Chicago']\n",
    "}\n",
    "\n",
    "df = pd.DataFrame(data)\n",
    "df"
   ]
  },
  {
   "cell_type": "markdown",
   "id": "f46117bb",
   "metadata": {},
   "source": [
    "### From a List of Dictionaries:\n",
    "Another common way to create a DataFrame is from a list of dictionaries."
   ]
  },
  {
   "cell_type": "code",
   "execution_count": 4,
   "id": "287b0d7b",
   "metadata": {
    "tags": []
   },
   "outputs": [
    {
     "data": {
      "text/html": [
       "<div>\n",
       "<style scoped>\n",
       "    .dataframe tbody tr th:only-of-type {\n",
       "        vertical-align: middle;\n",
       "    }\n",
       "\n",
       "    .dataframe tbody tr th {\n",
       "        vertical-align: top;\n",
       "    }\n",
       "\n",
       "    .dataframe thead th {\n",
       "        text-align: right;\n",
       "    }\n",
       "</style>\n",
       "<table border=\"1\" class=\"dataframe\">\n",
       "  <thead>\n",
       "    <tr style=\"text-align: right;\">\n",
       "      <th></th>\n",
       "      <th>Name</th>\n",
       "      <th>Age</th>\n",
       "      <th>City</th>\n",
       "    </tr>\n",
       "  </thead>\n",
       "  <tbody>\n",
       "    <tr>\n",
       "      <th>0</th>\n",
       "      <td>Alice</td>\n",
       "      <td>25</td>\n",
       "      <td>New York</td>\n",
       "    </tr>\n",
       "    <tr>\n",
       "      <th>1</th>\n",
       "      <td>Bob</td>\n",
       "      <td>30</td>\n",
       "      <td>Los Angeles</td>\n",
       "    </tr>\n",
       "    <tr>\n",
       "      <th>2</th>\n",
       "      <td>Charlie</td>\n",
       "      <td>35</td>\n",
       "      <td>Chicago</td>\n",
       "    </tr>\n",
       "  </tbody>\n",
       "</table>\n",
       "</div>"
      ],
      "text/plain": [
       "      Name  Age         City\n",
       "0    Alice   25     New York\n",
       "1      Bob   30  Los Angeles\n",
       "2  Charlie   35      Chicago"
      ]
     },
     "execution_count": 4,
     "metadata": {},
     "output_type": "execute_result"
    }
   ],
   "source": [
    "data = [\n",
    "    {'Name': 'Alice', 'Age': 25, 'City': 'New York'},\n",
    "    {'Name': 'Bob', 'Age': 30, 'City': 'Los Angeles'},\n",
    "    {'Name': 'Charlie', 'Age': 35, 'City': 'Chicago'}\n",
    "]\n",
    "\n",
    "df = pd.DataFrame(data)\n",
    "df"
   ]
  },
  {
   "cell_type": "markdown",
   "id": "c26bf410",
   "metadata": {},
   "source": [
    "### From a CSV or Excel File:\n",
    "You can load data directly from files into a DataFrame using `pd.read_csv()` or `pd.read_excel()`."
   ]
  },
  {
   "cell_type": "code",
   "execution_count": null,
   "id": "7a1c5935",
   "metadata": {},
   "outputs": [],
   "source": [
    "df = pd.read_csv('file.csv')"
   ]
  },
  {
   "cell_type": "markdown",
   "id": "83c54bcc",
   "metadata": {},
   "source": [
    "### From NumPy Arrays:\n",
    "DataFrames can also be created from NumPy arrays."
   ]
  },
  {
   "cell_type": "code",
   "execution_count": 5,
   "id": "36bbb68a",
   "metadata": {
    "tags": []
   },
   "outputs": [
    {
     "data": {
      "text/html": [
       "<div>\n",
       "<style scoped>\n",
       "    .dataframe tbody tr th:only-of-type {\n",
       "        vertical-align: middle;\n",
       "    }\n",
       "\n",
       "    .dataframe tbody tr th {\n",
       "        vertical-align: top;\n",
       "    }\n",
       "\n",
       "    .dataframe thead th {\n",
       "        text-align: right;\n",
       "    }\n",
       "</style>\n",
       "<table border=\"1\" class=\"dataframe\">\n",
       "  <thead>\n",
       "    <tr style=\"text-align: right;\">\n",
       "      <th></th>\n",
       "      <th>A</th>\n",
       "      <th>B</th>\n",
       "      <th>C</th>\n",
       "    </tr>\n",
       "  </thead>\n",
       "  <tbody>\n",
       "    <tr>\n",
       "      <th>0</th>\n",
       "      <td>1</td>\n",
       "      <td>2</td>\n",
       "      <td>3</td>\n",
       "    </tr>\n",
       "    <tr>\n",
       "      <th>1</th>\n",
       "      <td>4</td>\n",
       "      <td>5</td>\n",
       "      <td>6</td>\n",
       "    </tr>\n",
       "    <tr>\n",
       "      <th>2</th>\n",
       "      <td>7</td>\n",
       "      <td>8</td>\n",
       "      <td>9</td>\n",
       "    </tr>\n",
       "  </tbody>\n",
       "</table>\n",
       "</div>"
      ],
      "text/plain": [
       "   A  B  C\n",
       "0  1  2  3\n",
       "1  4  5  6\n",
       "2  7  8  9"
      ]
     },
     "execution_count": 5,
     "metadata": {},
     "output_type": "execute_result"
    }
   ],
   "source": [
    "import numpy as np\n",
    "\n",
    "data = np.array([[1, 2, 3], [4, 5, 6], [7, 8, 9]])\n",
    "df = pd.DataFrame(data, columns=['A', 'B', 'C'])\n",
    "df"
   ]
  },
  {
   "cell_type": "markdown",
   "id": "6315d2a2",
   "metadata": {},
   "source": [
    "## 3. Indexing and Selecting Data\n",
    "Pandas provides powerful ways to access and manipulate data:"
   ]
  },
  {
   "cell_type": "markdown",
   "id": "7100a1b4",
   "metadata": {},
   "source": [
    "### `.loc[]`: Access rows and columns by labels."
   ]
  },
  {
   "cell_type": "code",
   "execution_count": null,
   "id": "ddecebd8",
   "metadata": {},
   "outputs": [],
   "source": [
    "df.loc[0]  # Accesses the first row\n",
    "df.loc[:, 'Age']  # Accesses the 'Age' column\n",
    "df.loc[0, 'Name']  # Accesses the value at the first row of 'Name' column"
   ]
  },
  {
   "cell_type": "markdown",
   "id": "2f27902b",
   "metadata": {},
   "source": [
    "### `.iloc[]`: Access rows and columns by integer positions."
   ]
  },
  {
   "cell_type": "code",
   "execution_count": null,
   "id": "f80bbf49",
   "metadata": {},
   "outputs": [],
   "source": [
    "df.iloc[0]  # Accesses the first row\n",
    "df.iloc[:, 1]  # Accesses the second column\n",
    "df.iloc[0, 1]  # Accesses the value at the first row of the second column"
   ]
  },
  {
   "cell_type": "markdown",
   "id": "448c4617",
   "metadata": {},
   "source": [
    "### Boolean Indexing: Filtering data based on conditions."
   ]
  },
  {
   "cell_type": "code",
   "execution_count": null,
   "id": "23d3ca89",
   "metadata": {},
   "outputs": [],
   "source": [
    "df[df['Age'] > 30]  # Returns rows where 'Age' is greater than 30"
   ]
  },
  {
   "cell_type": "markdown",
   "id": "deba5932",
   "metadata": {},
   "source": [
    "## 4. DataFrame Operations"
   ]
  },
  {
   "cell_type": "markdown",
   "id": "7e887914",
   "metadata": {},
   "source": [
    "### Add/Delete Columns:\n",
    "You can easily add or delete columns in a DataFrame."
   ]
  },
  {
   "cell_type": "code",
   "execution_count": null,
   "id": "e9aaec55",
   "metadata": {},
   "outputs": [],
   "source": [
    "df['Salary'] = [50000, 60000, 70000]  # Adding a new column\n",
    "df.drop('City', axis=1, inplace=True)  # Deleting a column"
   ]
  },
  {
   "cell_type": "markdown",
   "id": "36a77835",
   "metadata": {},
   "source": [
    "### Add/Delete Rows:\n",
    "Similarly, you can add or delete rows."
   ]
  },
  {
   "cell_type": "code",
   "execution_count": null,
   "id": "efee7e06",
   "metadata": {},
   "outputs": [],
   "source": [
    "df = df.append({'Name': 'David', 'Age': 40, 'City': 'Miami'}, ignore_index=True)  # Adding a row\n",
    "df.drop(0, axis=0, inplace=True)  # Deleting a row by index"
   ]
  },
  {
   "cell_type": "markdown",
   "id": "caea74e6",
   "metadata": {},
   "source": [
    "### DataFrame Transpose:\n",
    "You can transpose a DataFrame (swap rows and columns)."
   ]
  },
  {
   "cell_type": "code",
   "execution_count": null,
   "id": "e56aded8",
   "metadata": {},
   "outputs": [],
   "source": [
    "df.T"
   ]
  },
  {
   "cell_type": "markdown",
   "id": "4ad715fb",
   "metadata": {},
   "source": [
    "## 5. Data Cleaning\n",
    "DataFrames are commonly used for data cleaning:"
   ]
  },
  {
   "cell_type": "markdown",
   "id": "0a813c9d",
   "metadata": {},
   "source": [
    "### Handling Missing Data:\n",
    "Pandas offers several methods to deal with missing data."
   ]
  },
  {
   "cell_type": "code",
   "execution_count": null,
   "id": "0bafd27e",
   "metadata": {},
   "outputs": [],
   "source": [
    "df.dropna()  # Drops rows with missing values\n",
    "df.fillna(0)  # Fills missing values with 0\n",
    "df['Age'].fillna(df['Age'].mean(), inplace=True)  # Fills missing values with the mean"
   ]
  },
  {
   "cell_type": "markdown",
   "id": "88b9bf82",
   "metadata": {},
   "source": [
    "### Data Type Conversion:\n",
    "You may need to convert data types for consistency."
   ]
  },
  {
   "cell_type": "code",
   "execution_count": null,
   "id": "8f604f35",
   "metadata": {},
   "outputs": [],
   "source": [
    "df['Age'] = df['Age'].astype(float)"
   ]
  },
  {
   "cell_type": "markdown",
   "id": "607ecaa4",
   "metadata": {},
   "source": [
    "### Removing Duplicates:\n",
    "Removing duplicate rows is straightforward."
   ]
  },
  {
   "cell_type": "code",
   "execution_count": null,
   "id": "cc134904",
   "metadata": {},
   "outputs": [],
   "source": [
    "df.drop_duplicates(inplace=True)"
   ]
  },
  {
   "cell_type": "markdown",
   "id": "4184e476",
   "metadata": {},
   "source": [
    "## 6. Merging and Joining DataFrames"
   ]
  },
  {
   "cell_type": "markdown",
   "id": "77bf7227",
   "metadata": {},
   "source": [
    "### Concat:\n",
    "Concatenate DataFrames either along rows or columns."
   ]
  },
  {
   "cell_type": "code",
   "execution_count": null,
   "id": "74f5390c",
   "metadata": {},
   "outputs": [],
   "source": [
    "df1 = pd.DataFrame({'A': [1, 2], 'B': [3, 4]})\n",
    "df2 = pd.DataFrame({'A': [5, 6], 'B': [7, 8]})\n",
    "pd.concat([df1, df2])"
   ]
  },
  {
   "cell_type": "markdown",
   "id": "fe5cb1e2",
   "metadata": {},
   "source": [
    "### Merge:\n",
    "Merge DataFrames based on keys (similar to SQL JOIN)."
   ]
  },
  {
   "cell_type": "code",
   "execution_count": null,
   "id": "29497e57",
   "metadata": {},
   "outputs": [],
   "source": [
    "df1 = pd.DataFrame({'key': ['A', 'B', 'C'], 'value': [1, 2, 3]})\n",
    "df2 = pd.DataFrame({'key': ['B', 'C', 'D'], 'value': [4, 5, 6]})\n",
    "pd.merge(df1, df2, on='key', how='inner')"
   ]
  },
  {
   "cell_type": "markdown",
   "id": "e38bae2e",
   "metadata": {},
   "source": [
    "## 7. GroupBy Operations\n",
    "Grouping data and performing aggregations is a common task."
   ]
  },
  {
   "cell_type": "markdown",
   "id": "227d5f5d",
   "metadata": {},
   "source": [
    "### GroupBy:\n",
    "You can group data by one or more columns and then apply aggregate functions."
   ]
  },
  {
   "cell_type": "code",
   "execution_count": null,
   "id": "bd5962c4",
   "metadata": {},
   "outputs": [],
   "source": [
    "df.groupby('City').mean()  # Group by 'City' and calculate the mean\n",
    "df.groupby('City').agg({'Age': 'mean', 'Salary': 'sum'})  # Apply different aggregations"
   ]
  },
  {
   "cell_type": "markdown",
   "id": "af153580",
   "metadata": {},
   "source": [
    "## 8. Pivot Tables\n",
    "Pivot tables in Pandas are similar to pivot tables in Excel. They allow you to rearrange and summarize data."
   ]
  },
  {
   "cell_type": "code",
   "execution_count": null,
   "id": "0e0efe51",
   "metadata": {},
   "outputs": [],
   "source": [
    "df.pivot_table(values='Age', index='City', columns='Name', aggfunc='mean')"
   ]
  },
  {
   "cell_type": "markdown",
   "id": "6d0b9702",
   "metadata": {},
   "source": [
    "## 9. Handling Dates\n",
    "Pandas provides strong support for handling date and time data."
   ]
  },
  {
   "cell_type": "markdown",
   "id": "c0d45868",
   "metadata": {},
   "source": [
    "### Datetime Conversion:\n",
    "Convert a column to datetime."
   ]
  },
  {
   "cell_type": "code",
   "execution_count": null,
   "id": "c8e57038",
   "metadata": {},
   "outputs": [],
   "source": [
    "df['Date'] = pd.to_datetime(df['Date'])"
   ]
  },
  {
   "cell_type": "markdown",
   "id": "250a8306",
   "metadata": {},
   "source": [
    "### DateTimeIndex:\n",
    "You can use date/time as an index."
   ]
  },
  {
   "cell_type": "code",
   "execution_count": null,
   "id": "ac9e6581",
   "metadata": {},
   "outputs": [],
   "source": [
    "df.set_index('Date', inplace=True)"
   ]
  },
  {
   "cell_type": "markdown",
   "id": "d8de2949",
   "metadata": {},
   "source": [
    "### Resampling:\n",
    "Resample time-series data to a different frequency."
   ]
  },
  {
   "cell_type": "code",
   "execution_count": null,
   "id": "a82cbebb",
   "metadata": {},
   "outputs": [],
   "source": [
    "df.resample('M').mean()  # Resample by month and calculate the mean"
   ]
  },
  {
   "cell_type": "markdown",
   "id": "7ed6f023",
   "metadata": {},
   "source": [
    "## 10. Advanced Indexing"
   ]
  },
  {
   "cell_type": "markdown",
   "id": "cfb7be59",
   "metadata": {},
   "source": [
    "### MultiIndex:\n",
    "Pandas supports hierarchical indexing to work with high-dimensional data."
   ]
  },
  {
   "cell_type": "code",
   "execution_count": null,
   "id": "64a2a3e6",
   "metadata": {},
   "outputs": [],
   "source": [
    "arrays = [\n",
    "    ['A', 'A', 'B', 'B'],\n",
    "    [1, 2, 1, 2]\n",
    "]\n",
    "df = pd.DataFrame(np.random.randn(4, 2), index=arrays, columns=['Data1', 'Data2'])"
   ]
  },
  {
   "cell_type": "markdown",
   "id": "daa66199",
   "metadata": {},
   "source": [
    "### Index Slicing:\n",
    "You can slice DataFrames with MultiIndex."
   ]
  },
  {
   "cell_type": "code",
   "execution_count": null,
   "id": "e9d867bd",
   "metadata": {},
   "outputs": [],
   "source": [
    "df.loc['A']\n",
    "df.loc[('A', 1):('B', 1)]"
   ]
  },
  {
   "cell_type": "markdown",
   "id": "aa8eb60c",
   "metadata": {},
   "source": [
    "## 11. Visualization\n",
    "Pandas integrates well with Matplotlib, allowing for quick visualization."
   ]
  },
  {
   "cell_type": "markdown",
   "id": "4366329f",
   "metadata": {},
   "source": [
    "### Plotting:\n",
    "Simple plots can be created directly from DataFrames."
   ]
  },
  {
   "cell_type": "code",
   "execution_count": null,
   "id": "221cbd15",
   "metadata": {},
   "outputs": [],
   "source": [
    "df.plot(x='Age', y='Salary', kind='scatter')"
   ]
  },
  {
   "cell_type": "markdown",
   "id": "118d60eb",
   "metadata": {},
   "source": [
    "## 12. Performance Optimization"
   ]
  },
  {
   "cell_type": "markdown",
   "id": "97ac6fed",
   "metadata": {},
   "source": [
    "### Vectorization:\n",
    "Pandas operations are vectorized, meaning they are applied element-wise, making them very efficient."
   ]
  },
  {
   "cell_type": "markdown",
   "id": "e2f49b52",
   "metadata": {},
   "source": [
    "### Apply/Map:\n",
    "For custom operations, apply and map are often used, but they can be slower than vectorized operations."
   ]
  },
  {
   "cell_type": "code",
   "execution_count": null,
   "id": "961747fc",
   "metadata": {},
   "outputs": [],
   "source": [
    "df['Age'].apply(lambda x: x + 1)"
   ]
  },
  {
   "cell_type": "markdown",
   "id": "8626fd7d",
   "metadata": {},
   "source": [
    "### Memory Usage:\n",
    "You can check and optimize memory usage by downcasting data types."
   ]
  },
  {
   "cell_type": "code",
   "execution_count": null,
   "id": "b8f119d4",
   "metadata": {},
   "outputs": [],
   "source": [
    "df.memory_usage(deep=True)"
   ]
  },
  {
   "cell_type": "markdown",
   "id": "7085c573",
   "metadata": {},
   "source": [
    "## 14. Common Issues"
   ]
  },
  {
   "cell_type": "markdown",
   "id": "7e0b8e6c",
   "metadata": {},
   "source": [
    "### SettingWithCopyWarning:\n",
    "This warning occurs when you're trying to modify a copy of a slice from a DataFrame. It's essential to understand when you're working with views vs. copies."
   ]
  },
  {
   "cell_type": "code",
   "execution_count": null,
   "id": "f0e853e2",
   "metadata": {},
   "outputs": [],
   "source": [
    "df.loc[0, 'Age'] = 26  # Direct assignment avoids this warning"
   ]
  }
 ],
 "metadata": {
  "kernelspec": {
   "display_name": "Python 3 (ipykernel)",
   "language": "python",
   "name": "python3"
  },
  "language_info": {
   "codemirror_mode": {
    "name": "ipython",
    "version": 3
   },
   "file_extension": ".py",
   "mimetype": "text/x-python",
   "name": "python",
   "nbconvert_exporter": "python",
   "pygments_lexer": "ipython3",
   "version": "3.11.5"
  }
 },
 "nbformat": 4,
 "nbformat_minor": 5
}
