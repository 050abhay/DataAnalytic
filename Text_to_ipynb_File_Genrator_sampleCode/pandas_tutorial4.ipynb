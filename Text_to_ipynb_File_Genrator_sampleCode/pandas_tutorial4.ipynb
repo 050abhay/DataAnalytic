{
 "cells": [
  {
   "cell_type": "markdown",
   "id": "b02012cf",
   "metadata": {},
   "source": [
    "# 1. What is a DataFrame?\n",
    "A DataFrame is a two-dimensional, size-mutable, and heterogeneous tabular data structure with labeled axes (rows and columns). It’s similar to a spreadsheet or SQL table and is one of the most versatile structures in Pandas."
   ]
  },
  {
   "cell_type": "markdown",
   "id": "7e122437",
   "metadata": {},
   "source": [
    "## 2. Creating a DataFrame\n",
    "DataFrames can be created in several ways:\n"
   ]
  },
  {
   "cell_type": "markdown",
   "id": "9c2170fc",
   "metadata": {},
   "source": [
    "### From a Dictionary:\n",
    "You can create a DataFrame using a dictionary where the keys are column names and the values are lists or arrays."
   ]
  },
  {
   "cell_type": "code",
   "execution_count": null,
   "id": "17da7da1",
   "metadata": {},
   "outputs": [],
   "source": [
    "import pandas as pd\n",
    "\n",
    "data = {\n",
    "    'Name': ['Alice', 'Bob', 'Charlie'],\n",
    "    'Age': [25, 30, 35],\n",
    "    'City': ['New York', 'Los Angeles', 'Chicago']\n",
    "}\n",
    "\n",
    "df = pd.DataFrame(data)"
   ]
  },
  {
   "cell_type": "markdown",
   "id": "8663c4a6",
   "metadata": {},
   "source": [
    "### From a List of Dictionaries:\n",
    "Another common way to create a DataFrame is from a list of dictionaries."
   ]
  },
  {
   "cell_type": "code",
   "execution_count": null,
   "id": "631d30c6",
   "metadata": {},
   "outputs": [],
   "source": [
    "data = [\n",
    "    {'Name': 'Alice', 'Age': 25, 'City': 'New York'},\n",
    "    {'Name': 'Bob', 'Age': 30, 'City': 'Los Angeles'},\n",
    "    {'Name': 'Charlie', 'Age': 35, 'City': 'Chicago'}\n",
    "]\n",
    "\n",
    "df = pd.DataFrame(data)"
   ]
  },
  {
   "cell_type": "markdown",
   "id": "7c07268f",
   "metadata": {},
   "source": [
    "### From a CSV or Excel File:\n",
    "You can load data directly from files into a DataFrame using `pd.read_csv()` or `pd.read_excel()`."
   ]
  },
  {
   "cell_type": "code",
   "execution_count": null,
   "id": "f3c4ab03",
   "metadata": {},
   "outputs": [],
   "source": [
    "df = pd.read_csv('file.csv')"
   ]
  },
  {
   "cell_type": "markdown",
   "id": "a3646be1",
   "metadata": {},
   "source": [
    "### From NumPy Arrays:\n",
    "DataFrames can also be created from NumPy arrays."
   ]
  },
  {
   "cell_type": "code",
   "execution_count": null,
   "id": "10c3458e",
   "metadata": {},
   "outputs": [],
   "source": [
    "import numpy as np\n",
    "\n",
    "data = np.array([[1, 2, 3], [4, 5, 6], [7, 8, 9]])\n",
    "df = pd.DataFrame(data, columns=['A', 'B', 'C'])"
   ]
  },
  {
   "cell_type": "markdown",
   "id": "e1c0866c",
   "metadata": {},
   "source": [
    "## 3. Indexing and Selecting Data\n",
    "Pandas provides powerful ways to access and manipulate data:\n"
   ]
  },
  {
   "cell_type": "markdown",
   "id": "17b08a8d",
   "metadata": {},
   "source": [
    "### .loc[]: Access rows and columns by labels."
   ]
  },
  {
   "cell_type": "code",
   "execution_count": null,
   "id": "e8658ed4",
   "metadata": {},
   "outputs": [],
   "source": [
    "df.loc[0]  # Accesses the first row\n",
    "df.loc[:, 'Age']  # Accesses the 'Age' column\n",
    "df.loc[0, 'Name']  # Accesses the value at the first row of 'Name' column"
   ]
  },
  {
   "cell_type": "markdown",
   "id": "5d897130",
   "metadata": {},
   "source": [
    "### .iloc[]: Access rows and columns by integer positions."
   ]
  },
  {
   "cell_type": "code",
   "execution_count": null,
   "id": "da943477",
   "metadata": {},
   "outputs": [],
   "source": [
    "df.iloc[0]  # Accesses the first row\n",
    "df.iloc[:, 1]  # Accesses the second column\n",
    "df.iloc[0, 1]  # Accesses the value at the first row of the second column"
   ]
  },
  {
   "cell_type": "markdown",
   "id": "51cb053e",
   "metadata": {},
   "source": [
    "### Boolean Indexing: Filtering data based on conditions."
   ]
  },
  {
   "cell_type": "code",
   "execution_count": null,
   "id": "803623e2",
   "metadata": {},
   "outputs": [],
   "source": [
    "df[df['Age'] > 30]  # Returns rows where 'Age' is greater than 30"
   ]
  },
  {
   "cell_type": "markdown",
   "id": "5a319245",
   "metadata": {},
   "source": [
    "## 4. DataFrame Operations"
   ]
  },
  {
   "cell_type": "markdown",
   "id": "a6059831",
   "metadata": {},
   "source": [
    "### Add/Delete Columns:"
   ]
  },
  {
   "cell_type": "code",
   "execution_count": null,
   "id": "336731ed",
   "metadata": {},
   "outputs": [],
   "source": [
    "df['Salary'] = [50000, 60000, 70000]  # Adding a new column\n",
    "df.drop('City', axis=1, inplace=True)  # Deleting a column"
   ]
  },
  {
   "cell_type": "markdown",
   "id": "7b6eb802",
   "metadata": {},
   "source": [
    "### Add/Delete Rows:"
   ]
  },
  {
   "cell_type": "code",
   "execution_count": null,
   "id": "d6cbd4e1",
   "metadata": {},
   "outputs": [],
   "source": [
    "df = df.append({'Name': 'David', 'Age': 40, 'City': 'Miami'}, ignore_index=True)  # Adding a row\n",
    "df.drop(0, axis=0, inplace=True)  # Deleting a row by index"
   ]
  },
  {
   "cell_type": "markdown",
   "id": "a22a131f",
   "metadata": {},
   "source": [
    "### DataFrame Transpose:\n",
    "You can transpose a DataFrame (swap rows and columns)."
   ]
  },
  {
   "cell_type": "code",
   "execution_count": null,
   "id": "6055e253",
   "metadata": {},
   "outputs": [],
   "source": [
    "df.T"
   ]
  },
  {
   "cell_type": "markdown",
   "id": "27310651",
   "metadata": {},
   "source": [
    "## 5. Data Cleaning"
   ]
  },
  {
   "cell_type": "markdown",
   "id": "d8cc8d07",
   "metadata": {},
   "source": [
    "### Handling Missing Data:"
   ]
  },
  {
   "cell_type": "code",
   "execution_count": null,
   "id": "95e820c4",
   "metadata": {},
   "outputs": [],
   "source": [
    "df.dropna()  # Drops rows with missing values\n",
    "df.fillna(0)  # Fills missing values with 0\n",
    "df['Age'].fillna(df['Age'].mean(), inplace=True)  # Fills missing values with the mean"
   ]
  },
  {
   "cell_type": "markdown",
   "id": "4a4bc574",
   "metadata": {},
   "source": [
    "### Data Type Conversion:"
   ]
  },
  {
   "cell_type": "code",
   "execution_count": null,
   "id": "ad6d142a",
   "metadata": {},
   "outputs": [],
   "source": [
    "df['Age'] = df['Age'].astype(float)"
   ]
  },
  {
   "cell_type": "markdown",
   "id": "a5da2045",
   "metadata": {},
   "source": [
    "### Removing Duplicates:"
   ]
  },
  {
   "cell_type": "code",
   "execution_count": null,
   "id": "21752b04",
   "metadata": {},
   "outputs": [],
   "source": [
    "df.drop_duplicates(inplace=True)"
   ]
  },
  {
   "cell_type": "markdown",
   "id": "824471a7",
   "metadata": {},
   "source": [
    "## 6. Merging and Joining DataFrames"
   ]
  },
  {
   "cell_type": "markdown",
   "id": "8cebf999",
   "metadata": {},
   "source": [
    "### Concat: Concatenate DataFrames either along rows or columns."
   ]
  },
  {
   "cell_type": "code",
   "execution_count": null,
   "id": "6495a963",
   "metadata": {},
   "outputs": [],
   "source": [
    "df1 = pd.DataFrame({'A': [1, 2], 'B': [3, 4]})\n",
    "df2 = pd.DataFrame({'A': [5, 6], 'B': [7, 8]})\n",
    "pd.concat([df1, df2])"
   ]
  },
  {
   "cell_type": "markdown",
   "id": "ab60de23",
   "metadata": {},
   "source": [
    "### Merge: Merge DataFrames based on keys (similar to SQL JOIN)."
   ]
  },
  {
   "cell_type": "code",
   "execution_count": null,
   "id": "ecb3b6d0",
   "metadata": {},
   "outputs": [],
   "source": [
    "df1 = pd.DataFrame({'key': ['A', 'B', 'C'], 'value': [1, 2, 3]})\n",
    "df2 = pd.DataFrame({'key': ['B', 'C', 'D'], 'value': [4, 5, 6]})\n",
    "pd.merge(df1, df2, on='key', how='inner')"
   ]
  },
  {
   "cell_type": "markdown",
   "id": "a8f28a89",
   "metadata": {},
   "source": [
    "## 7. GroupBy Operations"
   ]
  },
  {
   "cell_type": "markdown",
   "id": "caed8789",
   "metadata": {},
   "source": [
    "### GroupBy: You can group data by one or more columns and then apply aggregate functions."
   ]
  },
  {
   "cell_type": "code",
   "execution_count": null,
   "id": "26d0c120",
   "metadata": {},
   "outputs": [],
   "source": [
    "df.groupby('City').mean()  # Group by 'City' and calculate the mean\n",
    "df.groupby('City').agg({'Age': 'mean', 'Salary': 'sum'})  # Apply different aggregations"
   ]
  },
  {
   "cell_type": "markdown",
   "id": "e81902e4",
   "metadata": {},
   "source": [
    "## 8. Pivot Tables\n",
    "Pivot tables in Pandas are similar to pivot tables in Excel. They allow you to rearrange and summarize data."
   ]
  },
  {
   "cell_type": "code",
   "execution_count": null,
   "id": "4b376df7",
   "metadata": {},
   "outputs": [],
   "source": [
    "df.pivot_table(values='Age', index='City', columns='Name', aggfunc='mean')"
   ]
  },
  {
   "cell_type": "markdown",
   "id": "e525c2c9",
   "metadata": {},
   "source": [
    "## 9. Handling Dates"
   ]
  },
  {
   "cell_type": "markdown",
   "id": "dade38b7",
   "metadata": {},
   "source": [
    "### Datetime Conversion: Convert a column to datetime."
   ]
  },
  {
   "cell_type": "code",
   "execution_count": null,
   "id": "0f9e30cd",
   "metadata": {},
   "outputs": [],
   "source": [
    "df['Date'] = pd.to_datetime(df['Date'])"
   ]
  },
  {
   "cell_type": "markdown",
   "id": "d1e764da",
   "metadata": {},
   "source": [
    "### DateTimeIndex: You can use date/time as an index."
   ]
  },
  {
   "cell_type": "code",
   "execution_count": null,
   "id": "d685039f",
   "metadata": {},
   "outputs": [],
   "source": [
    "df.set_index('Date', inplace=True)"
   ]
  },
  {
   "cell_type": "markdown",
   "id": "8113a385",
   "metadata": {},
   "source": [
    "### Resampling: Resample time-series data to a different frequency."
   ]
  },
  {
   "cell_type": "code",
   "execution_count": null,
   "id": "bfec87b2",
   "metadata": {},
   "outputs": [],
   "source": [
    "df.resample('M').mean()  # Resample by month and calculate the mean"
   ]
  },
  {
   "cell_type": "markdown",
   "id": "567253ad",
   "metadata": {},
   "source": [
    "## 10. Advanced Indexing"
   ]
  },
  {
   "cell_type": "markdown",
   "id": "877abd82",
   "metadata": {},
   "source": [
    "### MultiIndex: Pandas supports hierarchical indexing to work with high-dimensional data."
   ]
  },
  {
   "cell_type": "code",
   "execution_count": null,
   "id": "1a369a96",
   "metadata": {},
   "outputs": [],
   "source": [
    "arrays = [\n",
    "    ['A', 'A', 'B', 'B'],\n",
    "    [1, 2, 1, 2]\n",
    "]\n",
    "df = pd.DataFrame(np.random.randn(4, 2), index=arrays, columns=['Data1', 'Data2'])"
   ]
  },
  {
   "cell_type": "markdown",
   "id": "e2d45539",
   "metadata": {},
   "source": [
    "### Index Slicing: You can slice DataFrames with MultiIndex."
   ]
  },
  {
   "cell_type": "code",
   "execution_count": null,
   "id": "3eb05c07",
   "metadata": {},
   "outputs": [],
   "source": [
    "df.loc['A']\n",
    "df.loc[('A', 1):('B', 1)]"
   ]
  },
  {
   "cell_type": "markdown",
   "id": "007421c7",
   "metadata": {},
   "source": [
    "## 11. Visualization"
   ]
  },
  {
   "cell_type": "markdown",
   "id": "f8a17bad",
   "metadata": {},
   "source": [
    "### Plotting: Simple plots can be created directly from DataFrames."
   ]
  },
  {
   "cell_type": "code",
   "execution_count": null,
   "id": "5651b63e",
   "metadata": {},
   "outputs": [],
   "source": [
    "df.plot(x='Age', y='Salary', kind='scatter')"
   ]
  },
  {
   "cell_type": "markdown",
   "id": "21864c54",
   "metadata": {},
   "source": [
    "## 12. Performance Optimization"
   ]
  },
  {
   "cell_type": "markdown",
   "id": "ac491b95",
   "metadata": {},
   "source": [
    "### Vectorization:\n",
    "Pandas operations are vectorized, meaning they are applied element-wise, making them very efficient."
   ]
  },
  {
   "cell_type": "markdown",
   "id": "c9358bdc",
   "metadata": {},
   "source": [
    "### Apply/Map:\n",
    "For custom operations, apply and map are often used, but they can be slower than vectorized operations."
   ]
  },
  {
   "cell_type": "code",
   "execution_count": null,
   "id": "ccbfd831",
   "metadata": {},
   "outputs": [],
   "source": [
    "df['Age'].apply(lambda x: x + 1)"
   ]
  },
  {
   "cell_type": "markdown",
   "id": "0bddca89",
   "metadata": {},
   "source": [
    "### Memory Usage:\n",
    "You can check and optimize memory usage by downcasting data types."
   ]
  },
  {
   "cell_type": "code",
   "execution_count": null,
   "id": "344aa14d",
   "metadata": {},
   "outputs": [],
   "source": [
    "df.memory_usage(deep=True)"
   ]
  },
  {
   "cell_type": "markdown",
   "id": "e14e452c",
   "metadata": {},
   "source": [
    "## 14. Common Issues"
   ]
  },
  {
   "cell_type": "markdown",
   "id": "23fe01a3",
   "metadata": {},
   "source": [
    "### SettingWithCopyWarning:\n",
    "This warning occurs when you're trying to modify a copy of a slice from a DataFrame. It's essential to understand when you're working with views vs. copies."
   ]
  },
  {
   "cell_type": "code",
   "execution_count": null,
   "id": "5657f0f6",
   "metadata": {},
   "outputs": [],
   "source": [
    "df.loc[0, 'Age'] = 26  # Direct assignment avoids this warning"
   ]
  }
 ],
 "metadata": {
  "kernelspec": {
   "display_name": "Python 3 (ipykernel)",
   "language": "python",
   "name": "python3"
  },
  "language_info": {
   "codemirror_mode": {
    "name": "ipython",
    "version": 3
   },
   "file_extension": ".py",
   "mimetype": "text/x-python",
   "name": "python",
   "nbconvert_exporter": "python",
   "pygments_lexer": "ipython3",
   "version": "3.11.5"
  }
 },
 "nbformat": 4,
 "nbformat_minor": 5
}
