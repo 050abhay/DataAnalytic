{
 "cells": [
  {
   "cell_type": "markdown",
   "id": "6fb5d485",
   "metadata": {},
   "source": [
    "# 1. What is a DataFrame?\n",
    "A DataFrame is a two-dimensional, size-mutable, and heterogeneous tabular data structure with labeled axes (rows and columns). It’s similar to a spreadsheet or SQL table and is one of the most versatile structures in Pandas."
   ]
  },
  {
   "cell_type": "markdown",
   "id": "6e7c00f2",
   "metadata": {},
   "source": [
    "## 2. Creating a DataFrame\n",
    "DataFrames can be created in several ways:"
   ]
  },
  {
   "cell_type": "markdown",
   "id": "6bd0be94",
   "metadata": {},
   "source": [
    "### From a Dictionary:\n",
    "You can create a DataFrame using a dictionary where the keys are column names and the values are lists or arrays."
   ]
  },
  {
   "cell_type": "code",
   "execution_count": null,
   "id": "8cbddbaa",
   "metadata": {},
   "outputs": [],
   "source": [
    "import pandas as pd\n",
    "\n",
    "data = {\n",
    "    'Name': ['Alice', 'Bob', 'Charlie'],\n",
    "    'Age': [25, 30, 35],\n",
    "    'City': ['New York', 'Los Angeles', 'Chicago']\n",
    "}\n",
    "\n",
    "df = pd.DataFrame(data)"
   ]
  },
  {
   "cell_type": "markdown",
   "id": "d967d3c5",
   "metadata": {},
   "source": [
    "### From a List of Dictionaries:\n",
    "Another common way to create a DataFrame is from a list of dictionaries."
   ]
  },
  {
   "cell_type": "code",
   "execution_count": null,
   "id": "4f187c3d",
   "metadata": {},
   "outputs": [],
   "source": [
    "data = [\n",
    "    {'Name': 'Alice', 'Age': 25, 'City': 'New York'},\n",
    "    {'Name': 'Bob', 'Age': 30, 'City': 'Los Angeles'},\n",
    "    {'Name': 'Charlie', 'Age': 35, 'City': 'Chicago'}\n",
    "]\n",
    "\n",
    "df = pd.DataFrame(data)"
   ]
  },
  {
   "cell_type": "markdown",
   "id": "6eabcd47",
   "metadata": {},
   "source": [
    "### From a CSV or Excel File:\n",
    "You can load data directly from files into a DataFrame using `pd.read_csv()` or `pd.read_excel()`."
   ]
  },
  {
   "cell_type": "code",
   "execution_count": null,
   "id": "48938c2f",
   "metadata": {},
   "outputs": [],
   "source": [
    "df = pd.read_csv('file.csv')"
   ]
  },
  {
   "cell_type": "markdown",
   "id": "8e215b58",
   "metadata": {},
   "source": [
    "### From NumPy Arrays:\n",
    "DataFrames can also be created from NumPy arrays."
   ]
  },
  {
   "cell_type": "code",
   "execution_count": null,
   "id": "5822e075",
   "metadata": {},
   "outputs": [],
   "source": [
    "import numpy as np\n",
    "\n",
    "data = np.array([[1, 2, 3], [4, 5, 6], [7, 8, 9]])\n",
    "df = pd.DataFrame(data, columns=['A', 'B', 'C'])"
   ]
  },
  {
   "cell_type": "markdown",
   "id": "1525fbd2",
   "metadata": {},
   "source": [
    "## 3. Indexing and Selecting Data\n",
    "Pandas provides powerful ways to access and manipulate data:"
   ]
  },
  {
   "cell_type": "markdown",
   "id": "22022775",
   "metadata": {},
   "source": [
    "### .loc[]: Access rows and columns by labels."
   ]
  },
  {
   "cell_type": "code",
   "execution_count": null,
   "id": "2a8cd1cb",
   "metadata": {},
   "outputs": [],
   "source": [
    "df.loc[0]  # Accesses the first row\n",
    "df.loc[:, 'Age']  # Accesses the 'Age' column\n",
    "df.loc[0, 'Name']  # Accesses the value at the first row of 'Name' column"
   ]
  },
  {
   "cell_type": "markdown",
   "id": "802f23be",
   "metadata": {},
   "source": [
    "### .iloc[]: Access rows and columns by integer positions."
   ]
  },
  {
   "cell_type": "code",
   "execution_count": null,
   "id": "c27225ba",
   "metadata": {},
   "outputs": [],
   "source": [
    "df.iloc[0]  # Accesses the first row\n",
    "df.iloc[:, 1]  # Accesses the second column\n",
    "df.iloc[0, 1]  # Accesses the value at the first row of the second column"
   ]
  },
  {
   "cell_type": "markdown",
   "id": "2a996833",
   "metadata": {},
   "source": [
    "### Boolean Indexing: Filtering data based on conditions."
   ]
  },
  {
   "cell_type": "code",
   "execution_count": null,
   "id": "0afdabf5",
   "metadata": {},
   "outputs": [],
   "source": [
    "df[df['Age'] > 30]  # Returns rows where 'Age' is greater than 30"
   ]
  },
  {
   "cell_type": "markdown",
   "id": "b83ce357",
   "metadata": {},
   "source": [
    "## 4. DataFrame Operations"
   ]
  },
  {
   "cell_type": "markdown",
   "id": "43d77451",
   "metadata": {},
   "source": [
    "### Add/Delete Columns:"
   ]
  },
  {
   "cell_type": "code",
   "execution_count": null,
   "id": "959d2b57",
   "metadata": {},
   "outputs": [],
   "source": [
    "df['Salary'] = [50000, 60000, 70000]  # Adding a new column\n",
    "df.drop('City', axis=1, inplace=True)  # Deleting a column"
   ]
  },
  {
   "cell_type": "markdown",
   "id": "2364f328",
   "metadata": {},
   "source": [
    "### Add/Delete Rows:"
   ]
  },
  {
   "cell_type": "code",
   "execution_count": null,
   "id": "0303f2a0",
   "metadata": {},
   "outputs": [],
   "source": [
    "df = df.append({'Name': 'David', 'Age': 40, 'City': 'Miami'}, ignore_index=True)  # Adding a row\n",
    "df.drop(0, axis=0, inplace=True)  # Deleting a row by index"
   ]
  },
  {
   "cell_type": "markdown",
   "id": "7aa74b94",
   "metadata": {},
   "source": [
    "### DataFrame Transpose:\n",
    "You can transpose a DataFrame (swap rows and columns)."
   ]
  },
  {
   "cell_type": "code",
   "execution_count": null,
   "id": "2e866a8d",
   "metadata": {},
   "outputs": [],
   "source": [
    "df.T"
   ]
  },
  {
   "cell_type": "markdown",
   "id": "c7bed1ea",
   "metadata": {},
   "source": [
    "## 5. Data Cleaning"
   ]
  },
  {
   "cell_type": "markdown",
   "id": "92f6647e",
   "metadata": {},
   "source": [
    "### Handling Missing Data:"
   ]
  },
  {
   "cell_type": "code",
   "execution_count": null,
   "id": "45400540",
   "metadata": {},
   "outputs": [],
   "source": [
    "df.dropna()  # Drops rows with missing values\n",
    "df.fillna(0)  # Fills missing values with 0\n",
    "df['Age'].fillna(df['Age'].mean(), inplace=True)  # Fills missing values with the mean"
   ]
  },
  {
   "cell_type": "markdown",
   "id": "1b36bcfa",
   "metadata": {},
   "source": [
    "### Data Type Conversion:"
   ]
  },
  {
   "cell_type": "code",
   "execution_count": null,
   "id": "9419e6a7",
   "metadata": {},
   "outputs": [],
   "source": [
    "df['Age'] = df['Age'].astype(float)"
   ]
  },
  {
   "cell_type": "markdown",
   "id": "ffdef170",
   "metadata": {},
   "source": [
    "### Removing Duplicates:"
   ]
  },
  {
   "cell_type": "code",
   "execution_count": null,
   "id": "a9997929",
   "metadata": {},
   "outputs": [],
   "source": [
    "df.drop_duplicates(inplace=True)"
   ]
  },
  {
   "cell_type": "markdown",
   "id": "c00150d7",
   "metadata": {},
   "source": [
    "## 6. Merging and Joining DataFrames"
   ]
  },
  {
   "cell_type": "markdown",
   "id": "5bda3935",
   "metadata": {},
   "source": [
    "### Concat: Concatenate DataFrames either along rows or columns."
   ]
  },
  {
   "cell_type": "code",
   "execution_count": null,
   "id": "d3f460ba",
   "metadata": {},
   "outputs": [],
   "source": [
    "df1 = pd.DataFrame({'A': [1, 2], 'B': [3, 4]})\n",
    "df2 = pd.DataFrame({'A': [5, 6], 'B': [7, 8]})\n",
    "pd.concat([df1, df2])"
   ]
  },
  {
   "cell_type": "markdown",
   "id": "96440e73",
   "metadata": {},
   "source": [
    "### Merge: Merge DataFrames based on keys (similar to SQL JOIN)."
   ]
  },
  {
   "cell_type": "code",
   "execution_count": null,
   "id": "48649293",
   "metadata": {},
   "outputs": [],
   "source": [
    "df1 = pd.DataFrame({'key': ['A', 'B', 'C'], 'value': [1, 2, 3]})\n",
    "df2 = pd.DataFrame({'key': ['B', 'C', 'D'], 'value': [4, 5, 6]})\n",
    "pd.merge(df1, df2, on='key', how='inner')"
   ]
  },
  {
   "cell_type": "markdown",
   "id": "cb659f50",
   "metadata": {},
   "source": [
    "## 7. GroupBy Operations"
   ]
  },
  {
   "cell_type": "markdown",
   "id": "19b3aaa2",
   "metadata": {},
   "source": [
    "### GroupBy: You can group data by one or more columns and then apply aggregate functions."
   ]
  },
  {
   "cell_type": "code",
   "execution_count": null,
   "id": "e6710c22",
   "metadata": {},
   "outputs": [],
   "source": [
    "df.groupby('City').mean()  # Group by 'City' and calculate the mean\n",
    "df.groupby('City').agg({'Age': 'mean', 'Salary': 'sum'})  # Apply different aggregations"
   ]
  },
  {
   "cell_type": "markdown",
   "id": "cf84e336",
   "metadata": {},
   "source": [
    "## 8. Pivot Tables\n",
    "Pivot tables in Pandas are similar to pivot tables in Excel. They allow you to rearrange and summarize data."
   ]
  },
  {
   "cell_type": "code",
   "execution_count": null,
   "id": "808365ed",
   "metadata": {},
   "outputs": [],
   "source": [
    "df.pivot_table(values='Age', index='City', columns='Name', aggfunc='mean')"
   ]
  },
  {
   "cell_type": "markdown",
   "id": "304fba12",
   "metadata": {},
   "source": [
    "## 9. Handling Dates"
   ]
  },
  {
   "cell_type": "markdown",
   "id": "3232a6bc",
   "metadata": {},
   "source": [
    "### Datetime Conversion: Convert a column to datetime."
   ]
  },
  {
   "cell_type": "code",
   "execution_count": null,
   "id": "40645137",
   "metadata": {},
   "outputs": [],
   "source": [
    "df['Date'] = pd.to_datetime(df['Date'])"
   ]
  },
  {
   "cell_type": "markdown",
   "id": "a33d334f",
   "metadata": {},
   "source": [
    "### DateTimeIndex: You can use date/time as an index."
   ]
  },
  {
   "cell_type": "code",
   "execution_count": null,
   "id": "69f3134b",
   "metadata": {},
   "outputs": [],
   "source": [
    "df.set_index('Date', inplace=True)"
   ]
  },
  {
   "cell_type": "markdown",
   "id": "5077f2d6",
   "metadata": {},
   "source": [
    "### Resampling: Resample time-series data to a different frequency."
   ]
  },
  {
   "cell_type": "code",
   "execution_count": null,
   "id": "1137dbb3",
   "metadata": {},
   "outputs": [],
   "source": [
    "df.resample('M').mean()  # Resample by month and calculate the mean"
   ]
  },
  {
   "cell_type": "markdown",
   "id": "208a2965",
   "metadata": {},
   "source": [
    "## 10. Advanced Indexing"
   ]
  },
  {
   "cell_type": "markdown",
   "id": "f751280d",
   "metadata": {},
   "source": [
    "### MultiIndex: Pandas supports hierarchical indexing to work with high-dimensional data."
   ]
  },
  {
   "cell_type": "code",
   "execution_count": null,
   "id": "3c3a9e4d",
   "metadata": {},
   "outputs": [],
   "source": [
    "arrays = [\n",
    "    ['A', 'A', 'B', 'B'],\n",
    "    [1, 2, 1, 2]\n",
    "]\n",
    "df = pd.DataFrame(np.random.randn(4, 2), index=arrays, columns=['Data1', 'Data2'])"
   ]
  },
  {
   "cell_type": "markdown",
   "id": "8ddf14f0",
   "metadata": {},
   "source": [
    "### Index Slicing: You can slice DataFrames with MultiIndex."
   ]
  },
  {
   "cell_type": "code",
   "execution_count": null,
   "id": "486e9dad",
   "metadata": {},
   "outputs": [],
   "source": [
    "df.loc['A']\n",
    "df.loc[('A', 1):('B', 1)]"
   ]
  },
  {
   "cell_type": "markdown",
   "id": "f9c7735f",
   "metadata": {},
   "source": [
    "## 11. Visualization\n",
    "Pandas integrates well with Matplotlib, allowing for quick visualization."
   ]
  },
  {
   "cell_type": "markdown",
   "id": "0f1e4014",
   "metadata": {},
   "source": [
    "### Plotting: Simple plots can be created directly from DataFrames."
   ]
  },
  {
   "cell_type": "code",
   "execution_count": null,
   "id": "15fada99",
   "metadata": {},
   "outputs": [],
   "source": [
    "df.plot(x='Age', y='Salary', kind='scatter')"
   ]
  },
  {
   "cell_type": "markdown",
   "id": "d5bbe7fb",
   "metadata": {},
   "source": [
    "## 12. Performance Optimization"
   ]
  },
  {
   "cell_type": "markdown",
   "id": "52f2baa3",
   "metadata": {},
   "source": [
    "### Vectorization:\n",
    "Pandas operations are vectorized, meaning they are applied element-wise, making them very efficient."
   ]
  },
  {
   "cell_type": "markdown",
   "id": "068656be",
   "metadata": {},
   "source": [
    "### Apply/Map:\n",
    "For custom operations, apply and map are often used, but they can be slower than vectorized operations."
   ]
  },
  {
   "cell_type": "code",
   "execution_count": null,
   "id": "850eac81",
   "metadata": {},
   "outputs": [],
   "source": [
    "df['Age'].apply(lambda x: x + 1)"
   ]
  },
  {
   "cell_type": "markdown",
   "id": "2633b19c",
   "metadata": {},
   "source": [
    "### Memory Usage:\n",
    "You can check and optimize memory usage by downcasting data types."
   ]
  },
  {
   "cell_type": "code",
   "execution_count": null,
   "id": "e539e2bf",
   "metadata": {},
   "outputs": [],
   "source": [
    "df.memory_usage(deep=True)"
   ]
  },
  {
   "cell_type": "markdown",
   "id": "739686ee",
   "metadata": {},
   "source": [
    "## 14. Common Issues"
   ]
  },
  {
   "cell_type": "markdown",
   "id": "9d56491e",
   "metadata": {},
   "source": [
    "### SettingWithCopyWarning:\n",
    "This warning occurs when you're trying to modify a copy of a slice from a DataFrame. It's essential to understand when you're working with views vs. copies."
   ]
  },
  {
   "cell_type": "code",
   "execution_count": null,
   "id": "01a4bbe3",
   "metadata": {},
   "outputs": [],
   "source": [
    "df.loc[0, 'Age'] = 26  # Direct assignment avoids this warning"
   ]
  }
 ],
 "metadata": {
  "kernelspec": {
   "display_name": "Python 3 (ipykernel)",
   "language": "python",
   "name": "python3"
  },
  "language_info": {
   "codemirror_mode": {
    "name": "ipython",
    "version": 3
   },
   "file_extension": ".py",
   "mimetype": "text/x-python",
   "name": "python",
   "nbconvert_exporter": "python",
   "pygments_lexer": "ipython3",
   "version": "3.11.5"
  }
 },
 "nbformat": 4,
 "nbformat_minor": 5
}
